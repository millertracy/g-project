{
 "cells": [
  {
   "cell_type": "code",
   "execution_count": 46,
   "metadata": {
    "collapsed": true
   },
   "outputs": [],
   "source": [
    "import psycopg2\n",
    "import pandas as pd\n",
    "import numpy as np\n",
    "import matplotlib.pyplot as plt\n",
    "import string\n",
    "import re\n",
    "from collections import defaultdict\n",
    "%matplotlib inline"
   ]
  },
  {
   "cell_type": "code",
   "execution_count": 49,
   "metadata": {
    "collapsed": true
   },
   "outputs": [],
   "source": [
    "punc = string.punctuation"
   ]
  },
  {
   "cell_type": "code",
   "execution_count": 2,
   "metadata": {
    "collapsed": true
   },
   "outputs": [],
   "source": [
    "conn = psycopg2.connect('dbname = mh')"
   ]
  },
  {
   "cell_type": "code",
   "execution_count": 3,
   "metadata": {
    "collapsed": true
   },
   "outputs": [],
   "source": [
    "cur = conn.cursor()"
   ]
  },
  {
   "cell_type": "code",
   "execution_count": 195,
   "metadata": {
    "collapsed": true
   },
   "outputs": [],
   "source": [
    "query_post = \"\"\"\n",
    "    Select * from mh_anx_post;\n",
    "    \"\"\"\n",
    "\n",
    "query_user = \"\"\"\n",
    "    Select * from mh_anx_user;\n",
    "    \"\"\""
   ]
  },
  {
   "cell_type": "code",
   "execution_count": 196,
   "metadata": {
    "collapsed": true
   },
   "outputs": [],
   "source": [
    "cur.execute(query_post)"
   ]
  },
  {
   "cell_type": "code",
   "execution_count": 197,
   "metadata": {
    "collapsed": true
   },
   "outputs": [],
   "source": [
    "thread = cur.fetchall()"
   ]
  },
  {
   "cell_type": "code",
   "execution_count": 198,
   "metadata": {},
   "outputs": [],
   "source": [
    "cur.execute(query_user)"
   ]
  },
  {
   "cell_type": "code",
   "execution_count": 199,
   "metadata": {
    "collapsed": true
   },
   "outputs": [],
   "source": [
    "members = cur.fetchall()"
   ]
  },
  {
   "cell_type": "code",
   "execution_count": 140,
   "metadata": {
    "collapsed": true
   },
   "outputs": [],
   "source": [
    "conn.commit()"
   ]
  },
  {
   "cell_type": "markdown",
   "metadata": {},
   "source": [
    "### Text Cleaning and getting into document format"
   ]
  },
  {
   "cell_type": "markdown",
   "metadata": {},
   "source": [
    "### mh forum cleaning"
   ]
  },
  {
   "cell_type": "code",
   "execution_count": 200,
   "metadata": {},
   "outputs": [],
   "source": [
    "# for pandas df\n",
    "pid = []\n",
    "user = []\n",
    "post = []\n",
    "mood = []\n",
    "post_type = []\n",
    "post_title = []\n",
    "title = []\n",
    "forum_name = []\n",
    "\n",
    "#for nlp matrix\n",
    "md = defaultdict(list)\n",
    "\n",
    "#for all posts\n",
    "for info in thread:\n",
    "    pid.append(info[0])\n",
    "    user.append(info[1])\n",
    "    \n",
    "    #remove extra space in document and remove punctuation and append to dictionary\n",
    "    doc = info[2]\n",
    "    doc = \"\".join(re.sub(r'\\s\\s', '|', doc).split())\n",
    "    doc = doc.replace(\"|\", \" \")\n",
    "    doc = [letter for letter in doc if letter not in punc]\n",
    "    doc = (\"\".join(doc).lower())\n",
    "    md[info[1]].append(doc)\n",
    "    \n",
    "    post.append(doc)\n",
    "    mood.append(info[3])\n",
    "    post_type.append(info[4])\n",
    "    post_title.append(info[5])\n",
    "    title.append(info[6])\n",
    "    forum_name.append(info[7])\n",
    "    \n",
    "# create post df from mh forum\n",
    "mh_anx_post = pd.DataFrame({'pid':pid, 'user': user, 'post': post, 'mood': mood, 'post_type': post_type, 'post_title': post_title, 'thread_title': title, 'forum_name': forum_name})\n",
    "mh_anx_post = mh_anx_post[['pid', 'user', 'post_title', 'post', 'post_type', 'mood', 'thread_title', 'forum_name']]"
   ]
  },
  {
   "cell_type": "code",
   "execution_count": 201,
   "metadata": {},
   "outputs": [],
   "source": [
    "#for pandas df\n",
    "user = []\n",
    "join_date = []\n",
    "\n",
    "for member in members:\n",
    "    user.append(member[0])\n",
    "    join_date.append(member[1])\n",
    "    \n",
    "mh_anx_user = pd.DataFrame({'user': user, 'member_since': join_date})\n",
    "mh_anx_user = anx_user[['user', 'member_since']]"
   ]
  },
  {
   "cell_type": "code",
   "execution_count": 202,
   "metadata": {},
   "outputs": [
    {
     "data": {
      "text/html": [
       "<div>\n",
       "<style>\n",
       "    .dataframe thead tr:only-child th {\n",
       "        text-align: right;\n",
       "    }\n",
       "\n",
       "    .dataframe thead th {\n",
       "        text-align: left;\n",
       "    }\n",
       "\n",
       "    .dataframe tbody tr th {\n",
       "        vertical-align: top;\n",
       "    }\n",
       "</style>\n",
       "<table border=\"1\" class=\"dataframe\">\n",
       "  <thead>\n",
       "    <tr style=\"text-align: right;\">\n",
       "      <th></th>\n",
       "      <th>pid</th>\n",
       "      <th>user</th>\n",
       "      <th>post_title</th>\n",
       "      <th>post</th>\n",
       "      <th>post_type</th>\n",
       "      <th>mood</th>\n",
       "      <th>thread_title</th>\n",
       "      <th>forum_name</th>\n",
       "    </tr>\n",
       "  </thead>\n",
       "  <tbody>\n",
       "    <tr>\n",
       "      <th>0</th>\n",
       "      <td>1592723</td>\n",
       "      <td>Andy1963</td>\n",
       "      <td>Sudden Onset Anxiety - Please help!</td>\n",
       "      <td>hi ive never suffered any sort of anxiety befo...</td>\n",
       "      <td>author</td>\n",
       "      <td>nan</td>\n",
       "      <td>Sudden Onset Anxiety - Please help!</td>\n",
       "      <td>Generalized Anxiety Disorder</td>\n",
       "    </tr>\n",
       "    <tr>\n",
       "      <th>1</th>\n",
       "      <td>1592736</td>\n",
       "      <td>Zardos</td>\n",
       "      <td>nan</td>\n",
       "      <td>i can sympathize i get crippling anxiety when ...</td>\n",
       "      <td>responder</td>\n",
       "      <td>nan</td>\n",
       "      <td>Sudden Onset Anxiety - Please help!</td>\n",
       "      <td>Generalized Anxiety Disorder</td>\n",
       "    </tr>\n",
       "    <tr>\n",
       "      <th>2</th>\n",
       "      <td>1594183</td>\n",
       "      <td>rachelangelo</td>\n",
       "      <td>nan</td>\n",
       "      <td>im sorry youre dealing with this i dont know i...</td>\n",
       "      <td>responder</td>\n",
       "      <td>nan</td>\n",
       "      <td>Sudden Onset Anxiety - Please help!</td>\n",
       "      <td>Generalized Anxiety Disorder</td>\n",
       "    </tr>\n",
       "    <tr>\n",
       "      <th>3</th>\n",
       "      <td>1598245</td>\n",
       "      <td>akash</td>\n",
       "      <td>nan</td>\n",
       "      <td>apart from medical help there are many tricks ...</td>\n",
       "      <td>responder</td>\n",
       "      <td>nan</td>\n",
       "      <td>Sudden Onset Anxiety - Please help!</td>\n",
       "      <td>Generalized Anxiety Disorder</td>\n",
       "    </tr>\n",
       "    <tr>\n",
       "      <th>4</th>\n",
       "      <td>585119</td>\n",
       "      <td>Mayfair</td>\n",
       "      <td>nan</td>\n",
       "      <td>great tune  i had my beatles number one hits i...</td>\n",
       "      <td>responder</td>\n",
       "      <td>nan</td>\n",
       "      <td>didnt know where to post this</td>\n",
       "      <td>Social Anxiety</td>\n",
       "    </tr>\n",
       "  </tbody>\n",
       "</table>\n",
       "</div>"
      ],
      "text/plain": [
       "       pid           user                           post_title  \\\n",
       "0  1592723      Andy1963   Sudden Onset Anxiety - Please help!   \n",
       "1  1592736        Zardos                                   nan   \n",
       "2  1594183  rachelangelo                                   nan   \n",
       "3  1598245         akash                                   nan   \n",
       "4   585119       Mayfair                                   nan   \n",
       "\n",
       "                                                post  post_type mood  \\\n",
       "0  hi ive never suffered any sort of anxiety befo...     author  nan   \n",
       "1  i can sympathize i get crippling anxiety when ...  responder  nan   \n",
       "2  im sorry youre dealing with this i dont know i...  responder  nan   \n",
       "3  apart from medical help there are many tricks ...  responder  nan   \n",
       "4  great tune  i had my beatles number one hits i...  responder  nan   \n",
       "\n",
       "                          thread_title                    forum_name  \n",
       "0  Sudden Onset Anxiety - Please help!  Generalized Anxiety Disorder  \n",
       "1  Sudden Onset Anxiety - Please help!  Generalized Anxiety Disorder  \n",
       "2  Sudden Onset Anxiety - Please help!  Generalized Anxiety Disorder  \n",
       "3  Sudden Onset Anxiety - Please help!  Generalized Anxiety Disorder  \n",
       "4        didnt know where to post this                Social Anxiety  "
      ]
     },
     "execution_count": 202,
     "metadata": {},
     "output_type": "execute_result"
    }
   ],
   "source": [
    "mh_anx_post.head()"
   ]
  },
  {
   "cell_type": "code",
   "execution_count": 203,
   "metadata": {},
   "outputs": [
    {
     "data": {
      "text/html": [
       "<div>\n",
       "<style>\n",
       "    .dataframe thead tr:only-child th {\n",
       "        text-align: right;\n",
       "    }\n",
       "\n",
       "    .dataframe thead th {\n",
       "        text-align: left;\n",
       "    }\n",
       "\n",
       "    .dataframe tbody tr th {\n",
       "        vertical-align: top;\n",
       "    }\n",
       "</style>\n",
       "<table border=\"1\" class=\"dataframe\">\n",
       "  <thead>\n",
       "    <tr style=\"text-align: right;\">\n",
       "      <th></th>\n",
       "      <th>user</th>\n",
       "      <th>member_since</th>\n",
       "    </tr>\n",
       "  </thead>\n",
       "  <tbody>\n",
       "    <tr>\n",
       "      <th>0</th>\n",
       "      <td>steviep43</td>\n",
       "      <td>Jan 2018</td>\n",
       "    </tr>\n",
       "    <tr>\n",
       "      <th>1</th>\n",
       "      <td>Chalmers333</td>\n",
       "      <td>Jan 2018</td>\n",
       "    </tr>\n",
       "    <tr>\n",
       "      <th>2</th>\n",
       "      <td>JenIAm</td>\n",
       "      <td>Jan 2018</td>\n",
       "    </tr>\n",
       "    <tr>\n",
       "      <th>3</th>\n",
       "      <td>Aw3092</td>\n",
       "      <td>Jan 2018</td>\n",
       "    </tr>\n",
       "    <tr>\n",
       "      <th>4</th>\n",
       "      <td>srussells</td>\n",
       "      <td>Jan 2017</td>\n",
       "    </tr>\n",
       "  </tbody>\n",
       "</table>\n",
       "</div>"
      ],
      "text/plain": [
       "           user member_since\n",
       "0    steviep43      Jan 2018\n",
       "1  Chalmers333      Jan 2018\n",
       "2       JenIAm      Jan 2018\n",
       "3       Aw3092      Jan 2018\n",
       "4    srussells      Jan 2017"
      ]
     },
     "execution_count": 203,
     "metadata": {},
     "output_type": "execute_result"
    }
   ],
   "source": [
    "mh_anx_user.head()"
   ]
  },
  {
   "cell_type": "markdown",
   "metadata": {},
   "source": [
    "### PC forum cleaning"
   ]
  },
  {
   "cell_type": "code",
   "execution_count": 147,
   "metadata": {
    "collapsed": true
   },
   "outputs": [],
   "source": [
    "#query from pc forum\n",
    "query_post = \"\"\"\n",
    "    Select * from pc_anx_post;\n",
    "    \"\"\"\n",
    "\n",
    "query_user = \"\"\"\n",
    "    Select * from pc_anx_user;\n",
    "    \"\"\""
   ]
  },
  {
   "cell_type": "code",
   "execution_count": 162,
   "metadata": {
    "collapsed": true
   },
   "outputs": [],
   "source": [
    "cur.execute(query_post)\n",
    "thread = cur.fetchall()"
   ]
  },
  {
   "cell_type": "code",
   "execution_count": 170,
   "metadata": {
    "collapsed": true
   },
   "outputs": [],
   "source": [
    "cur.execute(query_user)\n",
    "members = cur.fetchall()"
   ]
  },
  {
   "cell_type": "code",
   "execution_count": 107,
   "metadata": {},
   "outputs": [],
   "source": [
    "d = thread[5][3]"
   ]
  },
  {
   "cell_type": "code",
   "execution_count": 112,
   "metadata": {},
   "outputs": [],
   "source": [
    "d = \" \".join([word.strip().lower() for word in d.split()])"
   ]
  },
  {
   "cell_type": "code",
   "execution_count": 116,
   "metadata": {},
   "outputs": [],
   "source": [
    "d = \"\".join([letter for letter in d if letter not in punc])"
   ]
  },
  {
   "cell_type": "code",
   "execution_count": 117,
   "metadata": {},
   "outputs": [
    {
     "data": {
      "text/plain": [
       "'picked chicken meat have 3 cups now made cookies and put away sausage that my husband cooked up the cookies are soon good trying to get back into discussion with class but cant think of anything i need to do that before sunday mostly reading and wanting to go to sleep but i cant anxiety at 11 am but i was cooking so i hunkered down and did stuff other than that ive been snacking and reading making dinner here soon'"
      ]
     },
     "execution_count": 117,
     "metadata": {},
     "output_type": "execute_result"
    }
   ],
   "source": [
    "d"
   ]
  },
  {
   "cell_type": "code",
   "execution_count": 158,
   "metadata": {},
   "outputs": [],
   "source": [
    "pid = []\n",
    "user = []\n",
    "mood = []\n",
    "post = []\n",
    "post_type = []\n",
    "post_title = []\n",
    "forum_name = []\n",
    "title = []\n",
    "\n",
    "\n",
    "for info in thread:\n",
    "    pid.append(info[0])\n",
    "    user.append(info[1])\n",
    "    mood.append(info[2])\n",
    "    \n",
    "    doc = info[3]\n",
    "    doc = \" \".join([word.strip().lower() for word in doc.split()])\n",
    "    doc = \"\".join([letter for letter in doc if letter not in punc])\n",
    "    md['user'].append(doc) #appending to dictionary of users and docs from above\n",
    "    \n",
    "    post.append(doc)\n",
    "    post_type.append(info[4])\n",
    "    post_title.append(info[5])\n",
    "    forum_name.append(info[6])\n",
    "    title.append(info[7])\n",
    "    \n",
    "    \n",
    "    \n",
    "pc_anx_post = pd.DataFrame({'pid': pid, 'user': user, 'mood': mood, 'post': post, 'post_type': post_type, 'post_title': post_title, 'thread_title': title, 'forum_name': forum_name})\n",
    "pc_anx_post = pc_anx_post[['pid', 'user', 'post_title', 'post', 'post_type', 'mood', 'thread_title', 'forum_name']]"
   ]
  },
  {
   "cell_type": "code",
   "execution_count": 171,
   "metadata": {
    "collapsed": true
   },
   "outputs": [],
   "source": [
    "#for pandas df\n",
    "user = []\n",
    "join_date = []\n",
    "\n",
    "for member in members:\n",
    "    user.append(member[0])\n",
    "    join_date.append(member[1])\n",
    "    \n",
    "pc_anx_user = pd.DataFrame({'user': user, 'member_since': join_date})\n",
    "pc_anx_user = pc_anx_user[['user', 'member_since']]"
   ]
  },
  {
   "cell_type": "code",
   "execution_count": 159,
   "metadata": {},
   "outputs": [
    {
     "data": {
      "text/html": [
       "<div>\n",
       "<style>\n",
       "    .dataframe thead tr:only-child th {\n",
       "        text-align: right;\n",
       "    }\n",
       "\n",
       "    .dataframe thead th {\n",
       "        text-align: left;\n",
       "    }\n",
       "\n",
       "    .dataframe tbody tr th {\n",
       "        vertical-align: top;\n",
       "    }\n",
       "</style>\n",
       "<table border=\"1\" class=\"dataframe\">\n",
       "  <thead>\n",
       "    <tr style=\"text-align: right;\">\n",
       "      <th></th>\n",
       "      <th>pid</th>\n",
       "      <th>user</th>\n",
       "      <th>post_title</th>\n",
       "      <th>post</th>\n",
       "      <th>post_type</th>\n",
       "      <th>mood</th>\n",
       "      <th>thread_title</th>\n",
       "      <th>forum_name</th>\n",
       "    </tr>\n",
       "  </thead>\n",
       "  <tbody>\n",
       "    <tr>\n",
       "      <th>0</th>\n",
       "      <td>5974949</td>\n",
       "      <td>BBB2</td>\n",
       "      <td>Is SA neurological?</td>\n",
       "      <td>is there neurological basis for sa i feel like...</td>\n",
       "      <td>author</td>\n",
       "      <td>ashamed</td>\n",
       "      <td>Is SA neurological?</td>\n",
       "      <td>Social Anxiety and Selective Mutism</td>\n",
       "    </tr>\n",
       "    <tr>\n",
       "      <th>1</th>\n",
       "      <td>5686333</td>\n",
       "      <td>AmandaBroken</td>\n",
       "      <td>Anxiety Daily Check-In point #4</td>\n",
       "      <td>amandabroken</td>\n",
       "      <td>responder</td>\n",
       "      <td>sunshine</td>\n",
       "      <td>Anxiety Daily Check-In point #4</td>\n",
       "      <td>Anxiety Panic and Phobias</td>\n",
       "    </tr>\n",
       "    <tr>\n",
       "      <th>2</th>\n",
       "      <td>5686378</td>\n",
       "      <td>zzzsmokeyzzz</td>\n",
       "      <td>Anxiety Daily Check-In point #4</td>\n",
       "      <td>feeling pretty good today life is going pretty...</td>\n",
       "      <td>responder</td>\n",
       "      <td>calm</td>\n",
       "      <td>Anxiety Daily Check-In point #4</td>\n",
       "      <td>Anxiety Panic and Phobias</td>\n",
       "    </tr>\n",
       "    <tr>\n",
       "      <th>3</th>\n",
       "      <td>5686442</td>\n",
       "      <td>DodgersMom</td>\n",
       "      <td>Anxiety Daily Check-In point #4</td>\n",
       "      <td>anxiety is through the roof just found out my ...</td>\n",
       "      <td>responder</td>\n",
       "      <td>content</td>\n",
       "      <td>Anxiety Daily Check-In point #4</td>\n",
       "      <td>Anxiety Panic and Phobias</td>\n",
       "    </tr>\n",
       "    <tr>\n",
       "      <th>4</th>\n",
       "      <td>5686444</td>\n",
       "      <td>AmandaBroken</td>\n",
       "      <td>Anxiety Daily Check-In point #4</td>\n",
       "      <td>amandabroken</td>\n",
       "      <td>responder</td>\n",
       "      <td>sunshine</td>\n",
       "      <td>Anxiety Daily Check-In point #4</td>\n",
       "      <td>Anxiety Panic and Phobias</td>\n",
       "    </tr>\n",
       "  </tbody>\n",
       "</table>\n",
       "</div>"
      ],
      "text/plain": [
       "       pid          user                       post_title  \\\n",
       "0  5974949          BBB2              Is SA neurological?   \n",
       "1  5686333  AmandaBroken  Anxiety Daily Check-In point #4   \n",
       "2  5686378  zzzsmokeyzzz  Anxiety Daily Check-In point #4   \n",
       "3  5686442    DodgersMom  Anxiety Daily Check-In point #4   \n",
       "4  5686444  AmandaBroken  Anxiety Daily Check-In point #4   \n",
       "\n",
       "                                                post  post_type      mood  \\\n",
       "0  is there neurological basis for sa i feel like...     author   ashamed   \n",
       "1                                       amandabroken  responder  sunshine   \n",
       "2  feeling pretty good today life is going pretty...  responder      calm   \n",
       "3  anxiety is through the roof just found out my ...  responder   content   \n",
       "4                                       amandabroken  responder  sunshine   \n",
       "\n",
       "                      thread_title                           forum_name  \n",
       "0              Is SA neurological?  Social Anxiety and Selective Mutism  \n",
       "1  Anxiety Daily Check-In point #4            Anxiety Panic and Phobias  \n",
       "2  Anxiety Daily Check-In point #4            Anxiety Panic and Phobias  \n",
       "3  Anxiety Daily Check-In point #4            Anxiety Panic and Phobias  \n",
       "4  Anxiety Daily Check-In point #4            Anxiety Panic and Phobias  "
      ]
     },
     "execution_count": 159,
     "metadata": {},
     "output_type": "execute_result"
    }
   ],
   "source": [
    "pc_anx_post.head()"
   ]
  },
  {
   "cell_type": "code",
   "execution_count": 172,
   "metadata": {},
   "outputs": [
    {
     "data": {
      "text/html": [
       "<div>\n",
       "<style>\n",
       "    .dataframe thead tr:only-child th {\n",
       "        text-align: right;\n",
       "    }\n",
       "\n",
       "    .dataframe thead th {\n",
       "        text-align: left;\n",
       "    }\n",
       "\n",
       "    .dataframe tbody tr th {\n",
       "        vertical-align: top;\n",
       "    }\n",
       "</style>\n",
       "<table border=\"1\" class=\"dataframe\">\n",
       "  <thead>\n",
       "    <tr style=\"text-align: right;\">\n",
       "      <th></th>\n",
       "      <th>user</th>\n",
       "      <th>member_since</th>\n",
       "    </tr>\n",
       "  </thead>\n",
       "  <tbody>\n",
       "    <tr>\n",
       "      <th>0</th>\n",
       "      <td>Nike007</td>\n",
       "      <td>Jul 2015</td>\n",
       "    </tr>\n",
       "    <tr>\n",
       "      <th>1</th>\n",
       "      <td>Bozdickens</td>\n",
       "      <td>Jun 2016</td>\n",
       "    </tr>\n",
       "    <tr>\n",
       "      <th>2</th>\n",
       "      <td>sonjaward809</td>\n",
       "      <td>Feb 2013</td>\n",
       "    </tr>\n",
       "    <tr>\n",
       "      <th>3</th>\n",
       "      <td>shattered sanity</td>\n",
       "      <td>Aug 2012</td>\n",
       "    </tr>\n",
       "    <tr>\n",
       "      <th>4</th>\n",
       "      <td>sans</td>\n",
       "      <td>May 2013</td>\n",
       "    </tr>\n",
       "  </tbody>\n",
       "</table>\n",
       "</div>"
      ],
      "text/plain": [
       "               user member_since\n",
       "0           Nike007     Jul 2015\n",
       "1        Bozdickens     Jun 2016\n",
       "2      sonjaward809     Feb 2013\n",
       "3  shattered sanity     Aug 2012\n",
       "4              sans     May 2013"
      ]
     },
     "execution_count": 172,
     "metadata": {},
     "output_type": "execute_result"
    }
   ],
   "source": [
    "pc_anx_user.head()"
   ]
  },
  {
   "cell_type": "markdown",
   "metadata": {},
   "source": [
    "### Merging DF's"
   ]
  },
  {
   "cell_type": "code",
   "execution_count": 204,
   "metadata": {
    "collapsed": true
   },
   "outputs": [],
   "source": [
    "anx_post = pd.concat([mh_anx_post, pc_anx_post])"
   ]
  },
  {
   "cell_type": "code",
   "execution_count": 205,
   "metadata": {
    "collapsed": true
   },
   "outputs": [],
   "source": [
    "anx_user = pd.concat([mh_anx_user, pc_anx_user])"
   ]
  },
  {
   "cell_type": "markdown",
   "metadata": {},
   "source": [
    "### Preparing the documents"
   ]
  },
  {
   "cell_type": "code",
   "execution_count": 208,
   "metadata": {
    "collapsed": true
   },
   "outputs": [],
   "source": [
    "user_list = [key for key in md]"
   ]
  },
  {
   "cell_type": "code",
   "execution_count": 218,
   "metadata": {},
   "outputs": [],
   "source": [
    "documents = [md[user] for user in user_list]"
   ]
  },
  {
   "cell_type": "code",
   "execution_count": 227,
   "metadata": {},
   "outputs": [],
   "source": [
    "documents = [post for doc in documents for post in doc]"
   ]
  },
  {
   "cell_type": "markdown",
   "metadata": {},
   "source": [
    "# NLP"
   ]
  },
  {
   "cell_type": "markdown",
   "metadata": {},
   "source": [
    "## Text Processing Pipeline"
   ]
  },
  {
   "cell_type": "code",
   "execution_count": 228,
   "metadata": {
    "collapsed": true
   },
   "outputs": [],
   "source": [
    "from nltk.corpus import stopwords"
   ]
  },
  {
   "cell_type": "code",
   "execution_count": 229,
   "metadata": {
    "collapsed": true
   },
   "outputs": [],
   "source": [
    "from sklearn.feature_extraction.text import TfidfVectorizer"
   ]
  },
  {
   "cell_type": "code",
   "execution_count": 230,
   "metadata": {
    "collapsed": true
   },
   "outputs": [],
   "source": [
    "tfidf_vect = TfidfVectorizer(stop_words = 'english')"
   ]
  },
  {
   "cell_type": "code",
   "execution_count": 231,
   "metadata": {
    "collapsed": true
   },
   "outputs": [],
   "source": [
    "tfidf_vectorized = tfidf_vect.fit_transform(documents)"
   ]
  },
  {
   "cell_type": "code",
   "execution_count": 232,
   "metadata": {
    "collapsed": true
   },
   "outputs": [],
   "source": [
    "from sklearn.metrics.pairwise import linear_kernel"
   ]
  },
  {
   "cell_type": "code",
   "execution_count": 233,
   "metadata": {},
   "outputs": [
    {
     "data": {
      "text/plain": [
       "67478"
      ]
     },
     "execution_count": 233,
     "metadata": {},
     "output_type": "execute_result"
    }
   ],
   "source": [
    "len(tfidf_vect.vocabulary_)"
   ]
  },
  {
   "cell_type": "code",
   "execution_count": 234,
   "metadata": {
    "collapsed": true
   },
   "outputs": [],
   "source": [
    "cos_sim = linear_kernel(tfidf_vectorized, tfidf_vectorized)"
   ]
  },
  {
   "cell_type": "code",
   "execution_count": null,
   "metadata": {},
   "outputs": [],
   "source": [
    "top_match = np.argsort(cos_sim, axis = 1)"
   ]
  },
  {
   "cell_type": "code",
   "execution_count": null,
   "metadata": {
    "collapsed": true
   },
   "outputs": [],
   "source": []
  }
 ],
 "metadata": {
  "kernelspec": {
   "display_name": "Python 3",
   "language": "python",
   "name": "python3"
  },
  "language_info": {
   "codemirror_mode": {
    "name": "ipython",
    "version": 3
   },
   "file_extension": ".py",
   "mimetype": "text/x-python",
   "name": "python",
   "nbconvert_exporter": "python",
   "pygments_lexer": "ipython3",
   "version": "3.6.3"
  }
 },
 "nbformat": 4,
 "nbformat_minor": 2
}
