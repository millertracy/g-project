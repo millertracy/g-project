{
 "cells": [
  {
   "cell_type": "code",
   "execution_count": 1,
   "metadata": {
    "collapsed": true
   },
   "outputs": [],
   "source": [
    "import psycopg2\n",
    "import pandas as pd\n",
    "import numpy as np\n",
    "import matplotlib.pyplot as plt\n",
    "%matplotlib inline"
   ]
  },
  {
   "cell_type": "code",
   "execution_count": 2,
   "metadata": {
    "collapsed": true
   },
   "outputs": [],
   "source": [
    "conn = psycopg2.connect('dbname = mh')"
   ]
  },
  {
   "cell_type": "code",
   "execution_count": 3,
   "metadata": {
    "collapsed": true
   },
   "outputs": [],
   "source": [
    "cur = conn.cursor()"
   ]
  },
  {
   "cell_type": "code",
   "execution_count": 4,
   "metadata": {
    "collapsed": true
   },
   "outputs": [],
   "source": [
    "query_post = \"\"\"\n",
    "    Select * from pc_post;\n",
    "    \"\"\"\n",
    "\n",
    "query_user = \"\"\"\n",
    "    Select * from pc_user;\n",
    "    \"\"\""
   ]
  },
  {
   "cell_type": "code",
   "execution_count": 5,
   "metadata": {
    "collapsed": true
   },
   "outputs": [],
   "source": [
    "cur.execute(query_post)"
   ]
  },
  {
   "cell_type": "code",
   "execution_count": 6,
   "metadata": {},
   "outputs": [
    {
     "data": {
      "text/plain": [
       "('5986256',\n",
       " 'Gus1234U',\n",
       " \"Default Management and Coping Skills for Anxiety, Panic and PTSD\\r\\nhere are some of the Coping Skills i learned for managing anxiety, and found to work well for stress AND PTSD~ i hope you find some of them useful ~ \\r\\ni have posted these before, but am bringing them together and up to date, and adding the DBT Self-Soothing Skills that also help, either before or after a panic~ \\r\\nSelf Comforting Skills\\r\\nwe are social creatures, but getting what we need when we need it from another is not always available. here are some of the suggestions from the DBT handbook on Self Soothing Skills: \\r\\nthink of soothing each of your FIVE SENSES \\r\\n1) Vision: Notice what you see, find soothing things to look at. \\r\\n(i go to a blog that has lovely pictures: C PTSD - A Way Out | A place to check in daily ) \\r\\n2) Hearing: Pay attention to what you can hear around you.\\r\\n(put on your favorite music...) \\r\\n3) Smell: Be aware of the memories that smell can bring.\\r\\n(i like to do aroma therapy. there are many Essential Oils for that.) \\r\\n4) Taste: Carefully savor flavors that the day brings you.\\r\\n(keep a favorite hard candy on hand, for the little sugar boost, too.) \\r\\n5) Touch: Find comfort in touch. \\r\\n(keep a special pillow or blanket with a favorite perfume on it.) \\r\\nDialectical Behavioral Therapy/Distress Tolerance Skills/Self-soothing - Wikibooks, open books for an open world \\r\\nthese are not listed, but i find them handy, too: \\r\\nA) Reassurance: Tell yourself that you are OK, safe and unharmed. \\r\\n(the danger is past, you have survived this before and now\\r\\nyou are stronger and more skillful than then.) \\r\\nB) Take Action: Go for a walk, or exercise or clean house or cook. (use your \\r\\nbody's natural focusing powers to leave the fear behind.) \\r\\nC) Refocus: Think about pleasant things. Push the hurtful thoughts away.\\r\\n(have a hobby or a story, or a book that you like, to take your \\r\\nmind to a better place.) \\r\\nCoping With Anxiety and Panic: \\r\\n1. Remember, feelings of panic are just exaggerations of normal bodily stress reactions. \\r\\n2. Sensations are neither harmful nor dangerous - just unpleasant. Nothing worse will happen. \\r\\n3. Anxiety is temporary. Instead of fighting it, relax into it. Just let it be. \\r\\n4. Focus on facing the fear rather than trying to avoid it or escape from it. \\r\\n5. Stop adding to the panic with frightening thoughts of where panic will lead. \\r\\n6. Stay in the present. Be aware of what is happening to you rather than concern yourself with how much worse it might get. \\r\\n7. Notice that when you stop adding to panic with frightening thoughts, the fear begins to fade. \\r\\n8. Wait and give the fear time to pass. \\r\\n9. Look around you. Plan what you will do next as the panic subsides. \\r\\n10. When you are ready to go on, do so in an easy, relaxed manner. There is no hurry. \\r\\n11. Think about the progress made so far despite all the difficulties. \\r\\nSome Specific Actions: \\r\\n1. Manage your breathing, if it is rapid, breathe into a paper sack to lower oxygen uptake; \\r\\n2. Count your breaths, 1001, 1002, 1003, ect, up to 1020, then start again, slow down the count to slow your heartbeat. counting interferes with anxiety; \\r\\n3. Delay doing anything about your anxiety or panic, just follow the steps and focus on getting thru it; \\r\\n4. Distract yourself, with anything that requires you to focus and is simple and handy - at home you might read something easy, like a magazine, or knit or wash dishes, whatever engages your attention; \\r\\n5. Eat something to replenish the blood sugars that adrenalin has burned up, and give yourself at least 15 minutes for the kidneys to clean out the 'ashes' in your blood; \\r\\n6. Write these things down and keep them with you, until you have made them a habit \\r\\npractice these skills before you need them, or when you are just mildly anxious, so they will be familiar when you are feeling very upset. i hope you find this information helpful~ \\r\\nbest wishes~\\r\\nGus\",\n",
       " 'author')"
      ]
     },
     "execution_count": 6,
     "metadata": {},
     "output_type": "execute_result"
    }
   ],
   "source": [
    "cur.fetchone()"
   ]
  },
  {
   "cell_type": "code",
   "execution_count": null,
   "metadata": {
    "collapsed": true
   },
   "outputs": [],
   "source": []
  }
 ],
 "metadata": {
  "kernelspec": {
   "display_name": "Python 3",
   "language": "python",
   "name": "python3"
  },
  "language_info": {
   "codemirror_mode": {
    "name": "ipython",
    "version": 3
   },
   "file_extension": ".py",
   "mimetype": "text/x-python",
   "name": "python",
   "nbconvert_exporter": "python",
   "pygments_lexer": "ipython3",
   "version": "3.6.3"
  }
 },
 "nbformat": 4,
 "nbformat_minor": 2
}
