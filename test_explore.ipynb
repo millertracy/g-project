{
 "cells": [
  {
   "cell_type": "code",
   "execution_count": 1,
   "metadata": {
    "collapsed": true
   },
   "outputs": [],
   "source": [
    "import psycopg2\n",
    "import pandas as pd\n",
    "import numpy as np\n",
    "import matplotlib.pyplot as plt\n",
    "import string\n",
    "import re\n",
    "import scipy.stats as scs\n",
    "from collections import defaultdict\n",
    "from sklearn.feature_extraction.text import TfidfVectorizer\n",
    "from sklearn.naive_bayes import MultinomialNB\n",
    "from sklearn.model_selection import train_test_split\n",
    "from sklearn.metrics.pairwise import pairwise_distances\n",
    "from multiprocessing import pool\n",
    "%matplotlib inline\n",
    "plt.style.use(\"ggplot\")"
   ]
  },
  {
   "cell_type": "code",
   "execution_count": 2,
   "metadata": {
    "collapsed": true
   },
   "outputs": [],
   "source": [
    "from sklearn.externals import joblib\n",
    "from sklearn.metrics.pairwise import linear_kernel\n",
    "from nltk.stem.porter import PorterStemmer"
   ]
  },
  {
   "cell_type": "code",
   "execution_count": 3,
   "metadata": {
    "collapsed": true
   },
   "outputs": [],
   "source": [
    "# Standard Python Library for working with graphs\n",
    "import networkx as nx\n",
    "\n",
    "# Helper library to visualize graphs\n",
    "import nxpd\n",
    "\n",
    "# Helper library for community related functions\n",
    "import community\n",
    "\n",
    "# Custom module that Matt wrote\n",
    "#import GraphTools as gt"
   ]
  },
  {
   "cell_type": "markdown",
   "metadata": {},
   "source": [
    "# Importing data from DB"
   ]
  },
  {
   "cell_type": "markdown",
   "metadata": {},
   "source": [
    "**Import explore file**"
   ]
  },
  {
   "cell_type": "code",
   "execution_count": 3,
   "metadata": {
    "collapsed": true
   },
   "outputs": [],
   "source": [
    "from explore import *"
   ]
  },
  {
   "cell_type": "markdown",
   "metadata": {},
   "source": [
    "**Make mh dfs and dictionary**"
   ]
  },
  {
   "cell_type": "code",
   "execution_count": 4,
   "metadata": {
    "collapsed": true
   },
   "outputs": [],
   "source": [
    "# mh_anx dfs and (md - for comparing users * includes all posts)\n",
    "\n",
    "mh_anx_post, mh_anx_user, md = make_mh_df(doc_keep_punc)\n",
    "mh_anx_post['forum'] = \"mh\"\n",
    "mh_anx_user['forum'] = \"mh\""
   ]
  },
  {
   "cell_type": "markdown",
   "metadata": {},
   "source": [
    "**Make pc dfs and update dictionary**"
   ]
  },
  {
   "cell_type": "code",
   "execution_count": 5,
   "metadata": {
    "collapsed": true
   },
   "outputs": [],
   "source": [
    "pc_anx_post, pc_anx_user, md = make_pc_df(doc_keep_punc, md)\n",
    "pc_anx_post['forum'] = \"pc\"\n",
    "pc_anx_user['forum'] = \"pc\""
   ]
  },
  {
   "cell_type": "markdown",
   "metadata": {},
   "source": [
    "**Merge dfs**"
   ]
  },
  {
   "cell_type": "code",
   "execution_count": 6,
   "metadata": {
    "collapsed": true
   },
   "outputs": [],
   "source": [
    "anx_post, anx_user = merge_df(mh_anx_post, pc_anx_post, mh_anx_user, pc_anx_user)"
   ]
  },
  {
   "cell_type": "code",
   "execution_count": 5,
   "metadata": {
    "collapsed": true
   },
   "outputs": [],
   "source": [
    "conn.close()"
   ]
  },
  {
   "cell_type": "markdown",
   "metadata": {},
   "source": [
    "**Check out dfs**"
   ]
  },
  {
   "cell_type": "code",
   "execution_count": 8,
   "metadata": {},
   "outputs": [
    {
     "data": {
      "text/plain": [
       "array(['Generalized Anxiety Disorder', 'Social Anxiety', 'Anxiety',\n",
       "       'Panic Disorder and Agoraphobia', 'Specific Phobias',\n",
       "       'Social Anxiety and Selective Mutism', 'Anxiety Panic and Phobias',\n",
       "       'Anxiety Success Stories'], dtype=object)"
      ]
     },
     "execution_count": 8,
     "metadata": {},
     "output_type": "execute_result"
    }
   ],
   "source": [
    "anx_post['forum_name'].unique()"
   ]
  },
  {
   "cell_type": "code",
   "execution_count": 11,
   "metadata": {
    "collapsed": true
   },
   "outputs": [],
   "source": [
    "anx_post['postlen'] = anx_post['post'].apply(lambda x: len(x.split()))"
   ]
  },
  {
   "cell_type": "code",
   "execution_count": 15,
   "metadata": {},
   "outputs": [
    {
     "data": {
      "text/plain": [
       "count    47906.000000\n",
       "mean       103.722603\n",
       "std        144.533708\n",
       "min          0.000000\n",
       "25%         26.000000\n",
       "50%         61.000000\n",
       "75%        127.000000\n",
       "max       3204.000000\n",
       "Name: postlen, dtype: float64"
      ]
     },
     "execution_count": 15,
     "metadata": {},
     "output_type": "execute_result"
    }
   ],
   "source": [
    "anx_post['postlen'].describe()"
   ]
  },
  {
   "cell_type": "code",
   "execution_count": 9,
   "metadata": {},
   "outputs": [
    {
     "data": {
      "text/html": [
       "<div>\n",
       "<style>\n",
       "    .dataframe thead tr:only-child th {\n",
       "        text-align: right;\n",
       "    }\n",
       "\n",
       "    .dataframe thead th {\n",
       "        text-align: left;\n",
       "    }\n",
       "\n",
       "    .dataframe tbody tr th {\n",
       "        vertical-align: top;\n",
       "    }\n",
       "</style>\n",
       "<table border=\"1\" class=\"dataframe\">\n",
       "  <thead>\n",
       "    <tr style=\"text-align: right;\">\n",
       "      <th></th>\n",
       "      <th>user</th>\n",
       "      <th>member_since</th>\n",
       "    </tr>\n",
       "  </thead>\n",
       "  <tbody>\n",
       "    <tr>\n",
       "      <th>0</th>\n",
       "      <td>steviep43</td>\n",
       "      <td>Jan 2018</td>\n",
       "    </tr>\n",
       "    <tr>\n",
       "      <th>1</th>\n",
       "      <td>Chalmers333</td>\n",
       "      <td>Jan 2018</td>\n",
       "    </tr>\n",
       "    <tr>\n",
       "      <th>2</th>\n",
       "      <td>JenIAm</td>\n",
       "      <td>Jan 2018</td>\n",
       "    </tr>\n",
       "    <tr>\n",
       "      <th>3</th>\n",
       "      <td>Aw3092</td>\n",
       "      <td>Jan 2018</td>\n",
       "    </tr>\n",
       "    <tr>\n",
       "      <th>4</th>\n",
       "      <td>srussells</td>\n",
       "      <td>Jan 2017</td>\n",
       "    </tr>\n",
       "  </tbody>\n",
       "</table>\n",
       "</div>"
      ],
      "text/plain": [
       "           user member_since\n",
       "0    steviep43      Jan 2018\n",
       "1  Chalmers333      Jan 2018\n",
       "2       JenIAm      Jan 2018\n",
       "3       Aw3092      Jan 2018\n",
       "4    srussells      Jan 2017"
      ]
     },
     "execution_count": 9,
     "metadata": {},
     "output_type": "execute_result"
    }
   ],
   "source": [
    "anx_user.head()"
   ]
  },
  {
   "cell_type": "markdown",
   "metadata": {},
   "source": [
    "# Basic NLP "
   ]
  },
  {
   "cell_type": "code",
   "execution_count": null,
   "metadata": {
    "collapsed": true
   },
   "outputs": [],
   "source": [
    "anx_post"
   ]
  },
  {
   "cell_type": "code",
   "execution_count": 6,
   "metadata": {
    "collapsed": true
   },
   "outputs": [],
   "source": [
    "# create docs and labels\n",
    "\n",
    "users, docs = make_docs_labels(md)"
   ]
  },
  {
   "cell_type": "code",
   "execution_count": 7,
   "metadata": {
    "collapsed": true
   },
   "outputs": [],
   "source": [
    "# create vectorizer instance\n",
    "# vectorize docs\n",
    "\n",
    "vectorizer = TfidfVectorizer(stop_words = 'english')\n",
    "vect = vectorizer.fit_transform(docs)"
   ]
  },
  {
   "cell_type": "markdown",
   "metadata": {},
   "source": [
    "### pickling for the demo"
   ]
  },
  {
   "cell_type": "code",
   "execution_count": 43,
   "metadata": {},
   "outputs": [
    {
     "data": {
      "text/plain": [
       "['vectorizer.pkl']"
      ]
     },
     "execution_count": 43,
     "metadata": {},
     "output_type": "execute_result"
    }
   ],
   "source": [
    "#joblib the model\n",
    "joblib.dump(vectorizer, \"vectorizer.pkl\")"
   ]
  },
  {
   "cell_type": "code",
   "execution_count": 32,
   "metadata": {},
   "outputs": [
    {
     "data": {
      "text/plain": [
       "['vect.pkl']"
      ]
     },
     "execution_count": 32,
     "metadata": {},
     "output_type": "execute_result"
    }
   ],
   "source": [
    "# joblib the matrix\n",
    "joblib.dump(vect, \"vect.pkl\")\n",
    "\n"
   ]
  },
  {
   "cell_type": "code",
   "execution_count": 34,
   "metadata": {
    "collapsed": true
   },
   "outputs": [],
   "source": [
    "#load the model with joblib\n",
    "\n",
    "test = joblib.load(\"vect.pkl\")"
   ]
  },
  {
   "cell_type": "code",
   "execution_count": 36,
   "metadata": {},
   "outputs": [
    {
     "data": {
      "text/plain": [
       "['md.pkl']"
      ]
     },
     "execution_count": 36,
     "metadata": {},
     "output_type": "execute_result"
    }
   ],
   "source": [
    "joblib.dump(md, \"md.pkl\")"
   ]
  },
  {
   "cell_type": "code",
   "execution_count": 37,
   "metadata": {
    "collapsed": true
   },
   "outputs": [],
   "source": [
    "d = joblib.load(\"md.pkl\")"
   ]
  },
  {
   "cell_type": "markdown",
   "metadata": {},
   "source": [
    "### Comparing a query to users"
   ]
  },
  {
   "cell_type": "code",
   "execution_count": 6,
   "metadata": {
    "collapsed": true
   },
   "outputs": [],
   "source": [
    "users = [key for key in md]\n",
    "documents = [md[user] for user in users]\n",
    "docs = [\" \".join(doc) for doc in documents]"
   ]
  },
  {
   "cell_type": "code",
   "execution_count": 48,
   "metadata": {
    "collapsed": true
   },
   "outputs": [],
   "source": [
    "query = ['hi ive been suffering for anxiety for some time. i experience a weird dread that comes over me at night. im okay during the day but it gets really overwhelming at night']"
   ]
  },
  {
   "cell_type": "code",
   "execution_count": 20,
   "metadata": {
    "collapsed": true
   },
   "outputs": [],
   "source": [
    "vectorizer = TfidfVectorizer(stop_words = 'english')"
   ]
  },
  {
   "cell_type": "code",
   "execution_count": 21,
   "metadata": {
    "collapsed": true
   },
   "outputs": [],
   "source": [
    "vect = vectorizer.fit_transform(docs).toarray()"
   ]
  },
  {
   "cell_type": "code",
   "execution_count": 22,
   "metadata": {
    "collapsed": true
   },
   "outputs": [],
   "source": [
    "query_vect = vectorizer.transform(query).toarray()"
   ]
  },
  {
   "cell_type": "code",
   "execution_count": 23,
   "metadata": {
    "collapsed": true
   },
   "outputs": [],
   "source": [
    "cos_sim = linear_kernel(vect, query_vect)"
   ]
  },
  {
   "cell_type": "code",
   "execution_count": 24,
   "metadata": {
    "collapsed": true
   },
   "outputs": [],
   "source": [
    "top_sims = np.argsort(cos_sim, axis = None)[-1:-7:-1]"
   ]
  },
  {
   "cell_type": "code",
   "execution_count": 33,
   "metadata": {},
   "outputs": [
    {
     "data": {
      "text/plain": [
       "array([2635,    0, 2554, 6009, 3530,  360])"
      ]
     },
     "execution_count": 33,
     "metadata": {},
     "output_type": "execute_result"
    }
   ],
   "source": [
    "# can pull out users using these indices\n",
    "top_sims"
   ]
  },
  {
   "cell_type": "markdown",
   "metadata": {},
   "source": [
    "## Comparing Posts"
   ]
  },
  {
   "cell_type": "code",
   "execution_count": 7,
   "metadata": {
    "collapsed": true
   },
   "outputs": [],
   "source": [
    "#creating user list for each post\n",
    "users = [anx_post['user'][i] for i in anx_post.index]"
   ]
  },
  {
   "cell_type": "code",
   "execution_count": 8,
   "metadata": {
    "collapsed": true
   },
   "outputs": [],
   "source": [
    "# creating post list\n",
    "posts = [anx_post['post'][i] for i in anx_post.index]"
   ]
  },
  {
   "cell_type": "code",
   "execution_count": 9,
   "metadata": {
    "collapsed": true
   },
   "outputs": [],
   "source": [
    "#vectorizing\n",
    "vectorizer = TfidfVectorizer(stop_words = 'english', max_features = 1000)\n",
    "vect = vectorizer.fit_transform(posts).astype('float32')"
   ]
  },
  {
   "cell_type": "code",
   "execution_count": 10,
   "metadata": {},
   "outputs": [
    {
     "name": "stdout",
     "output_type": "stream",
     "text": [
      "CPU times: user 9.59 s, sys: 11.3 s, total: 20.9 s\n",
      "Wall time: 35.2 s\n"
     ]
    }
   ],
   "source": [
    "%time cos_sim = 1 - pairwise_distances(vect, vect, \"cosine\", n_jobs = 8)"
   ]
  },
  {
   "cell_type": "code",
   "execution_count": 104,
   "metadata": {
    "collapsed": true
   },
   "outputs": [],
   "source": [
    "def top_posts(sim, ri, n, users, posts):\n",
    "    top_n = list(range(-1,-n-1,-1))\n",
    "    doc = sim[ri, :]\n",
    "    doc_sort = np.argsort(doc)\n",
    "    doc_sort = doc_sort[0:-1]\n",
    "    user = users[ri]\n",
    "    sim_users = doc_sort[top_n]\n",
    "    return (user, posts[ri]), [(users[sim], posts[sim]) for sim in sim_users]"
   ]
  },
  {
   "cell_type": "markdown",
   "metadata": {},
   "source": [
    "** sorting all the columns and rows takes a while and is unnecessary for this step**"
   ]
  },
  {
   "cell_type": "code",
   "execution_count": 21,
   "metadata": {},
   "outputs": [
    {
     "data": {
      "text/plain": [
       "(('anxiousman ', 'have you had these feelings yourself then if you smoke'),\n",
       " [('Pebbles ',\n",
       "   'its when im alone only i want to be alone its so confusing my feelings are always up and down its so tiring and confusing'),\n",
       "  ('Lincoln1990 ', 'my feelings are hurt'),\n",
       "  ('Rock_warlock ',\n",
       "   'yeahsir i shouldnt be that serious about lovemay be im not mature enough but if you are having feelings for her  naturally may be because she is beautiful   i think its too early to take feelings so seriously '),\n",
       "  ('Spidergirl ', 'i feel your pain i have the same feelings'),\n",
       "  ('Rachy17 ', 'feel all trembly and tense horrible feelings')])"
      ]
     },
     "execution_count": 21,
     "metadata": {},
     "output_type": "execute_result"
    }
   ],
   "source": [
    "top_posts(cos_sim, 40, 5, users, posts)"
   ]
  },
  {
   "cell_type": "markdown",
   "metadata": {},
   "source": [
    "# Validation Testing"
   ]
  },
  {
   "cell_type": "markdown",
   "metadata": {},
   "source": [
    "- i went to another forum (psychforums.com) and took 3 different queries that were related to \n",
    "  the large subgroups of my forum - which were generalized anxiety, social anxiety, panic and phobias\n",
    "  - 1st: relates to anxiety and physical and psychological symptoms that are experienced\n",
    "  - 2nd: relates to a deep fear of failure and harsh criticism \n",
    "  - 3rd: relates to social anxiety and the feelings in social situations\n",
    "  - 4th: relates to social anxiety and overthinking during and after social situations\n",
    "  - 5th: relates to a benign experience and a panic episode\n",
    "  - 6th: relates to fear of going out in public\n",
    "  \n",
    "- each were around the mean of a post of in corpora ~ around 100 words"
   ]
  },
  {
   "cell_type": "code",
   "execution_count": 4,
   "metadata": {
    "collapsed": true
   },
   "outputs": [],
   "source": [
    "#create test queries\n",
    "test_queries = ['Hello Everyone. \\\n",
    "Lately my anxiety got worse due to recent events in my life and ill try to explain them and maybe you can tell me if you have them too\\\n",
    "- high fever, face is hot and bloated \\\n",
    "- thoughts get \"stuck\", hard to process a thought or an emotion all the way through \\\n",
    "- cant feel my nose or my lips \\\n",
    "- cant focus or concentrate at all \\\n",
    "- feeling confused and disoriented \\\n",
    "- headache \\\n",
    "- anger \\\n",
    "- symptoms are not alleviated by anything \\\n",
    "- when anxiety wears off im yawning alot \\\n",
    "should i be concerned that i might have something other than anxiety?', 'I have been diagnosed with GAD multiple times in my life. Its normal. I used to have a lot of self perpetuated depression as well. Im better at monitoring what Im thinking now. \\\n",
    "Im from a very dysfunctional family that told me, I was a failure. I was a mistake. I am a failure by birth. I wont amount to anything. \\\n",
    "I have fought through so much anxiety and without a whole lot of counseling, I have gotten a second BA degree and got a great start on a full retrain professionally. \\\n",
    "I know this is my dream now. I know this is what I want for myself. Its the fear of failure and the fear of being told Im not good enough, or bad in some way or criticism from other/authority again, that is freaking me out. \\\n",
    "This application I think is due at the end of Feb., sigh.' ,\\\n",
    "'Feelings: I want to hide from people. I feel judged. I feel like internally screaming. I want to run away. I want to escape. I dont want to be seen. I dont want to be judged. Hiding is safer. I dont want to interact with people. I feel like I have to wear a mask and I feel drained by concealing myself all day long. I want to quit my job. I feel like people are against me, everyones against me. Laughter, noises, talking, social interaction, they all make me want to have an anxiety attack. What is wrong with me?'\n",
    "               , 'Guys what do you usually do to stop over thinking.. \\\n",
    "I have a severe overthinking habit that always make me panic and do some awkward and dumb move.. for example yesterday i met my aunt on restaurant i sit on different tables and im done eating first while my uber driver is on the way to restaurant, i just wanna say goodbye to her and her family but rather than walk to their table i said it rather loud from my tables when my aunt saw me, that makes some people on restaurant look at me.. then i go home. At first i thought its normal then i realized how dumb my action is i should have go to their table and said goodbye rather than saying it from far away that make me look like a panic person, i keep on thinking about this case i think about how my aunt family think about me after my move and etc.\\\n",
    "Can someone help me to getting over this .. i cant stop thinking even about some little things moreover some dumb things i do. \\\n",
    "Thankyou' ,'So I think my panic attack is connected with my movement + stress from before. I was running, and I started to think just about random moment from the past, It was stressful moment but I dont experience nothing about it now.. But then I started to think what if I am not in control of my body anymore, and I will jump in the river or I want to go at to start fight some guy on the street and I will finish in jail because I will be aggressive or mby I will finish in mental hospital.. I started to to shake, my heart wanted to explode. And from then, now when I move my heart is beating really fast and I am afraid to get panic attack again. \\\n",
    "Is there some meditation to shut me down, because I can not leave with myself like this.', 'Im not sure if this is the right place to post. \\\n",
    "I have difficulty leaving my house. I can leave but its easier if its at a time of day when its not very busy outside. I cant leave if I can see anyone in my street though. I can go to places that Ive been before or places where there will be someone I know but cant go anywhere outside of that. Sometimes I push myself to go a street or two nearby to where Im going so that I experience a new place and can then have that as somewhere Ive been before that I might be able to go again but I find that hard. Staying at home feels way less anxiety provoking. \\\n",
    "Ive lost contact with lots of people, just because its so hard to push myself to go places. And as I am in my 30s, I find it hard to have much in common with people who are always talking about travel and the next places in town to visit when I know that I cant do that. \\\n",
    "I just wondered if anyone can relate? I feel pretty alone with this.']\n",
    "\n",
    "test_queries = [doc_remove_punc(query).lower() for query in test_queries]"
   ]
  },
  {
   "cell_type": "code",
   "execution_count": 5,
   "metadata": {},
   "outputs": [
    {
     "data": {
      "text/plain": [
       "['hello everyone lately my anxiety got worse due to recent events in my life and ill try to explain them and maybe you can tell me if you have them too high fever face is hot and bloated  thoughts get stuck hard to process a thought or an emotion all the way through  cant-feel my nose or my lips  cant-focus or concentrate at all  feeling confused and disoriented  headache  anger  symptoms are not alleviated by anything  when anxiety wears off im yawning alot should i be concerned that i might have something other than anxiety',\n",
       " 'i have been diagnosed with gad multiple times in my life its normal i used to have a lot of self perpetuated depression as well im better at monitoring what im thinking now im from a very dysfunctional family that told me i was a failure i was a mistake i am a failure by birth i wont amount to anything i have fought through so much anxiety and without a whole lot of counseling i have gotten a second ba degree and got a great start on a full retrain professionally i know this is my dream now i know this is what i want for myself its the fear of failure and the fear of being told im not good enough or bad in some way or criticism from otherauthority again that is freaking me out this application i think is due at the end of feb sigh',\n",
       " 'feelings i want to hide from people i feel judged i feel like internally screaming i want to run away i want to escape i dont-want to be seen i dont-want to be judged hiding is safer i dont-want to interact with people i feel like i have to wear a mask and i feel drained by concealing myself all day long i want to quit my job i feel like people are against me everyones against me laughter noises talking social interaction they all make me want to have an anxiety attack what is wrong with me',\n",
       " 'guys what do you usually do to stop over thinking i have a severe overthinking habit that always make me panic and do some awkward and dumb move for example yesterday i met my aunt on restaurant i sit on different tables and im done eating first while my uber driver is on the way to restaurant i just wanna say goodbye to her and her family but rather than walk to their table i said it rather loud from my tables when my aunt saw me that makes some people on restaurant look at me then i go home at first i thought its normal then i realized how dumb my action is i should have go to their table and said goodbye rather than saying it from far away that make me look like a panic person i keep on thinking about this case i think about how my aunt family think about me after my move and etccan someone help me to getting over this  i cant-stop thinking even about some little things moreover some dumb things i do thankyou',\n",
       " 'so i think my panic attack is connected with my movement  stress from before i was running and i started to think just about random moment from the past it was stressful moment but i dont-experience nothing about it now but then i started to think what if i am not in control of my body anymore and i will jump in the river or i want to go at to start fight some guy on the street and i will finish in jail because i will be aggressive or mby i will finish in mental hospital i started to to shake my heart wanted to explode and from then now when i move my heart is beating really fast and i am afraid to get panic attack again is there some meditation to shut me down because i can not leave with myself like this',\n",
       " 'im not sure if this is the right place to post i have difficulty leaving my house i can leave but its easier if its at a time of day when its not very busy outside i cant-leave if i can see anyone in my street though i can go to places that ive been before or places where there will be someone i know but cant-go anywhere outside of that sometimes i push myself to go a street or two nearby to where im going so that i experience a new place and can then have that as somewhere ive been before that i might be able to go again but i find that hard staying at home feels way less anxiety provoking ive lost contact with lots of people just because its so hard to push myself to go places and as i am in my 30s i find it hard to have much in common with people who are always talking about travel and the next places in town to visit when i know that i cant-do that i just wondered if anyone can relate i feel pretty alone with this']"
      ]
     },
     "execution_count": 5,
     "metadata": {},
     "output_type": "execute_result"
    }
   ],
   "source": [
    "test_queries"
   ]
  },
  {
   "cell_type": "code",
   "execution_count": 8,
   "metadata": {},
   "outputs": [
    {
     "data": {
      "text/plain": [
       "[95, 150, 98, 183, 146, 194]"
      ]
     },
     "execution_count": 8,
     "metadata": {},
     "output_type": "execute_result"
    }
   ],
   "source": [
    "[len(post.split()) for post in test_queries]"
   ]
  },
  {
   "cell_type": "markdown",
   "metadata": {},
   "source": [
    "## Limiting Post Lengths\n",
    "\n",
    "I will limit post lengths in increasing order and see how it affect 8 randomly chosen users and who they pair with. \n",
    "How good those matches are. How many posts i lose, and then i will see how 3 random queries do.\n",
    "\n",
    "- 10 words\n",
    "- 20 words\n",
    "- 30 words\n",
    "- 40 words\n",
    "- 50 words\n"
   ]
  },
  {
   "cell_type": "code",
   "execution_count": 9,
   "metadata": {
    "collapsed": true
   },
   "outputs": [],
   "source": [
    "#users = [30, 75, 98, 105, 2020, 5000, 2070, 27002]\n",
    "#my_pids = [536367,575957,1588361,1589433, 1480393, 341848, 1133616]\n",
    "my_pids = [536367,575957,1588361]"
   ]
  },
  {
   "cell_type": "code",
   "execution_count": 10,
   "metadata": {
    "collapsed": true
   },
   "outputs": [],
   "source": [
    "queries = ['I have got social anxiety. Its really hard for me to make friends at school. I get very lonely',\n",
    "          'My mind races constantly with thoughts that i cant shut off. I dont know how to turn them off. and when \\\n",
    "           they come on i cant do any work.', 'I get so uncomfortable when im in big crowds. it becomes hard for me \\\n",
    "           to breathe and i get really nervous.']\n",
    "\n",
    "           "
   ]
  },
  {
   "cell_type": "raw",
   "metadata": {
    "collapsed": true
   },
   "source": [
    "pids = [0,1,2,3]"
   ]
  },
  {
   "cell_type": "code",
   "execution_count": 11,
   "metadata": {
    "collapsed": true
   },
   "outputs": [],
   "source": [
    "#is anx_post df with manual labels\n",
    "df = pd.read_pickle(\"df_man.pkl\")"
   ]
  },
  {
   "cell_type": "code",
   "execution_count": 6,
   "metadata": {
    "collapsed": true
   },
   "outputs": [],
   "source": [
    "porter = PorterStemmer()\n",
    "def lem(string, porter):\n",
    "    return \" \".join([porter.stem(word)for word in string.split()])\n",
    "    "
   ]
  },
  {
   "cell_type": "code",
   "execution_count": 7,
   "metadata": {
    "collapsed": true
   },
   "outputs": [],
   "source": [
    "#create regular tfidf\n",
    "def tfidf(df, max_df = 1.0, min_df = 1, ngr = None):\n",
    "    pids = [int(df['pid'][i]) for i in df.index]\n",
    "    posts = [df['post'][i] for i in df.index]\n",
    "    posts_lem = [lem(post, porter) for post in posts]\n",
    "    vectorizer = TfidfVectorizer(stop_words = 'english', max_df = max_df, min_df = min_df, ngram_range = ngr, max_features = 10000)\n",
    "    vect = vectorizer.fit_transform(posts_lem).astype('float32')\n",
    "    return pids, posts, vectorizer, vect"
   ]
  },
  {
   "cell_type": "code",
   "execution_count": 8,
   "metadata": {
    "collapsed": true
   },
   "outputs": [],
   "source": [
    "#function to create tfidfs for documents with trimmed word lengths\n",
    "def tfidf_trim(df, n, max_df = 1.0, min_df = 1):\n",
    "    df['postlen'] = df['post'].apply(lambda x: len(x.split()))\n",
    "    df_lim = df[df['postlen'] > n]\n",
    "    print(\"% lost: \", ((len(df)-len(df_lim))/ len(df)))\n",
    "    df_lim.reset_index(drop = True, inplace = True)\n",
    "    pids = [int(df_lim['pid'][i]) for i in df_lim.index]\n",
    "    posts = [df_lim['post'][i] for i in df_lim.index] \n",
    "    posts_lem = [lem(post, porter) for post in posts]\n",
    "    vectorizer = TfidfVectorizer(stop_words = 'english', max_df = max_df, min_df = min_df, max_features = 10000)\n",
    "    vect = vectorizer.fit_transform(posts_lem).astype('float32')\n",
    "    return pids, posts, vect, vectorizer\n",
    "    "
   ]
  },
  {
   "cell_type": "code",
   "execution_count": 9,
   "metadata": {
    "collapsed": true
   },
   "outputs": [],
   "source": [
    "#create cosine similarity matrix\n",
    "def cos_sim(vect):\n",
    "    return 1 - pairwise_distances(vect, vect, \"cosine\", n_jobs = 8)"
   ]
  },
  {
   "cell_type": "code",
   "execution_count": 10,
   "metadata": {
    "collapsed": true
   },
   "outputs": [],
   "source": [
    "#create top words for tfavg\n",
    "def tw_tfavg(vectorizer, vect, n):\n",
    "    labels = vectorizer.get_feature_names()\n",
    "    tfavg = np.sum(vect, axis = 0) / np.sum(vect > 0, axis = 0)\n",
    "    tfavg = np.squeeze(np.asarray(tfavg))\n",
    "    top_words = np.argsort(tfavg)[-1:-1-n:-1]\n",
    "    return [labels[int(i)] for i in top_words]\n",
    "    \n",
    "    \n",
    "    "
   ]
  },
  {
   "cell_type": "code",
   "execution_count": 11,
   "metadata": {
    "collapsed": true
   },
   "outputs": [],
   "source": [
    "def tw_tftot(vectorizer, vect, n):\n",
    "    labels = vectorizer.get_feature_names()\n",
    "    tfsum = vect.sum(axis = 0)\n",
    "    tfsum = np.squeeze(np.asarray(tfsum))\n",
    "    top_words = np.argsort(tfsum)[-1:-1-n:-1]\n",
    "    return [labels[int(i)] for i in top_words]"
   ]
  },
  {
   "cell_type": "code",
   "execution_count": 12,
   "metadata": {
    "collapsed": true
   },
   "outputs": [],
   "source": [
    "#find the top similiar posts for a given post\n",
    "def top_posts(sim, pid, n, pids, posts):\n",
    "    ri = pids.index(pid)\n",
    "    top_n = list(range(-1,-n-1,-1))\n",
    "    doc = sim[ri, :]\n",
    "    doc_sort = np.argsort(doc)\n",
    "    doc_sort = doc_sort[0:-1]\n",
    "    user = pids[ri]\n",
    "    sim_users = doc_sort[top_n]\n",
    "    return (user, posts[ri]), [(pids[sim], posts[sim]) for sim in sim_users]"
   ]
  },
  {
   "cell_type": "code",
   "execution_count": 13,
   "metadata": {
    "collapsed": true
   },
   "outputs": [],
   "source": [
    "# create minimum features function for users\n",
    "\n",
    "def min_features(pid, pids, vect, posts):\n",
    "    p_ind = pids.index(pid)\n",
    "    len_p0 = len(posts[p_ind].split())\n",
    "    min_feats = len_p0 * (.3/((len_p0/10)**(1/3)))\n",
    "    sim = linear_kernel(vect[p_ind], vect)\n",
    "    sim_sort = np.argsort(sim)[:, 0:-1]\n",
    "    n = 0\n",
    "    most_sim = []\n",
    "    p0 = posts[p_ind]\n",
    "    while len(most_sim) < 3:\n",
    "        n -= 1\n",
    "        pcomp = posts[int(sim_sort[:,n])]\n",
    "        if len(set(p0.split()) & set(pcomp.split())) < min_feats:\n",
    "            continue\n",
    "        else:\n",
    "            most_sim.append(pcomp)\n",
    "    return (p0, [p + \"\\n\" for p in most_sim])\n",
    "            \n",
    "            \n",
    "    \n",
    "    \n",
    "    \n",
    "    "
   ]
  },
  {
   "cell_type": "code",
   "execution_count": 14,
   "metadata": {
    "collapsed": true
   },
   "outputs": [],
   "source": [
    "def query_min_feats(vect, vectorizer, query, pids, posts):\n",
    "    len_q = len(query.split())\n",
    "    min_feats = len_q * (.3/np.sqrt(len_q/10))\n",
    "    q_vect = vectorizer.transform([query]) #must use transform\n",
    "    sim = linear_kernel(q_vect, vect)\n",
    "    sim_sort = np.argsort(sim)[:, 0:-1]\n",
    "    n = 0\n",
    "    most_sim = []\n",
    "    while len(most_sim) < 3:\n",
    "        n -= 1\n",
    "        ind = int(sim_sort[:,n])\n",
    "        pcomp = posts[ind]\n",
    "        if len(set(query.split()) & set(pcomp.split())) < min_feats:\n",
    "            continue\n",
    "        else:\n",
    "            most_sim.append((ind,pcomp))\n",
    "    return [str(pids[p[0]]) + \":\" + p[1] + \"-\"*10 for p in most_sim]\n",
    "    "
   ]
  },
  {
   "cell_type": "code",
   "execution_count": 15,
   "metadata": {
    "collapsed": true
   },
   "outputs": [],
   "source": [
    "def print_posts(func, my_pids, pids):\n",
    "    for pid in my_pids:\n",
    "        print(func(sim, pid, 3, pids, posts))\n",
    "        print(\"-\"*30)"
   ]
  },
  {
   "cell_type": "code",
   "execution_count": 16,
   "metadata": {
    "collapsed": true
   },
   "outputs": [],
   "source": [
    "def tf_query(vect, vectorizer, query, pids, posts):\n",
    "    query_vect = vectorizer.transform([query]) #must use transform\n",
    "    cos_sim = linear_kernel(vect, query_vect)\n",
    "    top_sims = np.argsort(cos_sim, axis = None)[-1:-4:-1]\n",
    "    return [str(pids[sim]) + \": \" + posts[sim] + \"-----\" for sim in top_sims]\n",
    "    \n",
    "    "
   ]
  },
  {
   "cell_type": "code",
   "execution_count": 17,
   "metadata": {
    "collapsed": true
   },
   "outputs": [],
   "source": [
    "def print_query(queries, query_func, vect, vectorizer, pids, posts):\n",
    "    for query in queries:\n",
    "        print(\"query: \", query)\n",
    "        print()\n",
    "        print(query_func(vect, vectorizer, query, pids, posts))\n",
    "        print(\"-\"*30)\n",
    "    "
   ]
  },
  {
   "cell_type": "code",
   "execution_count": 21,
   "metadata": {
    "collapsed": true
   },
   "outputs": [],
   "source": [
    "pids = [0,1,2,3]"
   ]
  },
  {
   "cell_type": "code",
   "execution_count": 11,
   "metadata": {
    "collapsed": true
   },
   "outputs": [],
   "source": [
    "vzer = TfidfVectorizer(stop_words = 'english')\n",
    "vect = vzer.fit_transform(docs).toarray()"
   ]
  },
  {
   "cell_type": "code",
   "execution_count": 10,
   "metadata": {
    "collapsed": true
   },
   "outputs": [],
   "source": [
    "vectf = vect.flatten()"
   ]
  },
  {
   "cell_type": "code",
   "execution_count": 11,
   "metadata": {},
   "outputs": [
    {
     "data": {
      "text/plain": [
       "array([[ 1.        ,  0.14368252,  0.33945477,  0.37190174],\n",
       "       [ 0.14368252,  1.        ,  0.02370998,  0.        ],\n",
       "       [ 0.33945477,  0.02370998,  1.        ,  0.36473421],\n",
       "       [ 0.37190174,  0.        ,  0.36473421,  1.        ]])"
      ]
     },
     "execution_count": 11,
     "metadata": {},
     "output_type": "execute_result"
    }
   ],
   "source": [
    "sim = 1 - pairwise_distances(vect, vect, 'cosine')\n",
    "sim"
   ]
  },
  {
   "cell_type": "markdown",
   "metadata": {},
   "source": [
    "**10 word min**"
   ]
  },
  {
   "cell_type": "code",
   "execution_count": null,
   "metadata": {
    "collapsed": true
   },
   "outputs": [],
   "source": []
  },
  {
   "cell_type": "code",
   "execution_count": 28,
   "metadata": {},
   "outputs": [
    {
     "name": "stdout",
     "output_type": "stream",
     "text": [
      "% lost:  0.10105206028472426\n"
     ]
    }
   ],
   "source": [
    "#1\n",
    "pids, posts, vect, vectorizer = tfidf(df, 10)"
   ]
  },
  {
   "cell_type": "code",
   "execution_count": 26,
   "metadata": {
    "collapsed": true
   },
   "outputs": [],
   "source": [
    "#2\n",
    "sim = cos_sim(vect)"
   ]
  },
  {
   "cell_type": "code",
   "execution_count": 149,
   "metadata": {},
   "outputs": [
    {
     "name": "stdout",
     "output_type": "stream",
     "text": [
      "((536367, 'i am trying to figure out who i am i have no idea im confused i have a job interview tomorrow and im already freaked out because i know i will be staring at the man and probably make him feel uncomfortable i act like a zombie sometimesnot good at small talk and shit like that excuse my language lol'), [(986935, 'excuse my language but it sounds like you need a sh kicker to get these people to do their job properlythecorrectanswerwasgrannybadcookiesbestdemotivationalpostersjpg'), (175780, 'if they make you feel like a zombie maybe there is a better med out there for you'), (1433013, 'how about you go to the interview with the intention of treating it as interview experience if you are offered the job you could decline the offer and say something like thankyou for the interview but i dont feel that the job is right for me you dont need to elaborate any more than that  as you are feeling so anxious and ill thats probably an indication that youre not quite ready to return to work yet but you should applaud yourself for trying because it takes courage to apply for jobs when youve experienced bad anxiety at work  when youre feeling better youll feel excited at the prospect of a possible job you wont live in fear of it  i had an interview monday and like you i didnt feel ready to take the job i felt sick and terribly anxious the night before the interview consequently i didnt do too well at the interview and i didnt get the job strangely enough i felt very down about it but i think thats more to do with my depression than not getting the job such are the trials of mi  best wishes xx')])\n",
      "--------------------\n",
      "((575957, 'just come back from the shop sick sick sick of feeling so ill i feel others in the shop think im really weird but what can i do i know i wouldnt be there if i didnt have the problems i have so what can anyone expect me to do im trying my best its so hard for others to understand the level of anxiety i have thats not a criticism at all just i had to go on the shop floor even though i wasnt comfortable and just felt i was dying with panic the other lady there was very nice but its pretty hard to understand my desperation had to keep escaping too many people around too close and i didnt want to be asked anything everything around me feels like a dream i just feel wrong so wrong bus back was manic attention was drawn to me for a second when the driver didnt stop long enough for me to get off i went back to my seat and didnt say anything it wasnt my fault he didnt stop obviously but im convinced i did something really really odd when people looked just horrible alone now feeling so fearful and stuck i know this all sounds petty but when i feel as ill as this everything that happens feels so intense i really dont think im well enough for that meal tomorrow now listening to euros childs ends that i received in the post and will make a cup of tea and a meal if i can get myself to move'), [(1586008, 'hi   i have been diagnosed with social and generalised anxiety for years and had numerous therapies and treatments for it but no therapy has seemed to ever work i believe this is due to being undiagnosed with borderline personality disorder im waiting for an assessment which im more than 100 sure i have however ever since taking sertraline for the past 34 months i am happy to say that i am really starting to feel the positive effects socially   i am posting in this forum as i think the problem i am facing is more to do with sa and not bpd for years i have felt very odd at random times around family especially christmas im not extremely close to my family but we do get on i just sometimes feel a feeling i find very very difficult explain its almost as if i feel sick and feel like i dont belong at all it feels quite like im out of my own body more recently i have started to get it with friends because of the sertraline i have started taking part in things i never would before i have seen my friends and done things soberly through the day much more than i ever have but when im sober around my friends i just feel really weird its not awkward its just like i feel sick and shouldnt be around them and dont belong there i dont know if its maybe because im so used to not doing things with them that when i do i maybe just cant remember how it feels its weird because the people i am most close withi do not feel it at all like i feel like i belong with my boyfriend and i could be with him all the time but as soon as we have a family meal i just feel weird and sickly and perhaps quite child like like i almost feel like i shouldnt have a boyfriend around my family and when im with my friends i feel like i shouldnt be there with them because its not like me   ive never ever described this feeling to a doctor before because i simply cant explain it but it really is a horrible feeling and i cant shake it off at all it ends up really ruining my time and i just want to go home and be alone even if im having a nice time there also doesnt seem to be anything relevant on google to it so im worried that it is only me that feels this   is there anyone that can relate to this at all i really really would appreciate any help or coping strategies    thank you'), (1089830, 'thanks for all the support and thanks for understanding it feels so good to get this out and have someone actually listen  im staying with someone right now i just dont know how long and i really dont wanna go back home its no good there and i feel like im better off without a home at this point its fine though i always figure out somewhere to go  i was hospitalized a few years ag  and thats when they diagnosed me with bpd  but not they never gave me any special therapy they put me on medications which never seemed to help it either made me sick i have a really weak stomach and i stay nausea a lot or it made it worse or it just didnt do anything at all i eventually stopped and refused to take anymore medications because it seemed no one listened  i feel like no one has ever taken me seriously and everything i do is just a cry for attention when really im really hurting and i cant stop hurting myself maybe it was my fault because i never told anyone what happened to me to when it happened i was scared and kept it bottled up for years until i didnt see a point anymore they got away with it and its my fault they did i dont think i can forgive myself for that   i dont know how to feel good and when i do feel happy it never last long and i always feel guilty and i dont deserve it smoking is the only way i can feel good and i know its not doing me any good really but i cant stop going a day without is the worst i find myself looking for crumbs and going out trying to find a way to get it and its bad i feel like ive made to many mistakes and theres no going back  im just really scared and lost right now and its nice to have someone to listen i feel like im alone and i dont think i can get through this alone thanks everyone for listening'), (1311900, 'im sorry youre going through this it makes it even harder to not be able to explain how horrible having anxiety for those who didnt experience it its worse when people underestimates it im sorry that i dont have any good advise i have the same problem im at that point where i just keep everything to myself because even when i tried to get anyone to understand no one did telling folks who didnt understand made me feel worse unadaptive to this world so many times felt like i really dont care if i just die didnt get to the point of taking my own life but certainly wont mind if something happen and i just died even felt like a relief the idea of just be done with everything i tried talking to my family and friends and no one seemed to get it everyone thinks that i just need to be strong get over it or im just over sensitive and dramatic it suffocates me what suffocates me more is that i feel like am completely alone and no matter what i say no one in my life  would ever understand i tried telling my girlfriend i bet she just thinks am exaggerating and being over sensitive since she didnt really give it much of attention or asked me about any of what i told her i guess she doesnt even wanna listen she simply doesnt believe it  im so sorry for what youre going through i know how hard this can be')])\n",
      "--------------------\n",
      "((1588361, 'hey guys my name is marky im 20 years old and i think i need some advice its gonna be a long one so sorry about that   im gonna start from the beginning in october 2016 i was accused of a heinous crime of which i wont mention i was nfad about 2 weeks ago and was proven innocent since october 2016 ive slowly been becoming less and less social although i wasnt exactly confident growing up i was in foster care from 8 years old until i was 16 ran away early i have always been a shy lad but in the past year its gotten to the point where i dont leave the house anymore i probably go out once every few weeks i have been to my gp and am now taking 50mg sertraline for social anxiety i also smoke cannabis and have been since around december 2016 i know i need to kick this habit and i have tried infact at the time of writing i havent smoked anything so i guess its a start my family has a history of mental issues my sister has anxiety herself and my mother has severe depression and anxiety she leaves the house less than me and i hate it because i want her to enjoy life i think one of the reasons i cant motivate myself to go outside and actually do things is because my mum cant and i feel bad leaving her back here and me going out enjoying myself i am regularly invited to go out by my cousin and my best mate but 90 of the time i make excuses and i hate myself for it i used to go out with my step dad who i love as much as my mum every saturday and sunday and almost every other day of the week just doing odd things helping him with shopping etc but now i dont go with him anymore i think i went out around 3 weeks ago for 1 day said i was going to change myself and here i am again back at the beginning ive researched into how to motivate myself and how to get off my ass and actually do something but nothing works i hate the way my life is going and i just dont know how to fix it people have said to me in the past things like force yourself to go out and youll enjoy it but i dont i hate being around people especially people i dont know its the same reason i dont have a job i severely want one to fund myself and my family as were not exactly on the rich end of the spectrumin 2016 i did have an opportunity to do volunteer work had my step dad drive me there and i couldnt get out the car i was terrified of a volunteer job    i just dont know what to do ive been on the sertraline for probably 23 months and although ive felt a slight increase in my mood i still havent the motivation to do anything'), [(1059053, 'i hate web development i will probably make a comeback in late 2016'), (361046, 'im new to this and i guess im hoping someone can help me out please  for years ive been suffering from very low selfesteem and i feel generally awkward in the company of people i dont know  some days even leaving my house can be a huge challenge and when i do i cant wait to get back home  the last few months something has changed though  things have got worse very quickly  and im feeling completely and utterly unable to lead a normal life anymore  i hate being around people i cant go into the supermarket as i feel people are staring at me i cant speak to colleagues and sometimes even speaking to my mum is something id rather not do anymore  my job involves speaking to and meeting new people and im about to pack it in as i just cant do it anymore  i absolutely dread social events like parties or going to the pub etc and meeting and speaking to new people on a social level is just impossible these days  my husband plays in a band and going to watch him just fills me with dread as i know there will be lots of people there and ill be on my own  its hard to explain the way i feel  i wake up every morning thinking and hoping ill feel better and that all these silly feelings will disappear but they dont  in the past ive felt like this for a few days then it goes but this time ive been feeling like this for about a week now  my husband is very supportive but bless him i really dont think he knows what to do  i dont know what to do either as i dont understand whats happening to me  i remember being around 6 or 7 years old and being branded as shy and growing up always left me feeling awkward and quiet  i really have no real friends as everyone ive made friends with in the past have just let me down or drifted away  people who i considered as friends have turned out really not to be who i thought they were so i tend to treat people with caution now and find it impossible to trust people and make friends  i spend all my weekends alone husband works and thats actually the way i like it  even when my husband is at home i tend to spend all my time in the bedroom alone reading or on the computer  ive reached a stage now that i really dont know what to do  i have zero social life other than when i go out with my husband its only him and i and i feel fine with that and all i do is work then come home and shut myself away from the world  i hate speaking to people  i hate being in public  i feel so nervous around people i dont know  i dont trust people easily  i feel like im going crazy  i havent enjoyed life for a while as i worry myself sick about everything  i sleep for only around three hours or so per night  i dont know why im like this as ive been told im a really caring person and id do anything for anyone  i guess i just want to be normal  i was recently made redundant from a job id done for years and with people who id known for years  im self employed now and finding things so hard  i miss the company from the job i used to do and the people i knew there  my husband is lovely and i look at him and wish i was as confident as him  he has lots of friends  hes introduced me to them on nights out but i just end up feeling awkward and stupid and boring   i feel like ive got nothing interesting to say and people think im ridiculous  im sorry about this post as i feel like i sound really sorry for myself  ive typed how i feel to see if anyone can determine what the hell is wrong with me  i just want to get on with my life  i want to be able to walk out the door of my house without wanting to run back in the minute i see someone else in the street  i want to feel as though im not going crazy  the only time i feel like a normal human being is when ive had a few glasses of wine  i know this isnt a good thing as i cant spend the rest of my life being drunk just to fit in  thanks for reading this'), (1064658, 'hi just joined today   im a 20 year old female and ive had severe social anxiety for as long as i can remember its so bad its gotten to the point where i cant even answer my phone because i dont want to talk to anyone i dont like going to family gatherings i dont like being around people at all ive never been able to get a job i left school after year 11 and that was 4 years ago ive been struggling to find a job ever since but no one will give me the time of day and i know its because they can see i have low confidence and low self esteem and they dont want that around their customers i know getting a job would be good for me and give me routine in my life because all ive been doing for the past 4 years is sleeping 15 hours a day sometimes more  my family dont understand at all so i dont even bother trying to tell them how i feel   its my 21st birthday in less than a month and it hurts me that i wont even be having a party or celebrating it i cant have a party because i have no friends and hardly any family ive never had a boyfriend because well lets face it what guy wants a depressed sad girl   i have no motivation to do anything anymore sometimes i think suicide is the best option for me i have nothing to look forward to when i wake up so whats the point its just the same bullshit everyday im over it')])\n",
      "--------------------\n"
     ]
    }
   ],
   "source": [
    "#3\n",
    "print_posts(top_posts, my_pids, pids)"
   ]
  },
  {
   "cell_type": "code",
   "execution_count": 164,
   "metadata": {},
   "outputs": [
    {
     "name": "stdout",
     "output_type": "stream",
     "text": [
      "['hi abc123 sorry you feel lonely since finding this forum ive felt a lot less lonely you can make lots of friends here who will understand what you are going through feel free to pm me any time if you would like-----', 'hi there i suffer with social anxiety disorder and have no real life friends other then my partner so i know how you feel i would also like to make friends on here but do not really know how i hope you manage to make some friends-----', 'sorry youre going through so much atmi know how you must feelive had times like that myself you dont have to feel lonely here is there anywhere else you could goa friends house perhaps is there anything that would make you feel a little better about things-----']\n",
      "------------------------------\n",
      "['i duno about otc stuff but i find when my mind races something that helps is to slow the voice in my head down and you take control of the thoughts-----', 'now here is another important question which is that why didnt my mind just shut down the fear alone by itself  since the fear alone by itself is the problem then why did it shut down the ability to experience pleasure along with it-----', 'yeah my mum thats about it but she said these thoughts are just thoughts and nothing else why am i going to turn into one or become one-----']\n",
      "------------------------------\n",
      "['i get nervous in crowds and sometimes get very anxious around a lot of people how do i know if this is social anxiety-----', 'hi    i have found myself getting really nervous and uncomfortable round people as far as i can remember it started about 2 years ago i have always been a little nervous when meeting new people but now im getting really uncomfortable and nervous around close friends and even family to the point im making them nervous and uncomfortable and i know they notice but neither of us mention it this is random and can happen at anytime about any subject of conversation would really be great full of any advice or anybody know what could of caused it but the more i think about it the more it happens my father passed away nearly 3 years ago now and it affected me bad but i feel that now i have accepted he has gone and im getting on with my life maybe im still affected by it and could this be causing my nervous-----', 'i believe you about having the ears to breathe i found this out by mistake when i put my ear plugs in at night so that i could sleep i found it hard to breathe  i took them out then i could breathe again-----']\n",
      "------------------------------\n"
     ]
    }
   ],
   "source": [
    "#4\n",
    "print_query(queries, tf_query, vect, vectorizer, posts)"
   ]
  },
  {
   "cell_type": "markdown",
   "metadata": {},
   "source": [
    "Trying min features"
   ]
  },
  {
   "cell_type": "code",
   "execution_count": 75,
   "metadata": {},
   "outputs": [
    {
     "data": {
      "text/plain": [
       "('hey guys my name is marky im 20 years old and i think i need some advice its gonna be a long one so sorry about that   im gonna start from the beginning in october 2016 i was accused of a heinous crime of which i wont mention i was nfad about 2 weeks ago and was proven innocent since october 2016 ive slowly been becoming less and less social although i wasnt exactly confident growing up i was in foster care from 8 years old until i was 16 ran away early i have always been a shy lad but in the past year its gotten to the point where i dont leave the house anymore i probably go out once every few weeks i have been to my gp and am now taking 50mg sertraline for social anxiety i also smoke cannabis and have been since around december 2016 i know i need to kick this habit and i have tried infact at the time of writing i havent smoked anything so i guess its a start my family has a history of mental issues my sister has anxiety herself and my mother has severe depression and anxiety she leaves the house less than me and i hate it because i want her to enjoy life i think one of the reasons i cant motivate myself to go outside and actually do things is because my mum cant and i feel bad leaving her back here and me going out enjoying myself i am regularly invited to go out by my cousin and my best mate but 90 of the time i make excuses and i hate myself for it i used to go out with my step dad who i love as much as my mum every saturday and sunday and almost every other day of the week just doing odd things helping him with shopping etc but now i dont go with him anymore i think i went out around 3 weeks ago for 1 day said i was going to change myself and here i am again back at the beginning ive researched into how to motivate myself and how to get off my ass and actually do something but nothing works i hate the way my life is going and i just dont know how to fix it people have said to me in the past things like force yourself to go out and youll enjoy it but i dont i hate being around people especially people i dont know its the same reason i dont have a job i severely want one to fund myself and my family as were not exactly on the rich end of the spectrumin 2016 i did have an opportunity to do volunteer work had my step dad drive me there and i couldnt get out the car i was terrified of a volunteer job    i just dont know what to do ive been on the sertraline for probably 23 months and although ive felt a slight increase in my mood i still havent the motivation to do anything',\n",
       " ['im new to this and i guess im hoping someone can help me out please  for years ive been suffering from very low selfesteem and i feel generally awkward in the company of people i dont know  some days even leaving my house can be a huge challenge and when i do i cant wait to get back home  the last few months something has changed though  things have got worse very quickly  and im feeling completely and utterly unable to lead a normal life anymore  i hate being around people i cant go into the supermarket as i feel people are staring at me i cant speak to colleagues and sometimes even speaking to my mum is something id rather not do anymore  my job involves speaking to and meeting new people and im about to pack it in as i just cant do it anymore  i absolutely dread social events like parties or going to the pub etc and meeting and speaking to new people on a social level is just impossible these days  my husband plays in a band and going to watch him just fills me with dread as i know there will be lots of people there and ill be on my own  its hard to explain the way i feel  i wake up every morning thinking and hoping ill feel better and that all these silly feelings will disappear but they dont  in the past ive felt like this for a few days then it goes but this time ive been feeling like this for about a week now  my husband is very supportive but bless him i really dont think he knows what to do  i dont know what to do either as i dont understand whats happening to me  i remember being around 6 or 7 years old and being branded as shy and growing up always left me feeling awkward and quiet  i really have no real friends as everyone ive made friends with in the past have just let me down or drifted away  people who i considered as friends have turned out really not to be who i thought they were so i tend to treat people with caution now and find it impossible to trust people and make friends  i spend all my weekends alone husband works and thats actually the way i like it  even when my husband is at home i tend to spend all my time in the bedroom alone reading or on the computer  ive reached a stage now that i really dont know what to do  i have zero social life other than when i go out with my husband its only him and i and i feel fine with that and all i do is work then come home and shut myself away from the world  i hate speaking to people  i hate being in public  i feel so nervous around people i dont know  i dont trust people easily  i feel like im going crazy  i havent enjoyed life for a while as i worry myself sick about everything  i sleep for only around three hours or so per night  i dont know why im like this as ive been told im a really caring person and id do anything for anyone  i guess i just want to be normal  i was recently made redundant from a job id done for years and with people who id known for years  im self employed now and finding things so hard  i miss the company from the job i used to do and the people i knew there  my husband is lovely and i look at him and wish i was as confident as him  he has lots of friends  hes introduced me to them on nights out but i just end up feeling awkward and stupid and boring   i feel like ive got nothing interesting to say and people think im ridiculous  im sorry about this post as i feel like i sound really sorry for myself  ive typed how i feel to see if anyone can determine what the hell is wrong with me  i just want to get on with my life  i want to be able to walk out the door of my house without wanting to run back in the minute i see someone else in the street  i want to feel as though im not going crazy  the only time i feel like a normal human being is when ive had a few glasses of wine  i know this isnt a good thing as i cant spend the rest of my life being drunk just to fit in  thanks for reading this\\n',\n",
       "  'hi just joined today   im a 20 year old female and ive had severe social anxiety for as long as i can remember its so bad its gotten to the point where i cant even answer my phone because i dont want to talk to anyone i dont like going to family gatherings i dont like being around people at all ive never been able to get a job i left school after year 11 and that was 4 years ago ive been struggling to find a job ever since but no one will give me the time of day and i know its because they can see i have low confidence and low self esteem and they dont want that around their customers i know getting a job would be good for me and give me routine in my life because all ive been doing for the past 4 years is sleeping 15 hours a day sometimes more  my family dont understand at all so i dont even bother trying to tell them how i feel   its my 21st birthday in less than a month and it hurts me that i wont even be having a party or celebrating it i cant have a party because i have no friends and hardly any family ive never had a boyfriend because well lets face it what guy wants a depressed sad girl   i have no motivation to do anything anymore sometimes i think suicide is the best option for me i have nothing to look forward to when i wake up so whats the point its just the same bullshit everyday im over it\\n',\n",
       "  'im pretty unhappy so im going to write down some stuff that just keeps swirling around in my head so itll probably end up being quite a long post as ive never really ever put anything down on paper sorry to anyone who ends up taking the time to read it but thank you aswell   just a little about me first of all im 18 12 years of age just a tad over 6 foot 4 just under 65 my weight has gone up and down roughly from 250lbs to about 260lbs since i was about 16 12 years old so its relatively constant ie i dont put on huge amounts of weight or lose it   i am overweight but i dont look like someone who is obese or extremely overweight whether this is due to my height and size carrying the weight a bit better im not too sure i am a big guy theres no denying it but its something im extremely self conscious about and tend to shy away from going outside to avoid being noticed wishing i didnt have such a presence and size as a result i tend to look nervous and have a bad posture in the company of other people just wanting the ground to swallow me up i think i have got an anxiety problem as i tend to feel really uncomfortable about going outside but ive never really had a panic attack    i was never a shy person and growing up from about the age of 13 to 1516 i never had any problems making friends talking to people and generally just enjoying my life and not worrying about insecurities in myself and facing judgement from others such as being overweight or anything like this yes i also know that being overweight isnt good but its the fact im not happy with who i am that i need to fix first of all before i can change such things as being overweight   aged 16 having left secondaryhigh school my life has really taken a turn for the worst and for the last 2 or so years since i left ive been constantly depressed hating everything about myself and my appearance and just feeling downright lonely and as though im not good enough to be in anyones life as their friend or even in a relationship    ive spent a lot of time just dwelling on what are seemingly small things such as imperfections in my outside appearance and even thinking that as a result im going to end up being some loner for the rest of my lifethis is something that genuinely scares me and i dont want to happen but with the way i feel now looks so far awaywhen i bare in mind that there are people in much worse situations than myself i tend to say pull yourself together and i do for the rest of the day then i slip back into self loathing and wishing i could just hide away the next day    as a result of how i feel ive spent alot of time at home not socialising very often and doing things with people apart from speaking on msn messenger and emails and in general just sitting around doing nothing but going on the internet    i have spent periods of the last 2 years doing various things ie a couple of full times jobs and also at college but every time ive started fine within weeks or months i just got to the point where i could not physically do it because i felt so low and not wanting to face doing such things anymore ive not felt suicidal but just havent wanted to leave my house or be in contact with anyone but my family    more recently in fact from about september 2009 ive been signed up to a 2 year college course and all was fine up until about february 2010 when i just couldnt carry on any longer i went to see my doctorgp about it and was advised that i needed to have a break out from college due to depression and i was put on one 20mg tablet of fluoxetine a day not too sure if thats the correct spelling i spoke with my tutor and he was fine with me taking a break and returning within 4 weeks i never did but my tutor was happy enough for me to complete work from home and email him the work i needed to do to complete the course    fortunately i havent had a problem getting this work done so the 1st year of my college course has been completed but this is where my dilemma really starts to get difficult as my tutor wants to know if i feel as though i can do the 2nd year at the college now i personally want too as i like the people in my class i find it interesting etc etc but i really dont know how i will react when the time comes to go back into class if i will be able to cope i have told him id like to go back but i am genuinely worried about the next year in my life   im mainly worried as my mum is permanently ill type 1 diabetic and suffers from me and my dad is her full time carer so money is not terribly easy to come by and things are tight my mum gets financial support for me being at college but due to me having a bad time in the last 2 years she is getting worried that she will lose the financial support she currently gets for me being taken off of my course    so i basically have two choices try and get through my course meanwhile with all the issues ive got still going unresolved in my own head making things worse but if i end up not being able to cope i really need to get a job as we cannot afford for me to be at home aswell with no income being generated   i just wish i could solve all of my problems and stop thinking and feeling the way i do as while they dont seem to be huge problems all added together they are literally ruining my life and stopping me from enjoying it    my family are supportive and they are also fully aware about how i feel and do help me as is my doctor and tutor but whilst i have felt better since ive been off sick from college with depression i cant see an end coming to where i will one day just be able to get up and be able to get on with my life in a way i can feel relatively comfortable with myself enough to enjoy and cope with it    my weight is also something that ive become almost obsessed with to the point where i feel desperate and helpless and have even seen myself googling answers for quick weight loss plans i dont eat bad or too much i just literally do not do anything i want to get up and do exercise but i genuinely dont want to leave the house with the way i feel so i end up getting depressed once again   i do realise it requires a lifestyle change to keep weight off but its just got me to the point where im so unhappy and down that i cant see any way i can change it wanting quick fixes is just literally ruining me as i dont ever really feel as though i can go outside   ive never ever thought of committing suicide as i do still want to do lots of things such as get married have a family get a decent job and see and do lots of things its just not something i can look forward too all the time i have such a severely low self esteem and confidence     im just getting really down once again and angry with myself that i cant seem to change how i feel and think and i dont want to feel sorry for myself or anything like that i just wish it would all go away   sorry if this seems really confusing and not in any particular order or even makes sense as i just typed as much as i could think of as to how im feeling   thanks to anyone who takes the time to read through my pitiful attempt at feeling sorry for myself\\n'])"
      ]
     },
     "execution_count": 75,
     "metadata": {},
     "output_type": "execute_result"
    }
   ],
   "source": [
    "min_features(my_pids[2], pids, vect, posts)"
   ]
  },
  {
   "cell_type": "code",
   "execution_count": 49,
   "metadata": {
    "collapsed": true
   },
   "outputs": [],
   "source": [
    "len_p0 = len(posts[p_ind].split())\n",
    "p_ind = pids.index(pids[0])\n",
    "min_feats = len_p0 * (.3/np.sqrt(len_p0/10))\n",
    "min_feats\n",
    "sim = linear_kernel(vect[p_ind], vect)\n",
    "sim_sort = np.argsort(sim)[:, 0:-1]"
   ]
  },
  {
   "cell_type": "code",
   "execution_count": 66,
   "metadata": {
    "collapsed": true
   },
   "outputs": [],
   "source": [
    "pcomp = posts[int(sim_sort[:,-1])]"
   ]
  },
  {
   "cell_type": "code",
   "execution_count": 69,
   "metadata": {},
   "outputs": [
    {
     "data": {
      "text/plain": [
       "{'a',\n",
       " 'and',\n",
       " 'bit',\n",
       " 'bottom',\n",
       " 'does',\n",
       " 'get',\n",
       " 'help',\n",
       " 'hope',\n",
       " 'i',\n",
       " 'it',\n",
       " 'of',\n",
       " 'out',\n",
       " 'scary',\n",
       " 'sort',\n",
       " 'sound',\n",
       " 'the',\n",
       " 'they',\n",
       " 'to',\n",
       " 'you'}"
      ]
     },
     "execution_count": 69,
     "metadata": {},
     "output_type": "execute_result"
    }
   ],
   "source": []
  },
  {
   "cell_type": "markdown",
   "metadata": {},
   "source": [
    "**20 word min**"
   ]
  },
  {
   "cell_type": "code",
   "execution_count": 165,
   "metadata": {},
   "outputs": [
    {
     "name": "stdout",
     "output_type": "stream",
     "text": [
      "% lost:  0.1999749509456018\n"
     ]
    }
   ],
   "source": [
    "#1\n",
    "pids, posts, vect, vectorizer = tfidf(df, 20)"
   ]
  },
  {
   "cell_type": "code",
   "execution_count": 166,
   "metadata": {
    "collapsed": true
   },
   "outputs": [],
   "source": [
    "#2\n",
    "sim = cos_sim(vect)"
   ]
  },
  {
   "cell_type": "code",
   "execution_count": 167,
   "metadata": {},
   "outputs": [
    {
     "name": "stdout",
     "output_type": "stream",
     "text": [
      "((536367, 'i am trying to figure out who i am i have no idea im confused i have a job interview tomorrow and im already freaked out because i know i will be staring at the man and probably make him feel uncomfortable i act like a zombie sometimesnot good at small talk and shit like that excuse my language lol'), [(986935, 'excuse my language but it sounds like you need a sh kicker to get these people to do their job properlythecorrectanswerwasgrannybadcookiesbestdemotivationalpostersjpg'), (1433013, 'how about you go to the interview with the intention of treating it as interview experience if you are offered the job you could decline the offer and say something like thankyou for the interview but i dont feel that the job is right for me you dont need to elaborate any more than that  as you are feeling so anxious and ill thats probably an indication that youre not quite ready to return to work yet but you should applaud yourself for trying because it takes courage to apply for jobs when youve experienced bad anxiety at work  when youre feeling better youll feel excited at the prospect of a possible job you wont live in fear of it  i had an interview monday and like you i didnt feel ready to take the job i felt sick and terribly anxious the night before the interview consequently i didnt do too well at the interview and i didnt get the job strangely enough i felt very down about it but i think thats more to do with my depression than not getting the job such are the trials of mi  best wishes xx'), (1558500, 'my friends mother works at my local library and put in a good word for me there when i sent in my application a few days ago they called me back immediately the day after i sent it in and the lady i talked with asked me a basic question such as why do you want to work here and i being caught totally offguard and not expecting to be asked an interview question this suddenly somehow managed to pull some kind of decent answer out of thin air that was good enough for her she then told me basic facts about the job and asked to arrange an interview and i took friday as opposed to thursday because i thought id feel better having some extra time to prepare myself   well now the time is almost here my interview is scheduled for tomorrow morning technically today at 11 and its almost 1 am where i live i cant sleep i already feel sick and shaky and ive been researching how to survive an interview like crazy ive never had a job interview or a job for that matter before but i really like the idea of working here because as a page i wont be dealing with people that much and ill be mostly doing my own thing however i was informed that during my interview they will test me on the dewy decimal system and make me arrange a cart of books in alphabeticalnumbered order and that they will try to trick me to make sure im really paying attention i think this is the part im most nervous about because i just got a crash course in  this earlier yesterday with the before mentioned friend seeing as like most people who have never worked in a library i didnt know the dds at all and i know a little more now but im still not sure if ill be able to do well when under so much pressure from anxiety im extremely nervous and im so worried ill majorly screw something up how can i go in and nail this interview im super worked up')])\n",
      "------------------------------\n",
      "((575957, 'just come back from the shop sick sick sick of feeling so ill i feel others in the shop think im really weird but what can i do i know i wouldnt be there if i didnt have the problems i have so what can anyone expect me to do im trying my best its so hard for others to understand the level of anxiety i have thats not a criticism at all just i had to go on the shop floor even though i wasnt comfortable and just felt i was dying with panic the other lady there was very nice but its pretty hard to understand my desperation had to keep escaping too many people around too close and i didnt want to be asked anything everything around me feels like a dream i just feel wrong so wrong bus back was manic attention was drawn to me for a second when the driver didnt stop long enough for me to get off i went back to my seat and didnt say anything it wasnt my fault he didnt stop obviously but im convinced i did something really really odd when people looked just horrible alone now feeling so fearful and stuck i know this all sounds petty but when i feel as ill as this everything that happens feels so intense i really dont think im well enough for that meal tomorrow now listening to euros childs ends that i received in the post and will make a cup of tea and a meal if i can get myself to move'), [(1586008, 'hi   i have been diagnosed with social and generalised anxiety for years and had numerous therapies and treatments for it but no therapy has seemed to ever work i believe this is due to being undiagnosed with borderline personality disorder im waiting for an assessment which im more than 100 sure i have however ever since taking sertraline for the past 34 months i am happy to say that i am really starting to feel the positive effects socially   i am posting in this forum as i think the problem i am facing is more to do with sa and not bpd for years i have felt very odd at random times around family especially christmas im not extremely close to my family but we do get on i just sometimes feel a feeling i find very very difficult explain its almost as if i feel sick and feel like i dont belong at all it feels quite like im out of my own body more recently i have started to get it with friends because of the sertraline i have started taking part in things i never would before i have seen my friends and done things soberly through the day much more than i ever have but when im sober around my friends i just feel really weird its not awkward its just like i feel sick and shouldnt be around them and dont belong there i dont know if its maybe because im so used to not doing things with them that when i do i maybe just cant remember how it feels its weird because the people i am most close withi do not feel it at all like i feel like i belong with my boyfriend and i could be with him all the time but as soon as we have a family meal i just feel weird and sickly and perhaps quite child like like i almost feel like i shouldnt have a boyfriend around my family and when im with my friends i feel like i shouldnt be there with them because its not like me   ive never ever described this feeling to a doctor before because i simply cant explain it but it really is a horrible feeling and i cant shake it off at all it ends up really ruining my time and i just want to go home and be alone even if im having a nice time there also doesnt seem to be anything relevant on google to it so im worried that it is only me that feels this   is there anyone that can relate to this at all i really really would appreciate any help or coping strategies    thank you'), (1089830, 'thanks for all the support and thanks for understanding it feels so good to get this out and have someone actually listen  im staying with someone right now i just dont know how long and i really dont wanna go back home its no good there and i feel like im better off without a home at this point its fine though i always figure out somewhere to go  i was hospitalized a few years ag  and thats when they diagnosed me with bpd  but not they never gave me any special therapy they put me on medications which never seemed to help it either made me sick i have a really weak stomach and i stay nausea a lot or it made it worse or it just didnt do anything at all i eventually stopped and refused to take anymore medications because it seemed no one listened  i feel like no one has ever taken me seriously and everything i do is just a cry for attention when really im really hurting and i cant stop hurting myself maybe it was my fault because i never told anyone what happened to me to when it happened i was scared and kept it bottled up for years until i didnt see a point anymore they got away with it and its my fault they did i dont think i can forgive myself for that   i dont know how to feel good and when i do feel happy it never last long and i always feel guilty and i dont deserve it smoking is the only way i can feel good and i know its not doing me any good really but i cant stop going a day without is the worst i find myself looking for crumbs and going out trying to find a way to get it and its bad i feel like ive made to many mistakes and theres no going back  im just really scared and lost right now and its nice to have someone to listen i feel like im alone and i dont think i can get through this alone thanks everyone for listening'), (1311900, 'im sorry youre going through this it makes it even harder to not be able to explain how horrible having anxiety for those who didnt experience it its worse when people underestimates it im sorry that i dont have any good advise i have the same problem im at that point where i just keep everything to myself because even when i tried to get anyone to understand no one did telling folks who didnt understand made me feel worse unadaptive to this world so many times felt like i really dont care if i just die didnt get to the point of taking my own life but certainly wont mind if something happen and i just died even felt like a relief the idea of just be done with everything i tried talking to my family and friends and no one seemed to get it everyone thinks that i just need to be strong get over it or im just over sensitive and dramatic it suffocates me what suffocates me more is that i feel like am completely alone and no matter what i say no one in my life  would ever understand i tried telling my girlfriend i bet she just thinks am exaggerating and being over sensitive since she didnt really give it much of attention or asked me about any of what i told her i guess she doesnt even wanna listen she simply doesnt believe it  im so sorry for what youre going through i know how hard this can be')])\n",
      "------------------------------\n",
      "((1588361, 'hey guys my name is marky im 20 years old and i think i need some advice its gonna be a long one so sorry about that   im gonna start from the beginning in october 2016 i was accused of a heinous crime of which i wont mention i was nfad about 2 weeks ago and was proven innocent since october 2016 ive slowly been becoming less and less social although i wasnt exactly confident growing up i was in foster care from 8 years old until i was 16 ran away early i have always been a shy lad but in the past year its gotten to the point where i dont leave the house anymore i probably go out once every few weeks i have been to my gp and am now taking 50mg sertraline for social anxiety i also smoke cannabis and have been since around december 2016 i know i need to kick this habit and i have tried infact at the time of writing i havent smoked anything so i guess its a start my family has a history of mental issues my sister has anxiety herself and my mother has severe depression and anxiety she leaves the house less than me and i hate it because i want her to enjoy life i think one of the reasons i cant motivate myself to go outside and actually do things is because my mum cant and i feel bad leaving her back here and me going out enjoying myself i am regularly invited to go out by my cousin and my best mate but 90 of the time i make excuses and i hate myself for it i used to go out with my step dad who i love as much as my mum every saturday and sunday and almost every other day of the week just doing odd things helping him with shopping etc but now i dont go with him anymore i think i went out around 3 weeks ago for 1 day said i was going to change myself and here i am again back at the beginning ive researched into how to motivate myself and how to get off my ass and actually do something but nothing works i hate the way my life is going and i just dont know how to fix it people have said to me in the past things like force yourself to go out and youll enjoy it but i dont i hate being around people especially people i dont know its the same reason i dont have a job i severely want one to fund myself and my family as were not exactly on the rich end of the spectrumin 2016 i did have an opportunity to do volunteer work had my step dad drive me there and i couldnt get out the car i was terrified of a volunteer job    i just dont know what to do ive been on the sertraline for probably 23 months and although ive felt a slight increase in my mood i still havent the motivation to do anything'), [(361046, 'im new to this and i guess im hoping someone can help me out please  for years ive been suffering from very low selfesteem and i feel generally awkward in the company of people i dont know  some days even leaving my house can be a huge challenge and when i do i cant wait to get back home  the last few months something has changed though  things have got worse very quickly  and im feeling completely and utterly unable to lead a normal life anymore  i hate being around people i cant go into the supermarket as i feel people are staring at me i cant speak to colleagues and sometimes even speaking to my mum is something id rather not do anymore  my job involves speaking to and meeting new people and im about to pack it in as i just cant do it anymore  i absolutely dread social events like parties or going to the pub etc and meeting and speaking to new people on a social level is just impossible these days  my husband plays in a band and going to watch him just fills me with dread as i know there will be lots of people there and ill be on my own  its hard to explain the way i feel  i wake up every morning thinking and hoping ill feel better and that all these silly feelings will disappear but they dont  in the past ive felt like this for a few days then it goes but this time ive been feeling like this for about a week now  my husband is very supportive but bless him i really dont think he knows what to do  i dont know what to do either as i dont understand whats happening to me  i remember being around 6 or 7 years old and being branded as shy and growing up always left me feeling awkward and quiet  i really have no real friends as everyone ive made friends with in the past have just let me down or drifted away  people who i considered as friends have turned out really not to be who i thought they were so i tend to treat people with caution now and find it impossible to trust people and make friends  i spend all my weekends alone husband works and thats actually the way i like it  even when my husband is at home i tend to spend all my time in the bedroom alone reading or on the computer  ive reached a stage now that i really dont know what to do  i have zero social life other than when i go out with my husband its only him and i and i feel fine with that and all i do is work then come home and shut myself away from the world  i hate speaking to people  i hate being in public  i feel so nervous around people i dont know  i dont trust people easily  i feel like im going crazy  i havent enjoyed life for a while as i worry myself sick about everything  i sleep for only around three hours or so per night  i dont know why im like this as ive been told im a really caring person and id do anything for anyone  i guess i just want to be normal  i was recently made redundant from a job id done for years and with people who id known for years  im self employed now and finding things so hard  i miss the company from the job i used to do and the people i knew there  my husband is lovely and i look at him and wish i was as confident as him  he has lots of friends  hes introduced me to them on nights out but i just end up feeling awkward and stupid and boring   i feel like ive got nothing interesting to say and people think im ridiculous  im sorry about this post as i feel like i sound really sorry for myself  ive typed how i feel to see if anyone can determine what the hell is wrong with me  i just want to get on with my life  i want to be able to walk out the door of my house without wanting to run back in the minute i see someone else in the street  i want to feel as though im not going crazy  the only time i feel like a normal human being is when ive had a few glasses of wine  i know this isnt a good thing as i cant spend the rest of my life being drunk just to fit in  thanks for reading this'), (1064658, 'hi just joined today   im a 20 year old female and ive had severe social anxiety for as long as i can remember its so bad its gotten to the point where i cant even answer my phone because i dont want to talk to anyone i dont like going to family gatherings i dont like being around people at all ive never been able to get a job i left school after year 11 and that was 4 years ago ive been struggling to find a job ever since but no one will give me the time of day and i know its because they can see i have low confidence and low self esteem and they dont want that around their customers i know getting a job would be good for me and give me routine in my life because all ive been doing for the past 4 years is sleeping 15 hours a day sometimes more  my family dont understand at all so i dont even bother trying to tell them how i feel   its my 21st birthday in less than a month and it hurts me that i wont even be having a party or celebrating it i cant have a party because i have no friends and hardly any family ive never had a boyfriend because well lets face it what guy wants a depressed sad girl   i have no motivation to do anything anymore sometimes i think suicide is the best option for me i have nothing to look forward to when i wake up so whats the point its just the same bullshit everyday im over it'), (159389, 'im pretty unhappy so im going to write down some stuff that just keeps swirling around in my head so itll probably end up being quite a long post as ive never really ever put anything down on paper sorry to anyone who ends up taking the time to read it but thank you aswell   just a little about me first of all im 18 12 years of age just a tad over 6 foot 4 just under 65 my weight has gone up and down roughly from 250lbs to about 260lbs since i was about 16 12 years old so its relatively constant ie i dont put on huge amounts of weight or lose it   i am overweight but i dont look like someone who is obese or extremely overweight whether this is due to my height and size carrying the weight a bit better im not too sure i am a big guy theres no denying it but its something im extremely self conscious about and tend to shy away from going outside to avoid being noticed wishing i didnt have such a presence and size as a result i tend to look nervous and have a bad posture in the company of other people just wanting the ground to swallow me up i think i have got an anxiety problem as i tend to feel really uncomfortable about going outside but ive never really had a panic attack    i was never a shy person and growing up from about the age of 13 to 1516 i never had any problems making friends talking to people and generally just enjoying my life and not worrying about insecurities in myself and facing judgement from others such as being overweight or anything like this yes i also know that being overweight isnt good but its the fact im not happy with who i am that i need to fix first of all before i can change such things as being overweight   aged 16 having left secondaryhigh school my life has really taken a turn for the worst and for the last 2 or so years since i left ive been constantly depressed hating everything about myself and my appearance and just feeling downright lonely and as though im not good enough to be in anyones life as their friend or even in a relationship    ive spent a lot of time just dwelling on what are seemingly small things such as imperfections in my outside appearance and even thinking that as a result im going to end up being some loner for the rest of my lifethis is something that genuinely scares me and i dont want to happen but with the way i feel now looks so far awaywhen i bare in mind that there are people in much worse situations than myself i tend to say pull yourself together and i do for the rest of the day then i slip back into self loathing and wishing i could just hide away the next day    as a result of how i feel ive spent alot of time at home not socialising very often and doing things with people apart from speaking on msn messenger and emails and in general just sitting around doing nothing but going on the internet    i have spent periods of the last 2 years doing various things ie a couple of full times jobs and also at college but every time ive started fine within weeks or months i just got to the point where i could not physically do it because i felt so low and not wanting to face doing such things anymore ive not felt suicidal but just havent wanted to leave my house or be in contact with anyone but my family    more recently in fact from about september 2009 ive been signed up to a 2 year college course and all was fine up until about february 2010 when i just couldnt carry on any longer i went to see my doctorgp about it and was advised that i needed to have a break out from college due to depression and i was put on one 20mg tablet of fluoxetine a day not too sure if thats the correct spelling i spoke with my tutor and he was fine with me taking a break and returning within 4 weeks i never did but my tutor was happy enough for me to complete work from home and email him the work i needed to do to complete the course    fortunately i havent had a problem getting this work done so the 1st year of my college course has been completed but this is where my dilemma really starts to get difficult as my tutor wants to know if i feel as though i can do the 2nd year at the college now i personally want too as i like the people in my class i find it interesting etc etc but i really dont know how i will react when the time comes to go back into class if i will be able to cope i have told him id like to go back but i am genuinely worried about the next year in my life   im mainly worried as my mum is permanently ill type 1 diabetic and suffers from me and my dad is her full time carer so money is not terribly easy to come by and things are tight my mum gets financial support for me being at college but due to me having a bad time in the last 2 years she is getting worried that she will lose the financial support she currently gets for me being taken off of my course    so i basically have two choices try and get through my course meanwhile with all the issues ive got still going unresolved in my own head making things worse but if i end up not being able to cope i really need to get a job as we cannot afford for me to be at home aswell with no income being generated   i just wish i could solve all of my problems and stop thinking and feeling the way i do as while they dont seem to be huge problems all added together they are literally ruining my life and stopping me from enjoying it    my family are supportive and they are also fully aware about how i feel and do help me as is my doctor and tutor but whilst i have felt better since ive been off sick from college with depression i cant see an end coming to where i will one day just be able to get up and be able to get on with my life in a way i can feel relatively comfortable with myself enough to enjoy and cope with it    my weight is also something that ive become almost obsessed with to the point where i feel desperate and helpless and have even seen myself googling answers for quick weight loss plans i dont eat bad or too much i just literally do not do anything i want to get up and do exercise but i genuinely dont want to leave the house with the way i feel so i end up getting depressed once again   i do realise it requires a lifestyle change to keep weight off but its just got me to the point where im so unhappy and down that i cant see any way i can change it wanting quick fixes is just literally ruining me as i dont ever really feel as though i can go outside   ive never ever thought of committing suicide as i do still want to do lots of things such as get married have a family get a decent job and see and do lots of things its just not something i can look forward too all the time i have such a severely low self esteem and confidence     im just getting really down once again and angry with myself that i cant seem to change how i feel and think and i dont want to feel sorry for myself or anything like that i just wish it would all go away   sorry if this seems really confusing and not in any particular order or even makes sense as i just typed as much as i could think of as to how im feeling   thanks to anyone who takes the time to read through my pitiful attempt at feeling sorry for myself')])\n",
      "------------------------------\n"
     ]
    }
   ],
   "source": [
    "#3\n",
    "print_posts(top_posts, my_pids, pids)"
   ]
  },
  {
   "cell_type": "code",
   "execution_count": 168,
   "metadata": {},
   "outputs": [
    {
     "name": "stdout",
     "output_type": "stream",
     "text": [
      "['hi abc123 sorry you feel lonely since finding this forum ive felt a lot less lonely you can make lots of friends here who will understand what you are going through feel free to pm me any time if you would like-----', 'hi there i suffer with social anxiety disorder and have no real life friends other then my partner so i know how you feel i would also like to make friends on here but do not really know how i hope you manage to make some friends-----', 'sorry youre going through so much atmi know how you must feelive had times like that myself you dont have to feel lonely here is there anywhere else you could goa friends house perhaps is there anything that would make you feel a little better about things-----']\n",
      "------------------------------\n",
      "['i duno about otc stuff but i find when my mind races something that helps is to slow the voice in my head down and you take control of the thoughts-----', 'now here is another important question which is that why didnt my mind just shut down the fear alone by itself  since the fear alone by itself is the problem then why did it shut down the ability to experience pleasure along with it-----', 'yeah my mum thats about it but she said these thoughts are just thoughts and nothing else why am i going to turn into one or become one-----']\n",
      "------------------------------\n",
      "['i get nervous in crowds and sometimes get very anxious around a lot of people how do i know if this is social anxiety-----', 'hi    i have found myself getting really nervous and uncomfortable round people as far as i can remember it started about 2 years ago i have always been a little nervous when meeting new people but now im getting really uncomfortable and nervous around close friends and even family to the point im making them nervous and uncomfortable and i know they notice but neither of us mention it this is random and can happen at anytime about any subject of conversation would really be great full of any advice or anybody know what could of caused it but the more i think about it the more it happens my father passed away nearly 3 years ago now and it affected me bad but i feel that now i have accepted he has gone and im getting on with my life maybe im still affected by it and could this be causing my nervous-----', 'i believe you about having the ears to breathe i found this out by mistake when i put my ear plugs in at night so that i could sleep i found it hard to breathe  i took them out then i could breathe again-----']\n",
      "------------------------------\n"
     ]
    }
   ],
   "source": [
    "#4\n",
    "print_query(queries, tf_query, vect, vectorizer, posts)"
   ]
  },
  {
   "cell_type": "markdown",
   "metadata": {},
   "source": [
    "** 30 word min**"
   ]
  },
  {
   "cell_type": "code",
   "execution_count": 169,
   "metadata": {},
   "outputs": [
    {
     "name": "stdout",
     "output_type": "stream",
     "text": [
      "% lost:  0.29086126998705797\n"
     ]
    }
   ],
   "source": [
    "#1\n",
    "pids, posts, vect, vectorizer = tfidf(df, 30)"
   ]
  },
  {
   "cell_type": "code",
   "execution_count": 170,
   "metadata": {
    "collapsed": true
   },
   "outputs": [],
   "source": [
    "#2\n",
    "sim = cos_sim(vect)"
   ]
  },
  {
   "cell_type": "code",
   "execution_count": 171,
   "metadata": {},
   "outputs": [
    {
     "name": "stdout",
     "output_type": "stream",
     "text": [
      "((536367, 'i am trying to figure out who i am i have no idea im confused i have a job interview tomorrow and im already freaked out because i know i will be staring at the man and probably make him feel uncomfortable i act like a zombie sometimesnot good at small talk and shit like that excuse my language lol'), [(1433013, 'how about you go to the interview with the intention of treating it as interview experience if you are offered the job you could decline the offer and say something like thankyou for the interview but i dont feel that the job is right for me you dont need to elaborate any more than that  as you are feeling so anxious and ill thats probably an indication that youre not quite ready to return to work yet but you should applaud yourself for trying because it takes courage to apply for jobs when youve experienced bad anxiety at work  when youre feeling better youll feel excited at the prospect of a possible job you wont live in fear of it  i had an interview monday and like you i didnt feel ready to take the job i felt sick and terribly anxious the night before the interview consequently i didnt do too well at the interview and i didnt get the job strangely enough i felt very down about it but i think thats more to do with my depression than not getting the job such are the trials of mi  best wishes xx'), (1558500, 'my friends mother works at my local library and put in a good word for me there when i sent in my application a few days ago they called me back immediately the day after i sent it in and the lady i talked with asked me a basic question such as why do you want to work here and i being caught totally offguard and not expecting to be asked an interview question this suddenly somehow managed to pull some kind of decent answer out of thin air that was good enough for her she then told me basic facts about the job and asked to arrange an interview and i took friday as opposed to thursday because i thought id feel better having some extra time to prepare myself   well now the time is almost here my interview is scheduled for tomorrow morning technically today at 11 and its almost 1 am where i live i cant sleep i already feel sick and shaky and ive been researching how to survive an interview like crazy ive never had a job interview or a job for that matter before but i really like the idea of working here because as a page i wont be dealing with people that much and ill be mostly doing my own thing however i was informed that during my interview they will test me on the dewy decimal system and make me arrange a cart of books in alphabeticalnumbered order and that they will try to trick me to make sure im really paying attention i think this is the part im most nervous about because i just got a crash course in  this earlier yesterday with the before mentioned friend seeing as like most people who have never worked in a library i didnt know the dds at all and i know a little more now but im still not sure if ill be able to do well when under so much pressure from anxiety im extremely nervous and im so worried ill majorly screw something up how can i go in and nail this interview im super worked up'), (1333810, 'im just really confused when i said im surprised i didnt push him away i just meant usually if anyone comes near me i back off im not the type of person who likes to hug or kiss etc im just so confused i feel like im going crazy because i do like him but dont know how to act around him im not very experienced at my age youd think i would know how pathetic is that')])\n",
      "------------------------------\n",
      "((575957, 'just come back from the shop sick sick sick of feeling so ill i feel others in the shop think im really weird but what can i do i know i wouldnt be there if i didnt have the problems i have so what can anyone expect me to do im trying my best its so hard for others to understand the level of anxiety i have thats not a criticism at all just i had to go on the shop floor even though i wasnt comfortable and just felt i was dying with panic the other lady there was very nice but its pretty hard to understand my desperation had to keep escaping too many people around too close and i didnt want to be asked anything everything around me feels like a dream i just feel wrong so wrong bus back was manic attention was drawn to me for a second when the driver didnt stop long enough for me to get off i went back to my seat and didnt say anything it wasnt my fault he didnt stop obviously but im convinced i did something really really odd when people looked just horrible alone now feeling so fearful and stuck i know this all sounds petty but when i feel as ill as this everything that happens feels so intense i really dont think im well enough for that meal tomorrow now listening to euros childs ends that i received in the post and will make a cup of tea and a meal if i can get myself to move'), [(1586008, 'hi   i have been diagnosed with social and generalised anxiety for years and had numerous therapies and treatments for it but no therapy has seemed to ever work i believe this is due to being undiagnosed with borderline personality disorder im waiting for an assessment which im more than 100 sure i have however ever since taking sertraline for the past 34 months i am happy to say that i am really starting to feel the positive effects socially   i am posting in this forum as i think the problem i am facing is more to do with sa and not bpd for years i have felt very odd at random times around family especially christmas im not extremely close to my family but we do get on i just sometimes feel a feeling i find very very difficult explain its almost as if i feel sick and feel like i dont belong at all it feels quite like im out of my own body more recently i have started to get it with friends because of the sertraline i have started taking part in things i never would before i have seen my friends and done things soberly through the day much more than i ever have but when im sober around my friends i just feel really weird its not awkward its just like i feel sick and shouldnt be around them and dont belong there i dont know if its maybe because im so used to not doing things with them that when i do i maybe just cant remember how it feels its weird because the people i am most close withi do not feel it at all like i feel like i belong with my boyfriend and i could be with him all the time but as soon as we have a family meal i just feel weird and sickly and perhaps quite child like like i almost feel like i shouldnt have a boyfriend around my family and when im with my friends i feel like i shouldnt be there with them because its not like me   ive never ever described this feeling to a doctor before because i simply cant explain it but it really is a horrible feeling and i cant shake it off at all it ends up really ruining my time and i just want to go home and be alone even if im having a nice time there also doesnt seem to be anything relevant on google to it so im worried that it is only me that feels this   is there anyone that can relate to this at all i really really would appreciate any help or coping strategies    thank you'), (1089830, 'thanks for all the support and thanks for understanding it feels so good to get this out and have someone actually listen  im staying with someone right now i just dont know how long and i really dont wanna go back home its no good there and i feel like im better off without a home at this point its fine though i always figure out somewhere to go  i was hospitalized a few years ag  and thats when they diagnosed me with bpd  but not they never gave me any special therapy they put me on medications which never seemed to help it either made me sick i have a really weak stomach and i stay nausea a lot or it made it worse or it just didnt do anything at all i eventually stopped and refused to take anymore medications because it seemed no one listened  i feel like no one has ever taken me seriously and everything i do is just a cry for attention when really im really hurting and i cant stop hurting myself maybe it was my fault because i never told anyone what happened to me to when it happened i was scared and kept it bottled up for years until i didnt see a point anymore they got away with it and its my fault they did i dont think i can forgive myself for that   i dont know how to feel good and when i do feel happy it never last long and i always feel guilty and i dont deserve it smoking is the only way i can feel good and i know its not doing me any good really but i cant stop going a day without is the worst i find myself looking for crumbs and going out trying to find a way to get it and its bad i feel like ive made to many mistakes and theres no going back  im just really scared and lost right now and its nice to have someone to listen i feel like im alone and i dont think i can get through this alone thanks everyone for listening'), (1311900, 'im sorry youre going through this it makes it even harder to not be able to explain how horrible having anxiety for those who didnt experience it its worse when people underestimates it im sorry that i dont have any good advise i have the same problem im at that point where i just keep everything to myself because even when i tried to get anyone to understand no one did telling folks who didnt understand made me feel worse unadaptive to this world so many times felt like i really dont care if i just die didnt get to the point of taking my own life but certainly wont mind if something happen and i just died even felt like a relief the idea of just be done with everything i tried talking to my family and friends and no one seemed to get it everyone thinks that i just need to be strong get over it or im just over sensitive and dramatic it suffocates me what suffocates me more is that i feel like am completely alone and no matter what i say no one in my life  would ever understand i tried telling my girlfriend i bet she just thinks am exaggerating and being over sensitive since she didnt really give it much of attention or asked me about any of what i told her i guess she doesnt even wanna listen she simply doesnt believe it  im so sorry for what youre going through i know how hard this can be')])\n",
      "------------------------------\n",
      "((1588361, 'hey guys my name is marky im 20 years old and i think i need some advice its gonna be a long one so sorry about that   im gonna start from the beginning in october 2016 i was accused of a heinous crime of which i wont mention i was nfad about 2 weeks ago and was proven innocent since october 2016 ive slowly been becoming less and less social although i wasnt exactly confident growing up i was in foster care from 8 years old until i was 16 ran away early i have always been a shy lad but in the past year its gotten to the point where i dont leave the house anymore i probably go out once every few weeks i have been to my gp and am now taking 50mg sertraline for social anxiety i also smoke cannabis and have been since around december 2016 i know i need to kick this habit and i have tried infact at the time of writing i havent smoked anything so i guess its a start my family has a history of mental issues my sister has anxiety herself and my mother has severe depression and anxiety she leaves the house less than me and i hate it because i want her to enjoy life i think one of the reasons i cant motivate myself to go outside and actually do things is because my mum cant and i feel bad leaving her back here and me going out enjoying myself i am regularly invited to go out by my cousin and my best mate but 90 of the time i make excuses and i hate myself for it i used to go out with my step dad who i love as much as my mum every saturday and sunday and almost every other day of the week just doing odd things helping him with shopping etc but now i dont go with him anymore i think i went out around 3 weeks ago for 1 day said i was going to change myself and here i am again back at the beginning ive researched into how to motivate myself and how to get off my ass and actually do something but nothing works i hate the way my life is going and i just dont know how to fix it people have said to me in the past things like force yourself to go out and youll enjoy it but i dont i hate being around people especially people i dont know its the same reason i dont have a job i severely want one to fund myself and my family as were not exactly on the rich end of the spectrumin 2016 i did have an opportunity to do volunteer work had my step dad drive me there and i couldnt get out the car i was terrified of a volunteer job    i just dont know what to do ive been on the sertraline for probably 23 months and although ive felt a slight increase in my mood i still havent the motivation to do anything'), [(361046, 'im new to this and i guess im hoping someone can help me out please  for years ive been suffering from very low selfesteem and i feel generally awkward in the company of people i dont know  some days even leaving my house can be a huge challenge and when i do i cant wait to get back home  the last few months something has changed though  things have got worse very quickly  and im feeling completely and utterly unable to lead a normal life anymore  i hate being around people i cant go into the supermarket as i feel people are staring at me i cant speak to colleagues and sometimes even speaking to my mum is something id rather not do anymore  my job involves speaking to and meeting new people and im about to pack it in as i just cant do it anymore  i absolutely dread social events like parties or going to the pub etc and meeting and speaking to new people on a social level is just impossible these days  my husband plays in a band and going to watch him just fills me with dread as i know there will be lots of people there and ill be on my own  its hard to explain the way i feel  i wake up every morning thinking and hoping ill feel better and that all these silly feelings will disappear but they dont  in the past ive felt like this for a few days then it goes but this time ive been feeling like this for about a week now  my husband is very supportive but bless him i really dont think he knows what to do  i dont know what to do either as i dont understand whats happening to me  i remember being around 6 or 7 years old and being branded as shy and growing up always left me feeling awkward and quiet  i really have no real friends as everyone ive made friends with in the past have just let me down or drifted away  people who i considered as friends have turned out really not to be who i thought they were so i tend to treat people with caution now and find it impossible to trust people and make friends  i spend all my weekends alone husband works and thats actually the way i like it  even when my husband is at home i tend to spend all my time in the bedroom alone reading or on the computer  ive reached a stage now that i really dont know what to do  i have zero social life other than when i go out with my husband its only him and i and i feel fine with that and all i do is work then come home and shut myself away from the world  i hate speaking to people  i hate being in public  i feel so nervous around people i dont know  i dont trust people easily  i feel like im going crazy  i havent enjoyed life for a while as i worry myself sick about everything  i sleep for only around three hours or so per night  i dont know why im like this as ive been told im a really caring person and id do anything for anyone  i guess i just want to be normal  i was recently made redundant from a job id done for years and with people who id known for years  im self employed now and finding things so hard  i miss the company from the job i used to do and the people i knew there  my husband is lovely and i look at him and wish i was as confident as him  he has lots of friends  hes introduced me to them on nights out but i just end up feeling awkward and stupid and boring   i feel like ive got nothing interesting to say and people think im ridiculous  im sorry about this post as i feel like i sound really sorry for myself  ive typed how i feel to see if anyone can determine what the hell is wrong with me  i just want to get on with my life  i want to be able to walk out the door of my house without wanting to run back in the minute i see someone else in the street  i want to feel as though im not going crazy  the only time i feel like a normal human being is when ive had a few glasses of wine  i know this isnt a good thing as i cant spend the rest of my life being drunk just to fit in  thanks for reading this'), (1064658, 'hi just joined today   im a 20 year old female and ive had severe social anxiety for as long as i can remember its so bad its gotten to the point where i cant even answer my phone because i dont want to talk to anyone i dont like going to family gatherings i dont like being around people at all ive never been able to get a job i left school after year 11 and that was 4 years ago ive been struggling to find a job ever since but no one will give me the time of day and i know its because they can see i have low confidence and low self esteem and they dont want that around their customers i know getting a job would be good for me and give me routine in my life because all ive been doing for the past 4 years is sleeping 15 hours a day sometimes more  my family dont understand at all so i dont even bother trying to tell them how i feel   its my 21st birthday in less than a month and it hurts me that i wont even be having a party or celebrating it i cant have a party because i have no friends and hardly any family ive never had a boyfriend because well lets face it what guy wants a depressed sad girl   i have no motivation to do anything anymore sometimes i think suicide is the best option for me i have nothing to look forward to when i wake up so whats the point its just the same bullshit everyday im over it'), (1025867, 'i havent told anybody about the self harming because its embarrasing  i havent told anybody about wanting to kill myself because my step brother tried to kill himself so anything other than the act itself is being an attention seeker apparently  also whats the famous saying dont tell anybody your problems because 80 of people dont care and the other 20 are glad you have them  i dont want to tell people about it  im embarrased by it i still want to do it though  all i wanted to know was what was wrong with me to put a name to a condition because im certain i have something with the things im thinking  i hate the way i look i hate the way im perceived i always think people are judging me in a negative way i hate how people are rude  even though id consider myself mild mannered recently ive been thinking of hurting people who i perceive as rude i wanted to get pinnoplasty surgery but i cant afford it i dont like socialising outside of work  football because i feel people are juding me or are going to mock me  put me on the spot i have been into town or socialising maybe 3 times in 8 years as a result ive lost my friends that i had and on top of that i dont date because i dont like going out i use to have ocd querks washing hands symmetry repetitions but i dont anymore i think about suicide alot i hate the idea of growing old and i constantly think to myself this has happened it will never happen again for example going to primary school on my first day etc i also hate growing old because i feel like people think you should be married by 28 have kids by 30 etc when i  speak id say im perceived as energetic and hyper  talkative but by the end of the day or sometimes minutes later i feel low again   i also hate when people say suicide is selfish  selfish is expecting me to hang around even though i hate my life so that other people dont have to feel bad or sad because i killed myself people seem to think that we should be content just being alive i cant wait to hang around and watch the only people in the world i have die of a heart attack old age')])\n",
      "------------------------------\n"
     ]
    }
   ],
   "source": [
    "#3\n",
    "print_posts(top_posts, my_pids, pids)"
   ]
  },
  {
   "cell_type": "code",
   "execution_count": 172,
   "metadata": {},
   "outputs": [
    {
     "name": "stdout",
     "output_type": "stream",
     "text": [
      "['hi abc123 sorry you feel lonely since finding this forum ive felt a lot less lonely you can make lots of friends here who will understand what you are going through feel free to pm me any time if you would like-----', 'hi there i suffer with social anxiety disorder and have no real life friends other then my partner so i know how you feel i would also like to make friends on here but do not really know how i hope you manage to make some friends-----', 'sorry youre going through so much atmi know how you must feelive had times like that myself you dont have to feel lonely here is there anywhere else you could goa friends house perhaps is there anything that would make you feel a little better about things-----']\n",
      "------------------------------\n",
      "['i duno about otc stuff but i find when my mind races something that helps is to slow the voice in my head down and you take control of the thoughts-----', 'now here is another important question which is that why didnt my mind just shut down the fear alone by itself  since the fear alone by itself is the problem then why did it shut down the ability to experience pleasure along with it-----', 'no but i sometimes have a fear of the telephone my heart races so much when it rings and also sometimes when i have to call others im sure there are others with same fear as you too-----']\n",
      "------------------------------\n",
      "['hi    i have found myself getting really nervous and uncomfortable round people as far as i can remember it started about 2 years ago i have always been a little nervous when meeting new people but now im getting really uncomfortable and nervous around close friends and even family to the point im making them nervous and uncomfortable and i know they notice but neither of us mention it this is random and can happen at anytime about any subject of conversation would really be great full of any advice or anybody know what could of caused it but the more i think about it the more it happens my father passed away nearly 3 years ago now and it affected me bad but i feel that now i have accepted he has gone and im getting on with my life maybe im still affected by it and could this be causing my nervous-----', 'i believe you about having the ears to breathe i found this out by mistake when i put my ear plugs in at night so that i could sleep i found it hard to breathe  i took them out then i could breathe again-----', 'i fear the way i breathe mostly in the car because i cant hear myself as well i feel like i force myself to breathe and end up holding my breathe and then it just gets very uncomfortable ive been crying because im sick of trying so hard just to be able to go to work or go to an appointment i havent gone to a friends house in over a year i havent really gone out to do things besides work and doctors appointments i have supportive family but they dont completely understand i feel kind of like the black sheep because everyone else is so outgoing and out there and im shy and have all these issues going on its like a personal struggle my own thoughts i see a therapist and im on medication trying to get the dosage right i know that theres steps that i have to take to push myself but im so afraid and exhausted i guess im kind of wondering if anyone else out there struggles with their breathing i know its a common thing among anxiety sufferers but id like to talk to someone else that has the same problem-----']\n",
      "------------------------------\n"
     ]
    }
   ],
   "source": [
    "#4\n",
    "print_query(queries, tf_query, vect, vectorizer, posts)"
   ]
  },
  {
   "cell_type": "markdown",
   "metadata": {},
   "source": [
    "** 40 word min**"
   ]
  },
  {
   "cell_type": "code",
   "execution_count": 173,
   "metadata": {},
   "outputs": [
    {
     "name": "stdout",
     "output_type": "stream",
     "text": [
      "% lost:  0.36813760280549407\n"
     ]
    }
   ],
   "source": [
    "#1\n",
    "pids, posts, vect, vectorizer = tfidf(df, 40)"
   ]
  },
  {
   "cell_type": "code",
   "execution_count": 174,
   "metadata": {
    "collapsed": true
   },
   "outputs": [],
   "source": [
    "#2\n",
    "sim = cos_sim(vect)"
   ]
  },
  {
   "cell_type": "code",
   "execution_count": 175,
   "metadata": {},
   "outputs": [
    {
     "name": "stdout",
     "output_type": "stream",
     "text": [
      "((536367, 'i am trying to figure out who i am i have no idea im confused i have a job interview tomorrow and im already freaked out because i know i will be staring at the man and probably make him feel uncomfortable i act like a zombie sometimesnot good at small talk and shit like that excuse my language lol'), [(1433013, 'how about you go to the interview with the intention of treating it as interview experience if you are offered the job you could decline the offer and say something like thankyou for the interview but i dont feel that the job is right for me you dont need to elaborate any more than that  as you are feeling so anxious and ill thats probably an indication that youre not quite ready to return to work yet but you should applaud yourself for trying because it takes courage to apply for jobs when youve experienced bad anxiety at work  when youre feeling better youll feel excited at the prospect of a possible job you wont live in fear of it  i had an interview monday and like you i didnt feel ready to take the job i felt sick and terribly anxious the night before the interview consequently i didnt do too well at the interview and i didnt get the job strangely enough i felt very down about it but i think thats more to do with my depression than not getting the job such are the trials of mi  best wishes xx'), (1558500, 'my friends mother works at my local library and put in a good word for me there when i sent in my application a few days ago they called me back immediately the day after i sent it in and the lady i talked with asked me a basic question such as why do you want to work here and i being caught totally offguard and not expecting to be asked an interview question this suddenly somehow managed to pull some kind of decent answer out of thin air that was good enough for her she then told me basic facts about the job and asked to arrange an interview and i took friday as opposed to thursday because i thought id feel better having some extra time to prepare myself   well now the time is almost here my interview is scheduled for tomorrow morning technically today at 11 and its almost 1 am where i live i cant sleep i already feel sick and shaky and ive been researching how to survive an interview like crazy ive never had a job interview or a job for that matter before but i really like the idea of working here because as a page i wont be dealing with people that much and ill be mostly doing my own thing however i was informed that during my interview they will test me on the dewy decimal system and make me arrange a cart of books in alphabeticalnumbered order and that they will try to trick me to make sure im really paying attention i think this is the part im most nervous about because i just got a crash course in  this earlier yesterday with the before mentioned friend seeing as like most people who have never worked in a library i didnt know the dds at all and i know a little more now but im still not sure if ill be able to do well when under so much pressure from anxiety im extremely nervous and im so worried ill majorly screw something up how can i go in and nail this interview im super worked up'), (1333810, 'im just really confused when i said im surprised i didnt push him away i just meant usually if anyone comes near me i back off im not the type of person who likes to hug or kiss etc im just so confused i feel like im going crazy because i do like him but dont know how to act around him im not very experienced at my age youd think i would know how pathetic is that')])\n",
      "------------------------------\n",
      "((575957, 'just come back from the shop sick sick sick of feeling so ill i feel others in the shop think im really weird but what can i do i know i wouldnt be there if i didnt have the problems i have so what can anyone expect me to do im trying my best its so hard for others to understand the level of anxiety i have thats not a criticism at all just i had to go on the shop floor even though i wasnt comfortable and just felt i was dying with panic the other lady there was very nice but its pretty hard to understand my desperation had to keep escaping too many people around too close and i didnt want to be asked anything everything around me feels like a dream i just feel wrong so wrong bus back was manic attention was drawn to me for a second when the driver didnt stop long enough for me to get off i went back to my seat and didnt say anything it wasnt my fault he didnt stop obviously but im convinced i did something really really odd when people looked just horrible alone now feeling so fearful and stuck i know this all sounds petty but when i feel as ill as this everything that happens feels so intense i really dont think im well enough for that meal tomorrow now listening to euros childs ends that i received in the post and will make a cup of tea and a meal if i can get myself to move'), [(1586008, 'hi   i have been diagnosed with social and generalised anxiety for years and had numerous therapies and treatments for it but no therapy has seemed to ever work i believe this is due to being undiagnosed with borderline personality disorder im waiting for an assessment which im more than 100 sure i have however ever since taking sertraline for the past 34 months i am happy to say that i am really starting to feel the positive effects socially   i am posting in this forum as i think the problem i am facing is more to do with sa and not bpd for years i have felt very odd at random times around family especially christmas im not extremely close to my family but we do get on i just sometimes feel a feeling i find very very difficult explain its almost as if i feel sick and feel like i dont belong at all it feels quite like im out of my own body more recently i have started to get it with friends because of the sertraline i have started taking part in things i never would before i have seen my friends and done things soberly through the day much more than i ever have but when im sober around my friends i just feel really weird its not awkward its just like i feel sick and shouldnt be around them and dont belong there i dont know if its maybe because im so used to not doing things with them that when i do i maybe just cant remember how it feels its weird because the people i am most close withi do not feel it at all like i feel like i belong with my boyfriend and i could be with him all the time but as soon as we have a family meal i just feel weird and sickly and perhaps quite child like like i almost feel like i shouldnt have a boyfriend around my family and when im with my friends i feel like i shouldnt be there with them because its not like me   ive never ever described this feeling to a doctor before because i simply cant explain it but it really is a horrible feeling and i cant shake it off at all it ends up really ruining my time and i just want to go home and be alone even if im having a nice time there also doesnt seem to be anything relevant on google to it so im worried that it is only me that feels this   is there anyone that can relate to this at all i really really would appreciate any help or coping strategies    thank you'), (1089830, 'thanks for all the support and thanks for understanding it feels so good to get this out and have someone actually listen  im staying with someone right now i just dont know how long and i really dont wanna go back home its no good there and i feel like im better off without a home at this point its fine though i always figure out somewhere to go  i was hospitalized a few years ag  and thats when they diagnosed me with bpd  but not they never gave me any special therapy they put me on medications which never seemed to help it either made me sick i have a really weak stomach and i stay nausea a lot or it made it worse or it just didnt do anything at all i eventually stopped and refused to take anymore medications because it seemed no one listened  i feel like no one has ever taken me seriously and everything i do is just a cry for attention when really im really hurting and i cant stop hurting myself maybe it was my fault because i never told anyone what happened to me to when it happened i was scared and kept it bottled up for years until i didnt see a point anymore they got away with it and its my fault they did i dont think i can forgive myself for that   i dont know how to feel good and when i do feel happy it never last long and i always feel guilty and i dont deserve it smoking is the only way i can feel good and i know its not doing me any good really but i cant stop going a day without is the worst i find myself looking for crumbs and going out trying to find a way to get it and its bad i feel like ive made to many mistakes and theres no going back  im just really scared and lost right now and its nice to have someone to listen i feel like im alone and i dont think i can get through this alone thanks everyone for listening'), (1311900, 'im sorry youre going through this it makes it even harder to not be able to explain how horrible having anxiety for those who didnt experience it its worse when people underestimates it im sorry that i dont have any good advise i have the same problem im at that point where i just keep everything to myself because even when i tried to get anyone to understand no one did telling folks who didnt understand made me feel worse unadaptive to this world so many times felt like i really dont care if i just die didnt get to the point of taking my own life but certainly wont mind if something happen and i just died even felt like a relief the idea of just be done with everything i tried talking to my family and friends and no one seemed to get it everyone thinks that i just need to be strong get over it or im just over sensitive and dramatic it suffocates me what suffocates me more is that i feel like am completely alone and no matter what i say no one in my life  would ever understand i tried telling my girlfriend i bet she just thinks am exaggerating and being over sensitive since she didnt really give it much of attention or asked me about any of what i told her i guess she doesnt even wanna listen she simply doesnt believe it  im so sorry for what youre going through i know how hard this can be')])\n",
      "------------------------------\n",
      "((1588361, 'hey guys my name is marky im 20 years old and i think i need some advice its gonna be a long one so sorry about that   im gonna start from the beginning in october 2016 i was accused of a heinous crime of which i wont mention i was nfad about 2 weeks ago and was proven innocent since october 2016 ive slowly been becoming less and less social although i wasnt exactly confident growing up i was in foster care from 8 years old until i was 16 ran away early i have always been a shy lad but in the past year its gotten to the point where i dont leave the house anymore i probably go out once every few weeks i have been to my gp and am now taking 50mg sertraline for social anxiety i also smoke cannabis and have been since around december 2016 i know i need to kick this habit and i have tried infact at the time of writing i havent smoked anything so i guess its a start my family has a history of mental issues my sister has anxiety herself and my mother has severe depression and anxiety she leaves the house less than me and i hate it because i want her to enjoy life i think one of the reasons i cant motivate myself to go outside and actually do things is because my mum cant and i feel bad leaving her back here and me going out enjoying myself i am regularly invited to go out by my cousin and my best mate but 90 of the time i make excuses and i hate myself for it i used to go out with my step dad who i love as much as my mum every saturday and sunday and almost every other day of the week just doing odd things helping him with shopping etc but now i dont go with him anymore i think i went out around 3 weeks ago for 1 day said i was going to change myself and here i am again back at the beginning ive researched into how to motivate myself and how to get off my ass and actually do something but nothing works i hate the way my life is going and i just dont know how to fix it people have said to me in the past things like force yourself to go out and youll enjoy it but i dont i hate being around people especially people i dont know its the same reason i dont have a job i severely want one to fund myself and my family as were not exactly on the rich end of the spectrumin 2016 i did have an opportunity to do volunteer work had my step dad drive me there and i couldnt get out the car i was terrified of a volunteer job    i just dont know what to do ive been on the sertraline for probably 23 months and although ive felt a slight increase in my mood i still havent the motivation to do anything'), [(361046, 'im new to this and i guess im hoping someone can help me out please  for years ive been suffering from very low selfesteem and i feel generally awkward in the company of people i dont know  some days even leaving my house can be a huge challenge and when i do i cant wait to get back home  the last few months something has changed though  things have got worse very quickly  and im feeling completely and utterly unable to lead a normal life anymore  i hate being around people i cant go into the supermarket as i feel people are staring at me i cant speak to colleagues and sometimes even speaking to my mum is something id rather not do anymore  my job involves speaking to and meeting new people and im about to pack it in as i just cant do it anymore  i absolutely dread social events like parties or going to the pub etc and meeting and speaking to new people on a social level is just impossible these days  my husband plays in a band and going to watch him just fills me with dread as i know there will be lots of people there and ill be on my own  its hard to explain the way i feel  i wake up every morning thinking and hoping ill feel better and that all these silly feelings will disappear but they dont  in the past ive felt like this for a few days then it goes but this time ive been feeling like this for about a week now  my husband is very supportive but bless him i really dont think he knows what to do  i dont know what to do either as i dont understand whats happening to me  i remember being around 6 or 7 years old and being branded as shy and growing up always left me feeling awkward and quiet  i really have no real friends as everyone ive made friends with in the past have just let me down or drifted away  people who i considered as friends have turned out really not to be who i thought they were so i tend to treat people with caution now and find it impossible to trust people and make friends  i spend all my weekends alone husband works and thats actually the way i like it  even when my husband is at home i tend to spend all my time in the bedroom alone reading or on the computer  ive reached a stage now that i really dont know what to do  i have zero social life other than when i go out with my husband its only him and i and i feel fine with that and all i do is work then come home and shut myself away from the world  i hate speaking to people  i hate being in public  i feel so nervous around people i dont know  i dont trust people easily  i feel like im going crazy  i havent enjoyed life for a while as i worry myself sick about everything  i sleep for only around three hours or so per night  i dont know why im like this as ive been told im a really caring person and id do anything for anyone  i guess i just want to be normal  i was recently made redundant from a job id done for years and with people who id known for years  im self employed now and finding things so hard  i miss the company from the job i used to do and the people i knew there  my husband is lovely and i look at him and wish i was as confident as him  he has lots of friends  hes introduced me to them on nights out but i just end up feeling awkward and stupid and boring   i feel like ive got nothing interesting to say and people think im ridiculous  im sorry about this post as i feel like i sound really sorry for myself  ive typed how i feel to see if anyone can determine what the hell is wrong with me  i just want to get on with my life  i want to be able to walk out the door of my house without wanting to run back in the minute i see someone else in the street  i want to feel as though im not going crazy  the only time i feel like a normal human being is when ive had a few glasses of wine  i know this isnt a good thing as i cant spend the rest of my life being drunk just to fit in  thanks for reading this'), (1064658, 'hi just joined today   im a 20 year old female and ive had severe social anxiety for as long as i can remember its so bad its gotten to the point where i cant even answer my phone because i dont want to talk to anyone i dont like going to family gatherings i dont like being around people at all ive never been able to get a job i left school after year 11 and that was 4 years ago ive been struggling to find a job ever since but no one will give me the time of day and i know its because they can see i have low confidence and low self esteem and they dont want that around their customers i know getting a job would be good for me and give me routine in my life because all ive been doing for the past 4 years is sleeping 15 hours a day sometimes more  my family dont understand at all so i dont even bother trying to tell them how i feel   its my 21st birthday in less than a month and it hurts me that i wont even be having a party or celebrating it i cant have a party because i have no friends and hardly any family ive never had a boyfriend because well lets face it what guy wants a depressed sad girl   i have no motivation to do anything anymore sometimes i think suicide is the best option for me i have nothing to look forward to when i wake up so whats the point its just the same bullshit everyday im over it'), (306265, 'im 22 and i havent left my house for social reasons for about 2 years this is the first time ive spoken about myself in this way and im not sure exactly what im expecting to get out of it but i just felt like i should let something out and see what exactly that is im just going to type as things come to my head so my apologies if its hard work reading or if i come accross as an illiterate moron  although my  social anxiety has gotten me very depressed in the past my worst point was about 6months ago when i began planning suicide which i am past now ive always dealt with it but its getting alot worse and its just got to the point where i just want to sort my life out before its too late at 22 im yet to kiss a girl im not a bad looking guy and im in good health my appearance is definately not the problem the fact that im totally shit scared of social encounters is i guess im lonely i have so much love to give and yearn the same its not only that i have sa to deal with but the knock on effects of 2 years of depression aswell my enthusiasm has been drained out of me over time i have the motivation to do nothing nothing interests me and i find myself hating everything around me ive become such a sad bitter person and i hate it i just want to be happy and let the good person i am shine ive lost contact with all my friends from school which is probably a good thing since their idiots like 90 of people around my age with their moronic boozing lifestyles and pointless fb bullshit the thing is i just dont seem to connect with other people my age that well they all seem so simple maybe i just havent met the right people maybe im not looking in the right places either way its all pointless when i cant step out my house to meet those people anyway the fact is im not enjoying my life and its slowly slipping away from me since deciding suicide definately isnt an option i feel so trapped i dont see anyway of dealing with my problem lately i have been breaking down into tears out of sheer fustration that i cant get what i want out of life purely because i cannot function in social environments if i had the balls to just step out of my house for anything other than work my life would be so much better but i just cant do it im 22 im in good health im not a bad looking guy im smart i have a nice family i havent experienced anything traumatic i have a good job that pays well enough and sometimes i even enjoy i shouldnt be this unhappy nor do i deserve to be this unhappy when theres people in far worse situations than me    like i said im not sure what exactly im expecting to get out of posting this its a new experience for me i guess i just want to see what kind of advice people offer and their reactions to my situation   thanks')])\n",
      "------------------------------\n"
     ]
    }
   ],
   "source": [
    "#3\n",
    "print_posts(top_posts, my_pids, pids)"
   ]
  },
  {
   "cell_type": "code",
   "execution_count": 176,
   "metadata": {},
   "outputs": [
    {
     "name": "stdout",
     "output_type": "stream",
     "text": [
      "['hi abc123 sorry you feel lonely since finding this forum ive felt a lot less lonely you can make lots of friends here who will understand what you are going through feel free to pm me any time if you would like-----', 'hi there i suffer with social anxiety disorder and have no real life friends other then my partner so i know how you feel i would also like to make friends on here but do not really know how i hope you manage to make some friends-----', 'sorry youre going through so much atmi know how you must feelive had times like that myself you dont have to feel lonely here is there anywhere else you could goa friends house perhaps is there anything that would make you feel a little better about things-----']\n",
      "------------------------------\n",
      "['now here is another important question which is that why didnt my mind just shut down the fear alone by itself  since the fear alone by itself is the problem then why did it shut down the ability to experience pleasure along with it-----', 'was a mostly good day until this evening when i checked my work email got a less than warm response to my well wishes to my boss not mean just very meh i worry way too much about what she thinks of me and i wish i could stop at this point it feels so dysfunctional to deal with her everything else in life is generally pretty good but i catch her in an off moment which happen fairly often and my mood goes in the toilet and i spend the next day worrying constantly about it and how i can improve things really i dont think they can be but my mind races-----', 'i suffer from anxiety to the point of being sick i have to be occupieddistracted constantly because if i am left with myself i just cant cope i feel so desperatley lonely im not though i am in an amazing relationship and have wonderful friends but when i am on my own my heart races i go out of my mind i have seen my doctor the drugs dont make any difference i have had councellors and its like they are speaking another language and i am a brick wall they cant get through to i shake panic am paranoid and cant even cope with simple things i have exaggerated fears of being on my own and am now at breaking point i cant handle this anxiety anymore nothing really nothing seems to work-----']\n",
      "------------------------------\n",
      "['hi    i have found myself getting really nervous and uncomfortable round people as far as i can remember it started about 2 years ago i have always been a little nervous when meeting new people but now im getting really uncomfortable and nervous around close friends and even family to the point im making them nervous and uncomfortable and i know they notice but neither of us mention it this is random and can happen at anytime about any subject of conversation would really be great full of any advice or anybody know what could of caused it but the more i think about it the more it happens my father passed away nearly 3 years ago now and it affected me bad but i feel that now i have accepted he has gone and im getting on with my life maybe im still affected by it and could this be causing my nervous-----', 'i believe you about having the ears to breathe i found this out by mistake when i put my ear plugs in at night so that i could sleep i found it hard to breathe  i took them out then i could breathe again-----', 'i fear the way i breathe mostly in the car because i cant hear myself as well i feel like i force myself to breathe and end up holding my breathe and then it just gets very uncomfortable ive been crying because im sick of trying so hard just to be able to go to work or go to an appointment i havent gone to a friends house in over a year i havent really gone out to do things besides work and doctors appointments i have supportive family but they dont completely understand i feel kind of like the black sheep because everyone else is so outgoing and out there and im shy and have all these issues going on its like a personal struggle my own thoughts i see a therapist and im on medication trying to get the dosage right i know that theres steps that i have to take to push myself but im so afraid and exhausted i guess im kind of wondering if anyone else out there struggles with their breathing i know its a common thing among anxiety sufferers but id like to talk to someone else that has the same problem-----']\n",
      "------------------------------\n"
     ]
    }
   ],
   "source": [
    "#4\n",
    "print_query(queries, tf_query, vect, vectorizer, posts)"
   ]
  },
  {
   "cell_type": "markdown",
   "metadata": {},
   "source": [
    "** 50 word min**"
   ]
  },
  {
   "cell_type": "code",
   "execution_count": 177,
   "metadata": {},
   "outputs": [
    {
     "name": "stdout",
     "output_type": "stream",
     "text": [
      "% lost:  0.4358535465286185\n"
     ]
    }
   ],
   "source": [
    "#1\n",
    "pids, posts, vect, vectorizer = tfidf(df, 50)"
   ]
  },
  {
   "cell_type": "code",
   "execution_count": null,
   "metadata": {
    "collapsed": true
   },
   "outputs": [],
   "source": [
    "#2\n",
    "sim = cos_sim(vect)"
   ]
  },
  {
   "cell_type": "code",
   "execution_count": 175,
   "metadata": {},
   "outputs": [
    {
     "name": "stdout",
     "output_type": "stream",
     "text": [
      "((536367, 'i am trying to figure out who i am i have no idea im confused i have a job interview tomorrow and im already freaked out because i know i will be staring at the man and probably make him feel uncomfortable i act like a zombie sometimesnot good at small talk and shit like that excuse my language lol'), [(1433013, 'how about you go to the interview with the intention of treating it as interview experience if you are offered the job you could decline the offer and say something like thankyou for the interview but i dont feel that the job is right for me you dont need to elaborate any more than that  as you are feeling so anxious and ill thats probably an indication that youre not quite ready to return to work yet but you should applaud yourself for trying because it takes courage to apply for jobs when youve experienced bad anxiety at work  when youre feeling better youll feel excited at the prospect of a possible job you wont live in fear of it  i had an interview monday and like you i didnt feel ready to take the job i felt sick and terribly anxious the night before the interview consequently i didnt do too well at the interview and i didnt get the job strangely enough i felt very down about it but i think thats more to do with my depression than not getting the job such are the trials of mi  best wishes xx'), (1558500, 'my friends mother works at my local library and put in a good word for me there when i sent in my application a few days ago they called me back immediately the day after i sent it in and the lady i talked with asked me a basic question such as why do you want to work here and i being caught totally offguard and not expecting to be asked an interview question this suddenly somehow managed to pull some kind of decent answer out of thin air that was good enough for her she then told me basic facts about the job and asked to arrange an interview and i took friday as opposed to thursday because i thought id feel better having some extra time to prepare myself   well now the time is almost here my interview is scheduled for tomorrow morning technically today at 11 and its almost 1 am where i live i cant sleep i already feel sick and shaky and ive been researching how to survive an interview like crazy ive never had a job interview or a job for that matter before but i really like the idea of working here because as a page i wont be dealing with people that much and ill be mostly doing my own thing however i was informed that during my interview they will test me on the dewy decimal system and make me arrange a cart of books in alphabeticalnumbered order and that they will try to trick me to make sure im really paying attention i think this is the part im most nervous about because i just got a crash course in  this earlier yesterday with the before mentioned friend seeing as like most people who have never worked in a library i didnt know the dds at all and i know a little more now but im still not sure if ill be able to do well when under so much pressure from anxiety im extremely nervous and im so worried ill majorly screw something up how can i go in and nail this interview im super worked up'), (1333810, 'im just really confused when i said im surprised i didnt push him away i just meant usually if anyone comes near me i back off im not the type of person who likes to hug or kiss etc im just so confused i feel like im going crazy because i do like him but dont know how to act around him im not very experienced at my age youd think i would know how pathetic is that')])\n",
      "------------------------------\n",
      "((575957, 'just come back from the shop sick sick sick of feeling so ill i feel others in the shop think im really weird but what can i do i know i wouldnt be there if i didnt have the problems i have so what can anyone expect me to do im trying my best its so hard for others to understand the level of anxiety i have thats not a criticism at all just i had to go on the shop floor even though i wasnt comfortable and just felt i was dying with panic the other lady there was very nice but its pretty hard to understand my desperation had to keep escaping too many people around too close and i didnt want to be asked anything everything around me feels like a dream i just feel wrong so wrong bus back was manic attention was drawn to me for a second when the driver didnt stop long enough for me to get off i went back to my seat and didnt say anything it wasnt my fault he didnt stop obviously but im convinced i did something really really odd when people looked just horrible alone now feeling so fearful and stuck i know this all sounds petty but when i feel as ill as this everything that happens feels so intense i really dont think im well enough for that meal tomorrow now listening to euros childs ends that i received in the post and will make a cup of tea and a meal if i can get myself to move'), [(1586008, 'hi   i have been diagnosed with social and generalised anxiety for years and had numerous therapies and treatments for it but no therapy has seemed to ever work i believe this is due to being undiagnosed with borderline personality disorder im waiting for an assessment which im more than 100 sure i have however ever since taking sertraline for the past 34 months i am happy to say that i am really starting to feel the positive effects socially   i am posting in this forum as i think the problem i am facing is more to do with sa and not bpd for years i have felt very odd at random times around family especially christmas im not extremely close to my family but we do get on i just sometimes feel a feeling i find very very difficult explain its almost as if i feel sick and feel like i dont belong at all it feels quite like im out of my own body more recently i have started to get it with friends because of the sertraline i have started taking part in things i never would before i have seen my friends and done things soberly through the day much more than i ever have but when im sober around my friends i just feel really weird its not awkward its just like i feel sick and shouldnt be around them and dont belong there i dont know if its maybe because im so used to not doing things with them that when i do i maybe just cant remember how it feels its weird because the people i am most close withi do not feel it at all like i feel like i belong with my boyfriend and i could be with him all the time but as soon as we have a family meal i just feel weird and sickly and perhaps quite child like like i almost feel like i shouldnt have a boyfriend around my family and when im with my friends i feel like i shouldnt be there with them because its not like me   ive never ever described this feeling to a doctor before because i simply cant explain it but it really is a horrible feeling and i cant shake it off at all it ends up really ruining my time and i just want to go home and be alone even if im having a nice time there also doesnt seem to be anything relevant on google to it so im worried that it is only me that feels this   is there anyone that can relate to this at all i really really would appreciate any help or coping strategies    thank you'), (1089830, 'thanks for all the support and thanks for understanding it feels so good to get this out and have someone actually listen  im staying with someone right now i just dont know how long and i really dont wanna go back home its no good there and i feel like im better off without a home at this point its fine though i always figure out somewhere to go  i was hospitalized a few years ag  and thats when they diagnosed me with bpd  but not they never gave me any special therapy they put me on medications which never seemed to help it either made me sick i have a really weak stomach and i stay nausea a lot or it made it worse or it just didnt do anything at all i eventually stopped and refused to take anymore medications because it seemed no one listened  i feel like no one has ever taken me seriously and everything i do is just a cry for attention when really im really hurting and i cant stop hurting myself maybe it was my fault because i never told anyone what happened to me to when it happened i was scared and kept it bottled up for years until i didnt see a point anymore they got away with it and its my fault they did i dont think i can forgive myself for that   i dont know how to feel good and when i do feel happy it never last long and i always feel guilty and i dont deserve it smoking is the only way i can feel good and i know its not doing me any good really but i cant stop going a day without is the worst i find myself looking for crumbs and going out trying to find a way to get it and its bad i feel like ive made to many mistakes and theres no going back  im just really scared and lost right now and its nice to have someone to listen i feel like im alone and i dont think i can get through this alone thanks everyone for listening'), (1311900, 'im sorry youre going through this it makes it even harder to not be able to explain how horrible having anxiety for those who didnt experience it its worse when people underestimates it im sorry that i dont have any good advise i have the same problem im at that point where i just keep everything to myself because even when i tried to get anyone to understand no one did telling folks who didnt understand made me feel worse unadaptive to this world so many times felt like i really dont care if i just die didnt get to the point of taking my own life but certainly wont mind if something happen and i just died even felt like a relief the idea of just be done with everything i tried talking to my family and friends and no one seemed to get it everyone thinks that i just need to be strong get over it or im just over sensitive and dramatic it suffocates me what suffocates me more is that i feel like am completely alone and no matter what i say no one in my life  would ever understand i tried telling my girlfriend i bet she just thinks am exaggerating and being over sensitive since she didnt really give it much of attention or asked me about any of what i told her i guess she doesnt even wanna listen she simply doesnt believe it  im so sorry for what youre going through i know how hard this can be')])\n",
      "------------------------------\n",
      "((1588361, 'hey guys my name is marky im 20 years old and i think i need some advice its gonna be a long one so sorry about that   im gonna start from the beginning in october 2016 i was accused of a heinous crime of which i wont mention i was nfad about 2 weeks ago and was proven innocent since october 2016 ive slowly been becoming less and less social although i wasnt exactly confident growing up i was in foster care from 8 years old until i was 16 ran away early i have always been a shy lad but in the past year its gotten to the point where i dont leave the house anymore i probably go out once every few weeks i have been to my gp and am now taking 50mg sertraline for social anxiety i also smoke cannabis and have been since around december 2016 i know i need to kick this habit and i have tried infact at the time of writing i havent smoked anything so i guess its a start my family has a history of mental issues my sister has anxiety herself and my mother has severe depression and anxiety she leaves the house less than me and i hate it because i want her to enjoy life i think one of the reasons i cant motivate myself to go outside and actually do things is because my mum cant and i feel bad leaving her back here and me going out enjoying myself i am regularly invited to go out by my cousin and my best mate but 90 of the time i make excuses and i hate myself for it i used to go out with my step dad who i love as much as my mum every saturday and sunday and almost every other day of the week just doing odd things helping him with shopping etc but now i dont go with him anymore i think i went out around 3 weeks ago for 1 day said i was going to change myself and here i am again back at the beginning ive researched into how to motivate myself and how to get off my ass and actually do something but nothing works i hate the way my life is going and i just dont know how to fix it people have said to me in the past things like force yourself to go out and youll enjoy it but i dont i hate being around people especially people i dont know its the same reason i dont have a job i severely want one to fund myself and my family as were not exactly on the rich end of the spectrumin 2016 i did have an opportunity to do volunteer work had my step dad drive me there and i couldnt get out the car i was terrified of a volunteer job    i just dont know what to do ive been on the sertraline for probably 23 months and although ive felt a slight increase in my mood i still havent the motivation to do anything'), [(361046, 'im new to this and i guess im hoping someone can help me out please  for years ive been suffering from very low selfesteem and i feel generally awkward in the company of people i dont know  some days even leaving my house can be a huge challenge and when i do i cant wait to get back home  the last few months something has changed though  things have got worse very quickly  and im feeling completely and utterly unable to lead a normal life anymore  i hate being around people i cant go into the supermarket as i feel people are staring at me i cant speak to colleagues and sometimes even speaking to my mum is something id rather not do anymore  my job involves speaking to and meeting new people and im about to pack it in as i just cant do it anymore  i absolutely dread social events like parties or going to the pub etc and meeting and speaking to new people on a social level is just impossible these days  my husband plays in a band and going to watch him just fills me with dread as i know there will be lots of people there and ill be on my own  its hard to explain the way i feel  i wake up every morning thinking and hoping ill feel better and that all these silly feelings will disappear but they dont  in the past ive felt like this for a few days then it goes but this time ive been feeling like this for about a week now  my husband is very supportive but bless him i really dont think he knows what to do  i dont know what to do either as i dont understand whats happening to me  i remember being around 6 or 7 years old and being branded as shy and growing up always left me feeling awkward and quiet  i really have no real friends as everyone ive made friends with in the past have just let me down or drifted away  people who i considered as friends have turned out really not to be who i thought they were so i tend to treat people with caution now and find it impossible to trust people and make friends  i spend all my weekends alone husband works and thats actually the way i like it  even when my husband is at home i tend to spend all my time in the bedroom alone reading or on the computer  ive reached a stage now that i really dont know what to do  i have zero social life other than when i go out with my husband its only him and i and i feel fine with that and all i do is work then come home and shut myself away from the world  i hate speaking to people  i hate being in public  i feel so nervous around people i dont know  i dont trust people easily  i feel like im going crazy  i havent enjoyed life for a while as i worry myself sick about everything  i sleep for only around three hours or so per night  i dont know why im like this as ive been told im a really caring person and id do anything for anyone  i guess i just want to be normal  i was recently made redundant from a job id done for years and with people who id known for years  im self employed now and finding things so hard  i miss the company from the job i used to do and the people i knew there  my husband is lovely and i look at him and wish i was as confident as him  he has lots of friends  hes introduced me to them on nights out but i just end up feeling awkward and stupid and boring   i feel like ive got nothing interesting to say and people think im ridiculous  im sorry about this post as i feel like i sound really sorry for myself  ive typed how i feel to see if anyone can determine what the hell is wrong with me  i just want to get on with my life  i want to be able to walk out the door of my house without wanting to run back in the minute i see someone else in the street  i want to feel as though im not going crazy  the only time i feel like a normal human being is when ive had a few glasses of wine  i know this isnt a good thing as i cant spend the rest of my life being drunk just to fit in  thanks for reading this'), (1064658, 'hi just joined today   im a 20 year old female and ive had severe social anxiety for as long as i can remember its so bad its gotten to the point where i cant even answer my phone because i dont want to talk to anyone i dont like going to family gatherings i dont like being around people at all ive never been able to get a job i left school after year 11 and that was 4 years ago ive been struggling to find a job ever since but no one will give me the time of day and i know its because they can see i have low confidence and low self esteem and they dont want that around their customers i know getting a job would be good for me and give me routine in my life because all ive been doing for the past 4 years is sleeping 15 hours a day sometimes more  my family dont understand at all so i dont even bother trying to tell them how i feel   its my 21st birthday in less than a month and it hurts me that i wont even be having a party or celebrating it i cant have a party because i have no friends and hardly any family ive never had a boyfriend because well lets face it what guy wants a depressed sad girl   i have no motivation to do anything anymore sometimes i think suicide is the best option for me i have nothing to look forward to when i wake up so whats the point its just the same bullshit everyday im over it'), (306265, 'im 22 and i havent left my house for social reasons for about 2 years this is the first time ive spoken about myself in this way and im not sure exactly what im expecting to get out of it but i just felt like i should let something out and see what exactly that is im just going to type as things come to my head so my apologies if its hard work reading or if i come accross as an illiterate moron  although my  social anxiety has gotten me very depressed in the past my worst point was about 6months ago when i began planning suicide which i am past now ive always dealt with it but its getting alot worse and its just got to the point where i just want to sort my life out before its too late at 22 im yet to kiss a girl im not a bad looking guy and im in good health my appearance is definately not the problem the fact that im totally shit scared of social encounters is i guess im lonely i have so much love to give and yearn the same its not only that i have sa to deal with but the knock on effects of 2 years of depression aswell my enthusiasm has been drained out of me over time i have the motivation to do nothing nothing interests me and i find myself hating everything around me ive become such a sad bitter person and i hate it i just want to be happy and let the good person i am shine ive lost contact with all my friends from school which is probably a good thing since their idiots like 90 of people around my age with their moronic boozing lifestyles and pointless fb bullshit the thing is i just dont seem to connect with other people my age that well they all seem so simple maybe i just havent met the right people maybe im not looking in the right places either way its all pointless when i cant step out my house to meet those people anyway the fact is im not enjoying my life and its slowly slipping away from me since deciding suicide definately isnt an option i feel so trapped i dont see anyway of dealing with my problem lately i have been breaking down into tears out of sheer fustration that i cant get what i want out of life purely because i cannot function in social environments if i had the balls to just step out of my house for anything other than work my life would be so much better but i just cant do it im 22 im in good health im not a bad looking guy im smart i have a nice family i havent experienced anything traumatic i have a good job that pays well enough and sometimes i even enjoy i shouldnt be this unhappy nor do i deserve to be this unhappy when theres people in far worse situations than me    like i said im not sure what exactly im expecting to get out of posting this its a new experience for me i guess i just want to see what kind of advice people offer and their reactions to my situation   thanks')])\n",
      "------------------------------\n"
     ]
    }
   ],
   "source": [
    "#3\n",
    "print_posts(top_posts, my_pids, pids)"
   ]
  },
  {
   "cell_type": "code",
   "execution_count": 176,
   "metadata": {},
   "outputs": [
    {
     "name": "stdout",
     "output_type": "stream",
     "text": [
      "['hi abc123 sorry you feel lonely since finding this forum ive felt a lot less lonely you can make lots of friends here who will understand what you are going through feel free to pm me any time if you would like-----', 'hi there i suffer with social anxiety disorder and have no real life friends other then my partner so i know how you feel i would also like to make friends on here but do not really know how i hope you manage to make some friends-----', 'sorry youre going through so much atmi know how you must feelive had times like that myself you dont have to feel lonely here is there anywhere else you could goa friends house perhaps is there anything that would make you feel a little better about things-----']\n",
      "------------------------------\n",
      "['now here is another important question which is that why didnt my mind just shut down the fear alone by itself  since the fear alone by itself is the problem then why did it shut down the ability to experience pleasure along with it-----', 'was a mostly good day until this evening when i checked my work email got a less than warm response to my well wishes to my boss not mean just very meh i worry way too much about what she thinks of me and i wish i could stop at this point it feels so dysfunctional to deal with her everything else in life is generally pretty good but i catch her in an off moment which happen fairly often and my mood goes in the toilet and i spend the next day worrying constantly about it and how i can improve things really i dont think they can be but my mind races-----', 'i suffer from anxiety to the point of being sick i have to be occupieddistracted constantly because if i am left with myself i just cant cope i feel so desperatley lonely im not though i am in an amazing relationship and have wonderful friends but when i am on my own my heart races i go out of my mind i have seen my doctor the drugs dont make any difference i have had councellors and its like they are speaking another language and i am a brick wall they cant get through to i shake panic am paranoid and cant even cope with simple things i have exaggerated fears of being on my own and am now at breaking point i cant handle this anxiety anymore nothing really nothing seems to work-----']\n",
      "------------------------------\n",
      "['hi    i have found myself getting really nervous and uncomfortable round people as far as i can remember it started about 2 years ago i have always been a little nervous when meeting new people but now im getting really uncomfortable and nervous around close friends and even family to the point im making them nervous and uncomfortable and i know they notice but neither of us mention it this is random and can happen at anytime about any subject of conversation would really be great full of any advice or anybody know what could of caused it but the more i think about it the more it happens my father passed away nearly 3 years ago now and it affected me bad but i feel that now i have accepted he has gone and im getting on with my life maybe im still affected by it and could this be causing my nervous-----', 'i believe you about having the ears to breathe i found this out by mistake when i put my ear plugs in at night so that i could sleep i found it hard to breathe  i took them out then i could breathe again-----', 'i fear the way i breathe mostly in the car because i cant hear myself as well i feel like i force myself to breathe and end up holding my breathe and then it just gets very uncomfortable ive been crying because im sick of trying so hard just to be able to go to work or go to an appointment i havent gone to a friends house in over a year i havent really gone out to do things besides work and doctors appointments i have supportive family but they dont completely understand i feel kind of like the black sheep because everyone else is so outgoing and out there and im shy and have all these issues going on its like a personal struggle my own thoughts i see a therapist and im on medication trying to get the dosage right i know that theres steps that i have to take to push myself but im so afraid and exhausted i guess im kind of wondering if anyone else out there struggles with their breathing i know its a common thing among anxiety sufferers but id like to talk to someone else that has the same problem-----']\n",
      "------------------------------\n"
     ]
    }
   ],
   "source": [
    "#4\n",
    "print_query(queries, tf_query, vect, vectorizer, posts)"
   ]
  },
  {
   "cell_type": "markdown",
   "metadata": {
    "collapsed": true
   },
   "source": [
    "## Top words for short posts"
   ]
  },
  {
   "cell_type": "code",
   "execution_count": 17,
   "metadata": {
    "collapsed": true
   },
   "outputs": [],
   "source": [
    "df['postlen'] = df['post'].apply(lambda x: len(x.split()))"
   ]
  },
  {
   "cell_type": "markdown",
   "metadata": {},
   "source": [
    "**10 or less words**"
   ]
  },
  {
   "cell_type": "code",
   "execution_count": 98,
   "metadata": {
    "collapsed": true
   },
   "outputs": [],
   "source": [
    "df_10 = df[df['postlen'] <= 10]"
   ]
  },
  {
   "cell_type": "code",
   "execution_count": 186,
   "metadata": {
    "collapsed": true
   },
   "outputs": [],
   "source": [
    "vzer, vect = tfidf(df_10, m = 0.8)"
   ]
  },
  {
   "cell_type": "code",
   "execution_count": 187,
   "metadata": {},
   "outputs": [
    {
     "data": {
      "text/plain": [
       "['leighea',\n",
       " 'werewoman',\n",
       " 'winelol',\n",
       " 'wine',\n",
       " 'windmills718',\n",
       " 'httpwwwbbccouknewsuk18481943',\n",
       " 'boo',\n",
       " 'politician',\n",
       " 'orific',\n",
       " 'wildflow']"
      ]
     },
     "execution_count": 187,
     "metadata": {},
     "output_type": "execute_result"
    }
   ],
   "source": [
    "# avg tfidf - gives rarer words\n",
    "tw_tfavg(vzer,vect,10)"
   ]
  },
  {
   "cell_type": "code",
   "execution_count": 188,
   "metadata": {},
   "outputs": [
    {
     "data": {
      "text/plain": [
       "['thank',\n",
       " 'xx',\n",
       " 'forum',\n",
       " 'love',\n",
       " 'hope',\n",
       " 'good',\n",
       " 'im',\n",
       " 'welcom',\n",
       " 'feel',\n",
       " 'thi',\n",
       " 'hi',\n",
       " 'help',\n",
       " 'jennif',\n",
       " '1967',\n",
       " 'hug',\n",
       " 'dont',\n",
       " 'sorri',\n",
       " 'just',\n",
       " 'xxx',\n",
       " 'ye']"
      ]
     },
     "execution_count": 188,
     "metadata": {},
     "output_type": "execute_result"
    }
   ],
   "source": [
    "# total tfidf\n",
    "tw_tftot(vzer,vect,20)"
   ]
  },
  {
   "cell_type": "markdown",
   "metadata": {},
   "source": [
    "**10 <= 20 **"
   ]
  },
  {
   "cell_type": "code",
   "execution_count": 145,
   "metadata": {
    "collapsed": true
   },
   "outputs": [],
   "source": [
    "df_20 = df[(df['postlen'] <= 20) & (df['postlen'] > 10)]"
   ]
  },
  {
   "cell_type": "code",
   "execution_count": 194,
   "metadata": {
    "collapsed": true
   },
   "outputs": [],
   "source": [
    "vzer, vect = tfidf(df_20, m = 0.8)"
   ]
  },
  {
   "cell_type": "code",
   "execution_count": 165,
   "metadata": {},
   "outputs": [
    {
     "data": {
      "text/plain": [
       "['clap',\n",
       " 'ribbit',\n",
       " 'naughti',\n",
       " 'emdr',\n",
       " 'undertak',\n",
       " 'teen',\n",
       " 'cheat',\n",
       " 'ailment',\n",
       " 'card',\n",
       " 'chickpea']"
      ]
     },
     "execution_count": 165,
     "metadata": {},
     "output_type": "execute_result"
    }
   ],
   "source": [
    "# avg tfidf - gives rarer words\n",
    "tw_tfavg(vzer,vect,10)"
   ]
  },
  {
   "cell_type": "code",
   "execution_count": 195,
   "metadata": {},
   "outputs": [
    {
     "data": {
      "text/plain": [
       "['im', 'thank', 'feel', 'thi', 'hope', 'just', 'dont', 'help', 'think', 'hi']"
      ]
     },
     "execution_count": 195,
     "metadata": {},
     "output_type": "execute_result"
    }
   ],
   "source": [
    "# total tfidf\n",
    "tw_tftot(vzer,vect,10)"
   ]
  },
  {
   "cell_type": "markdown",
   "metadata": {},
   "source": [
    "**20 - 30 words**"
   ]
  },
  {
   "cell_type": "code",
   "execution_count": 167,
   "metadata": {
    "collapsed": true
   },
   "outputs": [],
   "source": [
    "df_30 = df[(df['postlen'] <= 30) & (df['postlen'] > 20)]"
   ]
  },
  {
   "cell_type": "code",
   "execution_count": 196,
   "metadata": {
    "collapsed": true
   },
   "outputs": [],
   "source": [
    "vzer, vect = tfidf(df_30, m = 0.8)"
   ]
  },
  {
   "cell_type": "code",
   "execution_count": 197,
   "metadata": {},
   "outputs": [
    {
     "data": {
      "text/plain": [
       "['tnx',\n",
       " 'hump',\n",
       " 'constent',\n",
       " 'yall',\n",
       " 'gough',\n",
       " 'ceremoni',\n",
       " 'pregablin',\n",
       " 'reluctantli',\n",
       " 'timelif',\n",
       " 'signal']"
      ]
     },
     "execution_count": 197,
     "metadata": {},
     "output_type": "execute_result"
    }
   ],
   "source": [
    "# avg tfidf - gives rarer words\n",
    "tw_tfavg(vzer,vect,10)"
   ]
  },
  {
   "cell_type": "code",
   "execution_count": 199,
   "metadata": {},
   "outputs": [
    {
     "data": {
      "text/plain": [
       "['im', 'feel', 'just', 'thi', 'dont', 'help', 'like', 'know', 'hope', 'think']"
      ]
     },
     "execution_count": 199,
     "metadata": {},
     "output_type": "execute_result"
    }
   ],
   "source": [
    "# total tfidf\n",
    "tw_tftot(vzer,vect,10)"
   ]
  },
  {
   "cell_type": "markdown",
   "metadata": {
    "collapsed": true
   },
   "source": [
    "**30 - 50 words**"
   ]
  },
  {
   "cell_type": "code",
   "execution_count": 200,
   "metadata": {
    "collapsed": true
   },
   "outputs": [],
   "source": [
    "df_50 = df[(df['postlen'] <= 50) & (df['postlen'] > 30)]"
   ]
  },
  {
   "cell_type": "code",
   "execution_count": 201,
   "metadata": {
    "collapsed": true
   },
   "outputs": [],
   "source": [
    "vzer, vect = tfidf(df_50, m = 0.8)"
   ]
  },
  {
   "cell_type": "code",
   "execution_count": 174,
   "metadata": {},
   "outputs": [
    {
     "data": {
      "text/plain": [
       "['tut',\n",
       " 'rabid',\n",
       " 'uncleplop',\n",
       " 'collarbon',\n",
       " 'b4',\n",
       " 'homeopathi',\n",
       " 'adob',\n",
       " 'freckl',\n",
       " 'closur',\n",
       " 'cs']"
      ]
     },
     "execution_count": 174,
     "metadata": {},
     "output_type": "execute_result"
    }
   ],
   "source": [
    "# avg tfidf - gives rarer words\n",
    "tw_tfavg(vzer,vect,10)"
   ]
  },
  {
   "cell_type": "code",
   "execution_count": 175,
   "metadata": {},
   "outputs": [
    {
     "data": {
      "text/plain": [
       "['im',\n",
       " 'feel',\n",
       " 'thi',\n",
       " 'just',\n",
       " 'help',\n",
       " 'dont',\n",
       " 'anxieti',\n",
       " 'think',\n",
       " 'like',\n",
       " 'know']"
      ]
     },
     "execution_count": 175,
     "metadata": {},
     "output_type": "execute_result"
    }
   ],
   "source": [
    "# total tfidf\n",
    "tw_tftot(vzer,vect,10)"
   ]
  },
  {
   "cell_type": "markdown",
   "metadata": {},
   "source": [
    "**100 words or less**"
   ]
  },
  {
   "cell_type": "code",
   "execution_count": 202,
   "metadata": {
    "collapsed": true
   },
   "outputs": [],
   "source": [
    "df_100 = df[(df['postlen'] <= 100) & (df['postlen'] > 50)]"
   ]
  },
  {
   "cell_type": "code",
   "execution_count": 203,
   "metadata": {
    "collapsed": true
   },
   "outputs": [],
   "source": [
    "vzer, vect = tfidf(df_100, m = 0.8)"
   ]
  },
  {
   "cell_type": "code",
   "execution_count": 178,
   "metadata": {},
   "outputs": [
    {
     "data": {
      "text/plain": [
       "['bla',\n",
       " 'relap',\n",
       " 'braingirl',\n",
       " 'fixer',\n",
       " 'dwarf',\n",
       " 'lice',\n",
       " 'zoe',\n",
       " 'propananlol',\n",
       " 'selfmed',\n",
       " 'flashdriv']"
      ]
     },
     "execution_count": 178,
     "metadata": {},
     "output_type": "execute_result"
    }
   ],
   "source": [
    "# avg tfidf - gives rarer words\n",
    "tw_tfavg(vzer,vect,10)"
   ]
  },
  {
   "cell_type": "code",
   "execution_count": 204,
   "metadata": {},
   "outputs": [
    {
     "data": {
      "text/plain": [
       "['im', 'feel', 'thi', 'just', 'help', 'like', 'wa', 'dont', 'think', 'anxieti']"
      ]
     },
     "execution_count": 204,
     "metadata": {},
     "output_type": "execute_result"
    }
   ],
   "source": [
    "# total tfidf\n",
    "tw_tftot(vzer,vect,10)"
   ]
  },
  {
   "cell_type": "markdown",
   "metadata": {},
   "source": [
    "- This would suggest at the least capping minimum words to at least 10 to say we start getting emotional words and if i wanted to say we should be seeing anxiety in the top words then i could cap it to 30"
   ]
  },
  {
   "cell_type": "markdown",
   "metadata": {},
   "source": [
    "# Building a classifier"
   ]
  },
  {
   "cell_type": "markdown",
   "metadata": {},
   "source": [
    "- using naive bayes classifier to help classify responder posts that are personal"
   ]
  },
  {
   "cell_type": "markdown",
   "metadata": {},
   "source": [
    "### get data ready for Naive Bayes"
   ]
  },
  {
   "cell_type": "markdown",
   "metadata": {},
   "source": [
    "- make assumption about what is personal and not personal\n",
    "- make assumption about what is health related"
   ]
  },
  {
   "cell_type": "code",
   "execution_count": 3,
   "metadata": {
    "collapsed": true
   },
   "outputs": [],
   "source": [
    "#ignore warnings\n",
    "import warnings\n",
    "warnings.filterwarnings(\"ignore\")"
   ]
  },
  {
   "cell_type": "markdown",
   "metadata": {},
   "source": [
    "**load pkl file with joblib**"
   ]
  },
  {
   "cell_type": "code",
   "execution_count": 20,
   "metadata": {
    "collapsed": true
   },
   "outputs": [],
   "source": [
    "#is anx_post df with manual labels\n",
    "df = joblib.load(\"df_man.pkl\")\n"
   ]
  },
  {
   "cell_type": "code",
   "execution_count": 21,
   "metadata": {},
   "outputs": [
    {
     "data": {
      "text/plain": [
       "9    23922\n",
       "0    18433\n",
       "1      710\n",
       "Name: health, dtype: int64"
      ]
     },
     "execution_count": 21,
     "metadata": {},
     "output_type": "execute_result"
    }
   ],
   "source": [
    "df['health'].value_counts()"
   ]
  },
  {
   "cell_type": "markdown",
   "metadata": {},
   "source": [
    "**Label Personal and Non-personal**\n",
    "- personal contains [\"i\", \"im\", \"ive\"] and doesnt contain [\"you\",\"youre\", \"your\"]: 0 is label\n",
    "- nonpersonal is the opposite: 1 is label"
   ]
  },
  {
   "cell_type": "code",
   "execution_count": 122,
   "metadata": {
    "collapsed": true
   },
   "outputs": [],
   "source": [
    "#change personal of posts that dont have you, youre, your and have personal pronouns to 0\n",
    "#change the rest to 1\n",
    "\n",
    "mask = (~(df['post'].str.contains('you|youre|your', regex = True)) & (df['post'].str.contains('i|im|ive', regex = True)))\n",
    "df['mask'] = mask\n",
    "df['personal'] = df['mask'].apply(lambda x: 0 if x else 1)\n",
    "df.drop('mask', axis = 1, inplace = True)"
   ]
  },
  {
   "cell_type": "code",
   "execution_count": 126,
   "metadata": {
    "collapsed": true
   },
   "outputs": [],
   "source": [
    "df_p = df[df['personal'] == 0]"
   ]
  },
  {
   "cell_type": "code",
   "execution_count": 129,
   "metadata": {},
   "outputs": [
    {
     "data": {
      "text/plain": [
       "0"
      ]
     },
     "execution_count": 129,
     "metadata": {},
     "output_type": "execute_result"
    }
   ],
   "source": [
    "sum(df_p['post'].str.contains('you|youre|your', regex = True))"
   ]
  },
  {
   "cell_type": "code",
   "execution_count": 130,
   "metadata": {
    "collapsed": true
   },
   "outputs": [],
   "source": [
    "#change health label of posts if contain clear anxiety words: label is 0, label is 1 if not\n",
    "\n",
    "mask = df['post'].str.contains(\"nxi|suffer|gad|GAD|worry|panic|fear\", regex = True)\n",
    "df['mask'] = mask\n",
    "df['health'] = df['mask'].apply(lambda x: 0 if x else 9)\n",
    "df.drop('mask', axis = 1, inplace = True)"
   ]
  },
  {
   "cell_type": "code",
   "execution_count": 8,
   "metadata": {},
   "outputs": [
    {
     "data": {
      "text/plain": [
       "9    24534\n",
       "0    18324\n",
       "1      160\n",
       "0       46\n",
       "         1\n",
       "Name: health, dtype: int64"
      ]
     },
     "execution_count": 8,
     "metadata": {},
     "output_type": "execute_result"
    }
   ],
   "source": [
    "df['health'].value_counts()"
   ]
  },
  {
   "cell_type": "code",
   "execution_count": 37,
   "metadata": {},
   "outputs": [
    {
     "data": {
      "text/plain": [
       "['mh_words.pkl']"
      ]
     },
     "execution_count": 37,
     "metadata": {},
     "output_type": "execute_result"
    }
   ],
   "source": [
    "joblib.dump(mh_words, 'mh_words.pkl')"
   ]
  },
  {
   "cell_type": "code",
   "execution_count": 32,
   "metadata": {
    "collapsed": true
   },
   "outputs": [],
   "source": [
    "mh_words = []\n",
    "def man_nohealth(df):\n",
    "    pd.set_option('max_colwidth' , 200)\n",
    "    proceed = 'y'\n",
    "    n = 0\n",
    "    for x in range(len(df.index)):\n",
    "        if n%20 == 0:\n",
    "            joblib.dump(df, \"df_man.pkl\")\n",
    "        i = np.random.randint(0, len(df.index))\n",
    "        if df.loc[i, 'health'] != 9:\n",
    "            continue\n",
    "        if proceed != 'y':\n",
    "            joblib.dump(df, \"df_man.pkl\")\n",
    "            print(\"done\")\n",
    "            break\n",
    "        if n%20 == 0:\n",
    "            proceed = input(\"Proceed?: \")\n",
    "        if df['post'].str.contains(\"nxi|help|suffer|strugg|gad|GAD|worry|panic|fear\", regex = True)[i]:\n",
    "            continue\n",
    "        else:\n",
    "            usr_input = (input(\"health(0) {} / {}: \".format(n, df['post'].iloc[i])))\n",
    "            label, word = usr_input.split()\n",
    "            if word not in string.digits:\n",
    "                mh_words.append(word)\n",
    "            while label not in string.digits or int(label) not in [0,1]:\n",
    "                print(\"Pick 0 or 1\")\n",
    "                label = (input(\"health(0) {} / {}: \".format(n, df['post'].iloc[i]))) \n",
    "            df.loc[i, 'health'] = int(label)\n",
    "            n += 1\n",
    "            \n",
    "        "
   ]
  },
  {
   "cell_type": "code",
   "execution_count": 33,
   "metadata": {},
   "outputs": [
    {
     "name": "stdout",
     "output_type": "stream",
     "text": [
      "Proceed?: y\n",
      "Proceed?: y\n",
      "health(0) 0 / i hate my main phone the ringing gives me the chills  text folk mainly thats easier: 1 1\n",
      "health(0) 1 / yeah but what are you going to do then you cant hide in your house forever unless you plan of moving out of the area or go out accompanied by a big scary dog and 2 henchmen: 1 1\n",
      "health(0) 2 / thanks guys   my gig is later in the afternoon than i thought it was by about two hours but im dressed and ill be leaving soon god i hope this turns out well ill let you know how it went: 1 1\n",
      "health(0) 3 / thanks jruth im very lucky to have such a supportive boyfriend i dont quite know what id do without him at the moment i have a trial week for a company for a permanent job whilst this is great to pay the bills knowing that i have to work in a strict office environment is making me miserable  i dont quite know what i want out of life and its making me feel sad: 0 sad\n",
      "health(0) 4 / just googled lepraxo i think over here it is known as escitalopram there should be someone who has been on it just dont know where they are yet: 1 1\n",
      "health(0) 5 / so cpu is a little fountain of being i like it   i think im the bit in the middle the lens of consciousness through which information from the senses streams on its way to the memory i have no body i have no logic i just have the ability to focus a bit on different questions and transform vision into action: 1 1\n",
      "health(0) 6 / hi lady with a golden heart  whats got you feeling like this   hope you can settle have a look around the forum and see if you can identify wih anything said  take care   ks: 1 1\n",
      "health(0) 7 / for my uni they record the ceremony so you could see if you can view last years so you know what the actual ceremony will be like: 1 1\n",
      "health(0) 8 / hi guys  thanks for your replies they made me feel a lot less lonely knowing theres people out there i can talk to  feeling a bit under the weather tonight hungover and a bit deflated always feel deflated or depressed after iv had a drink not sure why because iv done nothing wrong  abc123: 0 deflated\n",
      "health(0) 9 / just had this terrible urge to end it all  came so close to doing it  scared now of it happening again  not sure whats happening to me right now: 0 0\n",
      "health(0) 10 / thanks for replying i have no specific plan gp seeing me weekly at the moment not seeing psych until end of april thoughts have been building over last few days and are driving me mad makes me want to take more diazepam just to get to sleep thats what i did today pathetic i know but felt a safer option: 1 1\n",
      "health(0) 11 / i did read what you said and i replied to that quite explicitly  you are asking the question under the false supposition that class a drugs and life dependent upon them is worthwhile  it is never worthwhile and would be infinitely worse than a life with a mental health problem that cannot be medicated effectively   you dont seem to have much of an understanding about addiction to drugs otherwise you would have known how destructive and pointless they are: 1 1\n",
      "health(0) 12 / i say let the tears come  i agree with sprinkles in that crying can be very healing: 1 1\n",
      "health(0) 13 / hi mikei do this every day all the time conversations i have had how it did go  how it could have gone and the next conversation im going to have this does not make me feel goodthe thing that does make me feel better is knowing im not on my own im actually starting to feel ok the further i delve into this site: 1 1\n",
      "health(0) 14 / sorry to hear that  most people have no understanding of what it is like to experience mental illness even when a family member has it they see from the outside but no real understanding  i hope you feel better and dont have any more hallucinations xx: 1 1\n",
      "health(0) 15 / happy birthday abertha  hope you do manage to get out for lunch: 1 1\n",
      "health(0) 16 / hi lonelynights  messy  thanks for all your ideas i was focusing more of the surroundings watching where i was going ie looking at trees the scenery and also listening to my other half and his mother talking was also putting me off i guess in some ways i know i am with my other half and his mum as i feel safe  i was so nervous about going but when i got there it wasnt as bad as i expected but i was still nervous inside because i started to sweat i kept fidgetting and i was also picking at my fingers still its all over and done with now just got to start looking towards the future  thank you both so much though x: 0 nervous\n",
      "health(0) 17 / thank you so much for welcoming me and for responding to my post deep down i agree with everything youve said i really do even my friend said no wonder he cant keep a woman apparently hes had 3 really bad relationships this one will be the worst because im not standing for this shit anymore he asks me if im ok over a hundred times a day well havent counted but it seems that many as i type this hes asked how i am again what the fuck if im at my friends house and i dont respond right away he says oh youre at so and sos i knew you were i can always tell its really over the top i speak to him all day long from the moment i wake up till the moment i go to sleep what more does he want he sends me messages from like 5am when he wakes up plus he has a child with someone yet im not allowed to have a problem with it but he has a problem with me talking to my friend: 1 1\n",
      "health(0) 18 / i can spend days feeling certain that the worst case scenarios will come true then mercifully it just stops suddenly the future isnt as scary it feels like a physical switch being thrown almost instantaneous i dont get it: 0 worst\n",
      "health(0) 19 / at my local shop today i was having a hard time making out what the shop keep was saying to me so all going according to plan yeah: 1 1\n",
      "Proceed?: y\n",
      "Proceed?: y\n",
      "health(0) 20 / hi all hi unique1  im ok from the fall nothing sprained anyway thankfully     have recovered from mental health ailments following on from the fall later on during the day and evening and being very tired me managed to have a very good overnighter of quality of sleep     therefore i am very much fine on 25ml of medication today   anyway raring to go for tomorrow for attendance for an exercise group within my day centre one of their branches so ill be out for the whole of the afternoon from 1230 or 1215pm     i think they have got a computer there so ill update when i might have a moment     in terms of how i am following on from the fall mental health wise i mean    i have been and will resume knitting this evening and combined with listening to music via cd walkman and headphones   natalie: 1 1\n",
      "health(0) 21 / no he didnt tell me anything in fact he kept saying all along that i had an anger problem which i dont but of course how would anyone feel if you leave your life country behind to join someone who makes you believe he wants marriage and family and then you find out it is all lies of course i was angry   his mother wouldnt say if he has a mental problem i think all she wants is to find a woman to take care of him and replace her duties because she seems to take so much care of him for a 48 year old   and the fact that he is taking anti depressants on and off mixed with alcohol withdraws from them suddenlyhe also takes paracetamol on a daily basis and he never told me why when he first came to visit me here i asked him and considering he is a doctor he told me it was for jet lag and viruses but come on i saw him taking paracetamol on a daily basis from 4 to 6 tablets for the next 5 months he never told me why: 1 1\n",
      "health(0) 22 / hi  i can understand why medication is not that appealing for me the choice was relatively easy as i had become very ill and suicidal i was so desperate i would have tried anything the medication and the support from the mental health team probably saved my life do i wish i was not on medication definitely can i lead a reasonably normal life without it nope i am on a snri and antipsychotics and a mood stabilizer although mainly for epilepsy you might find that a course of antidepressants give you enough of a lift to allow you to start making sense of things again medication is not the whole answer as really it deals with the symptoms and does not cure the root cause but they might give you breathing room it is also a good place to start before trying talking therapies like cbt and cat because you might be in a more receptive state of mind they wont put you straight on the more scary drugs like antipsychotics so you will have some time to test the water   bw bm: 0\n"
     ]
    },
    {
     "ename": "ValueError",
     "evalue": "not enough values to unpack (expected 2, got 1)",
     "output_type": "error",
     "traceback": [
      "\u001b[0;31m---------------------------------------------------------------------------\u001b[0m",
      "\u001b[0;31mValueError\u001b[0m                                Traceback (most recent call last)",
      "\u001b[0;32m<ipython-input-33-4cafb49c0ed5>\u001b[0m in \u001b[0;36m<module>\u001b[0;34m()\u001b[0m\n\u001b[0;32m----> 1\u001b[0;31m \u001b[0mman_nohealth\u001b[0m\u001b[0;34m(\u001b[0m\u001b[0mdf\u001b[0m\u001b[0;34m)\u001b[0m\u001b[0;34m\u001b[0m\u001b[0m\n\u001b[0m",
      "\u001b[0;32m<ipython-input-32-c0bc87629e00>\u001b[0m in \u001b[0;36mman_nohealth\u001b[0;34m(df)\u001b[0m\n\u001b[1;32m     20\u001b[0m         \u001b[0;32melse\u001b[0m\u001b[0;34m:\u001b[0m\u001b[0;34m\u001b[0m\u001b[0m\n\u001b[1;32m     21\u001b[0m             \u001b[0musr_input\u001b[0m \u001b[0;34m=\u001b[0m \u001b[0;34m(\u001b[0m\u001b[0minput\u001b[0m\u001b[0;34m(\u001b[0m\u001b[0;34m\"health(0) {} / {}: \"\u001b[0m\u001b[0;34m.\u001b[0m\u001b[0mformat\u001b[0m\u001b[0;34m(\u001b[0m\u001b[0mn\u001b[0m\u001b[0;34m,\u001b[0m \u001b[0mdf\u001b[0m\u001b[0;34m[\u001b[0m\u001b[0;34m'post'\u001b[0m\u001b[0;34m]\u001b[0m\u001b[0;34m.\u001b[0m\u001b[0miloc\u001b[0m\u001b[0;34m[\u001b[0m\u001b[0mi\u001b[0m\u001b[0;34m]\u001b[0m\u001b[0;34m)\u001b[0m\u001b[0;34m)\u001b[0m\u001b[0;34m)\u001b[0m\u001b[0;34m\u001b[0m\u001b[0m\n\u001b[0;32m---> 22\u001b[0;31m             \u001b[0mlabel\u001b[0m\u001b[0;34m,\u001b[0m \u001b[0mword\u001b[0m \u001b[0;34m=\u001b[0m \u001b[0musr_input\u001b[0m\u001b[0;34m.\u001b[0m\u001b[0msplit\u001b[0m\u001b[0;34m(\u001b[0m\u001b[0;34m)\u001b[0m\u001b[0;34m\u001b[0m\u001b[0m\n\u001b[0m\u001b[1;32m     23\u001b[0m             \u001b[0;32mif\u001b[0m \u001b[0mword\u001b[0m \u001b[0;32mnot\u001b[0m \u001b[0;32min\u001b[0m \u001b[0mstring\u001b[0m\u001b[0;34m.\u001b[0m\u001b[0mdigits\u001b[0m\u001b[0;34m:\u001b[0m\u001b[0;34m\u001b[0m\u001b[0m\n\u001b[1;32m     24\u001b[0m                 \u001b[0mmh_words\u001b[0m\u001b[0;34m.\u001b[0m\u001b[0mappend\u001b[0m\u001b[0;34m(\u001b[0m\u001b[0mword\u001b[0m\u001b[0;34m)\u001b[0m\u001b[0;34m\u001b[0m\u001b[0m\n",
      "\u001b[0;31mValueError\u001b[0m: not enough values to unpack (expected 2, got 1)"
     ]
    }
   ],
   "source": [
    "man_nohealth(df)"
   ]
  },
  {
   "cell_type": "markdown",
   "metadata": {},
   "source": [
    "## Naive Bayes"
   ]
  },
  {
   "cell_type": "code",
   "execution_count": 22,
   "metadata": {
    "collapsed": true
   },
   "outputs": [],
   "source": [
    "df_know = df[(df['health'] == 1) | (df['health'] == 0)] \n",
    "df_know.reset_index(drop = True, inplace = True)"
   ]
  },
  {
   "cell_type": "code",
   "execution_count": 23,
   "metadata": {
    "collapsed": true
   },
   "outputs": [],
   "source": [
    "df_predict = df[df['health'] == 9]\n",
    "df_predict.reset_index(drop = True, inplace = True)"
   ]
  },
  {
   "cell_type": "code",
   "execution_count": 24,
   "metadata": {
    "collapsed": true
   },
   "outputs": [],
   "source": [
    "#create docs\n",
    "docs = [df_know['post'][i] for i in range(0,len(df_know))]\n",
    "\n",
    "#get tokens\n",
    "tokens = set()\n",
    "for doc in docs:\n",
    "    tokens.update(doc.split())\n",
    "    \n",
    "tokens_list = list(tokens)\n",
    "\n",
    "vocab_dict = {word: i for i, word in enumerate(tokens_list)}\n",
    "\n",
    "import numpy as np\n",
    "\n",
    "word_counts = np.zeros((len(docs), len(tokens)), dtype = 'float32')\n",
    "for doc_id, words in enumerate(docs):\n",
    "    for word in words.split():\n",
    "        word_id = vocab_dict[word]\n",
    "        word_counts[doc_id][word_id] += 1"
   ]
  },
  {
   "cell_type": "markdown",
   "metadata": {},
   "source": [
    "## Train Naive Bayes Model"
   ]
  },
  {
   "cell_type": "markdown",
   "metadata": {},
   "source": [
    "**create Naive Bayes instance**"
   ]
  },
  {
   "cell_type": "code",
   "execution_count": 25,
   "metadata": {
    "collapsed": true
   },
   "outputs": [],
   "source": [
    "clf = MultinomialNB()"
   ]
  },
  {
   "cell_type": "markdown",
   "metadata": {},
   "source": [
    "**Train,Test split**"
   ]
  },
  {
   "cell_type": "code",
   "execution_count": 26,
   "metadata": {
    "collapsed": true
   },
   "outputs": [],
   "source": [
    "X = word_counts\n",
    "y = np.array(df_know['health'])\n",
    "\n",
    "X_train, X_test, y_train, y_test = train_test_split(X, y, test_size = .20, random_state = 38)"
   ]
  },
  {
   "cell_type": "markdown",
   "metadata": {},
   "source": [
    "**Fit model**"
   ]
  },
  {
   "cell_type": "code",
   "execution_count": 27,
   "metadata": {},
   "outputs": [
    {
     "data": {
      "text/plain": [
       "MultinomialNB(alpha=1.0, class_prior=None, fit_prior=True)"
      ]
     },
     "execution_count": 27,
     "metadata": {},
     "output_type": "execute_result"
    }
   ],
   "source": [
    "clf.fit(X_train, y_train)"
   ]
  },
  {
   "cell_type": "markdown",
   "metadata": {},
   "source": [
    "**Test model accuracy (based on assumptions i already made)**"
   ]
  },
  {
   "cell_type": "code",
   "execution_count": 28,
   "metadata": {},
   "outputs": [
    {
     "data": {
      "text/plain": [
       "0.96369809349699664"
      ]
     },
     "execution_count": 28,
     "metadata": {},
     "output_type": "execute_result"
    }
   ],
   "source": [
    "clf.score(X_test,y_test)"
   ]
  },
  {
   "cell_type": "markdown",
   "metadata": {},
   "source": [
    "## Predict with NB"
   ]
  },
  {
   "cell_type": "markdown",
   "metadata": {},
   "source": [
    "- Predict on uncertain responders"
   ]
  },
  {
   "cell_type": "markdown",
   "metadata": {},
   "source": [
    "**create docs**"
   ]
  },
  {
   "cell_type": "code",
   "execution_count": 29,
   "metadata": {
    "collapsed": true
   },
   "outputs": [],
   "source": [
    "docs = df_predict['post']"
   ]
  },
  {
   "cell_type": "markdown",
   "metadata": {},
   "source": [
    "**get word counts**"
   ]
  },
  {
   "cell_type": "code",
   "execution_count": 30,
   "metadata": {
    "collapsed": true
   },
   "outputs": [],
   "source": [
    "import numpy as np\n",
    "\n",
    "word_counts = np.zeros((len(docs), len(tokens)), dtype = 'float32')\n",
    "for doc_id, words in enumerate(docs):\n",
    "    for word in words.split():\n",
    "        if word not in vocab_dict:\n",
    "            continue\n",
    "        else:\n",
    "            word_id = vocab_dict[word]\n",
    "            word_counts[doc_id][word_id] += 1"
   ]
  },
  {
   "cell_type": "markdown",
   "metadata": {},
   "source": [
    "**soft classification**"
   ]
  },
  {
   "cell_type": "code",
   "execution_count": 31,
   "metadata": {
    "collapsed": true
   },
   "outputs": [],
   "source": [
    "X = word_counts\n",
    "\n",
    "labels_proba = clf.predict_proba(X)"
   ]
  },
  {
   "cell_type": "markdown",
   "metadata": {},
   "source": [
    "**hard classification**"
   ]
  },
  {
   "cell_type": "code",
   "execution_count": 32,
   "metadata": {
    "collapsed": true
   },
   "outputs": [],
   "source": [
    "labels = clf.predict(X)\n"
   ]
  },
  {
   "cell_type": "markdown",
   "metadata": {},
   "source": [
    "**Add predicted soft and hard labels**"
   ]
  },
  {
   "cell_type": "code",
   "execution_count": 33,
   "metadata": {},
   "outputs": [
    {
     "name": "stderr",
     "output_type": "stream",
     "text": [
      "/home/ubuntu/anaconda3/lib/python3.6/site-packages/ipykernel_launcher.py:1: SettingWithCopyWarning: \n",
      "A value is trying to be set on a copy of a slice from a DataFrame.\n",
      "Try using .loc[row_indexer,col_indexer] = value instead\n",
      "\n",
      "See the caveats in the documentation: http://pandas.pydata.org/pandas-docs/stable/indexing.html#indexing-view-versus-copy\n",
      "  \"\"\"Entry point for launching an IPython kernel.\n",
      "/home/ubuntu/anaconda3/lib/python3.6/site-packages/ipykernel_launcher.py:2: SettingWithCopyWarning: \n",
      "A value is trying to be set on a copy of a slice from a DataFrame.\n",
      "Try using .loc[row_indexer,col_indexer] = value instead\n",
      "\n",
      "See the caveats in the documentation: http://pandas.pydata.org/pandas-docs/stable/indexing.html#indexing-view-versus-copy\n",
      "  \n"
     ]
    }
   ],
   "source": [
    "df_predict['hard'] = labels\n",
    "df_predict['soft'] = labels_proba[:,0]"
   ]
  },
  {
   "cell_type": "markdown",
   "metadata": {},
   "source": [
    "**Check prediction**"
   ]
  },
  {
   "cell_type": "code",
   "execution_count": 40,
   "metadata": {},
   "outputs": [
    {
     "name": "stderr",
     "output_type": "stream",
     "text": [
      "/home/ubuntu/anaconda3/lib/python3.6/site-packages/ipykernel_launcher.py:1: SettingWithCopyWarning: \n",
      "A value is trying to be set on a copy of a slice from a DataFrame\n",
      "\n",
      "See the caveats in the documentation: http://pandas.pydata.org/pandas-docs/stable/indexing.html#indexing-view-versus-copy\n",
      "  \"\"\"Entry point for launching an IPython kernel.\n"
     ]
    },
    {
     "data": {
      "text/html": [
       "<div>\n",
       "<style>\n",
       "    .dataframe thead tr:only-child th {\n",
       "        text-align: right;\n",
       "    }\n",
       "\n",
       "    .dataframe thead th {\n",
       "        text-align: left;\n",
       "    }\n",
       "\n",
       "    .dataframe tbody tr th {\n",
       "        vertical-align: top;\n",
       "    }\n",
       "</style>\n",
       "<table border=\"1\" class=\"dataframe\">\n",
       "  <thead>\n",
       "    <tr style=\"text-align: right;\">\n",
       "      <th></th>\n",
       "      <th>pid</th>\n",
       "      <th>user</th>\n",
       "      <th>post_title</th>\n",
       "      <th>post</th>\n",
       "      <th>post_type</th>\n",
       "      <th>mood</th>\n",
       "      <th>thread_title</th>\n",
       "      <th>forum_name</th>\n",
       "      <th>postlen</th>\n",
       "      <th>personal</th>\n",
       "      <th>health</th>\n",
       "      <th>soft</th>\n",
       "    </tr>\n",
       "  </thead>\n",
       "  <tbody>\n",
       "    <tr>\n",
       "      <th>0</th>\n",
       "      <td>1594183</td>\n",
       "      <td>rachelangelo</td>\n",
       "      <td>nan</td>\n",
       "      <td>im sorry youre dealing with this i dont know i...</td>\n",
       "      <td>responder</td>\n",
       "      <td>nan</td>\n",
       "      <td>Sudden Onset Anxiety - Please help!</td>\n",
       "      <td>Generalized Anxiety Disorder</td>\n",
       "      <td>52</td>\n",
       "      <td>1</td>\n",
       "      <td>0</td>\n",
       "      <td>1.000000</td>\n",
       "    </tr>\n",
       "    <tr>\n",
       "      <th>1</th>\n",
       "      <td>586850</td>\n",
       "      <td>oneday</td>\n",
       "      <td>nan</td>\n",
       "      <td>hi ainsworth i came across these stacks of ide...</td>\n",
       "      <td>responder</td>\n",
       "      <td>nan</td>\n",
       "      <td>didnt know where to post this</td>\n",
       "      <td>Social Anxiety</td>\n",
       "      <td>143</td>\n",
       "      <td>1</td>\n",
       "      <td>0</td>\n",
       "      <td>1.000000</td>\n",
       "    </tr>\n",
       "    <tr>\n",
       "      <th>2</th>\n",
       "      <td>586857</td>\n",
       "      <td>wendolene26</td>\n",
       "      <td>nan</td>\n",
       "      <td>the beatles help album was the first cd album ...</td>\n",
       "      <td>responder</td>\n",
       "      <td>Paranoid</td>\n",
       "      <td>didnt know where to post this</td>\n",
       "      <td>Social Anxiety</td>\n",
       "      <td>46</td>\n",
       "      <td>0</td>\n",
       "      <td>0</td>\n",
       "      <td>1.000000</td>\n",
       "    </tr>\n",
       "    <tr>\n",
       "      <th>3</th>\n",
       "      <td>1597102</td>\n",
       "      <td>bubule4o1</td>\n",
       "      <td>Help</td>\n",
       "      <td>i really need help    i always had some of tho...</td>\n",
       "      <td>author</td>\n",
       "      <td>nan</td>\n",
       "      <td>Help</td>\n",
       "      <td>Generalized Anxiety Disorder</td>\n",
       "      <td>285</td>\n",
       "      <td>1</td>\n",
       "      <td>0</td>\n",
       "      <td>1.000000</td>\n",
       "    </tr>\n",
       "    <tr>\n",
       "      <th>4</th>\n",
       "      <td>1597287</td>\n",
       "      <td>ziedite</td>\n",
       "      <td>nan</td>\n",
       "      <td>hi there im not qualified at all to respond bu...</td>\n",
       "      <td>responder</td>\n",
       "      <td>Crappy</td>\n",
       "      <td>Help</td>\n",
       "      <td>Generalized Anxiety Disorder</td>\n",
       "      <td>52</td>\n",
       "      <td>1</td>\n",
       "      <td>0</td>\n",
       "      <td>1.000000</td>\n",
       "    </tr>\n",
       "    <tr>\n",
       "      <th>5</th>\n",
       "      <td>536327</td>\n",
       "      <td>yesican</td>\n",
       "      <td>social anxiety... causing me to drink too much</td>\n",
       "      <td>hello everybody  i have a problem  i cant seem...</td>\n",
       "      <td>author</td>\n",
       "      <td>Blah</td>\n",
       "      <td>social anxiety... causing me to drink too much</td>\n",
       "      <td>Social Anxiety</td>\n",
       "      <td>267</td>\n",
       "      <td>0</td>\n",
       "      <td>0</td>\n",
       "      <td>1.000000</td>\n",
       "    </tr>\n",
       "    <tr>\n",
       "      <th>6</th>\n",
       "      <td>536348</td>\n",
       "      <td>esseff</td>\n",
       "      <td>nan</td>\n",
       "      <td>so youre describing something many people expe...</td>\n",
       "      <td>responder</td>\n",
       "      <td>nan</td>\n",
       "      <td>social anxiety... causing me to drink too much</td>\n",
       "      <td>Social Anxiety</td>\n",
       "      <td>268</td>\n",
       "      <td>1</td>\n",
       "      <td>0</td>\n",
       "      <td>1.000000</td>\n",
       "    </tr>\n",
       "    <tr>\n",
       "      <th>7</th>\n",
       "      <td>536358</td>\n",
       "      <td>Hellbilly</td>\n",
       "      <td>nan</td>\n",
       "      <td>geordies    people that live in newcastle  uk ...</td>\n",
       "      <td>responder</td>\n",
       "      <td>Breezy</td>\n",
       "      <td>social anxiety... causing me to drink too much</td>\n",
       "      <td>Social Anxiety</td>\n",
       "      <td>62</td>\n",
       "      <td>1</td>\n",
       "      <td>0</td>\n",
       "      <td>1.000000</td>\n",
       "    </tr>\n",
       "    <tr>\n",
       "      <th>8</th>\n",
       "      <td>536359</td>\n",
       "      <td>yesican</td>\n",
       "      <td>nan</td>\n",
       "      <td>i wish it was just one beer one beer doesnt do...</td>\n",
       "      <td>responder</td>\n",
       "      <td>Blah</td>\n",
       "      <td>social anxiety... causing me to drink too much</td>\n",
       "      <td>Social Anxiety</td>\n",
       "      <td>97</td>\n",
       "      <td>0</td>\n",
       "      <td>0</td>\n",
       "      <td>1.000000</td>\n",
       "    </tr>\n",
       "    <tr>\n",
       "      <th>9</th>\n",
       "      <td>1590554</td>\n",
       "      <td>HoggiePoggie</td>\n",
       "      <td>nan</td>\n",
       "      <td>it isnt your fault at all nor is it something ...</td>\n",
       "      <td>responder</td>\n",
       "      <td>nan</td>\n",
       "      <td>Struggling with anxiety.. am i a bad person?</td>\n",
       "      <td>Generalized Anxiety Disorder</td>\n",
       "      <td>81</td>\n",
       "      <td>1</td>\n",
       "      <td>0</td>\n",
       "      <td>1.000000</td>\n",
       "    </tr>\n",
       "    <tr>\n",
       "      <th>10</th>\n",
       "      <td>540024</td>\n",
       "      <td>Allyboo</td>\n",
       "      <td>nan</td>\n",
       "      <td>i encourage you to explore more help too for e...</td>\n",
       "      <td>responder</td>\n",
       "      <td>Blah</td>\n",
       "      <td>social anxiety... causing me to drink too much</td>\n",
       "      <td>Social Anxiety</td>\n",
       "      <td>20</td>\n",
       "      <td>1</td>\n",
       "      <td>0</td>\n",
       "      <td>1.000000</td>\n",
       "    </tr>\n",
       "    <tr>\n",
       "      <th>11</th>\n",
       "      <td>1589458</td>\n",
       "      <td>exyz</td>\n",
       "      <td>nan</td>\n",
       "      <td>well that was blinking helpful of the dean  do...</td>\n",
       "      <td>responder</td>\n",
       "      <td>nan</td>\n",
       "      <td>Am about to quit Med school because of anxiety</td>\n",
       "      <td>Generalized Anxiety Disorder</td>\n",
       "      <td>95</td>\n",
       "      <td>1</td>\n",
       "      <td>0</td>\n",
       "      <td>1.000000</td>\n",
       "    </tr>\n",
       "    <tr>\n",
       "      <th>12</th>\n",
       "      <td>1589485</td>\n",
       "      <td>HoggiePoggie</td>\n",
       "      <td>nan</td>\n",
       "      <td>deans arent really there for student support m...</td>\n",
       "      <td>responder</td>\n",
       "      <td>nan</td>\n",
       "      <td>Am about to quit Med school because of anxiety</td>\n",
       "      <td>Generalized Anxiety Disorder</td>\n",
       "      <td>40</td>\n",
       "      <td>1</td>\n",
       "      <td>0</td>\n",
       "      <td>1.000000</td>\n",
       "    </tr>\n",
       "    <tr>\n",
       "      <th>13</th>\n",
       "      <td>554104</td>\n",
       "      <td>Hellbilly</td>\n",
       "      <td>nan</td>\n",
       "      <td>john  my god been there mate  its bloody tough...</td>\n",
       "      <td>responder</td>\n",
       "      <td>Breezy</td>\n",
       "      <td>hi all  am new to this so sorry if its all in ...</td>\n",
       "      <td>Social Anxiety</td>\n",
       "      <td>120</td>\n",
       "      <td>1</td>\n",
       "      <td>0</td>\n",
       "      <td>1.000000</td>\n",
       "    </tr>\n",
       "    <tr>\n",
       "      <th>14</th>\n",
       "      <td>1589418</td>\n",
       "      <td>necessaryhealing</td>\n",
       "      <td>nan</td>\n",
       "      <td>your family has an emotional issue background ...</td>\n",
       "      <td>responder</td>\n",
       "      <td>Busy</td>\n",
       "      <td>I'm unmotivated to do anything in life, and i ...</td>\n",
       "      <td>Generalized Anxiety Disorder</td>\n",
       "      <td>104</td>\n",
       "      <td>1</td>\n",
       "      <td>0</td>\n",
       "      <td>1.000000</td>\n",
       "    </tr>\n",
       "    <tr>\n",
       "      <th>15</th>\n",
       "      <td>1589432</td>\n",
       "      <td>calypso</td>\n",
       "      <td>nan</td>\n",
       "      <td>its a good idea to try some therapy to find ou...</td>\n",
       "      <td>responder</td>\n",
       "      <td>Angelic</td>\n",
       "      <td>I'm unmotivated to do anything in life, and i ...</td>\n",
       "      <td>Generalized Anxiety Disorder</td>\n",
       "      <td>114</td>\n",
       "      <td>1</td>\n",
       "      <td>0</td>\n",
       "      <td>1.000000</td>\n",
       "    </tr>\n",
       "    <tr>\n",
       "      <th>16</th>\n",
       "      <td>1589433</td>\n",
       "      <td>RickD67</td>\n",
       "      <td>Do I have GAD, its been 2 years and I still do...</td>\n",
       "      <td>so i get what i call episodes seemingly random...</td>\n",
       "      <td>author</td>\n",
       "      <td>nan</td>\n",
       "      <td>Do I have GAD, its been 2 years and I still do...</td>\n",
       "      <td>Generalized Anxiety Disorder</td>\n",
       "      <td>507</td>\n",
       "      <td>1</td>\n",
       "      <td>0</td>\n",
       "      <td>1.000000</td>\n",
       "    </tr>\n",
       "    <tr>\n",
       "      <th>17</th>\n",
       "      <td>944928</td>\n",
       "      <td>Toasted Crumpet</td>\n",
       "      <td>nan</td>\n",
       "      <td>i think you do have other options and if you k...</td>\n",
       "      <td>responder</td>\n",
       "      <td>Aggressive</td>\n",
       "      <td>Thoughts about killing my brother.</td>\n",
       "      <td>Anxiety</td>\n",
       "      <td>73</td>\n",
       "      <td>1</td>\n",
       "      <td>0</td>\n",
       "      <td>1.000000</td>\n",
       "    </tr>\n",
       "    <tr>\n",
       "      <th>18</th>\n",
       "      <td>1589495</td>\n",
       "      <td>RickD67</td>\n",
       "      <td>nan</td>\n",
       "      <td>no i dont struggle at all with those 2 events ...</td>\n",
       "      <td>responder</td>\n",
       "      <td>nan</td>\n",
       "      <td>Do I have GAD, its been 2 years and I still do...</td>\n",
       "      <td>Generalized Anxiety Disorder</td>\n",
       "      <td>55</td>\n",
       "      <td>0</td>\n",
       "      <td>0</td>\n",
       "      <td>1.000000</td>\n",
       "    </tr>\n",
       "    <tr>\n",
       "      <th>19</th>\n",
       "      <td>554982</td>\n",
       "      <td>chess</td>\n",
       "      <td>nan</td>\n",
       "      <td>i dont have any tips im afraid but didnt want ...</td>\n",
       "      <td>responder</td>\n",
       "      <td>Crappy</td>\n",
       "      <td>i hate talking to ANYBODY!</td>\n",
       "      <td>Social Anxiety</td>\n",
       "      <td>27</td>\n",
       "      <td>1</td>\n",
       "      <td>0</td>\n",
       "      <td>1.000000</td>\n",
       "    </tr>\n",
       "    <tr>\n",
       "      <th>20</th>\n",
       "      <td>1588461</td>\n",
       "      <td>jjmumbai</td>\n",
       "      <td>Similar here</td>\n",
       "      <td>my first attack started with derealisation a f...</td>\n",
       "      <td>responder</td>\n",
       "      <td>nan</td>\n",
       "      <td>Derealization and panic disorder.</td>\n",
       "      <td>Generalized Anxiety Disorder</td>\n",
       "      <td>168</td>\n",
       "      <td>1</td>\n",
       "      <td>0</td>\n",
       "      <td>1.000000</td>\n",
       "    </tr>\n",
       "    <tr>\n",
       "      <th>21</th>\n",
       "      <td>566149</td>\n",
       "      <td>Hope2366less</td>\n",
       "      <td>nan</td>\n",
       "      <td>i cant sympathise you seem very lucky to me ha...</td>\n",
       "      <td>responder</td>\n",
       "      <td>Pensive</td>\n",
       "      <td>what a bloody life!!</td>\n",
       "      <td>Social Anxiety</td>\n",
       "      <td>50</td>\n",
       "      <td>1</td>\n",
       "      <td>0</td>\n",
       "      <td>1.000000</td>\n",
       "    </tr>\n",
       "    <tr>\n",
       "      <th>22</th>\n",
       "      <td>1584099</td>\n",
       "      <td>Fairy Lucretia</td>\n",
       "      <td>sorry to be a nuisance but need help</td>\n",
       "      <td>im worried sick  my aunt has diarreah cant spe...</td>\n",
       "      <td>author</td>\n",
       "      <td>Angelic</td>\n",
       "      <td>sorry to be a nuisance but need help</td>\n",
       "      <td>Generalized Anxiety Disorder</td>\n",
       "      <td>72</td>\n",
       "      <td>0</td>\n",
       "      <td>0</td>\n",
       "      <td>1.000000</td>\n",
       "    </tr>\n",
       "    <tr>\n",
       "      <th>23</th>\n",
       "      <td>1584173</td>\n",
       "      <td>Fairy Lucretia</td>\n",
       "      <td>nan</td>\n",
       "      <td>thanks mayflower x  and thanks for all your su...</td>\n",
       "      <td>responder</td>\n",
       "      <td>Angelic</td>\n",
       "      <td>sorry to be a nuisance but need help</td>\n",
       "      <td>Generalized Anxiety Disorder</td>\n",
       "      <td>42</td>\n",
       "      <td>1</td>\n",
       "      <td>0</td>\n",
       "      <td>1.000000</td>\n",
       "    </tr>\n",
       "    <tr>\n",
       "      <th>24</th>\n",
       "      <td>504075</td>\n",
       "      <td>W</td>\n",
       "      <td>nan</td>\n",
       "      <td>well well help you all we can we do have quite...</td>\n",
       "      <td>responder</td>\n",
       "      <td>In Love</td>\n",
       "      <td>overwhelmed- finally making a step to move out...</td>\n",
       "      <td>Social Anxiety</td>\n",
       "      <td>39</td>\n",
       "      <td>1</td>\n",
       "      <td>0</td>\n",
       "      <td>1.000000</td>\n",
       "    </tr>\n",
       "    <tr>\n",
       "      <th>25</th>\n",
       "      <td>1582784</td>\n",
       "      <td>R</td>\n",
       "      <td>nan</td>\n",
       "      <td>mayflower7 they havent done sitting and standi...</td>\n",
       "      <td>responder</td>\n",
       "      <td>nan</td>\n",
       "      <td>Need help!</td>\n",
       "      <td>Generalized Anxiety Disorder</td>\n",
       "      <td>26</td>\n",
       "      <td>1</td>\n",
       "      <td>0</td>\n",
       "      <td>1.000000</td>\n",
       "    </tr>\n",
       "    <tr>\n",
       "      <th>26</th>\n",
       "      <td>1582728</td>\n",
       "      <td>H_arleeC</td>\n",
       "      <td>Anxiety having impact on relationship</td>\n",
       "      <td>hi so for quite along time ive been finding it...</td>\n",
       "      <td>author</td>\n",
       "      <td>nan</td>\n",
       "      <td>Anxiety having impact on relationship</td>\n",
       "      <td>Generalized Anxiety Disorder</td>\n",
       "      <td>122</td>\n",
       "      <td>0</td>\n",
       "      <td>0</td>\n",
       "      <td>1.000000</td>\n",
       "    </tr>\n",
       "    <tr>\n",
       "      <th>27</th>\n",
       "      <td>1582835</td>\n",
       "      <td>calypso</td>\n",
       "      <td>nan</td>\n",
       "      <td>hiya and welcome to the forum  this is an awfu...</td>\n",
       "      <td>responder</td>\n",
       "      <td>Angelic</td>\n",
       "      <td>Anxiety having impact on relationship</td>\n",
       "      <td>Generalized Anxiety Disorder</td>\n",
       "      <td>219</td>\n",
       "      <td>1</td>\n",
       "      <td>0</td>\n",
       "      <td>1.000000</td>\n",
       "    </tr>\n",
       "    <tr>\n",
       "      <th>28</th>\n",
       "      <td>552614</td>\n",
       "      <td>Topcat</td>\n",
       "      <td>nan</td>\n",
       "      <td>do you have any kind of community youth centre...</td>\n",
       "      <td>responder</td>\n",
       "      <td>nan</td>\n",
       "      <td>Challenging behaviour</td>\n",
       "      <td>Social Anxiety</td>\n",
       "      <td>71</td>\n",
       "      <td>1</td>\n",
       "      <td>0</td>\n",
       "      <td>1.000000</td>\n",
       "    </tr>\n",
       "    <tr>\n",
       "      <th>29</th>\n",
       "      <td>544913</td>\n",
       "      <td>-carn</td>\n",
       "      <td>nan</td>\n",
       "      <td>excessive coffee doesnt help i know from my en...</td>\n",
       "      <td>responder</td>\n",
       "      <td>nan</td>\n",
       "      <td>hate going out</td>\n",
       "      <td>Social Anxiety</td>\n",
       "      <td>79</td>\n",
       "      <td>1</td>\n",
       "      <td>0</td>\n",
       "      <td>1.000000</td>\n",
       "    </tr>\n",
       "    <tr>\n",
       "      <th>...</th>\n",
       "      <td>...</td>\n",
       "      <td>...</td>\n",
       "      <td>...</td>\n",
       "      <td>...</td>\n",
       "      <td>...</td>\n",
       "      <td>...</td>\n",
       "      <td>...</td>\n",
       "      <td>...</td>\n",
       "      <td>...</td>\n",
       "      <td>...</td>\n",
       "      <td>...</td>\n",
       "      <td>...</td>\n",
       "    </tr>\n",
       "    <tr>\n",
       "      <th>23892</th>\n",
       "      <td>5857526</td>\n",
       "      <td>Só leigheas</td>\n",
       "      <td>It's there... but it's not</td>\n",
       "      <td>i know ill bring it up with him today i just w...</td>\n",
       "      <td>author</td>\n",
       "      <td>nan</td>\n",
       "      <td>It's there... but it's not</td>\n",
       "      <td>Anxiety Panic and Phobias</td>\n",
       "      <td>21</td>\n",
       "      <td>0</td>\n",
       "      <td>0</td>\n",
       "      <td>1.000000</td>\n",
       "    </tr>\n",
       "    <tr>\n",
       "      <th>23893</th>\n",
       "      <td>5861336</td>\n",
       "      <td>Só leigheas</td>\n",
       "      <td>It's there... but it's not</td>\n",
       "      <td>i forgot the name for it but apparently its a ...</td>\n",
       "      <td>author</td>\n",
       "      <td>nan</td>\n",
       "      <td>It's there... but it's not</td>\n",
       "      <td>Anxiety Panic and Phobias</td>\n",
       "      <td>28</td>\n",
       "      <td>0</td>\n",
       "      <td>0</td>\n",
       "      <td>1.000000</td>\n",
       "    </tr>\n",
       "    <tr>\n",
       "      <th>23894</th>\n",
       "      <td>5847970</td>\n",
       "      <td>GADNic</td>\n",
       "      <td>Returning to work after a panic attack</td>\n",
       "      <td>i had a massive pa at work and was too bad to ...</td>\n",
       "      <td>author</td>\n",
       "      <td>nan</td>\n",
       "      <td>Returning to work after a panic attack</td>\n",
       "      <td>Anxiety Panic and Phobias</td>\n",
       "      <td>67</td>\n",
       "      <td>0</td>\n",
       "      <td>0</td>\n",
       "      <td>1.000000</td>\n",
       "    </tr>\n",
       "    <tr>\n",
       "      <th>23895</th>\n",
       "      <td>5874197</td>\n",
       "      <td>Jennifer 1967</td>\n",
       "      <td>Monday Anxiety</td>\n",
       "      <td>i dont have any advice right off so hopefully ...</td>\n",
       "      <td>author</td>\n",
       "      <td>fine</td>\n",
       "      <td>Monday Anxiety</td>\n",
       "      <td>Anxiety Panic and Phobias</td>\n",
       "      <td>30</td>\n",
       "      <td>1</td>\n",
       "      <td>0</td>\n",
       "      <td>1.000000</td>\n",
       "    </tr>\n",
       "    <tr>\n",
       "      <th>23896</th>\n",
       "      <td>5865269</td>\n",
       "      <td>bobcat21</td>\n",
       "      <td>caffeine suddenly giving me anxiety</td>\n",
       "      <td>i was taking some mucinex so that may of incre...</td>\n",
       "      <td>author</td>\n",
       "      <td>nan</td>\n",
       "      <td>caffeine suddenly giving me anxiety</td>\n",
       "      <td>Anxiety Panic and Phobias</td>\n",
       "      <td>77</td>\n",
       "      <td>1</td>\n",
       "      <td>0</td>\n",
       "      <td>1.000000</td>\n",
       "    </tr>\n",
       "    <tr>\n",
       "      <th>23897</th>\n",
       "      <td>5869726</td>\n",
       "      <td>Azureseas</td>\n",
       "      <td>Rant about difficulty finding a therapist exac...</td>\n",
       "      <td>sorry you are having a hard time finding help ...</td>\n",
       "      <td>author</td>\n",
       "      <td>nan</td>\n",
       "      <td>Rant about difficulty finding a therapist exac...</td>\n",
       "      <td>Anxiety Panic and Phobias</td>\n",
       "      <td>168</td>\n",
       "      <td>1</td>\n",
       "      <td>0</td>\n",
       "      <td>1.000000</td>\n",
       "    </tr>\n",
       "    <tr>\n",
       "      <th>23898</th>\n",
       "      <td>5869854</td>\n",
       "      <td>Jennifer 1967</td>\n",
       "      <td>Rant about difficulty finding a therapist exac...</td>\n",
       "      <td>im sorry youre having such a tough time i can ...</td>\n",
       "      <td>author</td>\n",
       "      <td>fine</td>\n",
       "      <td>Rant about difficulty finding a therapist exac...</td>\n",
       "      <td>Anxiety Panic and Phobias</td>\n",
       "      <td>81</td>\n",
       "      <td>1</td>\n",
       "      <td>0</td>\n",
       "      <td>1.000000</td>\n",
       "    </tr>\n",
       "    <tr>\n",
       "      <th>23899</th>\n",
       "      <td>5870848</td>\n",
       "      <td>AlwaysBeenInvisible</td>\n",
       "      <td>Rant about difficulty finding a therapist exac...</td>\n",
       "      <td>so sorry you are having a hard time finding so...</td>\n",
       "      <td>author</td>\n",
       "      <td>heartbroken</td>\n",
       "      <td>Rant about difficulty finding a therapist exac...</td>\n",
       "      <td>Anxiety Panic and Phobias</td>\n",
       "      <td>74</td>\n",
       "      <td>1</td>\n",
       "      <td>0</td>\n",
       "      <td>1.000000</td>\n",
       "    </tr>\n",
       "    <tr>\n",
       "      <th>23900</th>\n",
       "      <td>5871153</td>\n",
       "      <td>ComfortablyNumb5</td>\n",
       "      <td>How Cure Bloated Stomach?</td>\n",
       "      <td>lemon water with or without a teaspoon of appl...</td>\n",
       "      <td>author</td>\n",
       "      <td>nan</td>\n",
       "      <td>How Cure Bloated Stomach?</td>\n",
       "      <td>Anxiety Panic and Phobias</td>\n",
       "      <td>54</td>\n",
       "      <td>0</td>\n",
       "      <td>0</td>\n",
       "      <td>1.000000</td>\n",
       "    </tr>\n",
       "    <tr>\n",
       "      <th>23901</th>\n",
       "      <td>5869858</td>\n",
       "      <td>Jennifer 1967</td>\n",
       "      <td>Anxiety Attacks</td>\n",
       "      <td>hello welcome to pc have you been evaluated by...</td>\n",
       "      <td>author</td>\n",
       "      <td>fine</td>\n",
       "      <td>Anxiety Attacks</td>\n",
       "      <td>Anxiety Panic and Phobias</td>\n",
       "      <td>16</td>\n",
       "      <td>1</td>\n",
       "      <td>0</td>\n",
       "      <td>0.999996</td>\n",
       "    </tr>\n",
       "    <tr>\n",
       "      <th>23902</th>\n",
       "      <td>5864876</td>\n",
       "      <td>Yzen</td>\n",
       "      <td>caffeine suddenly giving me anxiety</td>\n",
       "      <td>one sip seems like such a small amount that is...</td>\n",
       "      <td>author</td>\n",
       "      <td>nan</td>\n",
       "      <td>caffeine suddenly giving me anxiety</td>\n",
       "      <td>Anxiety Panic and Phobias</td>\n",
       "      <td>83</td>\n",
       "      <td>1</td>\n",
       "      <td>0</td>\n",
       "      <td>1.000000</td>\n",
       "    </tr>\n",
       "    <tr>\n",
       "      <th>23903</th>\n",
       "      <td>5866839</td>\n",
       "      <td>Kawaii Desu</td>\n",
       "      <td>Social anxiety - I seem to be unable to social...</td>\n",
       "      <td>definitly see a therapist some people might no...</td>\n",
       "      <td>author</td>\n",
       "      <td>nan</td>\n",
       "      <td>Social anxiety - I seem to be unable to social...</td>\n",
       "      <td>Anxiety Panic and Phobias</td>\n",
       "      <td>31</td>\n",
       "      <td>0</td>\n",
       "      <td>0</td>\n",
       "      <td>1.000000</td>\n",
       "    </tr>\n",
       "    <tr>\n",
       "      <th>23904</th>\n",
       "      <td>5863251</td>\n",
       "      <td>Shazerac</td>\n",
       "      <td>Intense anxiety with woman in work</td>\n",
       "      <td>maybe you try to talk to her about this issue ...</td>\n",
       "      <td>author</td>\n",
       "      <td>huggable</td>\n",
       "      <td>Intense anxiety with woman in work</td>\n",
       "      <td>Anxiety Panic and Phobias</td>\n",
       "      <td>105</td>\n",
       "      <td>1</td>\n",
       "      <td>0</td>\n",
       "      <td>1.000000</td>\n",
       "    </tr>\n",
       "    <tr>\n",
       "      <th>23905</th>\n",
       "      <td>5866341</td>\n",
       "      <td>Jennifer 1967</td>\n",
       "      <td>Intense anxiety with woman in work</td>\n",
       "      <td>i agree with shazerac if you can talk to her p...</td>\n",
       "      <td>author</td>\n",
       "      <td>fine</td>\n",
       "      <td>Intense anxiety with woman in work</td>\n",
       "      <td>Anxiety Panic and Phobias</td>\n",
       "      <td>16</td>\n",
       "      <td>1</td>\n",
       "      <td>0</td>\n",
       "      <td>0.999994</td>\n",
       "    </tr>\n",
       "    <tr>\n",
       "      <th>23906</th>\n",
       "      <td>5848125</td>\n",
       "      <td>key tones</td>\n",
       "      <td>Returning to work after a panic attack</td>\n",
       "      <td>this happened to my friends aunt we didnt thin...</td>\n",
       "      <td>author</td>\n",
       "      <td>nan</td>\n",
       "      <td>Returning to work after a panic attack</td>\n",
       "      <td>Anxiety Panic and Phobias</td>\n",
       "      <td>50</td>\n",
       "      <td>1</td>\n",
       "      <td>0</td>\n",
       "      <td>1.000000</td>\n",
       "    </tr>\n",
       "    <tr>\n",
       "      <th>23907</th>\n",
       "      <td>5848539</td>\n",
       "      <td>Jennifer 1967</td>\n",
       "      <td>Returning to work after a panic attack</td>\n",
       "      <td>im sorry this happened to you i agree with tra...</td>\n",
       "      <td>author</td>\n",
       "      <td>fine</td>\n",
       "      <td>Returning to work after a panic attack</td>\n",
       "      <td>Anxiety Panic and Phobias</td>\n",
       "      <td>29</td>\n",
       "      <td>1</td>\n",
       "      <td>0</td>\n",
       "      <td>1.000000</td>\n",
       "    </tr>\n",
       "    <tr>\n",
       "      <th>23908</th>\n",
       "      <td>5848544</td>\n",
       "      <td>Shazerac</td>\n",
       "      <td>Returning to work after a panic attack</td>\n",
       "      <td>oh that must be scary i wouldnt bring up unles...</td>\n",
       "      <td>author</td>\n",
       "      <td>huggable</td>\n",
       "      <td>Returning to work after a panic attack</td>\n",
       "      <td>Anxiety Panic and Phobias</td>\n",
       "      <td>28</td>\n",
       "      <td>1</td>\n",
       "      <td>0</td>\n",
       "      <td>1.000000</td>\n",
       "    </tr>\n",
       "    <tr>\n",
       "      <th>23909</th>\n",
       "      <td>5855628</td>\n",
       "      <td>Hobbit House</td>\n",
       "      <td>Returning to work after a panic attack</td>\n",
       "      <td>great im so glad they were so understanding it...</td>\n",
       "      <td>author</td>\n",
       "      <td>bookworm</td>\n",
       "      <td>Returning to work after a panic attack</td>\n",
       "      <td>Anxiety Panic and Phobias</td>\n",
       "      <td>47</td>\n",
       "      <td>0</td>\n",
       "      <td>0</td>\n",
       "      <td>1.000000</td>\n",
       "    </tr>\n",
       "    <tr>\n",
       "      <th>23910</th>\n",
       "      <td>5865570</td>\n",
       "      <td>justafriend306</td>\n",
       "      <td>Charged too much</td>\n",
       "      <td>i know just what you mean last week i picked u...</td>\n",
       "      <td>author</td>\n",
       "      <td>nan</td>\n",
       "      <td>Charged too much</td>\n",
       "      <td>Anxiety Panic and Phobias</td>\n",
       "      <td>76</td>\n",
       "      <td>1</td>\n",
       "      <td>0</td>\n",
       "      <td>1.000000</td>\n",
       "    </tr>\n",
       "    <tr>\n",
       "      <th>23911</th>\n",
       "      <td>5866182</td>\n",
       "      <td>jenna1997</td>\n",
       "      <td>Anxiety/emotion control tendency/hyperawareness</td>\n",
       "      <td>hello im not sure if anyones ever experienced ...</td>\n",
       "      <td>author</td>\n",
       "      <td>calm</td>\n",
       "      <td>Anxiety/emotion control tendency/hyperawareness</td>\n",
       "      <td>Anxiety Panic and Phobias</td>\n",
       "      <td>196</td>\n",
       "      <td>1</td>\n",
       "      <td>0</td>\n",
       "      <td>1.000000</td>\n",
       "    </tr>\n",
       "    <tr>\n",
       "      <th>23912</th>\n",
       "      <td>5866323</td>\n",
       "      <td>Jennifer 1967</td>\n",
       "      <td>Anxiety/emotion control tendency/hyperawareness</td>\n",
       "      <td>hello welcome to pc ive never experienced this...</td>\n",
       "      <td>author</td>\n",
       "      <td>fine</td>\n",
       "      <td>Anxiety/emotion control tendency/hyperawareness</td>\n",
       "      <td>Anxiety Panic and Phobias</td>\n",
       "      <td>14</td>\n",
       "      <td>1</td>\n",
       "      <td>0</td>\n",
       "      <td>0.999997</td>\n",
       "    </tr>\n",
       "    <tr>\n",
       "      <th>23913</th>\n",
       "      <td>5865310</td>\n",
       "      <td>Marla500</td>\n",
       "      <td>caffeine suddenly giving me anxiety</td>\n",
       "      <td>the combination of mucinex and caffeine makes ...</td>\n",
       "      <td>author</td>\n",
       "      <td>anxious</td>\n",
       "      <td>caffeine suddenly giving me anxiety</td>\n",
       "      <td>Anxiety Panic and Phobias</td>\n",
       "      <td>25</td>\n",
       "      <td>1</td>\n",
       "      <td>0</td>\n",
       "      <td>1.000000</td>\n",
       "    </tr>\n",
       "    <tr>\n",
       "      <th>23914</th>\n",
       "      <td>5869032</td>\n",
       "      <td>Jennifer 1967</td>\n",
       "      <td>Kind of an intro</td>\n",
       "      <td>hello welcome to pc im sorry youre struggling ...</td>\n",
       "      <td>author</td>\n",
       "      <td>fine</td>\n",
       "      <td>Kind of an intro</td>\n",
       "      <td>Anxiety Panic and Phobias</td>\n",
       "      <td>45</td>\n",
       "      <td>1</td>\n",
       "      <td>0</td>\n",
       "      <td>1.000000</td>\n",
       "    </tr>\n",
       "    <tr>\n",
       "      <th>23915</th>\n",
       "      <td>5861004</td>\n",
       "      <td>Keyplayer</td>\n",
       "      <td>Charged too much</td>\n",
       "      <td>hi yzen  man  i hate it when that happens  i h...</td>\n",
       "      <td>author</td>\n",
       "      <td>lonely</td>\n",
       "      <td>Charged too much</td>\n",
       "      <td>Anxiety Panic and Phobias</td>\n",
       "      <td>169</td>\n",
       "      <td>1</td>\n",
       "      <td>0</td>\n",
       "      <td>1.000000</td>\n",
       "    </tr>\n",
       "    <tr>\n",
       "      <th>23916</th>\n",
       "      <td>5982998</td>\n",
       "      <td>mulan</td>\n",
       "      <td>Thought I was progressing</td>\n",
       "      <td>i dont know what to say only that i am sorry a...</td>\n",
       "      <td>author</td>\n",
       "      <td>shy</td>\n",
       "      <td>Thought I was progressing</td>\n",
       "      <td>Social Anxiety and Selective Mutism</td>\n",
       "      <td>40</td>\n",
       "      <td>1</td>\n",
       "      <td>0</td>\n",
       "      <td>1.000000</td>\n",
       "    </tr>\n",
       "    <tr>\n",
       "      <th>23917</th>\n",
       "      <td>5983024</td>\n",
       "      <td>Wren_</td>\n",
       "      <td>Thought I was progressing</td>\n",
       "      <td>the progress youve made hasnt been lost  its s...</td>\n",
       "      <td>author</td>\n",
       "      <td>tired</td>\n",
       "      <td>Thought I was progressing</td>\n",
       "      <td>Social Anxiety and Selective Mutism</td>\n",
       "      <td>69</td>\n",
       "      <td>1</td>\n",
       "      <td>0</td>\n",
       "      <td>1.000000</td>\n",
       "    </tr>\n",
       "    <tr>\n",
       "      <th>23918</th>\n",
       "      <td>5978300</td>\n",
       "      <td>XoAnnie4</td>\n",
       "      <td>Experiences like today are why I have social a...</td>\n",
       "      <td>today i went to the movies with my parents to ...</td>\n",
       "      <td>author</td>\n",
       "      <td>nan</td>\n",
       "      <td>Experiences like today are why I have social a...</td>\n",
       "      <td>Social Anxiety and Selective Mutism</td>\n",
       "      <td>198</td>\n",
       "      <td>0</td>\n",
       "      <td>0</td>\n",
       "      <td>1.000000</td>\n",
       "    </tr>\n",
       "    <tr>\n",
       "      <th>23919</th>\n",
       "      <td>5989068</td>\n",
       "      <td>outkast3000</td>\n",
       "      <td>Experiences like today are why I have social a...</td>\n",
       "      <td>nah they were probably jealous that you were s...</td>\n",
       "      <td>author</td>\n",
       "      <td>nan</td>\n",
       "      <td>Experiences like today are why I have social a...</td>\n",
       "      <td>Social Anxiety and Selective Mutism</td>\n",
       "      <td>22</td>\n",
       "      <td>1</td>\n",
       "      <td>0</td>\n",
       "      <td>0.999733</td>\n",
       "    </tr>\n",
       "    <tr>\n",
       "      <th>23920</th>\n",
       "      <td>5991044</td>\n",
       "      <td>mote.of.soul</td>\n",
       "      <td>There isn't any place for me</td>\n",
       "      <td>hi mulan i can see you posted this months ago ...</td>\n",
       "      <td>author</td>\n",
       "      <td>nan</td>\n",
       "      <td>There isn't any place for me</td>\n",
       "      <td>Social Anxiety and Selective Mutism</td>\n",
       "      <td>128</td>\n",
       "      <td>1</td>\n",
       "      <td>0</td>\n",
       "      <td>1.000000</td>\n",
       "    </tr>\n",
       "    <tr>\n",
       "      <th>23921</th>\n",
       "      <td>5976834</td>\n",
       "      <td>Skeezyks</td>\n",
       "      <td>A visit to the dentist</td>\n",
       "      <td>over the years ive become really compulsive ab...</td>\n",
       "      <td>author</td>\n",
       "      <td>devilish</td>\n",
       "      <td>A visit to the dentist</td>\n",
       "      <td>Social Anxiety and Selective Mutism</td>\n",
       "      <td>89</td>\n",
       "      <td>1</td>\n",
       "      <td>0</td>\n",
       "      <td>1.000000</td>\n",
       "    </tr>\n",
       "  </tbody>\n",
       "</table>\n",
       "<p>23922 rows × 12 columns</p>\n",
       "</div>"
      ],
      "text/plain": [
       "           pid                 user  \\\n",
       "0      1594183        rachelangelo    \n",
       "1       586850              oneday    \n",
       "2       586857         wendolene26    \n",
       "3      1597102           bubule4o1    \n",
       "4      1597287             ziedite    \n",
       "5       536327             yesican    \n",
       "6       536348              esseff    \n",
       "7       536358           Hellbilly    \n",
       "8       536359             yesican    \n",
       "9      1590554        HoggiePoggie    \n",
       "10      540024             Allyboo    \n",
       "11     1589458                exyz    \n",
       "12     1589485        HoggiePoggie    \n",
       "13      554104           Hellbilly    \n",
       "14     1589418    necessaryhealing    \n",
       "15     1589432             calypso    \n",
       "16     1589433             RickD67    \n",
       "17      944928     Toasted Crumpet    \n",
       "18     1589495             RickD67    \n",
       "19      554982               chess    \n",
       "20     1588461            jjmumbai    \n",
       "21      566149        Hope2366less    \n",
       "22     1584099      Fairy Lucretia    \n",
       "23     1584173      Fairy Lucretia    \n",
       "24      504075                    W   \n",
       "25     1582784                    R   \n",
       "26     1582728            H_arleeC    \n",
       "27     1582835             calypso    \n",
       "28      552614              Topcat    \n",
       "29      544913               -carn    \n",
       "...        ...                  ...   \n",
       "23892  5857526          Só leigheas   \n",
       "23893  5861336          Só leigheas   \n",
       "23894  5847970               GADNic   \n",
       "23895  5874197        Jennifer 1967   \n",
       "23896  5865269             bobcat21   \n",
       "23897  5869726            Azureseas   \n",
       "23898  5869854        Jennifer 1967   \n",
       "23899  5870848  AlwaysBeenInvisible   \n",
       "23900  5871153     ComfortablyNumb5   \n",
       "23901  5869858        Jennifer 1967   \n",
       "23902  5864876                 Yzen   \n",
       "23903  5866839          Kawaii Desu   \n",
       "23904  5863251             Shazerac   \n",
       "23905  5866341        Jennifer 1967   \n",
       "23906  5848125            key tones   \n",
       "23907  5848539        Jennifer 1967   \n",
       "23908  5848544             Shazerac   \n",
       "23909  5855628         Hobbit House   \n",
       "23910  5865570       justafriend306   \n",
       "23911  5866182            jenna1997   \n",
       "23912  5866323        Jennifer 1967   \n",
       "23913  5865310             Marla500   \n",
       "23914  5869032        Jennifer 1967   \n",
       "23915  5861004            Keyplayer   \n",
       "23916  5982998                mulan   \n",
       "23917  5983024                Wren_   \n",
       "23918  5978300             XoAnnie4   \n",
       "23919  5989068          outkast3000   \n",
       "23920  5991044         mote.of.soul   \n",
       "23921  5976834             Skeezyks   \n",
       "\n",
       "                                              post_title  \\\n",
       "0                                                    nan   \n",
       "1                                                    nan   \n",
       "2                                                    nan   \n",
       "3                                                   Help   \n",
       "4                                                    nan   \n",
       "5         social anxiety... causing me to drink too much   \n",
       "6                                                    nan   \n",
       "7                                                    nan   \n",
       "8                                                    nan   \n",
       "9                                                    nan   \n",
       "10                                                   nan   \n",
       "11                                                   nan   \n",
       "12                                                   nan   \n",
       "13                                                   nan   \n",
       "14                                                   nan   \n",
       "15                                                   nan   \n",
       "16     Do I have GAD, its been 2 years and I still do...   \n",
       "17                                                   nan   \n",
       "18                                                   nan   \n",
       "19                                                   nan   \n",
       "20                                          Similar here   \n",
       "21                                                   nan   \n",
       "22                  sorry to be a nuisance but need help   \n",
       "23                                                   nan   \n",
       "24                                                   nan   \n",
       "25                                                   nan   \n",
       "26                 Anxiety having impact on relationship   \n",
       "27                                                   nan   \n",
       "28                                                   nan   \n",
       "29                                                   nan   \n",
       "...                                                  ...   \n",
       "23892                         It's there... but it's not   \n",
       "23893                         It's there... but it's not   \n",
       "23894             Returning to work after a panic attack   \n",
       "23895                                     Monday Anxiety   \n",
       "23896                caffeine suddenly giving me anxiety   \n",
       "23897  Rant about difficulty finding a therapist exac...   \n",
       "23898  Rant about difficulty finding a therapist exac...   \n",
       "23899  Rant about difficulty finding a therapist exac...   \n",
       "23900                          How Cure Bloated Stomach?   \n",
       "23901                                    Anxiety Attacks   \n",
       "23902                caffeine suddenly giving me anxiety   \n",
       "23903  Social anxiety - I seem to be unable to social...   \n",
       "23904                 Intense anxiety with woman in work   \n",
       "23905                 Intense anxiety with woman in work   \n",
       "23906             Returning to work after a panic attack   \n",
       "23907             Returning to work after a panic attack   \n",
       "23908             Returning to work after a panic attack   \n",
       "23909             Returning to work after a panic attack   \n",
       "23910                                   Charged too much   \n",
       "23911    Anxiety/emotion control tendency/hyperawareness   \n",
       "23912    Anxiety/emotion control tendency/hyperawareness   \n",
       "23913                caffeine suddenly giving me anxiety   \n",
       "23914                                   Kind of an intro   \n",
       "23915                                   Charged too much   \n",
       "23916                          Thought I was progressing   \n",
       "23917                          Thought I was progressing   \n",
       "23918  Experiences like today are why I have social a...   \n",
       "23919  Experiences like today are why I have social a...   \n",
       "23920                       There isn't any place for me   \n",
       "23921                             A visit to the dentist   \n",
       "\n",
       "                                                    post  post_type  \\\n",
       "0      im sorry youre dealing with this i dont know i...  responder   \n",
       "1      hi ainsworth i came across these stacks of ide...  responder   \n",
       "2      the beatles help album was the first cd album ...  responder   \n",
       "3      i really need help    i always had some of tho...     author   \n",
       "4      hi there im not qualified at all to respond bu...  responder   \n",
       "5      hello everybody  i have a problem  i cant seem...     author   \n",
       "6      so youre describing something many people expe...  responder   \n",
       "7      geordies    people that live in newcastle  uk ...  responder   \n",
       "8      i wish it was just one beer one beer doesnt do...  responder   \n",
       "9      it isnt your fault at all nor is it something ...  responder   \n",
       "10     i encourage you to explore more help too for e...  responder   \n",
       "11     well that was blinking helpful of the dean  do...  responder   \n",
       "12     deans arent really there for student support m...  responder   \n",
       "13     john  my god been there mate  its bloody tough...  responder   \n",
       "14     your family has an emotional issue background ...  responder   \n",
       "15     its a good idea to try some therapy to find ou...  responder   \n",
       "16     so i get what i call episodes seemingly random...     author   \n",
       "17     i think you do have other options and if you k...  responder   \n",
       "18     no i dont struggle at all with those 2 events ...  responder   \n",
       "19     i dont have any tips im afraid but didnt want ...  responder   \n",
       "20     my first attack started with derealisation a f...  responder   \n",
       "21     i cant sympathise you seem very lucky to me ha...  responder   \n",
       "22     im worried sick  my aunt has diarreah cant spe...     author   \n",
       "23     thanks mayflower x  and thanks for all your su...  responder   \n",
       "24     well well help you all we can we do have quite...  responder   \n",
       "25     mayflower7 they havent done sitting and standi...  responder   \n",
       "26     hi so for quite along time ive been finding it...     author   \n",
       "27     hiya and welcome to the forum  this is an awfu...  responder   \n",
       "28     do you have any kind of community youth centre...  responder   \n",
       "29     excessive coffee doesnt help i know from my en...  responder   \n",
       "...                                                  ...        ...   \n",
       "23892  i know ill bring it up with him today i just w...     author   \n",
       "23893  i forgot the name for it but apparently its a ...     author   \n",
       "23894  i had a massive pa at work and was too bad to ...     author   \n",
       "23895  i dont have any advice right off so hopefully ...     author   \n",
       "23896  i was taking some mucinex so that may of incre...     author   \n",
       "23897  sorry you are having a hard time finding help ...     author   \n",
       "23898  im sorry youre having such a tough time i can ...     author   \n",
       "23899  so sorry you are having a hard time finding so...     author   \n",
       "23900  lemon water with or without a teaspoon of appl...     author   \n",
       "23901  hello welcome to pc have you been evaluated by...     author   \n",
       "23902  one sip seems like such a small amount that is...     author   \n",
       "23903  definitly see a therapist some people might no...     author   \n",
       "23904  maybe you try to talk to her about this issue ...     author   \n",
       "23905  i agree with shazerac if you can talk to her p...     author   \n",
       "23906  this happened to my friends aunt we didnt thin...     author   \n",
       "23907  im sorry this happened to you i agree with tra...     author   \n",
       "23908  oh that must be scary i wouldnt bring up unles...     author   \n",
       "23909  great im so glad they were so understanding it...     author   \n",
       "23910  i know just what you mean last week i picked u...     author   \n",
       "23911  hello im not sure if anyones ever experienced ...     author   \n",
       "23912  hello welcome to pc ive never experienced this...     author   \n",
       "23913  the combination of mucinex and caffeine makes ...     author   \n",
       "23914  hello welcome to pc im sorry youre struggling ...     author   \n",
       "23915  hi yzen  man  i hate it when that happens  i h...     author   \n",
       "23916  i dont know what to say only that i am sorry a...     author   \n",
       "23917  the progress youve made hasnt been lost  its s...     author   \n",
       "23918  today i went to the movies with my parents to ...     author   \n",
       "23919  nah they were probably jealous that you were s...     author   \n",
       "23920  hi mulan i can see you posted this months ago ...     author   \n",
       "23921  over the years ive become really compulsive ab...     author   \n",
       "\n",
       "              mood                                       thread_title  \\\n",
       "0              nan                Sudden Onset Anxiety - Please help!   \n",
       "1              nan                      didnt know where to post this   \n",
       "2         Paranoid                      didnt know where to post this   \n",
       "3              nan                                               Help   \n",
       "4           Crappy                                               Help   \n",
       "5             Blah     social anxiety... causing me to drink too much   \n",
       "6              nan     social anxiety... causing me to drink too much   \n",
       "7           Breezy     social anxiety... causing me to drink too much   \n",
       "8             Blah     social anxiety... causing me to drink too much   \n",
       "9              nan       Struggling with anxiety.. am i a bad person?   \n",
       "10            Blah     social anxiety... causing me to drink too much   \n",
       "11             nan     Am about to quit Med school because of anxiety   \n",
       "12             nan     Am about to quit Med school because of anxiety   \n",
       "13          Breezy  hi all  am new to this so sorry if its all in ...   \n",
       "14            Busy  I'm unmotivated to do anything in life, and i ...   \n",
       "15         Angelic  I'm unmotivated to do anything in life, and i ...   \n",
       "16             nan  Do I have GAD, its been 2 years and I still do...   \n",
       "17      Aggressive                 Thoughts about killing my brother.   \n",
       "18             nan  Do I have GAD, its been 2 years and I still do...   \n",
       "19          Crappy                         i hate talking to ANYBODY!   \n",
       "20             nan                  Derealization and panic disorder.   \n",
       "21         Pensive                               what a bloody life!!   \n",
       "22         Angelic               sorry to be a nuisance but need help   \n",
       "23         Angelic               sorry to be a nuisance but need help   \n",
       "24         In Love  overwhelmed- finally making a step to move out...   \n",
       "25             nan                                         Need help!   \n",
       "26             nan              Anxiety having impact on relationship   \n",
       "27         Angelic              Anxiety having impact on relationship   \n",
       "28             nan                              Challenging behaviour   \n",
       "29             nan                                     hate going out   \n",
       "...            ...                                                ...   \n",
       "23892          nan                         It's there... but it's not   \n",
       "23893          nan                         It's there... but it's not   \n",
       "23894          nan             Returning to work after a panic attack   \n",
       "23895         fine                                     Monday Anxiety   \n",
       "23896          nan                caffeine suddenly giving me anxiety   \n",
       "23897          nan  Rant about difficulty finding a therapist exac...   \n",
       "23898         fine  Rant about difficulty finding a therapist exac...   \n",
       "23899  heartbroken  Rant about difficulty finding a therapist exac...   \n",
       "23900          nan                          How Cure Bloated Stomach?   \n",
       "23901         fine                                    Anxiety Attacks   \n",
       "23902          nan                caffeine suddenly giving me anxiety   \n",
       "23903          nan  Social anxiety - I seem to be unable to social...   \n",
       "23904     huggable                 Intense anxiety with woman in work   \n",
       "23905         fine                 Intense anxiety with woman in work   \n",
       "23906          nan             Returning to work after a panic attack   \n",
       "23907         fine             Returning to work after a panic attack   \n",
       "23908     huggable             Returning to work after a panic attack   \n",
       "23909     bookworm             Returning to work after a panic attack   \n",
       "23910          nan                                   Charged too much   \n",
       "23911         calm    Anxiety/emotion control tendency/hyperawareness   \n",
       "23912         fine    Anxiety/emotion control tendency/hyperawareness   \n",
       "23913      anxious                caffeine suddenly giving me anxiety   \n",
       "23914         fine                                   Kind of an intro   \n",
       "23915       lonely                                   Charged too much   \n",
       "23916          shy                          Thought I was progressing   \n",
       "23917        tired                          Thought I was progressing   \n",
       "23918          nan  Experiences like today are why I have social a...   \n",
       "23919          nan  Experiences like today are why I have social a...   \n",
       "23920          nan                       There isn't any place for me   \n",
       "23921     devilish                             A visit to the dentist   \n",
       "\n",
       "                                forum_name  postlen  personal  health  \\\n",
       "0             Generalized Anxiety Disorder       52         1       0   \n",
       "1                           Social Anxiety      143         1       0   \n",
       "2                           Social Anxiety       46         0       0   \n",
       "3             Generalized Anxiety Disorder      285         1       0   \n",
       "4             Generalized Anxiety Disorder       52         1       0   \n",
       "5                           Social Anxiety      267         0       0   \n",
       "6                           Social Anxiety      268         1       0   \n",
       "7                           Social Anxiety       62         1       0   \n",
       "8                           Social Anxiety       97         0       0   \n",
       "9             Generalized Anxiety Disorder       81         1       0   \n",
       "10                          Social Anxiety       20         1       0   \n",
       "11            Generalized Anxiety Disorder       95         1       0   \n",
       "12            Generalized Anxiety Disorder       40         1       0   \n",
       "13                          Social Anxiety      120         1       0   \n",
       "14            Generalized Anxiety Disorder      104         1       0   \n",
       "15            Generalized Anxiety Disorder      114         1       0   \n",
       "16            Generalized Anxiety Disorder      507         1       0   \n",
       "17                                 Anxiety       73         1       0   \n",
       "18            Generalized Anxiety Disorder       55         0       0   \n",
       "19                          Social Anxiety       27         1       0   \n",
       "20            Generalized Anxiety Disorder      168         1       0   \n",
       "21                          Social Anxiety       50         1       0   \n",
       "22            Generalized Anxiety Disorder       72         0       0   \n",
       "23            Generalized Anxiety Disorder       42         1       0   \n",
       "24                          Social Anxiety       39         1       0   \n",
       "25            Generalized Anxiety Disorder       26         1       0   \n",
       "26            Generalized Anxiety Disorder      122         0       0   \n",
       "27            Generalized Anxiety Disorder      219         1       0   \n",
       "28                          Social Anxiety       71         1       0   \n",
       "29                          Social Anxiety       79         1       0   \n",
       "...                                    ...      ...       ...     ...   \n",
       "23892            Anxiety Panic and Phobias       21         0       0   \n",
       "23893            Anxiety Panic and Phobias       28         0       0   \n",
       "23894            Anxiety Panic and Phobias       67         0       0   \n",
       "23895            Anxiety Panic and Phobias       30         1       0   \n",
       "23896            Anxiety Panic and Phobias       77         1       0   \n",
       "23897            Anxiety Panic and Phobias      168         1       0   \n",
       "23898            Anxiety Panic and Phobias       81         1       0   \n",
       "23899            Anxiety Panic and Phobias       74         1       0   \n",
       "23900            Anxiety Panic and Phobias       54         0       0   \n",
       "23901            Anxiety Panic and Phobias       16         1       0   \n",
       "23902            Anxiety Panic and Phobias       83         1       0   \n",
       "23903            Anxiety Panic and Phobias       31         0       0   \n",
       "23904            Anxiety Panic and Phobias      105         1       0   \n",
       "23905            Anxiety Panic and Phobias       16         1       0   \n",
       "23906            Anxiety Panic and Phobias       50         1       0   \n",
       "23907            Anxiety Panic and Phobias       29         1       0   \n",
       "23908            Anxiety Panic and Phobias       28         1       0   \n",
       "23909            Anxiety Panic and Phobias       47         0       0   \n",
       "23910            Anxiety Panic and Phobias       76         1       0   \n",
       "23911            Anxiety Panic and Phobias      196         1       0   \n",
       "23912            Anxiety Panic and Phobias       14         1       0   \n",
       "23913            Anxiety Panic and Phobias       25         1       0   \n",
       "23914            Anxiety Panic and Phobias       45         1       0   \n",
       "23915            Anxiety Panic and Phobias      169         1       0   \n",
       "23916  Social Anxiety and Selective Mutism       40         1       0   \n",
       "23917  Social Anxiety and Selective Mutism       69         1       0   \n",
       "23918  Social Anxiety and Selective Mutism      198         0       0   \n",
       "23919  Social Anxiety and Selective Mutism       22         1       0   \n",
       "23920  Social Anxiety and Selective Mutism      128         1       0   \n",
       "23921  Social Anxiety and Selective Mutism       89         1       0   \n",
       "\n",
       "           soft  \n",
       "0      1.000000  \n",
       "1      1.000000  \n",
       "2      1.000000  \n",
       "3      1.000000  \n",
       "4      1.000000  \n",
       "5      1.000000  \n",
       "6      1.000000  \n",
       "7      1.000000  \n",
       "8      1.000000  \n",
       "9      1.000000  \n",
       "10     1.000000  \n",
       "11     1.000000  \n",
       "12     1.000000  \n",
       "13     1.000000  \n",
       "14     1.000000  \n",
       "15     1.000000  \n",
       "16     1.000000  \n",
       "17     1.000000  \n",
       "18     1.000000  \n",
       "19     1.000000  \n",
       "20     1.000000  \n",
       "21     1.000000  \n",
       "22     1.000000  \n",
       "23     1.000000  \n",
       "24     1.000000  \n",
       "25     1.000000  \n",
       "26     1.000000  \n",
       "27     1.000000  \n",
       "28     1.000000  \n",
       "29     1.000000  \n",
       "...         ...  \n",
       "23892  1.000000  \n",
       "23893  1.000000  \n",
       "23894  1.000000  \n",
       "23895  1.000000  \n",
       "23896  1.000000  \n",
       "23897  1.000000  \n",
       "23898  1.000000  \n",
       "23899  1.000000  \n",
       "23900  1.000000  \n",
       "23901  0.999996  \n",
       "23902  1.000000  \n",
       "23903  1.000000  \n",
       "23904  1.000000  \n",
       "23905  0.999994  \n",
       "23906  1.000000  \n",
       "23907  1.000000  \n",
       "23908  1.000000  \n",
       "23909  1.000000  \n",
       "23910  1.000000  \n",
       "23911  1.000000  \n",
       "23912  0.999997  \n",
       "23913  1.000000  \n",
       "23914  1.000000  \n",
       "23915  1.000000  \n",
       "23916  1.000000  \n",
       "23917  1.000000  \n",
       "23918  1.000000  \n",
       "23919  0.999733  \n",
       "23920  1.000000  \n",
       "23921  1.000000  \n",
       "\n",
       "[23922 rows x 12 columns]"
      ]
     },
     "execution_count": 40,
     "metadata": {},
     "output_type": "execute_result"
    }
   ],
   "source": [
    "df_predict.drop('health', axis = 1, inplace = True)\n",
    "df_predict.rename(index = str, columns={'hard':'health'})"
   ]
  },
  {
   "cell_type": "markdown",
   "metadata": {},
   "source": [
    "## Validate the Model\n",
    "\n",
    "- use queries\n",
    "\n",
    "1) try without the min features \n",
    "\n",
    "2) try with the min features"
   ]
  },
  {
   "cell_type": "code",
   "execution_count": 41,
   "metadata": {
    "collapsed": true
   },
   "outputs": [],
   "source": [
    "df_join = pd.concat([df_know, df_predict])\n",
    "df_model = df_join[(df_join['health'] == 0) & (df_join['personal'] == 0)]\n",
    "df_model.reset_index(drop = True, inplace = True)"
   ]
  },
  {
   "cell_type": "code",
   "execution_count": 18,
   "metadata": {},
   "outputs": [
    {
     "ename": "NameError",
     "evalue": "name 'df_model' is not defined",
     "output_type": "error",
     "traceback": [
      "\u001b[0;31m---------------------------------------------------------------------------\u001b[0m",
      "\u001b[0;31mNameError\u001b[0m                                 Traceback (most recent call last)",
      "\u001b[0;32m<ipython-input-18-071dc1d4d916>\u001b[0m in \u001b[0;36m<module>\u001b[0;34m()\u001b[0m\n\u001b[0;32m----> 1\u001b[0;31m \u001b[0mjoblib\u001b[0m\u001b[0;34m.\u001b[0m\u001b[0mdump\u001b[0m\u001b[0;34m(\u001b[0m\u001b[0mdf_model\u001b[0m\u001b[0;34m,\u001b[0m \u001b[0;34m\"df_model.pkl\"\u001b[0m\u001b[0;34m)\u001b[0m\u001b[0;34m\u001b[0m\u001b[0m\n\u001b[0m",
      "\u001b[0;31mNameError\u001b[0m: name 'df_model' is not defined"
     ]
    }
   ],
   "source": [
    "joblib.dump(df_model, \"df_model.pkl\")"
   ]
  },
  {
   "cell_type": "code",
   "execution_count": 19,
   "metadata": {
    "collapsed": true
   },
   "outputs": [],
   "source": [
    "# load model if need to\n",
    "df_model = joblib.load(\"df_model.pkl\")"
   ]
  },
  {
   "cell_type": "code",
   "execution_count": 40,
   "metadata": {
    "collapsed": true
   },
   "outputs": [],
   "source": [
    "pids, posts, vectorizer, vect = tfidf(df_model, max_df = 0.8)"
   ]
  },
  {
   "cell_type": "code",
   "execution_count": 41,
   "metadata": {},
   "outputs": [
    {
     "name": "stdout",
     "output_type": "stream",
     "text": [
      "query:  hello everyone lately my anxiety got worse due to recent events in my life and ill try to explain them and maybe you can tell me if you have them too high fever face is hot and bloated  thoughts get stuck hard to process a thought or an emotion all the way through  cant-feel my nose or my lips  cant-focus or concentrate at all  feeling confused and disoriented  headache  anger  symptoms are not alleviated by anything  when anxiety wears off im yawning alot should i be concerned that i might have something other than anxiety\n",
      "\n",
      "['760560: hello im 23 years old my case  is severe and non tolerated its been 5 days like this although ive had tons of full blown attacks through out life where they end with total body numbness so that when i stand up i cant feel pressure of bones holding me which gives  a death feeling  im now suffering something worse  i had some intense fever 1 month ago although that this might not relate directly but it was accompanied by few panic attacks  that were mixed with cold shivers i felt so weak towards any panic attack so that i had multiple a day then just after around 3 weeks when i was healed from flu the strangest thing started to happen at countless time of the day a shockpanic state occupies me totally with a severe depression feeling of a totally different atmosphere strange view of the world partial loss of concentrationmemory and my eyes open wide in that state and i dont feel like moving or exiting the state its like im sucked in with the greatest terrifying feeling i ever felt  i am not sure why i feel a strong fever  in pinched neckchesthead whenever i enter that state and goes away when i am able to get out of this terrifying state knowing that fever appears in same place every time and it feels like a fever and not random hot flushes my temp is like 385 constant though doctor denied having a fever  please help me outi am in a severe agony trying to solvediagnose this case   update  cbc and ths  thyroid gland test  result implied a perfect situation -----', '1343535: hi im new to the forum and wondering if someone can help me out   i suffer from high anxiety and it has increased recently i have also had weird experiences lately its hard to explain i feel like im having an out of body experience like im watching someone elses movements i have also had bad thoughts hatred anger etc i dont know what to do can someone help and suggest what may be going on-----', '250231: each time i got a fever the anxiety symptom simply goes away i mean not even a little sign that im suffering gad i basically feel like a normal person even the air tastes sweet    it was such an amazing experience for me to see how i would otherwise feel if im not suffering gad unfortunately the fever wont go forever and as soon as my body recovered the gad symptom returned and it was so desperate to see that as i just get reminded how wonderful simply living a normal persons life would feel like and then everything is the same same old symptom brain tension endless apprehension    i wish i could have more fever but basically its once a year for me its a truly awesome holiday-----']\n",
      "------------------------------\n",
      "query:  i have been diagnosed with gad multiple times in my life its normal i used to have a lot of self perpetuated depression as well im better at monitoring what im thinking now im from a very dysfunctional family that told me i was a failure i was a mistake i am a failure by birth i wont amount to anything i have fought through so much anxiety and without a whole lot of counseling i have gotten a second ba degree and got a great start on a full retrain professionally i know this is my dream now i know this is what i want for myself its the fear of failure and the fear of being told im not good enough or bad in some way or criticism from otherauthority again that is freaking me out this application i think is due at the end of feb sigh\n",
      "\n",
      "['389393: had a panic attack while driving couldnt breathe and had to pull over dont know why i was having a good day i freaked the hell out of my bf dont want him thinking im some kind of nutcase although by now im sure he suspects it was gonna go to therapy for the first time in my life but having second thoughts im scared i know they will just prescribe me some pills until im so drugged up i wont be able to bitch anymore i want to end all of this and i think i know how-----', '5492411: anxiety a lot better now that the last two days are behind me-----', '908236: im so on edge im going to have a panic attack i just know it im so scared i dont know what to do-----']\n",
      "------------------------------\n",
      "query:  feelings i want to hide from people i feel judged i feel like internally screaming i want to run away i want to escape i dont-want to be seen i dont-want to be judged hiding is safer i dont-want to interact with people i feel like i have to wear a mask and i feel drained by concealing myself all day long i want to quit my job i feel like people are against me everyones against me laughter noises talking social interaction they all make me want to have an anxiety attack what is wrong with me\n",
      "\n",
      "['499877: dont feel like the diazepam is working yet feel anxious and just want to get out of here i need to go out i cant breathe i am so down-----', '1209741: i guess the title could be a little misleading but this is how i feel   i suffer from depression paranoia and anxiety due to the latter two i havent left my home in a year  i dont have any friends or family support the only person i see is my mental health worker for a while a could deal with this now the loneliness is really setting in  i just want to run outside and scream at the top of my lungs  i want to have a cup of coffee with a true friend  i want to feel the sun on my skin  i want to feel the love of another person  i want to wake up in the morning and have something to get out of bed for  im sick of being locked up by my own mind  all i really want is to be free-----', '466873: the course was cancelled hurrah am still anxious as going back to work monday so not looking forwards to it am anxious about where im living dont want to be here feel like i cant do what i want like if i want a snooze in the afternoon feel like i cant i hate it here how am i going to be after ive come off the other tablets god help me arrrrrrrgggggghhhhhhhh cant cope-----']\n",
      "------------------------------\n",
      "query:  guys what do you usually do to stop over thinking i have a severe overthinking habit that always make me panic and do some awkward and dumb move for example yesterday i met my aunt on restaurant i sit on different tables and im done eating first while my uber driver is on the way to restaurant i just wanna say goodbye to her and her family but rather than walk to their table i said it rather loud from my tables when my aunt saw me that makes some people on restaurant look at me then i go home at first i thought its normal then i realized how dumb my action is i should have go to their table and said goodbye rather than saying it from far away that make me look like a panic person i keep on thinking about this case i think about how my aunt family think about me after my move and etccan someone help me to getting over this  i cant-stop thinking even about some little things moreover some dumb things i do thankyou\n",
      "\n",
      "['478497: living with my aunt is just depressing me even more shes making me anxious now  i dont know what to do-----', '475641: hate it here feel so anxious what my aunts just said to me hate it-----', '525255: came home from work friday not feeling well then over the weekend anxious anxious monday so didnt go to work last night was dreadful my aunt sent my anxiety way up by having a go at me about what i was doing about moving whether im moving in with my boyfriend having a dig at him saying he gives her the creeps and that she doesnt like him that no one likes him that im stopping her daughter from coming round because im miserable amongst other things fing bitch i hate her so much and im dreading going home as am at my mums at the moment mum wasnt easy to talk to about it she just has a go at me aswell and more or less agrees with my aunt my aunt basically telling me to end it with my boyfriend who doesnt want to move in with me its all a nightmare i dont know what to do because my anxiety was so bad i went to the doctor again who prescribed me betablockers said this would help the anxiety has anyone else been on them for it  i like being on my own and when i go home i spend time in my room thats wrong im apparently making my aunt unhappy i just dont want to be here anymore i cant take anymore and i cant lose my boyfriend i feel pressurised to dump him because of her  my anxiety is awful i dont know what to do-----']\n",
      "------------------------------\n",
      "query:  so i think my panic attack is connected with my movement  stress from before i was running and i started to think just about random moment from the past it was stressful moment but i dont-experience nothing about it now but then i started to think what if i am not in control of my body anymore and i will jump in the river or i want to go at to start fight some guy on the street and i will finish in jail because i will be aggressive or mby i will finish in mental hospital i started to to shake my heart wanted to explode and from then now when i move my heart is beating really fast and i am afraid to get panic attack again is there some meditation to shut me down because i can not leave with myself like this\n",
      "\n",
      "['966495: i have severe anxiety but have only had a couple panic attacks in all the years ive been diagnosed with anxiety bipolar and ptsd its been several years since i had one today i started feeling very anxious and my heart was pounding in my chest and earsi felt like i might pass out so i sat down and tried to slow my breathing downit was hard my heart jump kept banging and it felt awful i took a xanax and started to calm down does this sound like a panic attack or just extreme anxiety-----', '284414: it started at work with a panic attack racing heart dizzy ect i think its my work i freak out every time i have to go there-----', '1336348: okay so a few months ago i started taking prozac for premenstrual and anxiety control instead of controlling it though it gave me a ton of new symptoms like panic attacks that come out of nowhere at night and being jumpy at almost anything i stopped taking them after a few weeks and the panic attacks and jumpiness eventually died down so i thought i was through with those symptoms  fast forward a few months and ive started getting panic attacks again ive just started my fmp at college so thats most definitely the reason i cant get to sleep at night cuz it just keeps feeling like im going to die and that my hearts stopped beating i keep feeling that im going to completely black out and that im losing my breath im losing out on a load of sleep cuz of this and its really scary also it seems that the prozac symptoms are now a permanent thing fantastic  the jumpiness seems to be under control right now though  ive never had panic attacks before so i have no idea how best to deal with them ive tried reasoning with myself that im not dying and that im perfectly healthy but its not working very well ive tried distracting myself with games drawing and colouring books but im just so tired that i cant bring myself to do any of it and they dont seem to stop the attacks anyway music doesnt seem to work either in the end i just fall asleep and theyre better in the morning but still  i can just about deal with everyday anxiety stuff but this is new and i really have no idea what to do i know that if i deal with the stress the panic attacks will lessen and thats doable but i have no strategy for when they actually happen  does anyone have any idea about how to deal with this im really exhausted and stressed at the moment and i just want it all to go back to normal  also i dont want to take any more meds for it prozac put me right off-----']\n",
      "------------------------------\n",
      "query:  im not sure if this is the right place to post i have difficulty leaving my house i can leave but its easier if its at a time of day when its not very busy outside i cant-leave if i can see anyone in my street though i can go to places that ive been before or places where there will be someone i know but cant-go anywhere outside of that sometimes i push myself to go a street or two nearby to where im going so that i experience a new place and can then have that as somewhere ive been before that i might be able to go again but i find that hard staying at home feels way less anxiety provoking ive lost contact with lots of people just because its so hard to push myself to go places and as i am in my 30s i find it hard to have much in common with people who are always talking about travel and the next places in town to visit when i know that i cant-do that i just wondered if anyone can relate i feel pretty alone with this\n",
      "\n",
      "['348786: hi im new just wanted to know if any one else is scared of being on their own im 47 and have suffered from agoraphobia and panic attacks for 30 years now for the last year ive been too scared to be left on my own in the house so someone usualy has to stay with me i also have to know that someones in in my street where i live i dont know why this happens because i use to feel safe in my home it causes so many problems as someone always misses out on going out i have to get up earley so i can get my housework and things done so then i can sit by the window to see when my neighbours go out im in constant fear and its so exhausting ive tried so hard to just be normal but i dont think i ever wll-----', '1208569: i am absolutely knackered and fed up and depressed with my life right now  i dont know how much more i can takefor 2 years ive been dealing with anxiety and horrible panic attacks that bring me to my knees and make me so upset my life has stopped i dont go anywhere  i take my kids to school every day and thats it i stay in my home town and if i even think about leaving i feel sick to my stomach i hate being in places u cant get out of easy so appointments and things i try avoid i feel safe at home but even sometimes then if the door goes unexpectedly id be on he toilet with belly pains or being sick i want to be able to take my kids places and go out with friends and have hollidays to look forward to its sad all i see in my future is crappy anxiety that im not strong enough to push past  im 25 and mum of 3 and feel like my life is over and im ruining my kids lives not trying hard enough to change-----', '5869127: made it through my bad anxiety over driving to place im not familiar and working in a not so great part of town today it was really hard for me dealing with a lot of anxiety over insurance changes too-----']\n",
      "------------------------------\n"
     ]
    }
   ],
   "source": [
    "# get query similarities\n",
    "print_query(test_queries, tf_query, vect, vectorizer, pids, posts)"
   ]
  },
  {
   "cell_type": "markdown",
   "metadata": {},
   "source": [
    "**Looks fairly good so far**"
   ]
  },
  {
   "cell_type": "code",
   "execution_count": 133,
   "metadata": {
    "collapsed": true
   },
   "outputs": [],
   "source": [
    "query_min_feats?"
   ]
  },
  {
   "cell_type": "code",
   "execution_count": 29,
   "metadata": {},
   "outputs": [
    {
     "name": "stdout",
     "output_type": "stream",
     "text": [
      "query:  hello everyone lately my anxiety got worse due to recent events in my life and ill try to explain them and maybe you can tell me if you have them too high fever face is hot and bloated  thoughts get stuck hard to process a thought or an emotion all the way through  cant-feel my nose or my lips  cant-focus or concentrate at all  feeling confused and disoriented  headache  anger  symptoms are not alleviated by anything  when anxiety wears off im yawning alot should i be concerned that i might have something other than anxiety\n",
      "\n",
      "['1343535:hi im new to the forum and wondering if someone can help me out   i suffer from high anxiety and it has increased recently i have also had weird experiences lately its hard to explain i feel like im having an out of body experience like im watching someone elses movements i have also had bad thoughts hatred anger etc i dont know what to do can someone help and suggest what may be going on----------', '250231:each time i got a fever the anxiety symptom simply goes away i mean not even a little sign that im suffering gad i basically feel like a normal person even the air tastes sweet    it was such an amazing experience for me to see how i would otherwise feel if im not suffering gad unfortunately the fever wont go forever and as soon as my body recovered the gad symptom returned and it was so desperate to see that as i just get reminded how wonderful simply living a normal persons life would feel like and then everything is the same same old symptom brain tension endless apprehension    i wish i could have more fever but basically its once a year for me its a truly awesome holiday----------', '1198591:i only ever go out with my mum but stopped doing it recently as i had a serve anxiety attack when i went out last and i feel like im asking to much of her as though im ruining her life im just stuck i have no friends now as i dont see or speak to them----------']\n",
      "------------------------------\n",
      "query:  i have been diagnosed with gad multiple times in my life its normal i used to have a lot of self perpetuated depression as well im better at monitoring what im thinking now im from a very dysfunctional family that told me i was a failure i was a mistake i am a failure by birth i wont amount to anything i have fought through so much anxiety and without a whole lot of counseling i have gotten a second ba degree and got a great start on a full retrain professionally i know this is my dream now i know this is what i want for myself its the fear of failure and the fear of being told im not good enough or bad in some way or criticism from otherauthority again that is freaking me out this application i think is due at the end of feb sigh\n",
      "\n",
      "['1169677:i think its the anxiety too i think like this quite a lot and have been told its catastrophizing----------', '848171:i do have worries im a natural worrier and my home life is not great  my wife suffers with ms but i realise im not as badly off as a lot of other people and my life could be a whole lot worse i just cant seem to control my negative thinking----------', '307390:im really struggling with my anxiety and my angertoday is my birth mums birthday the first one of me knowing her and on sunday its the anniversary of my birth dads murder  im feeling very mixed up and struggling to hold it all together----------']\n",
      "------------------------------\n",
      "query:  feelings i want to hide from people i feel judged i feel like internally screaming i want to run away i want to escape i dont-want to be seen i dont-want to be judged hiding is safer i dont-want to interact with people i feel like i have to wear a mask and i feel drained by concealing myself all day long i want to quit my job i feel like people are against me everyones against me laughter noises talking social interaction they all make me want to have an anxiety attack what is wrong with me\n",
      "\n",
      "['1209741:i guess the title could be a little misleading but this is how i feel   i suffer from depression paranoia and anxiety due to the latter two i havent left my home in a year  i dont have any friends or family support the only person i see is my mental health worker for a while a could deal with this now the loneliness is really setting in  i just want to run outside and scream at the top of my lungs  i want to have a cup of coffee with a true friend  i want to feel the sun on my skin  i want to feel the love of another person  i want to wake up in the morning and have something to get out of bed for  im sick of being locked up by my own mind  all i really want is to be free----------', '5854418:will anybody help me all i want is hope i wish i never smoked weed and i dont want this anxiety and irrational way of thinking to stay i want to be better please what do i do----------', '1384518:i for sure dont think nor am i trying to fix anyone the truth is i have a crush on him but i dont want to flat out say it because i dont want to scare him away and so i thought trying to build a friendship first and ease into it might help at first i thought he hated me lol or thought maybe he noticed my interest but then i realized the way he is with me he is exactly the same with everyone he has social anxiety i dont want to annoy him and so i wanted to see if my approach is bad----------']\n",
      "------------------------------\n",
      "query:  guys what do you usually do to stop over thinking i have a severe overthinking habit that always make me panic and do some awkward and dumb move for example yesterday i met my aunt on restaurant i sit on different tables and im done eating first while my uber driver is on the way to restaurant i just wanna say goodbye to her and her family but rather than walk to their table i said it rather loud from my tables when my aunt saw me that makes some people on restaurant look at me then i go home at first i thought its normal then i realized how dumb my action is i should have go to their table and said goodbye rather than saying it from far away that make me look like a panic person i keep on thinking about this case i think about how my aunt family think about me after my move and etccan someone help me to getting over this  i cant-stop thinking even about some little things moreover some dumb things i do thankyou\n",
      "\n",
      "['525255:came home from work friday not feeling well then over the weekend anxious anxious monday so didnt go to work last night was dreadful my aunt sent my anxiety way up by having a go at me about what i was doing about moving whether im moving in with my boyfriend having a dig at him saying he gives her the creeps and that she doesnt like him that no one likes him that im stopping her daughter from coming round because im miserable amongst other things fing bitch i hate her so much and im dreading going home as am at my mums at the moment mum wasnt easy to talk to about it she just has a go at me aswell and more or less agrees with my aunt my aunt basically telling me to end it with my boyfriend who doesnt want to move in with me its all a nightmare i dont know what to do because my anxiety was so bad i went to the doctor again who prescribed me betablockers said this would help the anxiety has anyone else been on them for it  i like being on my own and when i go home i spend time in my room thats wrong im apparently making my aunt unhappy i just dont want to be here anymore i cant take anymore and i cant lose my boyfriend i feel pressurised to dump him because of her  my anxiety is awful i dont know what to do----------', '533778:am so anxious ive been having palpitations and just got overwhelming butterflies this is really getting me down now i cant live like this any longer i really cant take anymore my psychiatrist hasnt rung me back im dreading work tomorrow im dreading being here where im living with my aunt im worried now because i said to my uncle that my aunts doing my head in and im worried hell say something me and my big mouth had enough----------', '514162:no i havent paul67 im on citalopram and have had a funny tummy since being on it dont know whether its that or not im due back at the psychiatrist on 7th august  feeling anxious managed to upset my aunt yesterday which has nade me anxious about living with her even more my sisters moved to ireland now and even thats making me anxious i didnt want her to go yesterday we were at a family wedding and thats where i managed to upset my aunt my sister was going off with her boyfriend last night and her and my mum said i need to stop acting like this im driving people away they still just dont understand what its like im under the psychaitrist what else can i do  anxious about work tomorrow and the coming week dreading it as usual----------']\n",
      "------------------------------\n",
      "query:  so i think my panic attack is connected with my movement  stress from before i was running and i started to think just about random moment from the past it was stressful moment but i dont-experience nothing about it now but then i started to think what if i am not in control of my body anymore and i will jump in the river or i want to go at to start fight some guy on the street and i will finish in jail because i will be aggressive or mby i will finish in mental hospital i started to to shake my heart wanted to explode and from then now when i move my heart is beating really fast and i am afraid to get panic attack again is there some meditation to shut me down because i can not leave with myself like this\n",
      "\n",
      "['284414:it started at work with a panic attack racing heart dizzy ect i think its my work i freak out every time i have to go there----------', '1336348:okay so a few months ago i started taking prozac for premenstrual and anxiety control instead of controlling it though it gave me a ton of new symptoms like panic attacks that come out of nowhere at night and being jumpy at almost anything i stopped taking them after a few weeks and the panic attacks and jumpiness eventually died down so i thought i was through with those symptoms  fast forward a few months and ive started getting panic attacks again ive just started my fmp at college so thats most definitely the reason i cant get to sleep at night cuz it just keeps feeling like im going to die and that my hearts stopped beating i keep feeling that im going to completely black out and that im losing my breath im losing out on a load of sleep cuz of this and its really scary also it seems that the prozac symptoms are now a permanent thing fantastic  the jumpiness seems to be under control right now though  ive never had panic attacks before so i have no idea how best to deal with them ive tried reasoning with myself that im not dying and that im perfectly healthy but its not working very well ive tried distracting myself with games drawing and colouring books but im just so tired that i cant bring myself to do any of it and they dont seem to stop the attacks anyway music doesnt seem to work either in the end i just fall asleep and theyre better in the morning but still  i can just about deal with everyday anxiety stuff but this is new and i really have no idea what to do i know that if i deal with the stress the panic attacks will lessen and thats doable but i have no strategy for when they actually happen  does anyone have any idea about how to deal with this im really exhausted and stressed at the moment and i just want it all to go back to normal  also i dont want to take any more meds for it prozac put me right off----------', '1534118:so i am 20 i have had general anxiety social anxiety which lead to panic attacks for over 2 years now theres been phases when its gone and i have taken control but theres stages where i cant even be myself or go out by myself anywhere its not that i would do something to myself its just this constant fear that ill have a heart attack i do excercise and do not smoke my story is just so long but im trying to keep it as brief as possible but its harder for me to talk about as i am british asian and a guy so i do find it harder anyways i thought my panic attacks in the original stages were a sign i was going to have a heart attack so i just rush myself to ae with my dad and lots of tests have been done and they found i had a slight heart arrhythmia and it was anxiety and i was fine but we all know anxiety is a lot harder to deal with   but anyways the past week i have been experiencing things i hadnt ever before im not sure if its anxiety or if i should seek medical help but it happens when i worry or just randomly ive gotten up a few times when i was sleeping very frantically theres like a liquidacidic like feeling rushing up to my heart and chest that raises my heart rate which ive never experienced before and its concerning me  when i do worry about it it gets worse and it constantly does that but i then calm myself down but theres still like some liquid like or some strange feeling all around my chest that just makes me worry its made me worry before sleeping or going to sleep but when i do sleep ive woken up fully fine i know most of the effects but this new sensation like feeling is not nice and its made me worry more about heart failureheart attack   so two questions how do different people here cope with anxiety im finding it really hard to describe in the 2nd paragraph but i answer follow up questions should i try go to my gp or ae----------']\n",
      "------------------------------\n",
      "query:  im not sure if this is the right place to post i have difficulty leaving my house i can leave but its easier if its at a time of day when its not very busy outside i cant-leave if i can see anyone in my street though i can go to places that ive been before or places where there will be someone i know but cant-go anywhere outside of that sometimes i push myself to go a street or two nearby to where im going so that i experience a new place and can then have that as somewhere ive been before that i might be able to go again but i find that hard staying at home feels way less anxiety provoking ive lost contact with lots of people just because its so hard to push myself to go places and as i am in my 30s i find it hard to have much in common with people who are always talking about travel and the next places in town to visit when i know that i cant-do that i just wondered if anyone can relate i feel pretty alone with this\n",
      "\n",
      "['1208569:i am absolutely knackered and fed up and depressed with my life right now  i dont know how much more i can takefor 2 years ive been dealing with anxiety and horrible panic attacks that bring me to my knees and make me so upset my life has stopped i dont go anywhere  i take my kids to school every day and thats it i stay in my home town and if i even think about leaving i feel sick to my stomach i hate being in places u cant get out of easy so appointments and things i try avoid i feel safe at home but even sometimes then if the door goes unexpectedly id be on he toilet with belly pains or being sick i want to be able to take my kids places and go out with friends and have hollidays to look forward to its sad all i see in my future is crappy anxiety that im not strong enough to push past  im 25 and mum of 3 and feel like my life is over and im ruining my kids lives not trying hard enough to change----------', '5869127:made it through my bad anxiety over driving to place im not familiar and working in a not so great part of town today it was really hard for me dealing with a lot of anxiety over insurance changes too----------', '1557074:hi all just wanted to make my first post i am a 31 year old mother of two i cant remember a time when shyness has not been with me it has only been as i have got older that ive realised the term social anxiety since having children i have to say things have gotten worse the few friends i had dispersed peoples lives move on and i understand that i struggle to make friends and i lose friends easily if dont see friends regularly as i find it really hard to get back to how we were im finding it hard now feeling low and lonely i cant cope at all in one to one situations  it isnt like there are things i feel i could say  my mind just goes blank basic rules of conversation just pass me by until a silence sends the other person running  i feel i come off as rude to those who dont know i am shy and anxious equally big groups i find horrid i feel lost in the crowd groups of 46 is probably my ideal number but even then its hard ive just become friends with people on my street but it is becoming obvious that i am becoming bottom of the pack  lower priority they meet up with each other and im becoming less and less included i just feel like i am better off just staying indoors    sorry for the ramble folks and hello again----------']\n",
      "------------------------------\n"
     ]
    }
   ],
   "source": [
    "for query in test_queries:\n",
    "    print(\"query: \" ,query)\n",
    "    print()\n",
    "    print(query_min_feats(vect, vectorizer, query, pids, posts))\n",
    "    print(\"-\"*30)"
   ]
  },
  {
   "cell_type": "markdown",
   "metadata": {
    "collapsed": true
   },
   "source": [
    "## Trying n_grams "
   ]
  },
  {
   "cell_type": "markdown",
   "metadata": {},
   "source": [
    "** N = (1,2) **"
   ]
  },
  {
   "cell_type": "code",
   "execution_count": 20,
   "metadata": {
    "collapsed": true
   },
   "outputs": [],
   "source": [
    "pids, posts, vectorizer, vect = tfidf(df_model, max_df = 0.7, ngr = (1,2))"
   ]
  },
  {
   "cell_type": "code",
   "execution_count": 22,
   "metadata": {},
   "outputs": [
    {
     "data": {
      "text/plain": [
       "['vect.pkl']"
      ]
     },
     "execution_count": 22,
     "metadata": {},
     "output_type": "execute_result"
    }
   ],
   "source": [
    "joblib.dump(posts, \"posts.pkl\")\n",
    "joblib.dump(vectorizer, \"vectorizer.pkl\")\n",
    "joblib.dump(vect, \"vect.pkl\")"
   ]
  },
  {
   "cell_type": "code",
   "execution_count": 39,
   "metadata": {},
   "outputs": [
    {
     "name": "stdout",
     "output_type": "stream",
     "text": [
      "query:  hello everyone lately my anxiety got worse due to recent events in my life and ill try to explain them and maybe you can tell me if you have them too high fever face is hot and bloated  thoughts get stuck hard to process a thought or an emotion all the way through  cant-feel my nose or my lips  cant-focus or concentrate at all  feeling confused and disoriented  headache  anger  symptoms are not alleviated by anything  when anxiety wears off im yawning alot should i be concerned that i might have something other than anxiety\n",
      "\n",
      "['760560: hello im 23 years old my case  is severe and non tolerated its been 5 days like this although ive had tons of full blown attacks through out life where they end with total body numbness so that when i stand up i cant feel pressure of bones holding me which gives  a death feeling  im now suffering something worse  i had some intense fever 1 month ago although that this might not relate directly but it was accompanied by few panic attacks  that were mixed with cold shivers i felt so weak towards any panic attack so that i had multiple a day then just after around 3 weeks when i was healed from flu the strangest thing started to happen at countless time of the day a shockpanic state occupies me totally with a severe depression feeling of a totally different atmosphere strange view of the world partial loss of concentrationmemory and my eyes open wide in that state and i dont feel like moving or exiting the state its like im sucked in with the greatest terrifying feeling i ever felt  i am not sure why i feel a strong fever  in pinched neckchesthead whenever i enter that state and goes away when i am able to get out of this terrifying state knowing that fever appears in same place every time and it feels like a fever and not random hot flushes my temp is like 385 constant though doctor denied having a fever  please help me outi am in a severe agony trying to solvediagnose this case   update  cbc and ths  thyroid gland test  result implied a perfect situation -----', '250231: each time i got a fever the anxiety symptom simply goes away i mean not even a little sign that im suffering gad i basically feel like a normal person even the air tastes sweet    it was such an amazing experience for me to see how i would otherwise feel if im not suffering gad unfortunately the fever wont go forever and as soon as my body recovered the gad symptom returned and it was so desperate to see that as i just get reminded how wonderful simply living a normal persons life would feel like and then everything is the same same old symptom brain tension endless apprehension    i wish i could have more fever but basically its once a year for me its a truly awesome holiday-----', '5675557: i got the horrible news that im supposed to be here the rest of my life i guess my anxiety is way up but i feel very numb-----']\n",
      "------------------------------\n",
      "query:  i have been diagnosed with gad multiple times in my life its normal i used to have a lot of self perpetuated depression as well im better at monitoring what im thinking now im from a very dysfunctional family that told me i was a failure i was a mistake i am a failure by birth i wont amount to anything i have fought through so much anxiety and without a whole lot of counseling i have gotten a second ba degree and got a great start on a full retrain professionally i know this is my dream now i know this is what i want for myself its the fear of failure and the fear of being told im not good enough or bad in some way or criticism from otherauthority again that is freaking me out this application i think is due at the end of feb sigh\n",
      "\n",
      "['441471: sundays here anxious about tomorrow ive rung and told them im going to work tomorrow godi dont want to -----', '586185: im going to write a follow up to my first post here its a mixture of both depression and social anxiety as i remember i never liked people looking at me i got angry as a child i am obsessed with my looks fore example if my hair looks good etc even if i get approved that it does i also have problem to listen to people while looking them in the eyes during a conversion because this makes me very self centered and i begin to think if my lips are moving strangely or if my face looks too stiff this makes people think im a bad listener and im egocentric     i have been a big daydreamer all my life i live in fantasies where i fantasize about dream scenarios in life about success women i never got due to my social anxiety but where i built up a fantasy around on how it could look like people say i can bee too paranoid sometimes this is because i dont trust people and therefore i take steps back when someone is trying to get close to me     when someone gets interested in me i become very shut down im also very self critical i have a all or nothing thinking looking back i think i have had anxiety all my life i have always thinking of the past and i have for some reasons not being able to live in the present i suspect i have obsessive thinking since i think about things from my childhood what people said or just people or happenings that has no relevance to the present i have used the internet to build connections with friends and girls     there i have no problems at all to have conversations say what i feel  internet dating has never been a problem for me it is just that i have not been able to meet up with girls since my fears and symptoms of social anxiety his me i doubt of myself a lot even if people say im good enough im talented enough i have this perfectionist thinking and i dont like criticismi get very defensive then i want everything to be right at once im not sure if this is a part of social anxiety but i have never taken part of any side when there is an argument or if someone asks for an opinion im just neutral and blank in my head     then when someone says something or brings up his opinion i think that wait i could have said that i feel that this all life of daydreaming and fantasizing is a symptom of add people have told me im a bad  not sure if this is a sign of add or short attention i always think my jokes are the funniest and what i say i have hard time remembering things since im so up in the clouds i have always been a creative person and producing music has been a big part of life when i socialize with new people or friends i constantly think of things from the past and i cant be in the moment     seems i cant form new toughts at all or have any conversations in the present i hate taking advice from others i am very stubborn and sometimes i can get angry if someone points something out to me or suggest me anything i just tell them that everything is fine as it is and i dont need that i have recently opened up for my family more told things they did not knew about   currently everything has become worse and my obsessive thinking about past career and women and lost love i cant recognize myself and i dont have energy to meet up with friends or anyone i feel apathic people have told me that im more quieter than usual or that im so quiet but i just dont care when they make such remarks     i dont feel affected i cant feel emotions maybe it is because i never had a relationship with a women that has made me feel like this i wake up same time ever night sometimes and i dream a lot i put down my big hobbies in life slowly it has been harder to go on with no love this social anxiety and obsessive thinking is stopping me of be in the present with people before a social meeting i feel good and imagine in my head how i will be when the situation arrives i get blank in my head forget things i should say and after the social situation i remember what i have should said or done im usaly more open if the other person is taking initiative sometimes same thoughts  music gets stuck in my head for weeks i even tell the same jokes or say the same things i am very nice to other people helping them but when someone asks how i feel i just say that i feel great and deep inside i feel that it is not what i feel  reply with quote-----', '5731256: i havent been here in a long time but ive been doing relatively well and am going up the latter at my job and have been talked to a couple times about becoming a manager but im not sure i want that or not gives me a lot less anxiety over if im gonna be in trouble or something which never happens but still then it means i have to set an example for everyone else and be in charge which im not good at im good at my job but just because of my ability to disassociate when i do things i dont like i can do it for hours pretending to care about the customers at all and robotically moving around anyways im back because im having my first bout of anxiety in a while started getting nauseous again and cant sleep hoping i will be back to normal in the morning-----']\n",
      "------------------------------\n",
      "query:  feelings i want to hide from people i feel judged i feel like internally screaming i want to run away i want to escape i dont-want to be seen i dont-want to be judged hiding is safer i dont-want to interact with people i feel like i have to wear a mask and i feel drained by concealing myself all day long i want to quit my job i feel like people are against me everyones against me laughter noises talking social interaction they all make me want to have an anxiety attack what is wrong with me\n",
      "\n",
      "['1384518: i for sure dont think nor am i trying to fix anyone the truth is i have a crush on him but i dont want to flat out say it because i dont want to scare him away and so i thought trying to build a friendship first and ease into it might help at first i thought he hated me lol or thought maybe he noticed my interest but then i realized the way he is with me he is exactly the same with everyone he has social anxiety i dont want to annoy him and so i wanted to see if my approach is bad-----', '474730: i just need to vent so basically i hate leaving my house i feel so ugly and fat that i just dont want to be seen by the public or by my friends when i do have to leave the house i can not stand it and all i can think about is what everyone is thinking when they see me i stopped seeing my friends because i gained some weight and i dont want them to see me until i lose it well its taking longer to lose it than i thought which is resulting in like zero social interaction i feel like im starting to go like crazy and i dont know how to deal with it i see my family all the time so its not like im getting completely no interaction what am i suppose to do i feel so lame my anxiety is getting so bad i hate leaving the house but then i get anxious and start feeling like staying home is going to kill me ugh im so lost-----', '466873: the course was cancelled hurrah am still anxious as going back to work monday so not looking forwards to it am anxious about where im living dont want to be here feel like i cant do what i want like if i want a snooze in the afternoon feel like i cant i hate it here how am i going to be after ive come off the other tablets god help me arrrrrrrgggggghhhhhhhh cant cope-----']\n",
      "------------------------------\n",
      "query:  guys what do you usually do to stop over thinking i have a severe overthinking habit that always make me panic and do some awkward and dumb move for example yesterday i met my aunt on restaurant i sit on different tables and im done eating first while my uber driver is on the way to restaurant i just wanna say goodbye to her and her family but rather than walk to their table i said it rather loud from my tables when my aunt saw me that makes some people on restaurant look at me then i go home at first i thought its normal then i realized how dumb my action is i should have go to their table and said goodbye rather than saying it from far away that make me look like a panic person i keep on thinking about this case i think about how my aunt family think about me after my move and etccan someone help me to getting over this  i cant-stop thinking even about some little things moreover some dumb things i do thankyou\n",
      "\n",
      "['475641: hate it here feel so anxious what my aunts just said to me hate it-----', '525255: came home from work friday not feeling well then over the weekend anxious anxious monday so didnt go to work last night was dreadful my aunt sent my anxiety way up by having a go at me about what i was doing about moving whether im moving in with my boyfriend having a dig at him saying he gives her the creeps and that she doesnt like him that no one likes him that im stopping her daughter from coming round because im miserable amongst other things fing bitch i hate her so much and im dreading going home as am at my mums at the moment mum wasnt easy to talk to about it she just has a go at me aswell and more or less agrees with my aunt my aunt basically telling me to end it with my boyfriend who doesnt want to move in with me its all a nightmare i dont know what to do because my anxiety was so bad i went to the doctor again who prescribed me betablockers said this would help the anxiety has anyone else been on them for it  i like being on my own and when i go home i spend time in my room thats wrong im apparently making my aunt unhappy i just dont want to be here anymore i cant take anymore and i cant lose my boyfriend i feel pressurised to dump him because of her  my anxiety is awful i dont know what to do-----', '514162: no i havent paul67 im on citalopram and have had a funny tummy since being on it dont know whether its that or not im due back at the psychiatrist on 7th august  feeling anxious managed to upset my aunt yesterday which has nade me anxious about living with her even more my sisters moved to ireland now and even thats making me anxious i didnt want her to go yesterday we were at a family wedding and thats where i managed to upset my aunt my sister was going off with her boyfriend last night and her and my mum said i need to stop acting like this im driving people away they still just dont understand what its like im under the psychaitrist what else can i do  anxious about work tomorrow and the coming week dreading it as usual-----']\n",
      "------------------------------\n",
      "query:  so i think my panic attack is connected with my movement  stress from before i was running and i started to think just about random moment from the past it was stressful moment but i dont-experience nothing about it now but then i started to think what if i am not in control of my body anymore and i will jump in the river or i want to go at to start fight some guy on the street and i will finish in jail because i will be aggressive or mby i will finish in mental hospital i started to to shake my heart wanted to explode and from then now when i move my heart is beating really fast and i am afraid to get panic attack again is there some meditation to shut me down because i can not leave with myself like this\n",
      "\n",
      "['701263: i was kayaking the other day and got a couple kms upstream and started to have what i think is a panic attack it started with me thinking there was sharks in the river and they were going to jump out of the water and bite me or my hand off it got to the point where i wouldnt put my hands or feet in the waterthen it turned to overwhelming feeling that there was someone in the bushes watching me with a gun and i was going to be shot thats when the panic seemed to set in i turned around and hot tailed it back to the launching ramp and got out as fast as i could and then felt like crap the rest of the day-----', '2268386: hi i was told by my old therapist that theres a possibility that i could have social anxiety disorder i wasnt all too sure about that because ive never had a panic attack before when i see the word anxiety i automatically think panic attacks i know that im socially inept and awkward but i was just wondering if it is possible to have sad and not have panic attacks-----', '1224682: i can definitely get what i would call a full blown panic attack with chest pains shortness of breathe sweating etc i can also have that awful feeling of doom and fear still think of that as panic attack as others have said there is a sliding scale  either way it is a horrible experience-----']\n",
      "------------------------------\n",
      "query:  im not sure if this is the right place to post i have difficulty leaving my house i can leave but its easier if its at a time of day when its not very busy outside i cant-leave if i can see anyone in my street though i can go to places that ive been before or places where there will be someone i know but cant-go anywhere outside of that sometimes i push myself to go a street or two nearby to where im going so that i experience a new place and can then have that as somewhere ive been before that i might be able to go again but i find that hard staying at home feels way less anxiety provoking ive lost contact with lots of people just because its so hard to push myself to go places and as i am in my 30s i find it hard to have much in common with people who are always talking about travel and the next places in town to visit when i know that i cant-do that i just wondered if anyone can relate i feel pretty alone with this\n",
      "\n",
      "['159675: hello   im not sure if im asking this in the right place its my first ever post   the thing is the citalopram 20mg in my new packet that i got about 2 weeks ago taste really strongly of soap or washing up liquid is this normal also ive been more anxious over the past few days im wondering if there could be something wrong with them   cheers-----', '1279732: hi    i dont know if this is the right place to post this but basically i keep thinking ive killed someone there is no evidence to suggest i have and i have no memory of doing it but i just cant stop thinking about it and my thoughts are telling me that i have its making me increasingly anxious and i know it caused by my anxiety but i really dont know what to do about it can anyone help me-----', '121927: hey i am not sure if i am really in the right place  i do not suffer from panic attacks  but recently i have been up and down and going through a very very hard patch im going to the doctors today but i think it is suspected anxiety  anyway since i have been feeling like this iv found it hard being around people apart from my family even my best friends i feel hard being around i also am starting to find it hard to leave the house if i do i feel a bit paranoid like everybody is looking at me and knows i am suffering i feel safer in my house and in bed tbh  anyway well my mum had booked me a trip for my 18th birthday present with my two friends it is a murder mystery weekend away in a hotel i am leaving for it tomorrow and i am quite a lot worried about going im just scared of being away from my parents now i know that sounds silly    has anyone got any coping strategies or ways that i can phsyc myself up for the trip because mostly all im feeling now is worry    replies would be apreciated x-----']\n",
      "------------------------------\n"
     ]
    }
   ],
   "source": [
    "print_query(test_queries, tf_query, vect, vectorizer, pids, posts)"
   ]
  },
  {
   "cell_type": "markdown",
   "metadata": {},
   "source": [
    "** N(1,2) with min features**"
   ]
  },
  {
   "cell_type": "code",
   "execution_count": 40,
   "metadata": {},
   "outputs": [
    {
     "name": "stdout",
     "output_type": "stream",
     "text": [
      "query:  hello everyone lately my anxiety got worse due to recent events in my life and ill try to explain them and maybe you can tell me if you have them too high fever face is hot and bloated  thoughts get stuck hard to process a thought or an emotion all the way through  cant-feel my nose or my lips  cant-focus or concentrate at all  feeling confused and disoriented  headache  anger  symptoms are not alleviated by anything  when anxiety wears off im yawning alot should i be concerned that i might have something other than anxiety\n",
      "\n",
      "['250231:each time i got a fever the anxiety symptom simply goes away i mean not even a little sign that im suffering gad i basically feel like a normal person even the air tastes sweet    it was such an amazing experience for me to see how i would otherwise feel if im not suffering gad unfortunately the fever wont go forever and as soon as my body recovered the gad symptom returned and it was so desperate to see that as i just get reminded how wonderful simply living a normal persons life would feel like and then everything is the same same old symptom brain tension endless apprehension    i wish i could have more fever but basically its once a year for me its a truly awesome holiday----------', '5675557:i got the horrible news that im supposed to be here the rest of my life i guess my anxiety is way up but i feel very numb----------', '1343535:hi im new to the forum and wondering if someone can help me out   i suffer from high anxiety and it has increased recently i have also had weird experiences lately its hard to explain i feel like im having an out of body experience like im watching someone elses movements i have also had bad thoughts hatred anger etc i dont know what to do can someone help and suggest what may be going on----------']\n",
      "------------------------------\n",
      "query:  i have been diagnosed with gad multiple times in my life its normal i used to have a lot of self perpetuated depression as well im better at monitoring what im thinking now im from a very dysfunctional family that told me i was a failure i was a mistake i am a failure by birth i wont amount to anything i have fought through so much anxiety and without a whole lot of counseling i have gotten a second ba degree and got a great start on a full retrain professionally i know this is my dream now i know this is what i want for myself its the fear of failure and the fear of being told im not good enough or bad in some way or criticism from otherauthority again that is freaking me out this application i think is due at the end of feb sigh\n",
      "\n",
      "['586185:im going to write a follow up to my first post here its a mixture of both depression and social anxiety as i remember i never liked people looking at me i got angry as a child i am obsessed with my looks fore example if my hair looks good etc even if i get approved that it does i also have problem to listen to people while looking them in the eyes during a conversion because this makes me very self centered and i begin to think if my lips are moving strangely or if my face looks too stiff this makes people think im a bad listener and im egocentric     i have been a big daydreamer all my life i live in fantasies where i fantasize about dream scenarios in life about success women i never got due to my social anxiety but where i built up a fantasy around on how it could look like people say i can bee too paranoid sometimes this is because i dont trust people and therefore i take steps back when someone is trying to get close to me     when someone gets interested in me i become very shut down im also very self critical i have a all or nothing thinking looking back i think i have had anxiety all my life i have always thinking of the past and i have for some reasons not being able to live in the present i suspect i have obsessive thinking since i think about things from my childhood what people said or just people or happenings that has no relevance to the present i have used the internet to build connections with friends and girls     there i have no problems at all to have conversations say what i feel  internet dating has never been a problem for me it is just that i have not been able to meet up with girls since my fears and symptoms of social anxiety his me i doubt of myself a lot even if people say im good enough im talented enough i have this perfectionist thinking and i dont like criticismi get very defensive then i want everything to be right at once im not sure if this is a part of social anxiety but i have never taken part of any side when there is an argument or if someone asks for an opinion im just neutral and blank in my head     then when someone says something or brings up his opinion i think that wait i could have said that i feel that this all life of daydreaming and fantasizing is a symptom of add people have told me im a bad  not sure if this is a sign of add or short attention i always think my jokes are the funniest and what i say i have hard time remembering things since im so up in the clouds i have always been a creative person and producing music has been a big part of life when i socialize with new people or friends i constantly think of things from the past and i cant be in the moment     seems i cant form new toughts at all or have any conversations in the present i hate taking advice from others i am very stubborn and sometimes i can get angry if someone points something out to me or suggest me anything i just tell them that everything is fine as it is and i dont need that i have recently opened up for my family more told things they did not knew about   currently everything has become worse and my obsessive thinking about past career and women and lost love i cant recognize myself and i dont have energy to meet up with friends or anyone i feel apathic people have told me that im more quieter than usual or that im so quiet but i just dont care when they make such remarks     i dont feel affected i cant feel emotions maybe it is because i never had a relationship with a women that has made me feel like this i wake up same time ever night sometimes and i dream a lot i put down my big hobbies in life slowly it has been harder to go on with no love this social anxiety and obsessive thinking is stopping me of be in the present with people before a social meeting i feel good and imagine in my head how i will be when the situation arrives i get blank in my head forget things i should say and after the social situation i remember what i have should said or done im usaly more open if the other person is taking initiative sometimes same thoughts  music gets stuck in my head for weeks i even tell the same jokes or say the same things i am very nice to other people helping them but when someone asks how i feel i just say that i feel great and deep inside i feel that it is not what i feel  reply with quote----------', '5731256:i havent been here in a long time but ive been doing relatively well and am going up the latter at my job and have been talked to a couple times about becoming a manager but im not sure i want that or not gives me a lot less anxiety over if im gonna be in trouble or something which never happens but still then it means i have to set an example for everyone else and be in charge which im not good at im good at my job but just because of my ability to disassociate when i do things i dont like i can do it for hours pretending to care about the customers at all and robotically moving around anyways im back because im having my first bout of anxiety in a while started getting nauseous again and cant sleep hoping i will be back to normal in the morning----------', '307390:im really struggling with my anxiety and my angertoday is my birth mums birthday the first one of me knowing her and on sunday its the anniversary of my birth dads murder  im feeling very mixed up and struggling to hold it all together----------']\n",
      "------------------------------\n",
      "query:  feelings i want to hide from people i feel judged i feel like internally screaming i want to run away i want to escape i dont-want to be seen i dont-want to be judged hiding is safer i dont-want to interact with people i feel like i have to wear a mask and i feel drained by concealing myself all day long i want to quit my job i feel like people are against me everyones against me laughter noises talking social interaction they all make me want to have an anxiety attack what is wrong with me\n",
      "\n",
      "['474730:i just need to vent so basically i hate leaving my house i feel so ugly and fat that i just dont want to be seen by the public or by my friends when i do have to leave the house i can not stand it and all i can think about is what everyone is thinking when they see me i stopped seeing my friends because i gained some weight and i dont want them to see me until i lose it well its taking longer to lose it than i thought which is resulting in like zero social interaction i feel like im starting to go like crazy and i dont know how to deal with it i see my family all the time so its not like im getting completely no interaction what am i suppose to do i feel so lame my anxiety is getting so bad i hate leaving the house but then i get anxious and start feeling like staying home is going to kill me ugh im so lost----------', '247618:hiim new here and was just looking for someone to chat to as i dont want to talk about the way i feel to family or friends  okfor a while now i think ive had anxiety to some degreebut for the past year or so it seems to be taking over my life to the point where im really worried it might be something more   im a 30 yr old woman with 2 children and i am now at the stage where i dont want to go out of the housei dont answer my door to anyonenot even if i know who it is knockingmy heart goes crazy every timei dont want people in my housei have my curtains closed 247 and have done for the past 6 mthsi dont socialize even though i have lots of friends who now i dont see much ofi even feel the need to ignore the phone   the thing iswhen im in my house on my own or with my kids i am so happyi dont feel depressed  i could go on and on but that is the general outline of my situation  what is wrong with me i want to go to the doctors but i know i would find it difficultdoes anyone else feel this way  thanks nikki----------', '1563222:i tried keeping myself positive but i just cant take it anymore   i got laid off in july cant find anything i was a mailroom coordinator but wanted to go into programming and they let me go soon found out that the manager just wanted to hire someone he knew   also in that job there was someone who really made me feel like scum and i want to punch him in the face for that he told me he wanted to mentor me but all he wanted was a safe space for his stuff in the mailroom i worked in  i have knowledge but i want to go back to college to finish it the problem is i have no money to live off of at the moment   i wish i would die sometimes  i would go to a therapist but i dont have the money for it----------']\n",
      "------------------------------\n",
      "query:  guys what do you usually do to stop over thinking i have a severe overthinking habit that always make me panic and do some awkward and dumb move for example yesterday i met my aunt on restaurant i sit on different tables and im done eating first while my uber driver is on the way to restaurant i just wanna say goodbye to her and her family but rather than walk to their table i said it rather loud from my tables when my aunt saw me that makes some people on restaurant look at me then i go home at first i thought its normal then i realized how dumb my action is i should have go to their table and said goodbye rather than saying it from far away that make me look like a panic person i keep on thinking about this case i think about how my aunt family think about me after my move and etccan someone help me to getting over this  i cant-stop thinking even about some little things moreover some dumb things i do thankyou\n",
      "\n",
      "['525255:came home from work friday not feeling well then over the weekend anxious anxious monday so didnt go to work last night was dreadful my aunt sent my anxiety way up by having a go at me about what i was doing about moving whether im moving in with my boyfriend having a dig at him saying he gives her the creeps and that she doesnt like him that no one likes him that im stopping her daughter from coming round because im miserable amongst other things fing bitch i hate her so much and im dreading going home as am at my mums at the moment mum wasnt easy to talk to about it she just has a go at me aswell and more or less agrees with my aunt my aunt basically telling me to end it with my boyfriend who doesnt want to move in with me its all a nightmare i dont know what to do because my anxiety was so bad i went to the doctor again who prescribed me betablockers said this would help the anxiety has anyone else been on them for it  i like being on my own and when i go home i spend time in my room thats wrong im apparently making my aunt unhappy i just dont want to be here anymore i cant take anymore and i cant lose my boyfriend i feel pressurised to dump him because of her  my anxiety is awful i dont know what to do----------', '514162:no i havent paul67 im on citalopram and have had a funny tummy since being on it dont know whether its that or not im due back at the psychiatrist on 7th august  feeling anxious managed to upset my aunt yesterday which has nade me anxious about living with her even more my sisters moved to ireland now and even thats making me anxious i didnt want her to go yesterday we were at a family wedding and thats where i managed to upset my aunt my sister was going off with her boyfriend last night and her and my mum said i need to stop acting like this im driving people away they still just dont understand what its like im under the psychaitrist what else can i do  anxious about work tomorrow and the coming week dreading it as usual----------', '533778:am so anxious ive been having palpitations and just got overwhelming butterflies this is really getting me down now i cant live like this any longer i really cant take anymore my psychiatrist hasnt rung me back im dreading work tomorrow im dreading being here where im living with my aunt im worried now because i said to my uncle that my aunts doing my head in and im worried hell say something me and my big mouth had enough----------']\n",
      "------------------------------\n",
      "query:  so i think my panic attack is connected with my movement  stress from before i was running and i started to think just about random moment from the past it was stressful moment but i dont-experience nothing about it now but then i started to think what if i am not in control of my body anymore and i will jump in the river or i want to go at to start fight some guy on the street and i will finish in jail because i will be aggressive or mby i will finish in mental hospital i started to to shake my heart wanted to explode and from then now when i move my heart is beating really fast and i am afraid to get panic attack again is there some meditation to shut me down because i can not leave with myself like this\n",
      "\n",
      "['2268386:hi i was told by my old therapist that theres a possibility that i could have social anxiety disorder i wasnt all too sure about that because ive never had a panic attack before when i see the word anxiety i automatically think panic attacks i know that im socially inept and awkward but i was just wondering if it is possible to have sad and not have panic attacks----------', '1224682:i can definitely get what i would call a full blown panic attack with chest pains shortness of breathe sweating etc i can also have that awful feeling of doom and fear still think of that as panic attack as others have said there is a sliding scale  either way it is a horrible experience----------', '780626:dont feel guilty about it clockworklemon  one of my worst panic attacks i was on the underground in london without family support which is what caused the panic attack only two or three others in the carriage one woman started screaming shes having a heart attack i wasnt i was hyperventilating luckily another passenger was a medic of some sort and his wife suffered with panic attacks and he realised what was happening and sorted me out  daft thing is that my panic attacks are normally mild enough that there are no obvious signs to others doesnt stop me feeling like hell though----------']\n",
      "------------------------------\n",
      "query:  im not sure if this is the right place to post i have difficulty leaving my house i can leave but its easier if its at a time of day when its not very busy outside i cant-leave if i can see anyone in my street though i can go to places that ive been before or places where there will be someone i know but cant-go anywhere outside of that sometimes i push myself to go a street or two nearby to where im going so that i experience a new place and can then have that as somewhere ive been before that i might be able to go again but i find that hard staying at home feels way less anxiety provoking ive lost contact with lots of people just because its so hard to push myself to go places and as i am in my 30s i find it hard to have much in common with people who are always talking about travel and the next places in town to visit when i know that i cant-do that i just wondered if anyone can relate i feel pretty alone with this\n",
      "\n",
      "['1279732:hi    i dont know if this is the right place to post this but basically i keep thinking ive killed someone there is no evidence to suggest i have and i have no memory of doing it but i just cant stop thinking about it and my thoughts are telling me that i have its making me increasingly anxious and i know it caused by my anxiety but i really dont know what to do about it can anyone help me----------', '121927:hey i am not sure if i am really in the right place  i do not suffer from panic attacks  but recently i have been up and down and going through a very very hard patch im going to the doctors today but i think it is suspected anxiety  anyway since i have been feeling like this iv found it hard being around people apart from my family even my best friends i feel hard being around i also am starting to find it hard to leave the house if i do i feel a bit paranoid like everybody is looking at me and knows i am suffering i feel safer in my house and in bed tbh  anyway well my mum had booked me a trip for my 18th birthday present with my two friends it is a murder mystery weekend away in a hotel i am leaving for it tomorrow and i am quite a lot worried about going im just scared of being away from my parents now i know that sounds silly    has anyone got any coping strategies or ways that i can phsyc myself up for the trip because mostly all im feeling now is worry    replies would be apreciated x----------', '5530196:bed bugs yes these are always a concern for me a few years ago my building had them and it took two months to fully eradicate it is something constantly on my mind as since then ive had the practise each morning of checking for bites and scrutinising my mattresses my anxiety is spiking right now as a pest control vehicle is sitting parked in front of the building across the street i am in abject fear right now that these effing things will march on over across the street----------']\n",
      "------------------------------\n"
     ]
    }
   ],
   "source": [
    "for query in test_queries:\n",
    "    print(\"query: \" ,query)\n",
    "    print()\n",
    "    print(query_min_feats(vect, vectorizer, query, pids, posts))\n",
    "    print(\"-\"*30)"
   ]
  },
  {
   "cell_type": "code",
   "execution_count": null,
   "metadata": {
    "collapsed": true
   },
   "outputs": [],
   "source": []
  },
  {
   "cell_type": "code",
   "execution_count": null,
   "metadata": {
    "collapsed": true
   },
   "outputs": [],
   "source": []
  },
  {
   "cell_type": "code",
   "execution_count": null,
   "metadata": {
    "collapsed": true
   },
   "outputs": [],
   "source": []
  },
  {
   "cell_type": "code",
   "execution_count": null,
   "metadata": {
    "collapsed": true
   },
   "outputs": [],
   "source": []
  },
  {
   "cell_type": "markdown",
   "metadata": {},
   "source": [
    "** N = (1,2,3) **"
   ]
  },
  {
   "cell_type": "code",
   "execution_count": 48,
   "metadata": {
    "collapsed": true
   },
   "outputs": [],
   "source": [
    "pids, posts, vectorizer, vect = tfidf(df_model, max_df = 0.8, ngr = (1,3))"
   ]
  },
  {
   "cell_type": "code",
   "execution_count": 49,
   "metadata": {},
   "outputs": [
    {
     "name": "stdout",
     "output_type": "stream",
     "text": [
      "query:  hello everyone lately my anxiety got worse due to recent events in my life and ill try to explain them and maybe you can tell me if you have them too high fever face is hot and bloated  thoughts get stuck hard to process a thought or an emotion all the way through  cant-feel my nose or my lips  cant-focus or concentrate at all  feeling confused and disoriented  headache  anger  symptoms are not alleviated by anything  when anxiety wears off im yawning alot should i be concerned that i might have something other than anxiety\n",
      "\n",
      "['760560: hello im 23 years old my case  is severe and non tolerated its been 5 days like this although ive had tons of full blown attacks through out life where they end with total body numbness so that when i stand up i cant feel pressure of bones holding me which gives  a death feeling  im now suffering something worse  i had some intense fever 1 month ago although that this might not relate directly but it was accompanied by few panic attacks  that were mixed with cold shivers i felt so weak towards any panic attack so that i had multiple a day then just after around 3 weeks when i was healed from flu the strangest thing started to happen at countless time of the day a shockpanic state occupies me totally with a severe depression feeling of a totally different atmosphere strange view of the world partial loss of concentrationmemory and my eyes open wide in that state and i dont feel like moving or exiting the state its like im sucked in with the greatest terrifying feeling i ever felt  i am not sure why i feel a strong fever  in pinched neckchesthead whenever i enter that state and goes away when i am able to get out of this terrifying state knowing that fever appears in same place every time and it feels like a fever and not random hot flushes my temp is like 385 constant though doctor denied having a fever  please help me outi am in a severe agony trying to solvediagnose this case   update  cbc and ths  thyroid gland test  result implied a perfect situation -----', '250231: each time i got a fever the anxiety symptom simply goes away i mean not even a little sign that im suffering gad i basically feel like a normal person even the air tastes sweet    it was such an amazing experience for me to see how i would otherwise feel if im not suffering gad unfortunately the fever wont go forever and as soon as my body recovered the gad symptom returned and it was so desperate to see that as i just get reminded how wonderful simply living a normal persons life would feel like and then everything is the same same old symptom brain tension endless apprehension    i wish i could have more fever but basically its once a year for me its a truly awesome holiday-----', '5675557: i got the horrible news that im supposed to be here the rest of my life i guess my anxiety is way up but i feel very numb-----']\n",
      "------------------------------\n",
      "query:  i have been diagnosed with gad multiple times in my life its normal i used to have a lot of self perpetuated depression as well im better at monitoring what im thinking now im from a very dysfunctional family that told me i was a failure i was a mistake i am a failure by birth i wont amount to anything i have fought through so much anxiety and without a whole lot of counseling i have gotten a second ba degree and got a great start on a full retrain professionally i know this is my dream now i know this is what i want for myself its the fear of failure and the fear of being told im not good enough or bad in some way or criticism from otherauthority again that is freaking me out this application i think is due at the end of feb sigh\n",
      "\n",
      "['5731256: i havent been here in a long time but ive been doing relatively well and am going up the latter at my job and have been talked to a couple times about becoming a manager but im not sure i want that or not gives me a lot less anxiety over if im gonna be in trouble or something which never happens but still then it means i have to set an example for everyone else and be in charge which im not good at im good at my job but just because of my ability to disassociate when i do things i dont like i can do it for hours pretending to care about the customers at all and robotically moving around anyways im back because im having my first bout of anxiety in a while started getting nauseous again and cant sleep hoping i will be back to normal in the morning-----', '441471: sundays here anxious about tomorrow ive rung and told them im going to work tomorrow godi dont want to -----', '586185: im going to write a follow up to my first post here its a mixture of both depression and social anxiety as i remember i never liked people looking at me i got angry as a child i am obsessed with my looks fore example if my hair looks good etc even if i get approved that it does i also have problem to listen to people while looking them in the eyes during a conversion because this makes me very self centered and i begin to think if my lips are moving strangely or if my face looks too stiff this makes people think im a bad listener and im egocentric     i have been a big daydreamer all my life i live in fantasies where i fantasize about dream scenarios in life about success women i never got due to my social anxiety but where i built up a fantasy around on how it could look like people say i can bee too paranoid sometimes this is because i dont trust people and therefore i take steps back when someone is trying to get close to me     when someone gets interested in me i become very shut down im also very self critical i have a all or nothing thinking looking back i think i have had anxiety all my life i have always thinking of the past and i have for some reasons not being able to live in the present i suspect i have obsessive thinking since i think about things from my childhood what people said or just people or happenings that has no relevance to the present i have used the internet to build connections with friends and girls     there i have no problems at all to have conversations say what i feel  internet dating has never been a problem for me it is just that i have not been able to meet up with girls since my fears and symptoms of social anxiety his me i doubt of myself a lot even if people say im good enough im talented enough i have this perfectionist thinking and i dont like criticismi get very defensive then i want everything to be right at once im not sure if this is a part of social anxiety but i have never taken part of any side when there is an argument or if someone asks for an opinion im just neutral and blank in my head     then when someone says something or brings up his opinion i think that wait i could have said that i feel that this all life of daydreaming and fantasizing is a symptom of add people have told me im a bad  not sure if this is a sign of add or short attention i always think my jokes are the funniest and what i say i have hard time remembering things since im so up in the clouds i have always been a creative person and producing music has been a big part of life when i socialize with new people or friends i constantly think of things from the past and i cant be in the moment     seems i cant form new toughts at all or have any conversations in the present i hate taking advice from others i am very stubborn and sometimes i can get angry if someone points something out to me or suggest me anything i just tell them that everything is fine as it is and i dont need that i have recently opened up for my family more told things they did not knew about   currently everything has become worse and my obsessive thinking about past career and women and lost love i cant recognize myself and i dont have energy to meet up with friends or anyone i feel apathic people have told me that im more quieter than usual or that im so quiet but i just dont care when they make such remarks     i dont feel affected i cant feel emotions maybe it is because i never had a relationship with a women that has made me feel like this i wake up same time ever night sometimes and i dream a lot i put down my big hobbies in life slowly it has been harder to go on with no love this social anxiety and obsessive thinking is stopping me of be in the present with people before a social meeting i feel good and imagine in my head how i will be when the situation arrives i get blank in my head forget things i should say and after the social situation i remember what i have should said or done im usaly more open if the other person is taking initiative sometimes same thoughts  music gets stuck in my head for weeks i even tell the same jokes or say the same things i am very nice to other people helping them but when someone asks how i feel i just say that i feel great and deep inside i feel that it is not what i feel  reply with quote-----']\n",
      "------------------------------\n",
      "query:  feelings i want to hide from people i feel judged i feel like internally screaming i want to run away i want to escape i dont-want to be seen i dont-want to be judged hiding is safer i dont-want to interact with people i feel like i have to wear a mask and i feel drained by concealing myself all day long i want to quit my job i feel like people are against me everyones against me laughter noises talking social interaction they all make me want to have an anxiety attack what is wrong with me\n",
      "\n",
      "['1384518: i for sure dont think nor am i trying to fix anyone the truth is i have a crush on him but i dont want to flat out say it because i dont want to scare him away and so i thought trying to build a friendship first and ease into it might help at first i thought he hated me lol or thought maybe he noticed my interest but then i realized the way he is with me he is exactly the same with everyone he has social anxiety i dont want to annoy him and so i wanted to see if my approach is bad-----', '1301966: i have suffered from depression for years as long as i can remember and recently diagnosed with generalised anxiety disorder i have a lot of things going on at the minute which werent really helping and i was referred for cbt which i thought would be brilliant and was my 2nd last session was this week my therapist wants to discharge me because she thinks ive made amazing progress and i have i did somethings happened at work and i feel like ive been shot in the chest i had a panic attack on the way home ive been suffering from loss of vision in my peripherys and today i feel so tight across my chest i barely slept and i keep crying hysterically ive basically gone back to how i was prior to any treatment   i dont feel like im a danger to myself or anyone but i have the overwhelming feeling of not wanting to be here i would never do anything but its like i want to run away or something  i tried to be proactive applied for new jobs but then the anxiety and panic kicks in  what if i dont get any of them what if they are worse   i dont know what to say to my therapist next week in my last appointment at the minute i feel like just caving and getting on medication i just want to feel numb     please help or send advice-----', '1563222: i tried keeping myself positive but i just cant take it anymore   i got laid off in july cant find anything i was a mailroom coordinator but wanted to go into programming and they let me go soon found out that the manager just wanted to hire someone he knew   also in that job there was someone who really made me feel like scum and i want to punch him in the face for that he told me he wanted to mentor me but all he wanted was a safe space for his stuff in the mailroom i worked in  i have knowledge but i want to go back to college to finish it the problem is i have no money to live off of at the moment   i wish i would die sometimes  i would go to a therapist but i dont have the money for it-----']\n",
      "------------------------------\n",
      "query:  guys what do you usually do to stop over thinking i have a severe overthinking habit that always make me panic and do some awkward and dumb move for example yesterday i met my aunt on restaurant i sit on different tables and im done eating first while my uber driver is on the way to restaurant i just wanna say goodbye to her and her family but rather than walk to their table i said it rather loud from my tables when my aunt saw me that makes some people on restaurant look at me then i go home at first i thought its normal then i realized how dumb my action is i should have go to their table and said goodbye rather than saying it from far away that make me look like a panic person i keep on thinking about this case i think about how my aunt family think about me after my move and etccan someone help me to getting over this  i cant-stop thinking even about some little things moreover some dumb things i do thankyou\n",
      "\n",
      "['475641: hate it here feel so anxious what my aunts just said to me hate it-----', '525255: came home from work friday not feeling well then over the weekend anxious anxious monday so didnt go to work last night was dreadful my aunt sent my anxiety way up by having a go at me about what i was doing about moving whether im moving in with my boyfriend having a dig at him saying he gives her the creeps and that she doesnt like him that no one likes him that im stopping her daughter from coming round because im miserable amongst other things fing bitch i hate her so much and im dreading going home as am at my mums at the moment mum wasnt easy to talk to about it she just has a go at me aswell and more or less agrees with my aunt my aunt basically telling me to end it with my boyfriend who doesnt want to move in with me its all a nightmare i dont know what to do because my anxiety was so bad i went to the doctor again who prescribed me betablockers said this would help the anxiety has anyone else been on them for it  i like being on my own and when i go home i spend time in my room thats wrong im apparently making my aunt unhappy i just dont want to be here anymore i cant take anymore and i cant lose my boyfriend i feel pressurised to dump him because of her  my anxiety is awful i dont know what to do-----', '514162: no i havent paul67 im on citalopram and have had a funny tummy since being on it dont know whether its that or not im due back at the psychiatrist on 7th august  feeling anxious managed to upset my aunt yesterday which has nade me anxious about living with her even more my sisters moved to ireland now and even thats making me anxious i didnt want her to go yesterday we were at a family wedding and thats where i managed to upset my aunt my sister was going off with her boyfriend last night and her and my mum said i need to stop acting like this im driving people away they still just dont understand what its like im under the psychaitrist what else can i do  anxious about work tomorrow and the coming week dreading it as usual-----']\n",
      "------------------------------\n",
      "query:  so i think my panic attack is connected with my movement  stress from before i was running and i started to think just about random moment from the past it was stressful moment but i dont-experience nothing about it now but then i started to think what if i am not in control of my body anymore and i will jump in the river or i want to go at to start fight some guy on the street and i will finish in jail because i will be aggressive or mby i will finish in mental hospital i started to to shake my heart wanted to explode and from then now when i move my heart is beating really fast and i am afraid to get panic attack again is there some meditation to shut me down because i can not leave with myself like this\n",
      "\n",
      "['1224682: i can definitely get what i would call a full blown panic attack with chest pains shortness of breathe sweating etc i can also have that awful feeling of doom and fear still think of that as panic attack as others have said there is a sliding scale  either way it is a horrible experience-----', '2268386: hi i was told by my old therapist that theres a possibility that i could have social anxiety disorder i wasnt all too sure about that because ive never had a panic attack before when i see the word anxiety i automatically think panic attacks i know that im socially inept and awkward but i was just wondering if it is possible to have sad and not have panic attacks-----', '701263: i was kayaking the other day and got a couple kms upstream and started to have what i think is a panic attack it started with me thinking there was sharks in the river and they were going to jump out of the water and bite me or my hand off it got to the point where i wouldnt put my hands or feet in the waterthen it turned to overwhelming feeling that there was someone in the bushes watching me with a gun and i was going to be shot thats when the panic seemed to set in i turned around and hot tailed it back to the launching ramp and got out as fast as i could and then felt like crap the rest of the day-----']\n",
      "------------------------------\n",
      "query:  im not sure if this is the right place to post i have difficulty leaving my house i can leave but its easier if its at a time of day when its not very busy outside i cant-leave if i can see anyone in my street though i can go to places that ive been before or places where there will be someone i know but cant-go anywhere outside of that sometimes i push myself to go a street or two nearby to where im going so that i experience a new place and can then have that as somewhere ive been before that i might be able to go again but i find that hard staying at home feels way less anxiety provoking ive lost contact with lots of people just because its so hard to push myself to go places and as i am in my 30s i find it hard to have much in common with people who are always talking about travel and the next places in town to visit when i know that i cant-do that i just wondered if anyone can relate i feel pretty alone with this\n",
      "\n",
      "['159675: hello   im not sure if im asking this in the right place its my first ever post   the thing is the citalopram 20mg in my new packet that i got about 2 weeks ago taste really strongly of soap or washing up liquid is this normal also ive been more anxious over the past few days im wondering if there could be something wrong with them   cheers-----', '1279732: hi    i dont know if this is the right place to post this but basically i keep thinking ive killed someone there is no evidence to suggest i have and i have no memory of doing it but i just cant stop thinking about it and my thoughts are telling me that i have its making me increasingly anxious and i know it caused by my anxiety but i really dont know what to do about it can anyone help me-----', '903193: i dont know if this is the right place to post this feeling a lot of things right now but i guess anxiety is the main culprit ive been trying to sleep for the last few hours but every time i turn the light off i get terrified i feel like theres a dark figure standing over me or standing in the corner of the room ive had this before but not for a very long time i dont know how to get rid of it i often get paranoid that theres someone standing behind me too my brain just cant switch off i found myself talking out loud telling it to go away even typing this sounds crazy  has anyone else had this  what do i do-----']\n",
      "------------------------------\n"
     ]
    }
   ],
   "source": [
    "print_query(test_queries, tf_query, vect, vectorizer, pids, posts)"
   ]
  },
  {
   "cell_type": "markdown",
   "metadata": {},
   "source": [
    "** N = (2,3) **"
   ]
  },
  {
   "cell_type": "code",
   "execution_count": 50,
   "metadata": {
    "collapsed": true
   },
   "outputs": [],
   "source": [
    "pids, posts, vectorizer, vect = tfidf(df_model, max_df = 0.8, ngr = (2,3))"
   ]
  },
  {
   "cell_type": "code",
   "execution_count": 51,
   "metadata": {},
   "outputs": [
    {
     "name": "stdout",
     "output_type": "stream",
     "text": [
      "query:  hello everyone lately my anxiety got worse due to recent events in my life and ill try to explain them and maybe you can tell me if you have them too high fever face is hot and bloated  thoughts get stuck hard to process a thought or an emotion all the way through  cant-feel my nose or my lips  cant-focus or concentrate at all  feeling confused and disoriented  headache  anger  symptoms are not alleviated by anything  when anxiety wears off im yawning alot should i be concerned that i might have something other than anxiety\n",
      "\n",
      "['5675557: i got the horrible news that im supposed to be here the rest of my life i guess my anxiety is way up but i feel very numb-----', '670466: i am experiencing ongoing panic from something i read which is that the earth rotates at 1000 mph and orbits the sun at 67000 mph  since i am moving that fast i feel that i cant stop myself and cant escape this speed my mind is racing with panic from knowing this   i realize that there is absolutely no way to feel the earths speed but its just from knowing that im moving that fast that causes me ongoing panic   could someone offer solutions such as thoughts that can ease this panic-----', '1347924: i live in the uk i dont think a therapist would help me at all   i actually know worrying wont change anything but i still cant help the way i feel-----']\n",
      "------------------------------\n",
      "query:  i have been diagnosed with gad multiple times in my life its normal i used to have a lot of self perpetuated depression as well im better at monitoring what im thinking now im from a very dysfunctional family that told me i was a failure i was a mistake i am a failure by birth i wont amount to anything i have fought through so much anxiety and without a whole lot of counseling i have gotten a second ba degree and got a great start on a full retrain professionally i know this is my dream now i know this is what i want for myself its the fear of failure and the fear of being told im not good enough or bad in some way or criticism from otherauthority again that is freaking me out this application i think is due at the end of feb sigh\n",
      "\n",
      "['441471: sundays here anxious about tomorrow ive rung and told them im going to work tomorrow godi dont want to -----', '1595481: yes hes very supportive but i havent even told him im scared to i am seeing a doctor over my anxiety he wants to weight to put me on anything for anxiety-----', '432851: getting really anxious now  dont know what tomorrow will bring not looking forwards to it  dont know if i want to be there arrrrghhhhhhhh-----']\n",
      "------------------------------\n",
      "query:  feelings i want to hide from people i feel judged i feel like internally screaming i want to run away i want to escape i dont-want to be seen i dont-want to be judged hiding is safer i dont-want to interact with people i feel like i have to wear a mask and i feel drained by concealing myself all day long i want to quit my job i feel like people are against me everyones against me laughter noises talking social interaction they all make me want to have an anxiety attack what is wrong with me\n",
      "\n",
      "['826847: well he has schizophrenia and is a hot headed guy i dont want to be walking around and get caught by him thats my number one fear-----', '1090288: dropped to 08mg diazepam  feel like i miss it now uptight and anxious also craving alcohol-----', '1072084: i think somerset is right that it can definitely vary between people for some it is an overwhelming social anxiety that keeps them in the house and for others it is an overwhelming fear of losing control of themselves and not being able to find a safe place to escape to other people may have different reasons also like sensory issues being overstimulated selective mutism etc   i often cannot muster up the strength to go outside even if i need to i always get lifts off people as walking down roads where there is oncoming traffic and large vehicles makes me feel like i will collapse or i want to run away and hide a lot of the time it is because i dont like how unpredictable people are and feel emotionally drained at the thought of adapting to social type situations i cannot relax about it i guess id rather be inside than be panicking about not being in control and feeling paranoid about looking uncomfortable-----']\n",
      "------------------------------\n",
      "query:  guys what do you usually do to stop over thinking i have a severe overthinking habit that always make me panic and do some awkward and dumb move for example yesterday i met my aunt on restaurant i sit on different tables and im done eating first while my uber driver is on the way to restaurant i just wanna say goodbye to her and her family but rather than walk to their table i said it rather loud from my tables when my aunt saw me that makes some people on restaurant look at me then i go home at first i thought its normal then i realized how dumb my action is i should have go to their table and said goodbye rather than saying it from far away that make me look like a panic person i keep on thinking about this case i think about how my aunt family think about me after my move and etccan someone help me to getting over this  i cant-stop thinking even about some little things moreover some dumb things i do thankyou\n",
      "\n",
      "['1379629: the weed laws are insane marijuana use to make me have panic also not medicinal for me-----', '1296847: ops person didnt say op looked like the victim   ops person said that ops self portrait looked like the victim   op if its only one person who said it why worry about it opinions are like arseholes everyones got one-----', '5767664: standing in airport about to have a panic attack took two clonazepam already looks like well be going for a third-----']\n",
      "------------------------------\n",
      "query:  so i think my panic attack is connected with my movement  stress from before i was running and i started to think just about random moment from the past it was stressful moment but i dont-experience nothing about it now but then i started to think what if i am not in control of my body anymore and i will jump in the river or i want to go at to start fight some guy on the street and i will finish in jail because i will be aggressive or mby i will finish in mental hospital i started to to shake my heart wanted to explode and from then now when i move my heart is beating really fast and i am afraid to get panic attack again is there some meditation to shut me down because i can not leave with myself like this\n",
      "\n",
      "['184203: perhaps if i think of panic as a poem i will cope i will overcome   perhaps if i think of lonely as a poem i will not be so alone    perhaps if depression becomes a way forward a place to learn and gather fact  perhaps i will recover and not look back perhaps i have inside of me a great book of poetry a garden i can grow in with love and security-----', '1224682: i can definitely get what i would call a full blown panic attack with chest pains shortness of breathe sweating etc i can also have that awful feeling of doom and fear still think of that as panic attack as others have said there is a sliding scale  either way it is a horrible experience-----', '5840449: having a panic attack broke out the valium anxiety sucks hugs to everyone that is struggling-----']\n",
      "------------------------------\n",
      "query:  im not sure if this is the right place to post i have difficulty leaving my house i can leave but its easier if its at a time of day when its not very busy outside i cant-leave if i can see anyone in my street though i can go to places that ive been before or places where there will be someone i know but cant-go anywhere outside of that sometimes i push myself to go a street or two nearby to where im going so that i experience a new place and can then have that as somewhere ive been before that i might be able to go again but i find that hard staying at home feels way less anxiety provoking ive lost contact with lots of people just because its so hard to push myself to go places and as i am in my 30s i find it hard to have much in common with people who are always talking about travel and the next places in town to visit when i know that i cant-do that i just wondered if anyone can relate i feel pretty alone with this\n",
      "\n",
      "['159675: hello   im not sure if im asking this in the right place its my first ever post   the thing is the citalopram 20mg in my new packet that i got about 2 weeks ago taste really strongly of soap or washing up liquid is this normal also ive been more anxious over the past few days im wondering if there could be something wrong with them   cheers-----', '1279732: hi    i dont know if this is the right place to post this but basically i keep thinking ive killed someone there is no evidence to suggest i have and i have no memory of doing it but i just cant stop thinking about it and my thoughts are telling me that i have its making me increasingly anxious and i know it caused by my anxiety but i really dont know what to do about it can anyone help me-----', '1112067: trouble is im not sure what they can actually do  im on max dose of proponol for anxiety i cant see my pdoc till june theyve written to him twice now asking for an earlier appointment but there arent any-----']\n",
      "------------------------------\n"
     ]
    }
   ],
   "source": [
    "print_query(test_queries, tf_query, vect, vectorizer, pids, posts)"
   ]
  },
  {
   "cell_type": "markdown",
   "metadata": {
    "collapsed": true
   },
   "source": [
    "## Progression Tracking"
   ]
  },
  {
   "cell_type": "code",
   "execution_count": 20,
   "metadata": {
    "collapsed": true
   },
   "outputs": [],
   "source": [
    "user_list = [user for user in df_model['user']]"
   ]
  },
  {
   "cell_type": "code",
   "execution_count": 21,
   "metadata": {
    "collapsed": true
   },
   "outputs": [],
   "source": [
    "from collections import Counter"
   ]
  },
  {
   "cell_type": "code",
   "execution_count": 22,
   "metadata": {
    "collapsed": true
   },
   "outputs": [],
   "source": [
    "user_count = Counter(user_list)"
   ]
  },
  {
   "cell_type": "code",
   "execution_count": 23,
   "metadata": {
    "collapsed": true
   },
   "outputs": [],
   "source": [
    "user_10 = [user for user in user_count if user_count[user] == 10]"
   ]
  },
  {
   "cell_type": "code",
   "execution_count": 24,
   "metadata": {},
   "outputs": [
    {
     "data": {
      "text/plain": [
       "['lespaulman01 ', 'Foxjo ', 'Robbert', 'littlewolf ', 'Jessicaleanne1992 ']"
      ]
     },
     "execution_count": 24,
     "metadata": {},
     "output_type": "execute_result"
    }
   ],
   "source": [
    "user_10[0:5]"
   ]
  },
  {
   "cell_type": "code",
   "execution_count": 25,
   "metadata": {
    "collapsed": true
   },
   "outputs": [],
   "source": [
    "usr = user_10[0]\n",
    "df_usr = df_model[df_model['user'] == usr]\n",
    "posts = [post for post in df_usr['post']]"
   ]
  },
  {
   "cell_type": "code",
   "execution_count": 26,
   "metadata": {},
   "outputs": [
    {
     "data": {
      "text/plain": [
       "['hey i phoned my local afco and they said i can still apply and that during the medical they might want to probe into it further the officer i spoke to said the medical requirements for wsop were the same as air traffic controller i know im clutching at straws but also i took the online spin test a medical test to see how high my sa is and i scored 23 indicating mild social anxiety  am i being too hopeful',\n",
       " 'id be lying if i said it didnt and id be lying if i said i didnt worry about other people judging me but if i really want to do something i push through it and get on with it  it tends not to be a problem',\n",
       " 'i hear from people when i tell them i have social anxiety that its normal for them to feel the same things the difference i believe is the level of anxiety and the avoidance of just doing what we fear most once we feel like we cant do it then it self perpetuates and the anxiety gets stronger i think then it gets worse and encroaches upon other areas of our life anyway thats jus a thought might not be true but makes me feel better as it suggests we arnt so different from the normals after all',\n",
       " 'hey guys i just feel like having a rant about life   im just fed up with trying to fight this anxiety hopes of recovery seem to come and then go when i find im not having progress ive got a new therapist and shes great i recommend private all the way but i know how to recover i just dont seem to    i try to think positively but i dont see the results and then go back to my negative thoughts cus they feel like what i should be feeling like im lying to myself if i think differently like ignoring them   now im not too bad socially with people i just seem to be bad with women i find attractive i want a partner but these thoughts stop me it really pisses me off i hate them but seem to feel oddly comforted by them the main thoughts i fall back on are women should find me attractive i must ugly if they dont want to date me   most areas of my life are good ive got a well paying job even though i hate it sometimes i have a very loving family even with arguments i have loads of freinds more than i can count on both hands im very good on guitar and i play onstage loads etc etc   but this one area of life really affects me cus ive always loved being loved i like affection from women so this area of my life is enough to depress me and i believe has definately led to my depression   so theres my rant sorry i just had to im feeling down today   any kind words appreciated',\n",
       " 'hey guys i need real help with this cus im at my wits end   my mother and i argue a lot it would be alright if it was normal arguing but its really bad shes normally really nice   she has a strong belief in things i feel and believe are erring on delusional example if i argue with my sister over little things she gets involved and is very very aggressive she shouts gets physical screams she hates me im not her son etc she believes my intentions are nasty she really makes me out to be evil but my sister believes it   next she has a belief that chemicals are really bad i mean i once had some antiperspirant hidden in my bedroom and she found it all hell broke loose she smashed down my door and kept me awake til 1am  i had to be up for work  6 now one minute shes nice and the next she jus blows up my sister is the same my older brothers alright hes moved out   i want to move out so bad but i cant afford it and im scared social anxiety my brother lives in australia so i cant stay with him whats goin on',\n",
       " 'hey guys just wanted to start a positive thread jus thought ud want sum back ground on me 1st though i jus recently found out i have social anxiety although i first realised i had a problem 5 years ago i suffer depression too that seems to completely go when im not at work i am constantly worried about hurtin other peoples feelings and the idea of havin a wife and family makes me sick with anxiety     ok anyway i wanted to start a thread where u write an achievement or something ur proud of that u have done recently   write it like today i phoned two friends without getting too anxious etc   so for me id like to say today i managed to give out  some leaflets to complete strangers and i tried to find the most attractive women around to give the leaflets to and most people were really polite for me thats a huge achievement    jus thought this would be a gud idea to help people look at their achievements and feel a bit better',\n",
       " 'hey guys its been awhile since i logged on im in a rock band so have a habit of believing all my problems will be cured by that so i havnt done any cbt etc for ages much to my detriment   anyway to cut a long story short i have a few issues i was seeing a therapist for a while back in january now cus of the snow and my work commitments i culdnt see her for sum sessions    now she hasnt got back to me my doctor believes i dont need him anymore this was before the therapist stopped contacting me now will this affect my medical notes ill be damned if i get bad notes because the therapist didnt contact me even after multiple attempts on my part   so as u can see im a little untrusting of therapist now especially when i felt judged by her and unwillng to open to her i cant seem to tell my family about this cus of my social anxiety so i feel alone not fussed bout that really   ok im sorry this has taken ages to get to but basically im strugglin with the daily mood logs i hate doing them because they make me anxious avoiding doing the log stops the anxiety caused by it but doesnt sort out the problems i want the mood logs to   i cant seem to pinpoint the thought causing the anxiety ive sorted got it as im not doing this right this will never work for me im too clever for it even wen i think of positives against this my brain seems to fight it and keeps coming back to these thoughts i can logically see the distortions but at a deeper level my mind just wont let go of them   any ideas wish i had a therapist again but one i culd trust thanks for reading that essay',\n",
       " 'hi   i need some advice im slowly learning to use cbt to overcome my anxiety i have to use self help for various reasons i have a really hard time with a few particular automatic thoughts that just dont go away and unfortunately they are directed towards recovery   i have thoughts like this is never going to work i will have anxiety forever im a loser see look i feel anxious two therapists gave up on me why will i do any better i cant control my thoughts   annoyingly cbt seems to cause me to have really persistent ants and because these thoughts act against the cbt they make it really hard its like a vicious cycle i can rationalise some ants when i do a mood journal but these ants then pop up ive tried rationalising them but it gets worse and then i go into full blown panic because everytime i rationalise them my brain just doesnt believe it and it starts shouting them at me has anyone got any solutions they pop up when i do mindfulness meditation too   could i have ocd without compulsions like a close family member of mine or am i just not rationalising these thoughts well enough    thanks for any help',\n",
       " 'cheers for ur replies  i think ill have a go at it just because i want to try everything i can to help with my anxiety any one got any other suggestions other than cbt im on waitin list for therapist and i have no idea how long that will be',\n",
       " 'hey guys i need to get something off my mind my doctor prescribed me 20mg daily of prozac tp help with my depression at work i knew there could be side effects so i was a lil anxious about it infact tbh i never wanted to go on prozac but i decided to give it a go    to cut a long story short i started it this sunday but i jus kept worryin bout it in my mind so i got to today so thats 3 days on it and ive stopped probs not a gud idea but i dont want to be on antidepressants and i certainly dont want to put up with side effects or withdrawal   im goin to book appointment with doctor soon but im really anxious about wat ive done i keep thinkin that maybe its really gonna cause me problems cus ive jus stopped straight away i feel hot like im burnin up but this could be anxiety tbh wat shuld i do']"
      ]
     },
     "execution_count": 26,
     "metadata": {},
     "output_type": "execute_result"
    }
   ],
   "source": [
    "posts"
   ]
  },
  {
   "cell_type": "code",
   "execution_count": 27,
   "metadata": {
    "collapsed": true
   },
   "outputs": [],
   "source": [
    "vzer = TfidfVectorizer(stop_words = 'english', max_df = 0.5)\n",
    "vect = vzer.fit_transform(posts).astype('float32')"
   ]
  },
  {
   "cell_type": "code",
   "execution_count": 28,
   "metadata": {
    "collapsed": true
   },
   "outputs": [],
   "source": [
    "sim = linear_kernel(vect, vect)"
   ]
  },
  {
   "cell_type": "code",
   "execution_count": 29,
   "metadata": {},
   "outputs": [
    {
     "data": {
      "text/plain": [
       "array([[ 1.00000012,  0.11438092,  0.0113253 ,  0.01007392,  0.00587063,\n",
       "         0.01932431,  0.03660919,  0.        ,  0.        ,  0.        ],\n",
       "       [ 0.11438092,  1.        ,  0.0212218 ,  0.03965978,  0.        ,\n",
       "         0.08263064,  0.03172409,  0.        ,  0.        ,  0.        ],\n",
       "       [ 0.0113253 ,  0.0212218 ,  0.99999988,  0.12183897,  0.12581162,\n",
       "         0.13247958,  0.08829948,  0.09062324,  0.02675235,  0.04137598],\n",
       "       [ 0.01007392,  0.03965978,  0.12183897,  0.99999982,  0.05697999,\n",
       "         0.10011351,  0.12271058,  0.15830082,  0.07583445,  0.11460076],\n",
       "       [ 0.00587063,  0.        ,  0.12581162,  0.05697999,  0.99999964,\n",
       "         0.03742702,  0.06048529,  0.03103178,  0.01118419,  0.05122884],\n",
       "       [ 0.01932431,  0.08263064,  0.13247958,  0.10011351,  0.03742702,\n",
       "         0.99999988,  0.0482149 ,  0.06665741,  0.07469076,  0.13977744],\n",
       "       [ 0.03660919,  0.03172409,  0.08829948,  0.12271058,  0.06048529,\n",
       "         0.0482149 ,  1.00000048,  0.11009914,  0.15874389,  0.1690421 ],\n",
       "       [ 0.        ,  0.        ,  0.09062324,  0.15830082,  0.03103178,\n",
       "         0.06665741,  0.11009914,  1.        ,  0.08314503,  0.08614445],\n",
       "       [ 0.        ,  0.        ,  0.02675235,  0.07583445,  0.01118419,\n",
       "         0.07469076,  0.15874389,  0.08314503,  0.99999994,  0.0653918 ],\n",
       "       [ 0.        ,  0.        ,  0.04137598,  0.11460076,  0.05122884,\n",
       "         0.13977744,  0.1690421 ,  0.08614445,  0.0653918 ,  1.00000024]], dtype=float32)"
      ]
     },
     "execution_count": 29,
     "metadata": {},
     "output_type": "execute_result"
    }
   ],
   "source": [
    "sim"
   ]
  },
  {
   "cell_type": "markdown",
   "metadata": {},
   "source": [
    "## Graph Theory to display connections"
   ]
  },
  {
   "cell_type": "code",
   "execution_count": 32,
   "metadata": {
    "collapsed": true
   },
   "outputs": [],
   "source": [
    "edges = []\n",
    "w_arr = []\n",
    "G = nx.Graph()\n",
    "for i in range(sim.shape[0]):\n",
    "    for j in range(sim.shape[1]):\n",
    "        if i == j:\n",
    "            continue\n",
    "        else:\n",
    "            cos_sim = sim[i,j]/np.exp(-(1+sim[i,j]))\n",
    "            edges.append((i,j))\n",
    "            w_arr.append(cos_sim)\n",
    "            G.add_edge(i,j, weight = cos_sim)\n",
    "            \n",
    "w_arr = np.array(w_arr)"
   ]
  },
  {
   "cell_type": "markdown",
   "metadata": {},
   "source": [
    "** use sum or mean here**?"
   ]
  },
  {
   "cell_type": "code",
   "execution_count": 97,
   "metadata": {},
   "outputs": [
    {
     "data": {
      "text/plain": [
       "array([ 2649.68554688,  2905.1171875 ,  4206.3046875 ,  4840.26318359,\n",
       "        3179.98242188,  4384.92333984,  4966.84814453,  4066.80688477,\n",
       "        3570.1184082 ,  4239.38427734], dtype=float32)"
      ]
     },
     "execution_count": 97,
     "metadata": {},
     "output_type": "execute_result"
    }
   ],
   "source": [
    "n_sizes = np.exp((sim.sum(axis = 1)))\n",
    "n_sizes = n_sizes*800\n",
    "n_sizes"
   ]
  },
  {
   "cell_type": "code",
   "execution_count": 104,
   "metadata": {},
   "outputs": [
    {
     "data": {
      "image/png": "[encoded data removed]",
      "text/plain": [
       "<matplotlib.figure.Figure at 0x7f369c5759e8>"
      ]
     },
     "metadata": {},
     "output_type": "display_data"
    }
   ],
   "source": [
    "figure, ax = plt.subplots(figsize = (16,12))\n",
    "netwrk = nx.draw_networkx(G, pos = nx.shell_layout(G), with_labels = True, edgelist = edges, width = w_arr, ax = ax,\n",
    "                 node_size = n_sizes)\n",
    "plt.savefig(\"graph_theory.png\")"
   ]
  },
  {
   "cell_type": "code",
   "execution_count": 99,
   "metadata": {},
   "outputs": [
    {
     "data": {
      "text/plain": [
       "'hey guys i just feel like having a rant about life   im just fed up with trying to fight this anxiety hopes of recovery seem to come and then go when i find im not having progress ive got a new therapist and shes great i recommend private all the way but i know how to recover i just dont seem to    i try to think positively but i dont see the results and then go back to my negative thoughts cus they feel like what i should be feeling like im lying to myself if i think differently like ignoring them   now im not too bad socially with people i just seem to be bad with women i find attractive i want a partner but these thoughts stop me it really pisses me off i hate them but seem to feel oddly comforted by them the main thoughts i fall back on are women should find me attractive i must ugly if they dont want to date me   most areas of my life are good ive got a well paying job even though i hate it sometimes i have a very loving family even with arguments i have loads of freinds more than i can count on both hands im very good on guitar and i play onstage loads etc etc   but this one area of life really affects me cus ive always loved being loved i like affection from women so this area of my life is enough to depress me and i believe has definately led to my depression   so theres my rant sorry i just had to im feeling down today   any kind words appreciated'"
      ]
     },
     "execution_count": 99,
     "metadata": {},
     "output_type": "execute_result"
    }
   ],
   "source": [
    "posts[3]"
   ]
  },
  {
   "cell_type": "code",
   "execution_count": 100,
   "metadata": {},
   "outputs": [
    {
     "data": {
      "text/plain": [
       "'hi   i need some advice im slowly learning to use cbt to overcome my anxiety i have to use self help for various reasons i have a really hard time with a few particular automatic thoughts that just dont go away and unfortunately they are directed towards recovery   i have thoughts like this is never going to work i will have anxiety forever im a loser see look i feel anxious two therapists gave up on me why will i do any better i cant control my thoughts   annoyingly cbt seems to cause me to have really persistent ants and because these thoughts act against the cbt they make it really hard its like a vicious cycle i can rationalise some ants when i do a mood journal but these ants then pop up ive tried rationalising them but it gets worse and then i go into full blown panic because everytime i rationalise them my brain just doesnt believe it and it starts shouting them at me has anyone got any solutions they pop up when i do mindfulness meditation too   could i have ocd without compulsions like a close family member of mine or am i just not rationalising these thoughts well enough    thanks for any help'"
      ]
     },
     "execution_count": 100,
     "metadata": {},
     "output_type": "execute_result"
    }
   ],
   "source": [
    "posts[7]"
   ]
  },
  {
   "cell_type": "code",
   "execution_count": 102,
   "metadata": {},
   "outputs": [
    {
     "data": {
      "text/plain": [
       "'hey i phoned my local afco and they said i can still apply and that during the medical they might want to probe into it further the officer i spoke to said the medical requirements for wsop were the same as air traffic controller i know im clutching at straws but also i took the online spin test a medical test to see how high my sa is and i scored 23 indicating mild social anxiety  am i being too hopeful'"
      ]
     },
     "execution_count": 102,
     "metadata": {},
     "output_type": "execute_result"
    }
   ],
   "source": [
    "posts[0]"
   ]
  },
  {
   "cell_type": "code",
   "execution_count": null,
   "metadata": {
    "collapsed": true
   },
   "outputs": [],
   "source": []
  },
  {
   "cell_type": "markdown",
   "metadata": {},
   "source": [
    "**split into auth and responder**"
   ]
  },
  {
   "cell_type": "code",
   "execution_count": 54,
   "metadata": {
    "collapsed": true
   },
   "outputs": [],
   "source": [
    "health = df[df['post'].str.contains(\"anxiety|anxious|social anxiety|panic|gad|GAD|fear|worry\")]"
   ]
  },
  {
   "cell_type": "code",
   "execution_count": 55,
   "metadata": {},
   "outputs": [
    {
     "data": {
      "text/plain": [
       "17694"
      ]
     },
     "execution_count": 55,
     "metadata": {},
     "output_type": "execute_result"
    }
   ],
   "source": [
    "len(health)"
   ]
  },
  {
   "cell_type": "code",
   "execution_count": 13,
   "metadata": {
    "collapsed": true
   },
   "outputs": [],
   "source": [
    "auth = df[df['post_type'] == 'author']\n",
    "res = df[df['post_type'] == 'responder']"
   ]
  },
  {
   "cell_type": "markdown",
   "metadata": {},
   "source": [
    "**split responder df into 2dfs - 1) contain a personal regex string, 2) does not contain regex string**\n",
    "\n",
    "**relabel personal responders as 0**"
   ]
  },
  {
   "cell_type": "code",
   "execution_count": 14,
   "metadata": {
    "collapsed": true
   },
   "outputs": [],
   "source": [
    "# res_per = res[res['post'].str.contains(\"(i feel|im feeling|im worried|my anxiety|i have felt)\", regex = True)]\n",
    "# res_no = res.drop(res_per.index)\n",
    "\n",
    "# res_per['label'] = 0 "
   ]
  },
  {
   "cell_type": "markdown",
   "metadata": {},
   "source": [
    "**merge author df and the responder df that contains personal posts** \n",
    "\n",
    "**relabel other df of responders that does not contain personal regex string** "
   ]
  },
  {
   "cell_type": "code",
   "execution_count": 15,
   "metadata": {
    "collapsed": true
   },
   "outputs": [],
   "source": [
    "#know the type of post\n",
    "df_know = pd.concat([auth, res_per])\n",
    "df_know.reset_index(drop = True, inplace = True)\n",
    "\n",
    "#responders do not contain regex string\n",
    "df_res = res_no\n",
    "df_res.reset_index(drop = True, inplace = True)"
   ]
  },
  {
   "cell_type": "markdown",
   "metadata": {},
   "source": [
    "**Filter responder df so that it will only contain impersonal posts**\n",
    "\n",
    "**create a new df of responders where i'm uncertain about the content of post called df_predict**"
   ]
  },
  {
   "cell_type": "code",
   "execution_count": 16,
   "metadata": {
    "collapsed": true
   },
   "outputs": [],
   "source": [
    "indices_to_remove = []\n",
    "for i,p in enumerate(df_res['post']):\n",
    "    len_doc = len(p.split())\n",
    "    if len(p.split()) == 0:\n",
    "        indices_to_remove.append(i)\n",
    "        continue\n",
    "        \n",
    "    numi = p.split().count(\"i\") + p.split().count(\"im\")\n",
    "    numyou = p.split().count(\"you\")+ p.split().count(\"your\") + p.split().count(\"youre\") + p.split().count(\"u\")\n",
    "    i_rate = numi/len_doc\n",
    "    you_rate = numyou/len_doc\n",
    "    \n",
    "    if df_res['label'][i] == 0:\n",
    "        continue\n",
    "    elif (i_rate > you_rate):\n",
    "        indices_to_remove.append(i)\n",
    "    elif (i_rate > you_rate):\n",
    "        indices_to_remove.append(i)\n",
    "    else:\n",
    "        continue\n",
    "        \n",
    "df_predict = pd.concat([df_res.iloc[indices_to_remove]])\n",
    "df_res.drop(df.index[[indices_to_remove]], inplace = True)\n",
    "df_res.reset_index(drop= True, inplace = True)"
   ]
  },
  {
   "cell_type": "markdown",
   "metadata": {},
   "source": [
    "**Filter out authors who don't have any 1st person pronouns and add to df_predict (uncertain)**\n",
    "\n",
    "**Create df_know (have a good idea of content of post - personal or not)**\n",
    "\n",
    "**df_know - used to train Naive Bayes**\n",
    "\n",
    "**df_predict - used to predict other responses**\n"
   ]
  },
  {
   "cell_type": "code",
   "execution_count": 17,
   "metadata": {
    "collapsed": true
   },
   "outputs": [],
   "source": [
    "author_to_remove = []\n",
    "for i,p in enumerate(df_know['post']):\n",
    "    if p.split().count(\"i\") + p.split().count(\"im\") == 0:\n",
    "        author_to_remove.append(i)\n",
    "    else:\n",
    "        continue\n",
    "\n",
    "        \n",
    "df_predict = pd.concat([df_predict, df_know.iloc[author_to_remove]])\n",
    "df_know.drop(df_know.index[[author_to_remove]], inplace = True)\n",
    "\n",
    "df_know = pd.concat([df_know, df_res])\n",
    "df_know.reset_index(drop = True, inplace = True)\n",
    "\n",
    "df_predict.reset_index(drop = True, inplace = True)"
   ]
  },
  {
   "cell_type": "markdown",
   "metadata": {},
   "source": [
    "**Look at value counts of my labels in df_know**"
   ]
  },
  {
   "cell_type": "code",
   "execution_count": 18,
   "metadata": {},
   "outputs": [
    {
     "data": {
      "text/plain": [
       "1    16292\n",
       "0    11311\n",
       "Name: label, dtype: int64"
      ]
     },
     "execution_count": 18,
     "metadata": {},
     "output_type": "execute_result"
    }
   ],
   "source": [
    "df_know['label'].value_counts()"
   ]
  },
  {
   "cell_type": "markdown",
   "metadata": {},
   "source": [
    "**create docs and find word counts for NB**"
   ]
  },
  {
   "cell_type": "code",
   "execution_count": 19,
   "metadata": {
    "collapsed": true
   },
   "outputs": [],
   "source": [
    "#create docs\n",
    "docs = [df_know['post'][i] for i in range(0,len(df_know))]\n",
    "\n",
    "#get tokens\n",
    "tokens = set()\n",
    "for doc in docs:\n",
    "    tokens.update(doc.split())\n",
    "    \n",
    "tokens_list = list(tokens)\n",
    "\n",
    "vocab_dict = {word: i for i, word in enumerate(tokens_list)}\n",
    "\n",
    "import numpy as np\n",
    "\n",
    "word_counts = np.zeros((len(docs), len(tokens)), dtype = 'float32')\n",
    "for doc_id, words in enumerate(docs):\n",
    "    for word in words.split():\n",
    "        word_id = vocab_dict[word]\n",
    "        word_counts[doc_id][word_id] += 1"
   ]
  },
  {
   "cell_type": "markdown",
   "metadata": {},
   "source": [
    "## Train Naive Bayes Model"
   ]
  },
  {
   "cell_type": "markdown",
   "metadata": {},
   "source": [
    "**create Naive Bayes instance**"
   ]
  },
  {
   "cell_type": "code",
   "execution_count": 20,
   "metadata": {
    "collapsed": true
   },
   "outputs": [],
   "source": [
    "clf = MultinomialNB()"
   ]
  },
  {
   "cell_type": "markdown",
   "metadata": {},
   "source": [
    "**Train,Test split**"
   ]
  },
  {
   "cell_type": "code",
   "execution_count": 21,
   "metadata": {
    "collapsed": true
   },
   "outputs": [],
   "source": [
    "X = word_counts\n",
    "y = np.array(df_know['label'])\n",
    "\n",
    "X_train, X_test, y_train, y_test = train_test_split(X, y, test_size = .20, random_state = 38)"
   ]
  },
  {
   "cell_type": "markdown",
   "metadata": {},
   "source": [
    "**Fit model**"
   ]
  },
  {
   "cell_type": "code",
   "execution_count": 22,
   "metadata": {},
   "outputs": [
    {
     "data": {
      "text/plain": [
       "MultinomialNB(alpha=1.0, class_prior=None, fit_prior=True)"
      ]
     },
     "execution_count": 22,
     "metadata": {},
     "output_type": "execute_result"
    }
   ],
   "source": [
    "clf.fit(X_train, y_train)"
   ]
  },
  {
   "cell_type": "markdown",
   "metadata": {},
   "source": [
    "**Test model accuracy (based on assumptions i already made)**"
   ]
  },
  {
   "cell_type": "code",
   "execution_count": 23,
   "metadata": {},
   "outputs": [
    {
     "data": {
      "text/plain": [
       "0.8940409346132947"
      ]
     },
     "execution_count": 23,
     "metadata": {},
     "output_type": "execute_result"
    }
   ],
   "source": [
    "clf.score(X_test,y_test)"
   ]
  },
  {
   "cell_type": "markdown",
   "metadata": {},
   "source": [
    "## Predict with NB"
   ]
  },
  {
   "cell_type": "markdown",
   "metadata": {},
   "source": [
    "- Predict on uncertain responders"
   ]
  },
  {
   "cell_type": "markdown",
   "metadata": {},
   "source": [
    "**create docs**"
   ]
  },
  {
   "cell_type": "code",
   "execution_count": 24,
   "metadata": {
    "collapsed": true
   },
   "outputs": [],
   "source": [
    "docs = df_predict['post']"
   ]
  },
  {
   "cell_type": "markdown",
   "metadata": {},
   "source": [
    "**get word counts**"
   ]
  },
  {
   "cell_type": "code",
   "execution_count": 25,
   "metadata": {
    "collapsed": true
   },
   "outputs": [],
   "source": [
    "import numpy as np\n",
    "\n",
    "word_counts = np.zeros((len(docs), len(tokens)), dtype = 'float32')\n",
    "for doc_id, words in enumerate(docs):\n",
    "    for word in words.split():\n",
    "        if word not in vocab_dict:\n",
    "            continue\n",
    "        else:\n",
    "            word_id = vocab_dict[word]\n",
    "            word_counts[doc_id][word_id] += 1"
   ]
  },
  {
   "cell_type": "markdown",
   "metadata": {},
   "source": [
    "**soft classification**"
   ]
  },
  {
   "cell_type": "code",
   "execution_count": 26,
   "metadata": {
    "collapsed": true
   },
   "outputs": [],
   "source": [
    "X = word_counts\n",
    "\n",
    "labels_proba = clf.predict_proba(X)"
   ]
  },
  {
   "cell_type": "markdown",
   "metadata": {},
   "source": [
    "**hard classification**"
   ]
  },
  {
   "cell_type": "code",
   "execution_count": 27,
   "metadata": {
    "collapsed": true
   },
   "outputs": [],
   "source": [
    "labels = clf.predict(X)\n"
   ]
  },
  {
   "cell_type": "markdown",
   "metadata": {},
   "source": [
    "**drop hold labels which are just 9 for uncertain**"
   ]
  },
  {
   "cell_type": "code",
   "execution_count": 28,
   "metadata": {
    "collapsed": true
   },
   "outputs": [],
   "source": [
    "df_predict.drop(\"label\", axis = 1, inplace = True)"
   ]
  },
  {
   "cell_type": "markdown",
   "metadata": {},
   "source": [
    "**Add predicted soft and hard labels**"
   ]
  },
  {
   "cell_type": "code",
   "execution_count": 29,
   "metadata": {
    "collapsed": true
   },
   "outputs": [],
   "source": [
    "df_predict['hard'] = labels\n",
    "df_predict['soft'] = labels_proba[:,0]\n",
    "df_predict.reset_index(drop = True, inplace = True)"
   ]
  },
  {
   "cell_type": "markdown",
   "metadata": {},
   "source": [
    "**Check prediction**"
   ]
  },
  {
   "cell_type": "code",
   "execution_count": 30,
   "metadata": {},
   "outputs": [
    {
     "data": {
      "text/html": [
       "<div>\n",
       "<style>\n",
       "    .dataframe thead tr:only-child th {\n",
       "        text-align: right;\n",
       "    }\n",
       "\n",
       "    .dataframe thead th {\n",
       "        text-align: left;\n",
       "    }\n",
       "\n",
       "    .dataframe tbody tr th {\n",
       "        vertical-align: top;\n",
       "    }\n",
       "</style>\n",
       "<table border=\"1\" class=\"dataframe\">\n",
       "  <thead>\n",
       "    <tr style=\"text-align: right;\">\n",
       "      <th></th>\n",
       "      <th>pid</th>\n",
       "      <th>user</th>\n",
       "      <th>post_title</th>\n",
       "      <th>post</th>\n",
       "      <th>post_type</th>\n",
       "      <th>mood</th>\n",
       "      <th>thread_title</th>\n",
       "      <th>forum_name</th>\n",
       "      <th>postlen</th>\n",
       "      <th>hard</th>\n",
       "      <th>soft</th>\n",
       "    </tr>\n",
       "  </thead>\n",
       "  <tbody>\n",
       "    <tr>\n",
       "      <th>0</th>\n",
       "      <td>1592736</td>\n",
       "      <td>Zardos</td>\n",
       "      <td>nan</td>\n",
       "      <td>i can sympathize i get crippling anxiety when i go to bed and first thing on a morning it gets better during the day when im busy and then at night i dont want to get into bed   has anything chang...</td>\n",
       "      <td>responder</td>\n",
       "      <td>nan</td>\n",
       "      <td>Sudden Onset Anxiety - Please help!</td>\n",
       "      <td>Generalized Anxiety Disorder</td>\n",
       "      <td>62</td>\n",
       "      <td>0</td>\n",
       "      <td>1.000000</td>\n",
       "    </tr>\n",
       "    <tr>\n",
       "      <th>1</th>\n",
       "      <td>585119</td>\n",
       "      <td>Mayfair</td>\n",
       "      <td>nan</td>\n",
       "      <td>great tune  i had my beatles number one hits in my car last week they are genius with chords thats their secret but only weirdos like me recognise it my car got broke into last week and they empti...</td>\n",
       "      <td>responder</td>\n",
       "      <td>nan</td>\n",
       "      <td>didnt know where to post this</td>\n",
       "      <td>Social Anxiety</td>\n",
       "      <td>89</td>\n",
       "      <td>0</td>\n",
       "      <td>0.998539</td>\n",
       "    </tr>\n",
       "    <tr>\n",
       "      <th>2</th>\n",
       "      <td>586791</td>\n",
       "      <td>Ainsworth11</td>\n",
       "      <td>nan</td>\n",
       "      <td>why did i post this in social anxiety ah well never mind   i got some sleepers from boots yesterday slept for 4 hours but felt i had been hit round the head with a baseball bat when i woke up as y...</td>\n",
       "      <td>responder</td>\n",
       "      <td>nan</td>\n",
       "      <td>didnt know where to post this</td>\n",
       "      <td>Social Anxiety</td>\n",
       "      <td>62</td>\n",
       "      <td>0</td>\n",
       "      <td>0.999999</td>\n",
       "    </tr>\n",
       "    <tr>\n",
       "      <th>3</th>\n",
       "      <td>1599105</td>\n",
       "      <td>Macka</td>\n",
       "      <td>nan</td>\n",
       "      <td>hi ark   i also love writing something in me since i can remember when i was in the beginnings of my breakdown i wrote 30000 words in ten days  my pc permanently crashed and so did my brain   when...</td>\n",
       "      <td>responder</td>\n",
       "      <td>Inspired</td>\n",
       "      <td>Is this GAD? My mind keeps creating associations between things and anxiety, and they're ruining my life!</td>\n",
       "      <td>Generalized Anxiety Disorder</td>\n",
       "      <td>335</td>\n",
       "      <td>0</td>\n",
       "      <td>1.000000</td>\n",
       "    </tr>\n",
       "    <tr>\n",
       "      <th>4</th>\n",
       "      <td>586857</td>\n",
       "      <td>wendolene26</td>\n",
       "      <td>nan</td>\n",
       "      <td>the beatles help album was the first cd album i got given when my parents bought my a cd player hifi  i was learning guitar and playing a lot of the beatles tunes as they have easy chords so i sup...</td>\n",
       "      <td>responder</td>\n",
       "      <td>Paranoid</td>\n",
       "      <td>didnt know where to post this</td>\n",
       "      <td>Social Anxiety</td>\n",
       "      <td>46</td>\n",
       "      <td>0</td>\n",
       "      <td>0.916680</td>\n",
       "    </tr>\n",
       "    <tr>\n",
       "      <th>5</th>\n",
       "      <td>1598695</td>\n",
       "      <td>blacksmoke</td>\n",
       "      <td>nan</td>\n",
       "      <td>hello janey1966 hey janey yeah the second half of life stinks i am really seeing my mother for who she really is fooled myself for the first half  really sorry for what you are going through yeah ...</td>\n",
       "      <td>responder</td>\n",
       "      <td>Sad</td>\n",
       "      <td>Feeling More Anxious The Older I Get.  I Am 51.</td>\n",
       "      <td>Generalized Anxiety Disorder</td>\n",
       "      <td>60</td>\n",
       "      <td>0</td>\n",
       "      <td>0.923886</td>\n",
       "    </tr>\n",
       "    <tr>\n",
       "      <th>6</th>\n",
       "      <td>1598189</td>\n",
       "      <td>frogsplash</td>\n",
       "      <td>nan</td>\n",
       "      <td>hi i would recommend watching some youtube videos regarding dealing with anxiety and worrying less</td>\n",
       "      <td>responder</td>\n",
       "      <td>nan</td>\n",
       "      <td>feeling anxious</td>\n",
       "      <td>Generalized Anxiety Disorder</td>\n",
       "      <td>15</td>\n",
       "      <td>1</td>\n",
       "      <td>0.284101</td>\n",
       "    </tr>\n",
       "    <tr>\n",
       "      <th>7</th>\n",
       "      <td>536359</td>\n",
       "      <td>yesican</td>\n",
       "      <td>nan</td>\n",
       "      <td>i wish it was just one beer one beer doesnt do anything for me it starts with a beer then two then three and so on i dont get drunk but i definitely do drink too much its not good for my health me...</td>\n",
       "      <td>responder</td>\n",
       "      <td>Blah</td>\n",
       "      <td>social anxiety... causing me to drink too much</td>\n",
       "      <td>Social Anxiety</td>\n",
       "      <td>97</td>\n",
       "      <td>0</td>\n",
       "      <td>1.000000</td>\n",
       "    </tr>\n",
       "    <tr>\n",
       "      <th>8</th>\n",
       "      <td>536365</td>\n",
       "      <td>yesican</td>\n",
       "      <td>nan</td>\n",
       "      <td>no i am sure that we havent spoken before this is my first time talking about this on a forum</td>\n",
       "      <td>responder</td>\n",
       "      <td>Blah</td>\n",
       "      <td>social anxiety... causing me to drink too much</td>\n",
       "      <td>Social Anxiety</td>\n",
       "      <td>20</td>\n",
       "      <td>0</td>\n",
       "      <td>0.901430</td>\n",
       "    </tr>\n",
       "    <tr>\n",
       "      <th>9</th>\n",
       "      <td>536367</td>\n",
       "      <td>yesican</td>\n",
       "      <td>nan</td>\n",
       "      <td>i am trying to figure out who i am i have no idea im confused i have a job interview tomorrow and im already freaked out because i know i will be staring at the man and probably make him feel unco...</td>\n",
       "      <td>responder</td>\n",
       "      <td>Blah</td>\n",
       "      <td>social anxiety... causing me to drink too much</td>\n",
       "      <td>Social Anxiety</td>\n",
       "      <td>60</td>\n",
       "      <td>0</td>\n",
       "      <td>1.000000</td>\n",
       "    </tr>\n",
       "  </tbody>\n",
       "</table>\n",
       "</div>"
      ],
      "text/plain": [
       "       pid          user post_title  \\\n",
       "0  1592736       Zardos         nan   \n",
       "1   585119      Mayfair         nan   \n",
       "2   586791   Ainsworth11        nan   \n",
       "3  1599105        Macka         nan   \n",
       "4   586857  wendolene26         nan   \n",
       "5  1598695   blacksmoke         nan   \n",
       "6  1598189   frogsplash         nan   \n",
       "7   536359      yesican         nan   \n",
       "8   536365      yesican         nan   \n",
       "9   536367      yesican         nan   \n",
       "\n",
       "                                                                                                                                                                                                      post  \\\n",
       "0  i can sympathize i get crippling anxiety when i go to bed and first thing on a morning it gets better during the day when im busy and then at night i dont want to get into bed   has anything chang...   \n",
       "1  great tune  i had my beatles number one hits in my car last week they are genius with chords thats their secret but only weirdos like me recognise it my car got broke into last week and they empti...   \n",
       "2  why did i post this in social anxiety ah well never mind   i got some sleepers from boots yesterday slept for 4 hours but felt i had been hit round the head with a baseball bat when i woke up as y...   \n",
       "3  hi ark   i also love writing something in me since i can remember when i was in the beginnings of my breakdown i wrote 30000 words in ten days  my pc permanently crashed and so did my brain   when...   \n",
       "4  the beatles help album was the first cd album i got given when my parents bought my a cd player hifi  i was learning guitar and playing a lot of the beatles tunes as they have easy chords so i sup...   \n",
       "5  hello janey1966 hey janey yeah the second half of life stinks i am really seeing my mother for who she really is fooled myself for the first half  really sorry for what you are going through yeah ...   \n",
       "6                                                                                                       hi i would recommend watching some youtube videos regarding dealing with anxiety and worrying less   \n",
       "7  i wish it was just one beer one beer doesnt do anything for me it starts with a beer then two then three and so on i dont get drunk but i definitely do drink too much its not good for my health me...   \n",
       "8                                                                                                           no i am sure that we havent spoken before this is my first time talking about this on a forum    \n",
       "9  i am trying to figure out who i am i have no idea im confused i have a job interview tomorrow and im already freaked out because i know i will be staring at the man and probably make him feel unco...   \n",
       "\n",
       "   post_type      mood  \\\n",
       "0  responder       nan   \n",
       "1  responder       nan   \n",
       "2  responder       nan   \n",
       "3  responder  Inspired   \n",
       "4  responder  Paranoid   \n",
       "5  responder       Sad   \n",
       "6  responder       nan   \n",
       "7  responder      Blah   \n",
       "8  responder      Blah   \n",
       "9  responder      Blah   \n",
       "\n",
       "                                                                                                thread_title  \\\n",
       "0                                                                        Sudden Onset Anxiety - Please help!   \n",
       "1                                                                              didnt know where to post this   \n",
       "2                                                                              didnt know where to post this   \n",
       "3  Is this GAD? My mind keeps creating associations between things and anxiety, and they're ruining my life!   \n",
       "4                                                                              didnt know where to post this   \n",
       "5                                                            Feeling More Anxious The Older I Get.  I Am 51.   \n",
       "6                                                                                            feeling anxious   \n",
       "7                                                             social anxiety... causing me to drink too much   \n",
       "8                                                             social anxiety... causing me to drink too much   \n",
       "9                                                             social anxiety... causing me to drink too much   \n",
       "\n",
       "                     forum_name  postlen  hard      soft  \n",
       "0  Generalized Anxiety Disorder       62     0  1.000000  \n",
       "1                Social Anxiety       89     0  0.998539  \n",
       "2                Social Anxiety       62     0  0.999999  \n",
       "3  Generalized Anxiety Disorder      335     0  1.000000  \n",
       "4                Social Anxiety       46     0  0.916680  \n",
       "5  Generalized Anxiety Disorder       60     0  0.923886  \n",
       "6  Generalized Anxiety Disorder       15     1  0.284101  \n",
       "7                Social Anxiety       97     0  1.000000  \n",
       "8                Social Anxiety       20     0  0.901430  \n",
       "9                Social Anxiety       60     0  1.000000  "
      ]
     },
     "execution_count": 30,
     "metadata": {},
     "output_type": "execute_result"
    }
   ],
   "source": [
    "pd.set_option('max_colwidth' , 200)\n",
    "df_predict.head(10)"
   ]
  },
  {
   "cell_type": "markdown",
   "metadata": {},
   "source": [
    "# Manually labeling nonsense"
   ]
  },
  {
   "cell_type": "code",
   "execution_count": 14,
   "metadata": {
    "collapsed": true
   },
   "outputs": [],
   "source": [
    "def manlab_n(df_pkl, rx,  col):\n",
    "    pd.set_option('max_colwidth' , 200)\n",
    "    df = pd.read_pickle(df_pkl)\n",
    "    df_res = df[df['post_type']== \"responder\"]\n",
    "    df_lab = df_res[df_res['post'].str.contains(rx , regex = True)]\n",
    "    proceed = input(\"Proceed: \")\n",
    "    n = 1\n",
    "    while proceed  == 'y':\n",
    "        if n%10 == 0:\n",
    "            proceed = input(\"Proceed: \")\n",
    "        ind = int(np.random.choice(df_lab.index, size = 1))\n",
    "        label = (input(\"Personal(0) {} / {}: \".format(n, df['post'].iloc[ind])))\n",
    "        if label == 'x':\n",
    "            break\n",
    "        label = int(label)\n",
    "        df[col][ind] = label\n",
    "        n += 1\n",
    "    #safety saving\n",
    "    df.to_pickle('df_man.pkl')\n",
    "    return df"
   ]
  },
  {
   "cell_type": "markdown",
   "metadata": {},
   "source": [
    "# Creating TFIDF pkl"
   ]
  },
  {
   "cell_type": "code",
   "execution_count": 31,
   "metadata": {
    "collapsed": true
   },
   "outputs": [],
   "source": [
    "# getting predicted personals from responders\n",
    "df_predicted_p = df_predict[df_predict['hard'] == 0]"
   ]
  },
  {
   "cell_type": "code",
   "execution_count": 36,
   "metadata": {
    "collapsed": true
   },
   "outputs": [],
   "source": [
    "#combining all personals\n",
    "df_personal = pd.concat([df_know, df_predicted_p])\n",
    "df_personal.reset_index(drop = True, inplace = True)"
   ]
  },
  {
   "cell_type": "code",
   "execution_count": 37,
   "metadata": {},
   "outputs": [
    {
     "data": {
      "text/plain": [
       "39221"
      ]
     },
     "execution_count": 37,
     "metadata": {},
     "output_type": "execute_result"
    }
   ],
   "source": [
    "len (df_personal)"
   ]
  },
  {
   "cell_type": "code",
   "execution_count": 38,
   "metadata": {},
   "outputs": [
    {
     "data": {
      "text/plain": [
       "['df_personal.pkl']"
      ]
     },
     "execution_count": 38,
     "metadata": {},
     "output_type": "execute_result"
    }
   ],
   "source": [
    "joblib.dump(df_personal, \"df_personal.pkl\")"
   ]
  },
  {
   "cell_type": "code",
   "execution_count": 39,
   "metadata": {
    "collapsed": true
   },
   "outputs": [],
   "source": [
    "#creating user list for each post\n",
    "users = [df_personal['user'][i] for i in df_personal.index]"
   ]
  },
  {
   "cell_type": "code",
   "execution_count": 40,
   "metadata": {
    "collapsed": true
   },
   "outputs": [],
   "source": [
    "# creating post list\n",
    "posts = [df_personal['post'][i] for i in df_personal.index]"
   ]
  },
  {
   "cell_type": "code",
   "execution_count": 42,
   "metadata": {
    "collapsed": true
   },
   "outputs": [],
   "source": [
    "#vectorizing\n",
    "vectorizer = TfidfVectorizer(stop_words = 'english', max_df = 0.7, max_features = 10000)\n",
    "vect = vectorizer.fit_transform(posts).astype('float32')"
   ]
  },
  {
   "cell_type": "code",
   "execution_count": 43,
   "metadata": {},
   "outputs": [
    {
     "data": {
      "text/plain": [
       "['vectorizer.pkl']"
      ]
     },
     "execution_count": 43,
     "metadata": {},
     "output_type": "execute_result"
    }
   ],
   "source": [
    "#joblib the model\n",
    "joblib.dump(vectorizer, \"vectorizer.pkl\")"
   ]
  },
  {
   "cell_type": "code",
   "execution_count": 44,
   "metadata": {},
   "outputs": [
    {
     "data": {
      "text/plain": [
       "['vect.pkl']"
      ]
     },
     "execution_count": 44,
     "metadata": {},
     "output_type": "execute_result"
    }
   ],
   "source": [
    "# joblib the matrix\n",
    "joblib.dump(vect, \"vect.pkl\")\n",
    "\n"
   ]
  },
  {
   "cell_type": "code",
   "execution_count": null,
   "metadata": {
    "collapsed": true
   },
   "outputs": [],
   "source": []
  }
 ],
 "metadata": {
  "kernelspec": {
   "display_name": "Python 3",
   "language": "python",
   "name": "python3"
  },
  "language_info": {
   "codemirror_mode": {
    "name": "ipython",
    "version": 3
   },
   "file_extension": ".py",
   "mimetype": "text/x-python",
   "name": "python",
   "nbconvert_exporter": "python",
   "pygments_lexer": "ipython3",
   "version": "3.6.3"
  }
 },
 "nbformat": 4,
 "nbformat_minor": 2
}
