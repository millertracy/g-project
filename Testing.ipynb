{
 "cells": [
  {
   "cell_type": "code",
   "execution_count": 2,
   "metadata": {
    "collapsed": true
   },
   "outputs": [],
   "source": [
    "import requests\n",
    "from bs4 import BeautifulSoup\n",
    "import re\n",
    "import pandas as pd\n",
    "from collections import defaultdict\n",
    "import time\n",
    "import psycopg2\n",
    "from user_agent import generate_user_agent\n",
    "import numpy as np\n",
    "import string"
   ]
  },
  {
   "cell_type": "markdown",
   "metadata": {},
   "source": [
    "# MH"
   ]
  },
  {
   "cell_type": "code",
   "execution_count": 3,
   "metadata": {},
   "outputs": [
    {
     "data": {
      "text/plain": [
       "<Response [200]>"
      ]
     },
     "execution_count": 3,
     "metadata": {},
     "output_type": "execute_result"
    }
   ],
   "source": [
    "#grab response\n",
    "response = requests.get(\"https://www.mentalhealthforum.net/forum/thread155319.html\")\n",
    "response"
   ]
  },
  {
   "cell_type": "code",
   "execution_count": 134,
   "metadata": {
    "collapsed": true
   },
   "outputs": [],
   "source": [
    "soup = BeautifulSoup(response.text, \"html.parser\")"
   ]
  },
  {
   "cell_type": "markdown",
   "metadata": {},
   "source": [
    "- thread title\n",
    "- next button and href\n",
    "- for each post:\n",
    "    - username\n",
    "    - join date\n",
    "    - mood\n",
    "    - post\n",
    "    - post_type"
   ]
  },
  {
   "cell_type": "code",
   "execution_count": 29,
   "metadata": {},
   "outputs": [
    {
     "data": {
      "text/plain": [
       "<a href=\"https://www.mentalhealthforum.net/forum/thread155319-2.html?s=4ea1490ea58f9032939a24efdfd1bc2b\" rel=\"next\" title=\"Next Page - Results 11 to 11 of 11\"><img alt=\"Next\" src=\"images/pagination/next-right.png\"/></a>"
      ]
     },
     "execution_count": 29,
     "metadata": {},
     "output_type": "execute_result"
    }
   ],
   "source": [
    "#check and grab reference to next page\n",
    "soup.find(\"a\", rel=\"next\")"
   ]
  },
  {
   "cell_type": "code",
   "execution_count": 154,
   "metadata": {
    "collapsed": true
   },
   "outputs": [],
   "source": [
    "def parse_page(soup):\n",
    "    \"\"\"\n",
    "    Input: Soup object\n",
    "    Output: pandas df\n",
    "    \"\"\"\n",
    "    # grab all post tables\n",
    "    tables = soup.findAll(\"div\", {'class':\"postdetails\", 'id' : False})\n",
    "    \n",
    "    d = defaultdict(list)\n",
    "    \n",
    "    # grab username, date of join, mood, post, and post_type\n",
    "    for table in tables:\n",
    "        \n",
    "        # get username\n",
    "        user = (table.find(\"a\")['title'].split()[0])\n",
    "\n",
    "        #get join date and mood\n",
    "        info = table.find(\"dl\", {\"class\": \"userinfo_extra\"})\n",
    "        if info.find(\"dt\").text == \"Join Date\":\n",
    "            date = info.find(\"dd\").text\n",
    "        if info.find(\"dd\", {\"class\": \"vmood-dd-legacy\"}) != None:\n",
    "            mood = info.find(\"dd\", {\"class\": \"vmood-dd-legacy\"}).find(\"img\")[\"alt\"]\n",
    "\n",
    "        # get post\n",
    "\n",
    "            #if there is a repost, remove it and return text\n",
    "        if table.find(\"blockquote\", {\"class\": \"postcontent restore \"}).find(\"div\", {\"class\" : \"bbcode_container\"}) != None:\n",
    "            table.find(\"blockquote\", {\"class\": \"postcontent restore \"}).find(\"div\", {\"class\" : \"bbcode_container\"}).extract()\n",
    "            post = table.find(\"blockquote\", {\"class\": \"postcontent restore \"}).text.strip()\n",
    "\n",
    "            #if not return normal text\n",
    "        else:\n",
    "            post = table.find(\"blockquote\", {\"class\": \"postcontent restore \"}).text.strip()\n",
    "\n",
    "        #get post_type\n",
    "        if len(table.find(\"div\", {\"class\": \"postbody\"}).find(\"h2\", {\"class\": \"title icon\"}).text.strip()) > 0:\n",
    "            post_type = \"author\"\n",
    "        else:\n",
    "            post_type = \"responder\"\n",
    "            \n",
    "        #update the dictionary with info\n",
    "        d['user'].append(user)\n",
    "        d['member_since'].append(date)\n",
    "        d['mood'].append(mood)\n",
    "        d['post'].append(post)\n",
    "        d['post_type'].append(post_type)\n",
    "        \n",
    "    df = pd.DataFrame(d)\n",
    "    return df\n",
    "    \n",
    "    \n",
    "    \n",
    "    "
   ]
  },
  {
   "cell_type": "code",
   "execution_count": 155,
   "metadata": {
    "collapsed": true
   },
   "outputs": [],
   "source": [
    "df = parse_page(soup)"
   ]
  },
  {
   "cell_type": "code",
   "execution_count": 156,
   "metadata": {},
   "outputs": [
    {
     "data": {
      "text/html": [
       "<div>\n",
       "<style>\n",
       "    .dataframe thead tr:only-child th {\n",
       "        text-align: right;\n",
       "    }\n",
       "\n",
       "    .dataframe thead th {\n",
       "        text-align: left;\n",
       "    }\n",
       "\n",
       "    .dataframe tbody tr th {\n",
       "        vertical-align: top;\n",
       "    }\n",
       "</style>\n",
       "<table border=\"1\" class=\"dataframe\">\n",
       "  <thead>\n",
       "    <tr style=\"text-align: right;\">\n",
       "      <th></th>\n",
       "      <th>member_since</th>\n",
       "      <th>mood</th>\n",
       "      <th>post</th>\n",
       "      <th>post_type</th>\n",
       "      <th>user</th>\n",
       "    </tr>\n",
       "  </thead>\n",
       "  <tbody>\n",
       "    <tr>\n",
       "      <th>0</th>\n",
       "      <td>Feb 2017</td>\n",
       "      <td>Sad</td>\n",
       "      <td>I keep feeling disgusting, I'm unable to look ...</td>\n",
       "      <td>author</td>\n",
       "      <td>Maljc</td>\n",
       "    </tr>\n",
       "    <tr>\n",
       "      <th>1</th>\n",
       "      <td>Jan 2012</td>\n",
       "      <td>Sad</td>\n",
       "      <td>Hi\\nI know its not easy but you need to start ...</td>\n",
       "      <td>responder</td>\n",
       "      <td>Foxjo</td>\n",
       "    </tr>\n",
       "    <tr>\n",
       "      <th>2</th>\n",
       "      <td>Feb 2017</td>\n",
       "      <td>Sad</td>\n",
       "      <td>I can't. I see them. Feel them. I remember the...</td>\n",
       "      <td>responder</td>\n",
       "      <td>Maljc</td>\n",
       "    </tr>\n",
       "    <tr>\n",
       "      <th>3</th>\n",
       "      <td>Jan 2012</td>\n",
       "      <td>Sad</td>\n",
       "      <td>I know when my other boyfriend used to emotion...</td>\n",
       "      <td>responder</td>\n",
       "      <td>Foxjo</td>\n",
       "    </tr>\n",
       "    <tr>\n",
       "      <th>4</th>\n",
       "      <td>Jan 2012</td>\n",
       "      <td>Tired</td>\n",
       "      <td>I have very vivid night terrors about similar ...</td>\n",
       "      <td>responder</td>\n",
       "      <td>tigerfish</td>\n",
       "    </tr>\n",
       "    <tr>\n",
       "      <th>5</th>\n",
       "      <td>Feb 2017</td>\n",
       "      <td>Sad</td>\n",
       "      <td>I had only one boyfriend that was emotionally ...</td>\n",
       "      <td>responder</td>\n",
       "      <td>Maljc</td>\n",
       "    </tr>\n",
       "    <tr>\n",
       "      <th>6</th>\n",
       "      <td>Jan 2012</td>\n",
       "      <td>Tired</td>\n",
       "      <td>I apologise!! Didn't mean to upset anyone!! Sorry</td>\n",
       "      <td>responder</td>\n",
       "      <td>tigerfish</td>\n",
       "    </tr>\n",
       "    <tr>\n",
       "      <th>7</th>\n",
       "      <td>Dec 2012</td>\n",
       "      <td>Tired</td>\n",
       "      <td>I agree with Foxjo. Therapy may be a way forwa...</td>\n",
       "      <td>responder</td>\n",
       "      <td>ScaredCat</td>\n",
       "    </tr>\n",
       "    <tr>\n",
       "      <th>8</th>\n",
       "      <td>Feb 2017</td>\n",
       "      <td>Sad</td>\n",
       "      <td>I'm sorry if my posts have forced you in remem...</td>\n",
       "      <td>responder</td>\n",
       "      <td>Maljc</td>\n",
       "    </tr>\n",
       "    <tr>\n",
       "      <th>9</th>\n",
       "      <td>Nov 2015</td>\n",
       "      <td>Cool</td>\n",
       "      <td>You're wrong \\n\\nin fact I would say its the o...</td>\n",
       "      <td>responder</td>\n",
       "      <td>BorderlineDownunder</td>\n",
       "    </tr>\n",
       "  </tbody>\n",
       "</table>\n",
       "</div>"
      ],
      "text/plain": [
       "  member_since   mood                                               post  \\\n",
       "0     Feb 2017    Sad  I keep feeling disgusting, I'm unable to look ...   \n",
       "1     Jan 2012    Sad  Hi\\nI know its not easy but you need to start ...   \n",
       "2     Feb 2017    Sad  I can't. I see them. Feel them. I remember the...   \n",
       "3     Jan 2012    Sad  I know when my other boyfriend used to emotion...   \n",
       "4     Jan 2012  Tired  I have very vivid night terrors about similar ...   \n",
       "5     Feb 2017    Sad  I had only one boyfriend that was emotionally ...   \n",
       "6     Jan 2012  Tired  I apologise!! Didn't mean to upset anyone!! Sorry   \n",
       "7     Dec 2012  Tired  I agree with Foxjo. Therapy may be a way forwa...   \n",
       "8     Feb 2017    Sad  I'm sorry if my posts have forced you in remem...   \n",
       "9     Nov 2015   Cool  You're wrong \\n\\nin fact I would say its the o...   \n",
       "\n",
       "   post_type                 user  \n",
       "0     author                Maljc  \n",
       "1  responder                Foxjo  \n",
       "2  responder                Maljc  \n",
       "3  responder                Foxjo  \n",
       "4  responder            tigerfish  \n",
       "5  responder                Maljc  \n",
       "6  responder            tigerfish  \n",
       "7  responder            ScaredCat  \n",
       "8  responder                Maljc  \n",
       "9  responder  BorderlineDownunder  "
      ]
     },
     "execution_count": 156,
     "metadata": {},
     "output_type": "execute_result"
    }
   ],
   "source": [
    "df"
   ]
  },
  {
   "cell_type": "code",
   "execution_count": null,
   "metadata": {
    "collapsed": true
   },
   "outputs": [],
   "source": []
  },
  {
   "cell_type": "markdown",
   "metadata": {},
   "source": [
    "# PC "
   ]
  },
  {
   "cell_type": "code",
   "execution_count": null,
   "metadata": {
    "collapsed": true
   },
   "outputs": [],
   "source": [
    "def parse_forum(html):\n",
    "    # get request for forum \n",
    "    response = get_request(html)\n",
    "    \n",
    "    #create a soup object of request\n",
    "    soup = soupify(response)\n",
    "    \n",
    "    #get links for all threads\n",
    "    threads = parse_thread_page(soup)\n",
    "    \n",
    "    #add all threads and sub-threads to the database\n",
    "    add_to_db(threads)\n",
    "    \n",
    "    #see if a navigation bar exists\n",
    "    nav_page = soup.find('div', {'class': 'pagenav'})\n",
    "        # if a next button exists, get the link for the next thread page\n",
    "        if nav_page != None:\n",
    "            next_page = soup.find(\"a\", {\"rel\": \"next\"})\n",
    "            \n",
    "            # while a next button exits, loop through all thread pages and add each thread (and its sub_threads)\n",
    "            # to the database\n",
    "            while next_page:\n",
    "                href = next_page['href']\n",
    "                response = get_request(href)\n",
    "                soup = soupify(response)\n",
    "                threads = parse_thread_page(soup)\n",
    "                add_to_db(threads)\n",
    "                next_page = soup.find(\"a\", {\"rel\": \"next\"})\n",
    "    \n",
    "        \n",
    "        \n",
    "    \n",
    "    \n",
    "    "
   ]
  },
  {
   "cell_type": "code",
   "execution_count": 5,
   "metadata": {
    "collapsed": true
   },
   "outputs": [],
   "source": [
    "#grab hyperlinks and titles of thread posts\n",
    "def parse_thread_page(soup):\n",
    "    threads = []\n",
    "    form = soup.find(\"form\", {\"method\" : \"post\", \"id\": \"inlinemodform\"})\n",
    "    tds = form.find_all(\"td\", {\"id\": re.compile(\"td_threadtitle_\\d+\")})\n",
    "    for td in tds:\n",
    "        if td.find(\"img\", {\"alt\": \"Sticky Thread\"}):\n",
    "            continue\n",
    "        else:\n",
    "            title = td.find(\"a\").text\n",
    "            hyperlink = td.find(\"a\")['href']\n",
    "            threads.append({\"thread\": title, \"link\": hyperlink})\n",
    "    return threads\n",
    "                \n",
    "\n",
    "# threads_df = pd.DataFrame(threads)\n",
    "# threads_df.head(20)"
   ]
  },
  {
   "cell_type": "code",
   "execution_count": 68,
   "metadata": {
    "collapsed": true
   },
   "outputs": [],
   "source": [
    "#grab hyperlinks and titles of thread posts\n",
    "def parse_thread_page(soup):\n",
    "    threads = []\n",
    "    form = soup.find(\"form\", {\"method\" : \"post\", \"id\": \"inlinemodform\"})\n",
    "    tds = form.find_all(\"td\", {\"id\": re.compile(\"td_threadtitle_\\d+\")})\n",
    "    for td in tds[0:2]:\n",
    "        return(td)\n",
    "                \n",
    "\n",
    "# threads_df = pd.DataFrame(threads)\n",
    "# threads_df.head(20)"
   ]
  },
  {
   "cell_type": "code",
   "execution_count": 51,
   "metadata": {
    "collapsed": true
   },
   "outputs": [],
   "source": [
    "# for each thread, go to each link and grab information\n",
    "\n",
    "def parse_threads(threads):\n",
    "    \"\"\"\n",
    "    Takes in a list of dictionaries\n",
    "    Returns 2 pandas tables\n",
    "    _________________________\n",
    "    Input:\n",
    "        - links: list of html links for the entire thread\n",
    "        - thread: title of the thread\n",
    "        \n",
    "    Output:\n",
    "        - user pandas df \n",
    "        - post pandas df\n",
    "    \"\"\"\n",
    "    user_df = pd.DataFrame({\"member_since\": [], \"num_posts\": [], \"users\": []})\n",
    "    post_df = pd.DataFrame({\"posts\": [], \"post_type\": [], \"users\": []})\n",
    "    # for each thread, connect to the page, get user and post information\n",
    "    for thd in threads:\n",
    "        link = thd['link']\n",
    "        response = get_request(link)\n",
    "        soup = soupify(response)\n",
    "        tables = get_tables(soup)\n",
    "        user_tbl = make_user_pd(tables)\n",
    "        post_tbl = get_posts(tables)\n",
    "        post_tbl['url'] = link\n",
    "        user_df = pd.concat([user_df, user_tbl])\n",
    "        post_df = pd.concat([post_df, post_tbl]) \n",
    "        # check if a thread has more than one page\n",
    "        nav_page = soup.find('div', {'class': 'pagenav'})\n",
    "        # if a thread has more than one page, connect to the next page and update user and post information \n",
    "        # until no more pages are left \n",
    "        if nav_page != None:\n",
    "            next_page = soup.find(\"a\", {\"rel\": \"next\"})\n",
    "            while next_page != None:\n",
    "                href = next_page['href']\n",
    "                response = get_request(href)\n",
    "                soup = soupify(response)\n",
    "                tables = get_tables(soup)\n",
    "                user_tbl = make_user_pd(tables)\n",
    "                post_tbl = get_posts(tables)\n",
    "                post_tbl['url'] = link\n",
    "                user_df = pd.concat([user_df, user_tbl])\n",
    "                post_df = pd.concat([post_df, post_tbl])\n",
    "                next_page = soup.find(\"a\", {\"rel\": \"next\"})\n",
    "        # once the entire thread has been parsed and data uploaded, sleep for a random time (2-5 s) and \n",
    "        # repeat for the next thread \n",
    "        time.sleep(np.random.randint(2,6))\n",
    "    user_df.reset_index(drop = True)\n",
    "    post_df.reset_index(drop = True)\n",
    "    return user_df, post_df\n",
    "           \n",
    "            \n",
    "        "
   ]
  },
  {
   "cell_type": "code",
   "execution_count": 31,
   "metadata": {},
   "outputs": [
    {
     "name": "stdout",
     "output_type": "stream",
     "text": [
      "https://forums.psychcentral.com/depression/498539-looking-accountability-partners-motivate-each-other-get-things-done-while-depressed.html\n",
      "https://forums.psychcentral.com/depression/498539-looking-accountability-partners-motivate-each-other-get-things-done-while-depressed-2.html\n",
      "https://forums.psychcentral.com/depression/498539-looking-accountability-partners-motivate-each-other-get-things-done-while-depressed-3.html\n",
      "https://forums.psychcentral.com/depression/498539-looking-accountability-partners-motivate-each-other-get-things-done-while-depressed-4.html\n",
      "https://forums.psychcentral.com/depression/498539-looking-accountability-partners-motivate-each-other-get-things-done-while-depressed-5.html\n",
      "https://forums.psychcentral.com/depression/498539-looking-accountability-partners-motivate-each-other-get-things-done-while-depressed-6.html\n",
      "https://forums.psychcentral.com/depression/498539-looking-accountability-partners-motivate-each-other-get-things-done-while-depressed-7.html\n",
      "https://forums.psychcentral.com/depression/498539-looking-accountability-partners-motivate-each-other-get-things-done-while-depressed-8.html\n",
      "https://forums.psychcentral.com/depression/498539-looking-accountability-partners-motivate-each-other-get-things-done-while-depressed-9.html\n",
      "https://forums.psychcentral.com/depression/498539-looking-accountability-partners-motivate-each-other-get-things-done-while-depressed-10.html\n",
      "https://forums.psychcentral.com/depression/498539-looking-accountability-partners-motivate-each-other-get-things-done-while-depressed-11.html\n",
      "https://forums.psychcentral.com/depression/498539-looking-accountability-partners-motivate-each-other-get-things-done-while-depressed-12.html\n",
      "https://forums.psychcentral.com/depression/498539-looking-accountability-partners-motivate-each-other-get-things-done-while-depressed-13.html\n",
      "https://forums.psychcentral.com/depression/498539-looking-accountability-partners-motivate-each-other-get-things-done-while-depressed-14.html\n",
      "https://forums.psychcentral.com/depression/498539-looking-accountability-partners-motivate-each-other-get-things-done-while-depressed-15.html\n",
      "https://forums.psychcentral.com/depression/498539-looking-accountability-partners-motivate-each-other-get-things-done-while-depressed-16.html\n",
      "https://forums.psychcentral.com/depression/498539-looking-accountability-partners-motivate-each-other-get-things-done-while-depressed-17.html\n",
      "https://forums.psychcentral.com/depression/498539-looking-accountability-partners-motivate-each-other-get-things-done-while-depressed-18.html\n",
      "https://forums.psychcentral.com/depression/498539-looking-accountability-partners-motivate-each-other-get-things-done-while-depressed-19.html\n",
      "https://forums.psychcentral.com/depression/498539-looking-accountability-partners-motivate-each-other-get-things-done-while-depressed-20.html\n",
      "https://forums.psychcentral.com/depression/498539-looking-accountability-partners-motivate-each-other-get-things-done-while-depressed-21.html\n",
      "https://forums.psychcentral.com/depression/498539-looking-accountability-partners-motivate-each-other-get-things-done-while-depressed-22.html\n",
      "https://forums.psychcentral.com/depression/498539-looking-accountability-partners-motivate-each-other-get-things-done-while-depressed-23.html\n",
      "https://forums.psychcentral.com/depression/498539-looking-accountability-partners-motivate-each-other-get-things-done-while-depressed-24.html\n",
      "https://forums.psychcentral.com/depression/498539-looking-accountability-partners-motivate-each-other-get-things-done-while-depressed-25.html\n",
      "https://forums.psychcentral.com/depression/498539-looking-accountability-partners-motivate-each-other-get-things-done-while-depressed-26.html\n",
      "https://forums.psychcentral.com/depression/498539-looking-accountability-partners-motivate-each-other-get-things-done-while-depressed-27.html\n",
      "https://forums.psychcentral.com/depression/498539-looking-accountability-partners-motivate-each-other-get-things-done-while-depressed-28.html\n",
      "https://forums.psychcentral.com/depression/498539-looking-accountability-partners-motivate-each-other-get-things-done-while-depressed-29.html\n",
      "https://forums.psychcentral.com/depression/498539-looking-accountability-partners-motivate-each-other-get-things-done-while-depressed-30.html\n",
      "https://forums.psychcentral.com/depression/498539-looking-accountability-partners-motivate-each-other-get-things-done-while-depressed-31.html\n",
      "https://forums.psychcentral.com/depression/498539-looking-accountability-partners-motivate-each-other-get-things-done-while-depressed-32.html\n",
      "https://forums.psychcentral.com/depression/498539-looking-accountability-partners-motivate-each-other-get-things-done-while-depressed-33.html\n",
      "https://forums.psychcentral.com/depression/498539-looking-accountability-partners-motivate-each-other-get-things-done-while-depressed-34.html\n",
      "https://forums.psychcentral.com/depression/498539-looking-accountability-partners-motivate-each-other-get-things-done-while-depressed-35.html\n",
      "https://forums.psychcentral.com/depression/498539-looking-accountability-partners-motivate-each-other-get-things-done-while-depressed-36.html\n",
      "https://forums.psychcentral.com/depression/498539-looking-accountability-partners-motivate-each-other-get-things-done-while-depressed-37.html\n",
      "https://forums.psychcentral.com/depression/498539-looking-accountability-partners-motivate-each-other-get-things-done-while-depressed-38.html\n",
      "https://forums.psychcentral.com/depression/498539-looking-accountability-partners-motivate-each-other-get-things-done-while-depressed-39.html\n",
      "https://forums.psychcentral.com/depression/498539-looking-accountability-partners-motivate-each-other-get-things-done-while-depressed-40.html\n",
      "https://forums.psychcentral.com/depression/498539-looking-accountability-partners-motivate-each-other-get-things-done-while-depressed-41.html\n",
      "https://forums.psychcentral.com/depression/498539-looking-accountability-partners-motivate-each-other-get-things-done-while-depressed-42.html\n",
      "https://forums.psychcentral.com/depression/498539-looking-accountability-partners-motivate-each-other-get-things-done-while-depressed-43.html\n",
      "https://forums.psychcentral.com/depression/498539-looking-accountability-partners-motivate-each-other-get-things-done-while-depressed-44.html\n",
      "https://forums.psychcentral.com/depression/498539-looking-accountability-partners-motivate-each-other-get-things-done-while-depressed-45.html\n",
      "https://forums.psychcentral.com/depression/498539-looking-accountability-partners-motivate-each-other-get-things-done-while-depressed-46.html\n",
      "https://forums.psychcentral.com/depression/498539-looking-accountability-partners-motivate-each-other-get-things-done-while-depressed-47.html\n",
      "https://forums.psychcentral.com/depression/498539-looking-accountability-partners-motivate-each-other-get-things-done-while-depressed-48.html\n",
      "https://forums.psychcentral.com/depression/498539-looking-accountability-partners-motivate-each-other-get-things-done-while-depressed-49.html\n",
      "https://forums.psychcentral.com/depression/498539-looking-accountability-partners-motivate-each-other-get-things-done-while-depressed-50.html\n",
      "https://forums.psychcentral.com/depression/498539-looking-accountability-partners-motivate-each-other-get-things-done-while-depressed-51.html\n",
      "https://forums.psychcentral.com/depression/498539-looking-accountability-partners-motivate-each-other-get-things-done-while-depressed-52.html\n",
      "https://forums.psychcentral.com/depression/498539-looking-accountability-partners-motivate-each-other-get-things-done-while-depressed-53.html\n",
      "https://forums.psychcentral.com/depression/498539-looking-accountability-partners-motivate-each-other-get-things-done-while-depressed-54.html\n",
      "https://forums.psychcentral.com/depression/498539-looking-accountability-partners-motivate-each-other-get-things-done-while-depressed-55.html\n",
      "https://forums.psychcentral.com/depression/498539-looking-accountability-partners-motivate-each-other-get-things-done-while-depressed-56.html\n",
      "https://forums.psychcentral.com/depression/498539-looking-accountability-partners-motivate-each-other-get-things-done-while-depressed-57.html\n",
      "https://forums.psychcentral.com/depression/498539-looking-accountability-partners-motivate-each-other-get-things-done-while-depressed-58.html\n"
     ]
    },
    {
     "name": "stdout",
     "output_type": "stream",
     "text": [
      "https://forums.psychcentral.com/depression/498539-looking-accountability-partners-motivate-each-other-get-things-done-while-depressed-59.html\n",
      "https://forums.psychcentral.com/depression/498539-looking-accountability-partners-motivate-each-other-get-things-done-while-depressed-60.html\n",
      "https://forums.psychcentral.com/depression/498539-looking-accountability-partners-motivate-each-other-get-things-done-while-depressed-61.html\n",
      "https://forums.psychcentral.com/depression/498539-looking-accountability-partners-motivate-each-other-get-things-done-while-depressed-62.html\n",
      "https://forums.psychcentral.com/depression/498539-looking-accountability-partners-motivate-each-other-get-things-done-while-depressed-63.html\n",
      "https://forums.psychcentral.com/depression/498539-looking-accountability-partners-motivate-each-other-get-things-done-while-depressed-64.html\n",
      "https://forums.psychcentral.com/depression/498539-looking-accountability-partners-motivate-each-other-get-things-done-while-depressed-65.html\n",
      "https://forums.psychcentral.com/depression/498539-looking-accountability-partners-motivate-each-other-get-things-done-while-depressed-66.html\n",
      "https://forums.psychcentral.com/depression/498539-looking-accountability-partners-motivate-each-other-get-things-done-while-depressed-67.html\n",
      "https://forums.psychcentral.com/depression/498539-looking-accountability-partners-motivate-each-other-get-things-done-while-depressed-68.html\n",
      "https://forums.psychcentral.com/depression/498539-looking-accountability-partners-motivate-each-other-get-things-done-while-depressed-69.html\n",
      "https://forums.psychcentral.com/depression/498539-looking-accountability-partners-motivate-each-other-get-things-done-while-depressed-70.html\n",
      "https://forums.psychcentral.com/depression/498539-looking-accountability-partners-motivate-each-other-get-things-done-while-depressed-71.html\n",
      "https://forums.psychcentral.com/depression/498539-looking-accountability-partners-motivate-each-other-get-things-done-while-depressed-72.html\n",
      "https://forums.psychcentral.com/depression/498539-looking-accountability-partners-motivate-each-other-get-things-done-while-depressed-73.html\n",
      "https://forums.psychcentral.com/depression/498539-looking-accountability-partners-motivate-each-other-get-things-done-while-depressed-74.html\n",
      "https://forums.psychcentral.com/depression/498539-looking-accountability-partners-motivate-each-other-get-things-done-while-depressed-75.html\n",
      "https://forums.psychcentral.com/depression/498539-looking-accountability-partners-motivate-each-other-get-things-done-while-depressed-76.html\n",
      "https://forums.psychcentral.com/depression/498539-looking-accountability-partners-motivate-each-other-get-things-done-while-depressed-77.html\n",
      "https://forums.psychcentral.com/depression/504522-not-sure.html\n"
     ]
    }
   ],
   "source": [
    "user_df, post_df = parse_threads(threads[1:3])"
   ]
  },
  {
   "cell_type": "code",
   "execution_count": 49,
   "metadata": {},
   "outputs": [
    {
     "data": {
      "text/plain": [
       "'As it states in the title, I am looking for accountability partners so that we can all motivate each other to get **** done, set and achieve our goals. We would have daily check ins. \\nI, like many others, suffer from a constant funeral in my brain and I need help navigating life and a community to turn corners with. I know that I am not the only one who lacks motivation and lacking the tools and resources in getting out of bed.  \\nI am reaching out to PC because I don\\x92t have anyone in my circle who can be an accountability partner. Well, I don\\x92t have a circle.   \\nI am hoping that this will motivate others to get stuff done while lacking motivation to do so. \\nI will start...\\nI was planning on working out... but I did not... should be attending to my resume and working but I am not...'"
      ]
     },
     "execution_count": 49,
     "metadata": {},
     "output_type": "execute_result"
    }
   ],
   "source": [
    "post_df['posts'].iloc[0]\n"
   ]
  },
  {
   "cell_type": "code",
   "execution_count": 24,
   "metadata": {
    "collapsed": true
   },
   "outputs": [],
   "source": [
    "post_df = post_df.reset_index(drop = True)\n",
    "pd.set_option(\"display.max_columns\", None)\n",
    "post_df"
   ]
  },
  {
   "cell_type": "code",
   "execution_count": 45,
   "metadata": {
    "collapsed": true
   },
   "outputs": [],
   "source": [
    "# make a general user table \n",
    "\n",
    "def make_user_pd(tables):\n",
    "    \"\"\"\n",
    "    Takes in a list of html elements \n",
    "    Returns a dictionary containing\n",
    "    ____________________\n",
    "    users: list of usernames\n",
    "    member_date: list dates became a member for each user\n",
    "    num_posts: list of total number of posts for each user\n",
    "    \n",
    "    \"\"\"\n",
    "    users = []\n",
    "    user_tbl = defaultdict(list)\n",
    "    for table in tables:\n",
    "        if  \"moderator\" in table.find('div', {'class': 'smallfont'}).text.lower():\n",
    "            continue\n",
    "        n = 0\n",
    "        if table.find(\"a\", {\"class\": \"bigusername\"}) == None:\n",
    "            user = table.find(\"div\", {\"id\": re.compile(\"postmenu_\\d+\")}).text.strip()\n",
    "        else:\n",
    "            user = table.find(\"a\", {\"class\": \"bigusername\"}).text\n",
    "        if user not in users:\n",
    "            if table.find_all(\"div\", {\"class\":\"smallfont\"})[1].find(\"img\") != None:\n",
    "                n = 1   \n",
    "            if table.find_all(\"div\", {\"class\":\"smallfont\"})[0].text.lower() == \"guest\":\n",
    "                member_date = \"nan\"\n",
    "            else:\n",
    "                member_date = table.findAll('br')[n].findNext('div').text.split(\":\")[-1].strip()\n",
    "            if 'location' in table.findAll('br')[n].findAllNext('div')[1].text.lower():\n",
    "                num_posts = table.findAll('br')[n].findAllNext('div')[2].text\n",
    "                num_posts = re.sub(\"[^0-9]\", \"\", num_posts)\n",
    "            else:\n",
    "                num_posts = table.findAll('br')[n].findAllNext('div')[1].text\n",
    "                num_posts = re.sub(\"[^0-9]\", \"\", num_posts)\n",
    "            if len(num_posts) == 0:\n",
    "                num_posts = \"nan\"\n",
    "            users.append(user)\n",
    "            user_tbl['users'].append(user)\n",
    "            user_tbl['member_since'].append(member_date)\n",
    "            user_tbl[\"num_posts\"].append(num_posts)\n",
    "    user_pd = pd.DataFrame(user_tbl)\n",
    "    return user_pd\n",
    "        "
   ]
  },
  {
   "cell_type": "code",
   "execution_count": 47,
   "metadata": {
    "collapsed": true
   },
   "outputs": [],
   "source": [
    "# make a document table\n",
    "\n",
    "def get_posts(tables):\n",
    "    \"\"\"\n",
    "    Takes in a list of html elements\n",
    "    Returns a dictionary\n",
    "    ____________________\n",
    "    users: username for each user\n",
    "    posts: post for each user\n",
    "    \n",
    "    \"\"\"\n",
    "##### pandas row will be 1 post ######\n",
    "    post_tbl = defaultdict(list)\n",
    "    for table in tables:\n",
    "        if table.find(\"a\", {\"class\": \"bigusername\"}) == None:\n",
    "            user = table.find(\"div\", {\"id\": re.compile(\"postmenu_\\d+\")}).text.strip()\n",
    "        else:\n",
    "            user = table.find(\"a\", {\"class\": \"bigusername\"}).text\n",
    "        post = table.find_all(\"div\", {\"id\": re.compile(\"post_message_\\d+\")})[0].text.strip()\n",
    "        if \"http\" in post:\n",
    "            post = re.sub(r'http\\S+', '', post)\n",
    "        post_tbl[\"users\"].append(user) \n",
    "        post_tbl[\"posts\"].append(post)\n",
    "        post_tbl[\"post_type\"].append([\"author\"] + [\"responder\"]*(len(post_tbl['users'])-1))\n",
    "        post_pd = pd.DataFrame(post_tbl)\n",
    "        return post_pd\n",
    "\n",
    "\n",
    "###### each pandas row is all posts by user #######\n",
    "#     ind_post_tbl = defaultdict(list)\n",
    "#     for table in tables:\n",
    "#         if table.find(\"a\", {\"class\": \"bigusername\"}) == None:\n",
    "#             user = table.find(\"div\", {\"id\": re.compile(\"postmenu_\\d+\")}).text.strip()\n",
    "#         else:\n",
    "#             user = table.find(\"a\", {\"class\": \"bigusername\"}).text\n",
    "#         post = table.find_all(\"div\", {\"id\": re.compile(\"post_message_\\d+\")})[0].text.strip()\n",
    "#         if \"http\" in post:\n",
    "#             post = re.sub(r'http\\S+', '', post)\n",
    "#         ind_post_tbl[user].append(post) \n",
    "    \n",
    "#     post_tbl = defaultdict(list)\n",
    "#     for user in ind_post_tbl:\n",
    "#         post_tbl[\"user\"].append(user)\n",
    "#         post_tbl[\"posts\"].append(ind_post_tbl[user])\n",
    "#     post_tbl[\"type_user\"] = [\"author\"] + [\"responder\"]*(len(ind_post_tbl)-1)\n",
    "#     post_pd = pd.DataFrame(post_tbl)\n",
    "#     return post_pd\n",
    "  \n",
    "\n",
    "    \n",
    "    \n",
    "\n",
    "    "
   ]
  },
  {
   "cell_type": "code",
   "execution_count": 13,
   "metadata": {
    "collapsed": true
   },
   "outputs": [],
   "source": [
    "def get_request(url):\n",
    "    \"\"\"\n",
    "    Takes in a url string \n",
    "    Outputs a list of html for each user's posts\n",
    "    \"\"\"\n",
    "    \n",
    "    headers = {\"User-Agent\": generate_user_agent()}\n",
    "    response = requests.get(url, headers)\n",
    "    return response\n",
    "    "
   ]
  },
  {
   "cell_type": "code",
   "execution_count": 7,
   "metadata": {
    "collapsed": true
   },
   "outputs": [],
   "source": [
    "def get_tables(soup):\n",
    "    tables = soup.find_all(\"table\", {\"id\": re.compile(\"post\\d+\")})\n",
    "    return tables"
   ]
  },
  {
   "cell_type": "code",
   "execution_count": 14,
   "metadata": {
    "collapsed": true
   },
   "outputs": [],
   "source": [
    "response = get_request(\"https://forums.psychcentral.com/depression/498539-looking-accountability-partners-motivate-each-other-get-things-done-while-depressed.html\")"
   ]
  },
  {
   "cell_type": "code",
   "execution_count": 17,
   "metadata": {
    "collapsed": true
   },
   "outputs": [],
   "source": [
    "soup = soupify(response)"
   ]
  },
  {
   "cell_type": "code",
   "execution_count": 18,
   "metadata": {
    "collapsed": true
   },
   "outputs": [],
   "source": [
    "tbls = get_tables(soup)"
   ]
  },
  {
   "cell_type": "code",
   "execution_count": 37,
   "metadata": {},
   "outputs": [
    {
     "data": {
      "text/plain": [
       "'5902375'"
      ]
     },
     "execution_count": 37,
     "metadata": {},
     "output_type": "execute_result"
    }
   ],
   "source": [
    "pid = tbls[0][\"id\"]\n",
    "pid = \"\".join([letter for letter in pid if letter in string.digits])\n",
    "pid"
   ]
  },
  {
   "cell_type": "code",
   "execution_count": 30,
   "metadata": {},
   "outputs": [
    {
     "data": {
      "text/plain": [
       "<table align=\"center\" border=\"0\" cellpadding=\"6\" cellspacing=\"0\" class=\"tborder\" id=\"post5902375\" width=\"100%\"> <tr> <td class=\"thead\" style=\"font-weight:normal; border: 0px solid #CABCAA; border-right: 0px\"> <a name=\"post5902375\"><img alt=\"Old\" border=\"0\" class=\"inlineimg\" src=\"https://pcforums-liviant.netdna-ssl.com/images/styles/pc/statusicon/post_old.gif\"/></a>\n",
       "\t\t\t11-12-2017, 05:37 PM\n",
       "\t\t\t\n",
       "\t\t\t </td> <td align=\"right\" class=\"thead\" style=\"font-weight:normal; border: 0px solid #CABCAA; border-left: 0px\">\n",
       "\t\t\t \n",
       "\t\t\t#<a href=\"https://forums.psychcentral.com/5902375-post1.html\" id=\"postcount5902375\" name=\"1\" rel=\"nofollow\" target=\"new\"><strong>1</strong></a> </td> </tr> <tr valign=\"top\"> <td class=\"alt2\" style=\"border: 0px solid #CABCAA; border-top: 0px; border-bottom: 0px\" width=\"175\"> <div id=\"postmenu_5902375\"> <a class=\"bigusername\" href=\"https://forums.psychcentral.com/member.php?u=435488\" rel=\"nofollow\">FallDuskTrain</a> </div> <div class=\"smallfont\">Grand Member</div> <div class=\"smallfont\">\n",
       "\t\t\t\t\t <br/><a href=\"https://forums.psychcentral.com/member.php?u=435488\" rel=\"nofollow\"><img alt=\"FallDuskTrain's Avatar\" border=\"0\" src=\"https://forums.psychcentral.com/cavatars/avatar435488_2.gif\" width=\"85\"/></a> </div> <div class=\"smallfont\"> \n",
       "\tFallDuskTrain \n",
       "\t<em id=\"vbstatus_5902375\">\n",
       "\thas no updates.\n",
       "\t\t\n",
       "\t</em> </div> <div class=\"smallfont\">\n",
       "\t\t\t\t <br/> <div>Member Since: Jul 2017</div> <div>Location: World</div> <div>\n",
       "\t\t\t\t\tPosts: 928\n",
       "\n",
       " (SuperPoster!) \n",
       "\n",
       "\t\t\t\t</div> <div> </div> <div class=\"proficons\"> </div> </div> </td> <td class=\"alt1\" id=\"td_post_5902375\" style=\"border-right: 0px solid #CABCAA\"> <div class=\"smallfont\"> <img alt=\"Default\" border=\"0\" class=\"inlineimg\" src=\"https://pcforums-liviant.netdna-ssl.com/images/icons/icon1.gif\"/> <strong>Looking for accountability partners to motivate each other to get things done while depressed</strong> </div> <hr size=\"1\" style=\"color:#CABCAA; background-color:#CABCAA\"/> <div id=\"post_message_5902375\"> <style type=\"text/css\"> </style>\n",
       "\n",
       "\n",
       "As it states in the title, I am looking for accountability partners so that we can all motivate each other to get **** done, set and achieve our goals. We would have daily check ins.<br/> <br/>\n",
       "I, like many others, suffer from a constant funeral in my brain and I need help navigating life and a community to turn corners with. I know that I am not the only one who lacks motivation and lacking the tools and resources in getting out of bed. <br/> <br/>\n",
       "I am reaching out to PC because I dont have anyone in my circle who can be an accountability partner. Well, I dont have a circle.  <br/> <br/>\n",
       "I am hoping that this will motivate others to get stuff done while lacking motivation to do so.<br/> <br/>\n",
       "I will start...<br/>\n",
       "I was planning on working out... but I did not... should be attending to my resume and working but I am not...\n",
       "\n",
       "\n",
       "\n",
       "\t\t</div> <div>\n",
       "\t\t\t\t__________________<br/> <b>'<i>Everyone</i> you meet is <i>fighting a battle</i> you <i>know nothing about</i>. <i>Be kind. Always.</i>'<br/> </b> </div> <div class=\"smallfont\"> <hr size=\"1\" style=\"color:#CABCAA; background-color:#CABCAA\"/> <em>\n",
       "\t\t\t\t\t\n",
       "\t\t\t\t\t\tLast edited by FallDuskTrain; 11-12-2017 at <span class=\"time\">05:54 PM</span>..\n",
       "\t\t\t\t\t\n",
       "\t\t\t\t\t\n",
       "\t\t\t\t</em> </div> </td> </tr> <tr> <td class=\"alt2\" style=\"border: 0px solid #CABCAA; border-top: 0px\"> <img alt=\"FallDuskTrain is offline\" border=\"0\" class=\"inlineimg\" src=\"https://pcforums-liviant.netdna-ssl.com/images/styles/pc/statusicon/user_offline.gif\"/>\n",
       "\n",
       "\n",
       "\t\t\n",
       "\t\t\n",
       "\t\t\n",
       "\t\t\n",
       "\t\t \n",
       "\t</td> <td align=\"right\" class=\"alt1\" style=\"border: 0px solid #CABCAA; border-left: 0px; border-top: 0px\"> <a href=\"https://forums.psychcentral.com/newreply.php?do=newreply&amp;p=5902375\" rel=\"nofollow\"><img alt=\"Reply With Quote\" border=\"0\" src=\"https://pcforums-liviant.netdna-ssl.com/images/styles/pc/buttons/quote.gif\"/></a> </td> </tr> </table>"
      ]
     },
     "execution_count": 30,
     "metadata": {},
     "output_type": "execute_result"
    }
   ],
   "source": [
    "tbls[0]"
   ]
  },
  {
   "cell_type": "code",
   "execution_count": null,
   "metadata": {
    "collapsed": true
   },
   "outputs": [],
   "source": []
  },
  {
   "cell_type": "code",
   "execution_count": null,
   "metadata": {
    "collapsed": true
   },
   "outputs": [],
   "source": []
  },
  {
   "cell_type": "code",
   "execution_count": null,
   "metadata": {
    "collapsed": true
   },
   "outputs": [],
   "source": []
  },
  {
   "cell_type": "code",
   "execution_count": 16,
   "metadata": {
    "collapsed": true
   },
   "outputs": [],
   "source": [
    "def soupify(response):\n",
    "    return BeautifulSoup(response.text, \"html.parser\")"
   ]
  },
  {
   "cell_type": "markdown",
   "metadata": {},
   "source": [
    "### Using PSQL"
   ]
  },
  {
   "cell_type": "markdown",
   "metadata": {},
   "source": [
    "**in the terminal**\n",
    "* `createdb [name]` - creates a new db\n",
    "* `psql` - connects to the server\n",
    "* `\\l` - shows available dbs\n",
    "* `\\c [dbname]` - connect to another db"
   ]
  },
  {
   "cell_type": "code",
   "execution_count": 63,
   "metadata": {
    "collapsed": true
   },
   "outputs": [],
   "source": [
    "# create a connection to the psql server\n",
    "conn = psycopg2.connect(\"dbname = mh\")"
   ]
  },
  {
   "cell_type": "code",
   "execution_count": 64,
   "metadata": {
    "collapsed": true
   },
   "outputs": [],
   "source": [
    "cur = conn.cursor()"
   ]
  },
  {
   "cell_type": "code",
   "execution_count": null,
   "metadata": {
    "collapsed": true
   },
   "outputs": [],
   "source": []
  },
  {
   "cell_type": "code",
   "execution_count": 65,
   "metadata": {
    "collapsed": true
   },
   "outputs": [],
   "source": [
    "# initiate a cursor instance to allow interaction with the database\n",
    "# Define a query that create a table of user info for psychcentral forums \n",
    "create_user_table = \"\"\"\n",
    "CREATE TABLE pc_user (\n",
    "    users varchar(80) PRIMARY KEY,\n",
    "    num_posts varchar(7),\n",
    "    member_since varchar(20)\n",
    "    );\n",
    "    \n",
    "\"\"\"\n",
    "\n",
    "create_post_table = \"\"\"\n",
    "CREATE TABLE pc_post (\n",
    "    key   serial primary key,\n",
    "    users varchar(80),\n",
    "    posts text,\n",
    "    post_type varchar(10)\n",
    "    );\"\"\"\n",
    "\n",
    "cur.execute(create_user_table)\n",
    "cur.execute(create_post_table)\n",
    "conn.commit()"
   ]
  },
  {
   "cell_type": "code",
   "execution_count": 66,
   "metadata": {
    "collapsed": true
   },
   "outputs": [],
   "source": [
    "def add_to_db(threads):\n",
    "    \"\"\"\n",
    "    Takes in a list of dictionaries\n",
    "    Returns 2 pandas tables\n",
    "    _________________________\n",
    "    Input:\n",
    "        - links: list of html links for the entire thread\n",
    "        - thread: title of the thread\n",
    "        \n",
    "    Output:\n",
    "        - user pandas df \n",
    "        - post pandas df\n",
    "    \"\"\"\n",
    "    post_count = 0\n",
    "    for thd in threads:\n",
    "        link = thd['link']\n",
    "        response = get_request(link)\n",
    "        soup = soupify(response)\n",
    "        tables = get_tables(soup)\n",
    "        insert_users(tables)\n",
    "        insert_posts(tables)\n",
    "        post_count += len(tables)\n",
    "        # check if a thread has more than one page\n",
    "        nav_page = soup.find('div', {'class': 'pagenav'})\n",
    "        # if a thread has more than one page, connect to the next page and update user and post information \n",
    "        # until no more pages are left \n",
    "        if nav_page != None:\n",
    "            next_page = soup.find(\"a\", {\"rel\": \"next\"})\n",
    "            while next_page != None:\n",
    "                href = next_page['href']\n",
    "                response = get_request(href)\n",
    "                soup = soupify(response)\n",
    "                tables = get_tables(soup)\n",
    "                insert_users(tables)\n",
    "                insert_posts(tables)\n",
    "                #print(href)\n",
    "                post_count += len(tables)\n",
    "                next_page = soup.find(\"a\", {\"rel\": \"next\"})\n",
    "        # once the entire thread has been parsed and data uploaded, sleep for a random time (2-5 s) and \n",
    "        # repeat for the next thread \n",
    "        time.sleep(np.random.randint(2,6))\n",
    "    print(post_count)"
   ]
  },
  {
   "cell_type": "code",
   "execution_count": 76,
   "metadata": {
    "collapsed": true
   },
   "outputs": [],
   "source": [
    "# insert users into user sql table\n",
    "def insert_users(tables):\n",
    "    \"\"\"\n",
    "    Takes in a list of html elements \n",
    "    Updates the sql user table (pc_user)\n",
    "    Returns None\n",
    "    ____________________\n",
    "    pc_user\n",
    "        users: list of usernames\n",
    "        member_since: list dates became a member for each user\n",
    "        num_posts: list of total number of posts for each user\n",
    "    \n",
    "    \"\"\"\n",
    "    \n",
    "    for table in tables:\n",
    "        if  \"moderator\" in table.find('div', {'class': 'smallfont'}).text.lower():\n",
    "            continue\n",
    "        n = 0\n",
    "        if table.find(\"a\", {\"class\": \"bigusername\"}) == None:\n",
    "            user = table.find(\"div\", {\"id\": re.compile(\"postmenu_\\d+\")}).text.strip()\n",
    "        else:\n",
    "            user = table.find(\"a\", {\"class\": \"bigusername\"}).text\n",
    "        \n",
    "        query_user = (\"\"\"\n",
    "        SELECT users\n",
    "        FROM   pc_user\n",
    "        WHERE  users = %s;\n",
    "        \"\"\",(user,)) \n",
    "\n",
    "                                cur.execute(query_user[0], query_user[1])\n",
    "                                tbl_user = cur.fetchone()\n",
    "                                if tbl_user != None:\n",
    "                                    if tbl_user[0] == user:\n",
    "                                        continue\n",
    "                                if table.find_all(\"div\", {\"class\":\"smallfont\"})[1].find(\"img\") != None:\n",
    "                                    n = 1   \n",
    "                                if table.find_all(\"div\", {\"class\":\"smallfont\"})[0].text.lower() == \"guest\":\n",
    "                                    member_date = \"nan\"\n",
    "                                else:\n",
    "                                    member_date = table.findAll('br')[n].findNext('div').text.split(\":\")[-1].strip()\n",
    "                                if 'location' in table.findAll('br')[n].findAllNext('div')[1].text.lower():\n",
    "                                    num_posts = table.findAll('br')[n].findAllNext('div')[2].text\n",
    "                                    num_posts = re.sub(\"[^0-9]\", \"\", num_posts)\n",
    "                                else:\n",
    "                                    num_posts = table.findAll('br')[n].findAllNext('div')[1].text\n",
    "                                    num_posts = re.sub(\"[^0-9]\", \"\", num_posts)\n",
    "                                if len(num_posts) == 0:\n",
    "                                    num_posts = \"nan\"\n",
    "\n",
    "                                query_insert = (\"\"\"\n",
    "                                INSERT INTO pc_user (users, num_posts, member_since)\n",
    "                                VALUES (%s, %s, %s);\n",
    "                                \"\"\",\n",
    "                                (user, num_posts, member_date))\n",
    "\n",
    "\n",
    "                                cur.execute(query_insert[0], query_insert[1])\n",
    "                                conn.commit()\n",
    "\n",
    "        \n",
    "        \n",
    "            \n"
   ]
  },
  {
   "cell_type": "code",
   "execution_count": 68,
   "metadata": {
    "collapsed": true
   },
   "outputs": [],
   "source": [
    "def insert_posts(tables):\n",
    "    \"\"\"\n",
    "    Takes in a list of html elements\n",
    "    Updates sql post table (pc_post)\n",
    "    Returns None\n",
    "    ____________________\n",
    "    pc_post\n",
    "        users: username for each user\n",
    "        posts: post for each user\n",
    "        post_type: author or responder\n",
    "        url:  url of the page\n",
    "    \n",
    "    \"\"\"\n",
    "\n",
    "    for i,table in enumerate(tables):\n",
    "        if table.find(\"a\", {\"class\": \"bigusername\"}) == None:\n",
    "            user = table.find(\"div\", {\"id\": re.compile(\"postmenu_\\d+\")}).text.strip()\n",
    "        else:\n",
    "            user = table.find(\"a\", {\"class\": \"bigusername\"}).text\n",
    "        post = table.find_all(\"div\", {\"id\": re.compile(\"post_message_\\d+\")})[0].text.strip()\n",
    "        post = \"\".join([letter for letter in post if letter in printable])\n",
    "        if \"http\" in post:\n",
    "            post = re.sub(r'http\\S+', '', post)\n",
    "            post = \"\".join([letter for letter in post if letter in printable])\n",
    "        if i == 0:\n",
    "            post_type = 'author'\n",
    "        else:\n",
    "            post_type = 'responder'\n",
    "        \n",
    "        query_insert = (\"\"\"\n",
    "        INSERT INTO pc_post (users, posts, post_type)\n",
    "        VALUES (%s, %s, %s);\n",
    "        \"\"\",\n",
    "        (user,  post, post_type))\n",
    "         \n",
    "        \n",
    "        cur.execute(query_insert[0], query_insert[1])\n",
    "        conn.commit()\n",
    "        \n",
    "            \n",
    "        \n",
    "            \n",
    "            \n",
    "        \n",
    "       \n",
    "    \n",
    "\n",
    "  "
   ]
  },
  {
   "cell_type": "code",
   "execution_count": 29,
   "metadata": {
    "collapsed": true
   },
   "outputs": [],
   "source": [
    "response = requests.get(\"https://forums.psychcentral.com/depression/498539-looking-accountability-partners-motivate-each-other-get-things-done-while-depressed-15.html\")"
   ]
  },
  {
   "cell_type": "code",
   "execution_count": 30,
   "metadata": {
    "collapsed": true
   },
   "outputs": [],
   "source": [
    "soup = soupify(response)"
   ]
  },
  {
   "cell_type": "code",
   "execution_count": 31,
   "metadata": {
    "collapsed": true
   },
   "outputs": [],
   "source": [
    "tables = get_tables(soup)"
   ]
  },
  {
   "cell_type": "code",
   "execution_count": 47,
   "metadata": {},
   "outputs": [
    {
     "data": {
      "text/plain": [
       "''"
      ]
     },
     "execution_count": 47,
     "metadata": {},
     "output_type": "execute_result"
    }
   ],
   "source": [
    "tables[8].find_all(\"div\", {\"id\": re.compile(\"post_message_\\d+\")})[0].text.strip()"
   ]
  },
  {
   "cell_type": "code",
   "execution_count": null,
   "metadata": {
    "collapsed": true
   },
   "outputs": [],
   "source": []
  },
  {
   "cell_type": "code",
   "execution_count": 20,
   "metadata": {
    "collapsed": true
   },
   "outputs": [],
   "source": [
    "thread = [{'title': None, 'link': \"https://forums.psychcentral.com/depression/498539-looking-accountability-partners-motivate-each-other-get-things-done-while-depressed-15.html\"}]"
   ]
  },
  {
   "cell_type": "code",
   "execution_count": 77,
   "metadata": {},
   "outputs": [
    {
     "name": "stdout",
     "output_type": "stream",
     "text": [
      "2580\n"
     ]
    }
   ],
   "source": [
    "add_to_db(threads)"
   ]
  },
  {
   "cell_type": "code",
   "execution_count": 24,
   "metadata": {
    "collapsed": true
   },
   "outputs": [],
   "source": [
    "test = \"Congratulations on completing the paperwork. I have the same problem �� currently, i m in the middle of cleaning it up and I have been working on it for two days, and will probably need to dedicate three more days on it. I know how relieved you must feel.Yes, I also want to be self disciplined and deal with paperwork as soon as it arrives. I am sorting out mail from 2007! That is how pathetic i have been and i would like it to stop.\""
   ]
  },
  {
   "cell_type": "code",
   "execution_count": 31,
   "metadata": {},
   "outputs": [
    {
     "data": {
      "text/plain": [
       "'Congratulations on completing the paperwork. I have the same problem  currently, i m in the middle of cleaning it up and I have been working on it for two days, and will probably need to dedicate three more days on it. I know how relieved you must feel.Yes, I also want to be self disciplined and deal with paperwork as soon as it arrives. I am sorting out mail from 2007! That is how pathetic i have been and i would like it to stop.'"
      ]
     },
     "execution_count": 31,
     "metadata": {},
     "output_type": "execute_result"
    }
   ],
   "source": [
    "\"\".join([letter for letter in test if letter in string.printable])"
   ]
  },
  {
   "cell_type": "code",
   "execution_count": 34,
   "metadata": {
    "collapsed": true
   },
   "outputs": [],
   "source": [
    "printable = set(string.printable)"
   ]
  },
  {
   "cell_type": "code",
   "execution_count": 59,
   "metadata": {
    "collapsed": true
   },
   "outputs": [],
   "source": [
    "punctuation = set(string.punctuation)"
   ]
  },
  {
   "cell_type": "code",
   "execution_count": 27,
   "metadata": {},
   "outputs": [
    {
     "data": {
      "text/plain": [
       "'abcdefghijklmnopqrstuvwxyz'"
      ]
     },
     "execution_count": 27,
     "metadata": {},
     "output_type": "execute_result"
    }
   ],
   "source": [
    "import string\n",
    "string.ascii_lowercase"
   ]
  },
  {
   "cell_type": "code",
   "execution_count": null,
   "metadata": {
    "collapsed": true
   },
   "outputs": [],
   "source": []
  }
 ],
 "metadata": {
  "kernelspec": {
   "display_name": "Python 3",
   "language": "python",
   "name": "python3"
  },
  "language_info": {
   "codemirror_mode": {
    "name": "ipython",
    "version": 3
   },
   "file_extension": ".py",
   "mimetype": "text/x-python",
   "name": "python",
   "nbconvert_exporter": "python",
   "pygments_lexer": "ipython3",
   "version": "3.6.3"
  }
 },
 "nbformat": 4,
 "nbformat_minor": 2
}
